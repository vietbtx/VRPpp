{
 "cells": [
  {
   "cell_type": "code",
   "execution_count": 2,
   "id": "344bbf81-ca2d-469d-af61-c9adb33ff30d",
   "metadata": {},
   "outputs": [],
   "source": [
    "import os\n",
    "import chart_studio.plotly as py\n",
    "import plotly.figure_factory as ff\n",
    "import plotly.graph_objects as go\n",
    "from collections import defaultdict\n",
    "from ipywidgets import interact\n",
    "import pandas as pd\n",
    "import numpy as np\n",
    "from argparse import Namespace\n",
    "from tensorboard.backend.event_processing import event_accumulator\n",
    "from env.VRPInstance import VRPInstance\n",
    "from env.utils import load_scores, sort_instances"
   ]
  },
  {
   "cell_type": "code",
   "execution_count": 3,
   "id": "146e0cc4-db81-42b4-9962-8826a0548e60",
   "metadata": {},
   "outputs": [],
   "source": [
    "def read_tensorboard_event(folder):\n",
    "    for file in os.listdir(folder):\n",
    "        if \"events\" in file:\n",
    "            event = event_accumulator.EventAccumulator(os.path.join(folder, file))\n",
    "            event.Reload()\n",
    "            return event"
   ]
  },
  {
   "cell_type": "code",
   "execution_count": 4,
   "id": "202302a7-0b6b-4bec-bcb4-6f4243f010e0",
   "metadata": {},
   "outputs": [],
   "source": [
    "def load_all_scores(log_folder):\n",
    "    data = defaultdict(list)\n",
    "    for seed in range(1, 21):\n",
    "        folder = f\"{log_folder}/seed_{seed}\"\n",
    "        data[\"Folder\"].append(folder)\n",
    "        event = read_tensorboard_event(folder)\n",
    "        steps = event.Scalars(\"steps\")\n",
    "        running_time = steps[-1].wall_time - steps[0].wall_time\n",
    "        scores = load_scores(folder)\n",
    "        keys = sort_instances(scores.keys())\n",
    "        for key in keys:\n",
    "            score = scores[key]\n",
    "            data[key].append(score.score)\n",
    "        data[\"Running Time\"].append(running_time)\n",
    "    df = pd.DataFrame(data).set_index([\"Folder\", \"Running Time\"])\n",
    "    return df"
   ]
  },
  {
   "cell_type": "code",
   "execution_count": 5,
   "id": "2f1f415f-ee7c-4d37-8362-87ab5b08ecc7",
   "metadata": {},
   "outputs": [
    {
     "data": {
      "text/html": [
       "<div>\n",
       "<style scoped>\n",
       "    .dataframe tbody tr th:only-of-type {\n",
       "        vertical-align: middle;\n",
       "    }\n",
       "\n",
       "    .dataframe tbody tr th {\n",
       "        vertical-align: top;\n",
       "    }\n",
       "\n",
       "    .dataframe thead th {\n",
       "        text-align: right;\n",
       "    }\n",
       "</style>\n",
       "<table border=\"1\" class=\"dataframe\">\n",
       "  <thead>\n",
       "    <tr style=\"text-align: right;\">\n",
       "      <th></th>\n",
       "      <th></th>\n",
       "      <th>E-n22-k4.evrp</th>\n",
       "      <th>E-n23-k3.evrp</th>\n",
       "      <th>E-n30-k3.evrp</th>\n",
       "      <th>E-n33-k4.evrp</th>\n",
       "      <th>E-n51-k5.evrp</th>\n",
       "      <th>E-n76-k7.evrp</th>\n",
       "      <th>E-n101-k8.evrp</th>\n",
       "      <th>X-n143-k7.evrp</th>\n",
       "      <th>X-n214-k11.evrp</th>\n",
       "      <th>X-n351-k40.evrp</th>\n",
       "      <th>X-n459-k26.evrp</th>\n",
       "      <th>X-n573-k30.evrp</th>\n",
       "      <th>X-n685-k75.evrp</th>\n",
       "      <th>X-n749-k98.evrp</th>\n",
       "      <th>X-n819-k171.evrp</th>\n",
       "      <th>X-n916-k207.evrp</th>\n",
       "      <th>X-n1001-k43.evrp</th>\n",
       "    </tr>\n",
       "    <tr>\n",
       "      <th>Folder</th>\n",
       "      <th>Running Time</th>\n",
       "      <th></th>\n",
       "      <th></th>\n",
       "      <th></th>\n",
       "      <th></th>\n",
       "      <th></th>\n",
       "      <th></th>\n",
       "      <th></th>\n",
       "      <th></th>\n",
       "      <th></th>\n",
       "      <th></th>\n",
       "      <th></th>\n",
       "      <th></th>\n",
       "      <th></th>\n",
       "      <th></th>\n",
       "      <th></th>\n",
       "      <th></th>\n",
       "      <th></th>\n",
       "    </tr>\n",
       "  </thead>\n",
       "  <tbody>\n",
       "    <tr>\n",
       "      <th>logs/dataset_train_data_evrp_wcci_HGS_0.1/seed_1</th>\n",
       "      <th>4777.062319</th>\n",
       "      <td>386.96126</td>\n",
       "      <td>581.070311</td>\n",
       "      <td>509.470415</td>\n",
       "      <td>840.145836</td>\n",
       "      <td>529.900692</td>\n",
       "      <td>692.640584</td>\n",
       "      <td>838.999651</td>\n",
       "      <td>15878.507622</td>\n",
       "      <td>11028.423360</td>\n",
       "      <td>26293.909724</td>\n",
       "      <td>24350.377828</td>\n",
       "      <td>51330.110609</td>\n",
       "      <td>69170.057532</td>\n",
       "      <td>79009.128426</td>\n",
       "      <td>159688.037118</td>\n",
       "      <td>334086.764824</td>\n",
       "      <td>74097.049611</td>\n",
       "    </tr>\n",
       "    <tr>\n",
       "      <th>logs/dataset_train_data_evrp_wcci_HGS_0.1/seed_2</th>\n",
       "      <th>4772.085239</th>\n",
       "      <td>386.96126</td>\n",
       "      <td>581.070311</td>\n",
       "      <td>509.470415</td>\n",
       "      <td>840.145836</td>\n",
       "      <td>529.900692</td>\n",
       "      <td>692.640584</td>\n",
       "      <td>838.999651</td>\n",
       "      <td>15878.507622</td>\n",
       "      <td>10991.835317</td>\n",
       "      <td>26291.854814</td>\n",
       "      <td>24401.296265</td>\n",
       "      <td>51232.968824</td>\n",
       "      <td>69162.167980</td>\n",
       "      <td>78939.769705</td>\n",
       "      <td>159664.286691</td>\n",
       "      <td>334807.977320</td>\n",
       "      <td>74777.234071</td>\n",
       "    </tr>\n",
       "    <tr>\n",
       "      <th>logs/dataset_train_data_evrp_wcci_HGS_0.1/seed_3</th>\n",
       "      <th>4788.849669</th>\n",
       "      <td>386.96126</td>\n",
       "      <td>581.070311</td>\n",
       "      <td>509.470415</td>\n",
       "      <td>840.145836</td>\n",
       "      <td>529.900692</td>\n",
       "      <td>692.640584</td>\n",
       "      <td>838.999651</td>\n",
       "      <td>15877.543245</td>\n",
       "      <td>11036.209690</td>\n",
       "      <td>26222.706953</td>\n",
       "      <td>24359.533890</td>\n",
       "      <td>51323.745530</td>\n",
       "      <td>69196.680572</td>\n",
       "      <td>78797.031108</td>\n",
       "      <td>159395.979528</td>\n",
       "      <td>334195.243513</td>\n",
       "      <td>74516.710550</td>\n",
       "    </tr>\n",
       "    <tr>\n",
       "      <th>logs/dataset_train_data_evrp_wcci_HGS_0.1/seed_4</th>\n",
       "      <th>4840.699600</th>\n",
       "      <td>386.96126</td>\n",
       "      <td>581.070311</td>\n",
       "      <td>509.470415</td>\n",
       "      <td>840.145836</td>\n",
       "      <td>529.900692</td>\n",
       "      <td>692.640584</td>\n",
       "      <td>838.999651</td>\n",
       "      <td>15878.507622</td>\n",
       "      <td>11047.116376</td>\n",
       "      <td>26279.329996</td>\n",
       "      <td>24429.311595</td>\n",
       "      <td>51335.805890</td>\n",
       "      <td>69110.276403</td>\n",
       "      <td>78895.017262</td>\n",
       "      <td>159686.301649</td>\n",
       "      <td>334421.682387</td>\n",
       "      <td>74160.609178</td>\n",
       "    </tr>\n",
       "    <tr>\n",
       "      <th>logs/dataset_train_data_evrp_wcci_HGS_0.1/seed_5</th>\n",
       "      <th>4717.080919</th>\n",
       "      <td>386.96126</td>\n",
       "      <td>581.070311</td>\n",
       "      <td>509.470415</td>\n",
       "      <td>840.145836</td>\n",
       "      <td>529.900692</td>\n",
       "      <td>692.640584</td>\n",
       "      <td>838.999651</td>\n",
       "      <td>15865.497629</td>\n",
       "      <td>11019.991970</td>\n",
       "      <td>26272.968383</td>\n",
       "      <td>24317.276068</td>\n",
       "      <td>51322.107675</td>\n",
       "      <td>69169.174429</td>\n",
       "      <td>78914.961688</td>\n",
       "      <td>159519.488654</td>\n",
       "      <td>334786.449322</td>\n",
       "      <td>74571.185860</td>\n",
       "    </tr>\n",
       "    <tr>\n",
       "      <th>logs/dataset_train_data_evrp_wcci_HGS_0.1/seed_6</th>\n",
       "      <th>4629.198482</th>\n",
       "      <td>386.96126</td>\n",
       "      <td>581.070311</td>\n",
       "      <td>509.470415</td>\n",
       "      <td>840.145836</td>\n",
       "      <td>529.900692</td>\n",
       "      <td>692.640584</td>\n",
       "      <td>838.999651</td>\n",
       "      <td>15878.507622</td>\n",
       "      <td>11011.418661</td>\n",
       "      <td>26259.592477</td>\n",
       "      <td>24492.686272</td>\n",
       "      <td>51600.763256</td>\n",
       "      <td>69206.542586</td>\n",
       "      <td>79004.193907</td>\n",
       "      <td>159803.080039</td>\n",
       "      <td>334728.625334</td>\n",
       "      <td>74618.633489</td>\n",
       "    </tr>\n",
       "    <tr>\n",
       "      <th>logs/dataset_train_data_evrp_wcci_HGS_0.1/seed_7</th>\n",
       "      <th>4876.168765</th>\n",
       "      <td>386.96126</td>\n",
       "      <td>581.070311</td>\n",
       "      <td>509.470415</td>\n",
       "      <td>840.145836</td>\n",
       "      <td>529.900692</td>\n",
       "      <td>692.640584</td>\n",
       "      <td>838.999651</td>\n",
       "      <td>15880.762189</td>\n",
       "      <td>11038.621374</td>\n",
       "      <td>26325.946051</td>\n",
       "      <td>24337.671221</td>\n",
       "      <td>51591.294127</td>\n",
       "      <td>69201.737251</td>\n",
       "      <td>78955.224600</td>\n",
       "      <td>159459.504157</td>\n",
       "      <td>334664.845132</td>\n",
       "      <td>74504.761369</td>\n",
       "    </tr>\n",
       "    <tr>\n",
       "      <th>logs/dataset_train_data_evrp_wcci_HGS_0.1/seed_8</th>\n",
       "      <th>4933.962519</th>\n",
       "      <td>386.96126</td>\n",
       "      <td>581.070311</td>\n",
       "      <td>509.470415</td>\n",
       "      <td>840.145836</td>\n",
       "      <td>529.900692</td>\n",
       "      <td>692.640584</td>\n",
       "      <td>838.999651</td>\n",
       "      <td>15880.762189</td>\n",
       "      <td>11032.831939</td>\n",
       "      <td>26172.752148</td>\n",
       "      <td>24333.774901</td>\n",
       "      <td>51346.730288</td>\n",
       "      <td>69109.189704</td>\n",
       "      <td>78747.828025</td>\n",
       "      <td>159705.721389</td>\n",
       "      <td>334729.089269</td>\n",
       "      <td>74674.154955</td>\n",
       "    </tr>\n",
       "    <tr>\n",
       "      <th>logs/dataset_train_data_evrp_wcci_HGS_0.1/seed_9</th>\n",
       "      <th>4885.769333</th>\n",
       "      <td>386.96126</td>\n",
       "      <td>581.070311</td>\n",
       "      <td>509.470415</td>\n",
       "      <td>840.145836</td>\n",
       "      <td>529.900692</td>\n",
       "      <td>692.640584</td>\n",
       "      <td>838.999651</td>\n",
       "      <td>15880.762189</td>\n",
       "      <td>11015.893882</td>\n",
       "      <td>26256.652125</td>\n",
       "      <td>24426.615178</td>\n",
       "      <td>51396.844373</td>\n",
       "      <td>69071.377247</td>\n",
       "      <td>79012.540685</td>\n",
       "      <td>159763.576515</td>\n",
       "      <td>334281.856975</td>\n",
       "      <td>74612.072444</td>\n",
       "    </tr>\n",
       "    <tr>\n",
       "      <th>logs/dataset_train_data_evrp_wcci_HGS_0.1/seed_10</th>\n",
       "      <th>4833.703541</th>\n",
       "      <td>386.96126</td>\n",
       "      <td>581.070311</td>\n",
       "      <td>509.470415</td>\n",
       "      <td>840.145836</td>\n",
       "      <td>529.900692</td>\n",
       "      <td>692.640584</td>\n",
       "      <td>838.999651</td>\n",
       "      <td>15878.507622</td>\n",
       "      <td>11034.282404</td>\n",
       "      <td>26270.469318</td>\n",
       "      <td>24421.207628</td>\n",
       "      <td>51365.370694</td>\n",
       "      <td>69218.402748</td>\n",
       "      <td>78849.216088</td>\n",
       "      <td>159638.568151</td>\n",
       "      <td>334499.740016</td>\n",
       "      <td>74614.817738</td>\n",
       "    </tr>\n",
       "    <tr>\n",
       "      <th>logs/dataset_train_data_evrp_wcci_HGS_0.1/seed_11</th>\n",
       "      <th>4695.294673</th>\n",
       "      <td>386.96126</td>\n",
       "      <td>581.070311</td>\n",
       "      <td>509.470415</td>\n",
       "      <td>840.145836</td>\n",
       "      <td>529.900692</td>\n",
       "      <td>692.640584</td>\n",
       "      <td>838.999651</td>\n",
       "      <td>15880.762189</td>\n",
       "      <td>11011.725792</td>\n",
       "      <td>26261.440587</td>\n",
       "      <td>24335.973556</td>\n",
       "      <td>51531.189838</td>\n",
       "      <td>69219.600315</td>\n",
       "      <td>78725.718503</td>\n",
       "      <td>159604.028802</td>\n",
       "      <td>335049.107666</td>\n",
       "      <td>74414.733517</td>\n",
       "    </tr>\n",
       "    <tr>\n",
       "      <th>logs/dataset_train_data_evrp_wcci_HGS_0.1/seed_12</th>\n",
       "      <th>4856.495643</th>\n",
       "      <td>386.96126</td>\n",
       "      <td>581.070311</td>\n",
       "      <td>509.470415</td>\n",
       "      <td>840.145836</td>\n",
       "      <td>529.900692</td>\n",
       "      <td>692.640584</td>\n",
       "      <td>838.999651</td>\n",
       "      <td>15878.507622</td>\n",
       "      <td>11027.619539</td>\n",
       "      <td>26274.340365</td>\n",
       "      <td>24355.776167</td>\n",
       "      <td>51243.158753</td>\n",
       "      <td>69292.425963</td>\n",
       "      <td>79020.081215</td>\n",
       "      <td>159476.911690</td>\n",
       "      <td>334888.471815</td>\n",
       "      <td>74303.916825</td>\n",
       "    </tr>\n",
       "    <tr>\n",
       "      <th>logs/dataset_train_data_evrp_wcci_HGS_0.1/seed_13</th>\n",
       "      <th>4671.370626</th>\n",
       "      <td>386.96126</td>\n",
       "      <td>581.070311</td>\n",
       "      <td>509.470415</td>\n",
       "      <td>840.145836</td>\n",
       "      <td>529.900692</td>\n",
       "      <td>692.640584</td>\n",
       "      <td>838.999651</td>\n",
       "      <td>15888.992132</td>\n",
       "      <td>11014.824002</td>\n",
       "      <td>26268.942487</td>\n",
       "      <td>24322.989214</td>\n",
       "      <td>51340.289450</td>\n",
       "      <td>69133.215868</td>\n",
       "      <td>78963.513594</td>\n",
       "      <td>159542.096426</td>\n",
       "      <td>334711.247868</td>\n",
       "      <td>74429.622835</td>\n",
       "    </tr>\n",
       "    <tr>\n",
       "      <th>logs/dataset_train_data_evrp_wcci_HGS_0.1/seed_14</th>\n",
       "      <th>4889.840440</th>\n",
       "      <td>386.96126</td>\n",
       "      <td>581.070311</td>\n",
       "      <td>509.470415</td>\n",
       "      <td>840.145836</td>\n",
       "      <td>529.900692</td>\n",
       "      <td>692.640584</td>\n",
       "      <td>838.999651</td>\n",
       "      <td>15880.762189</td>\n",
       "      <td>11028.565888</td>\n",
       "      <td>26317.810486</td>\n",
       "      <td>24263.330270</td>\n",
       "      <td>51376.881634</td>\n",
       "      <td>69202.012886</td>\n",
       "      <td>78860.960339</td>\n",
       "      <td>159672.965842</td>\n",
       "      <td>334099.028445</td>\n",
       "      <td>74573.485831</td>\n",
       "    </tr>\n",
       "    <tr>\n",
       "      <th>logs/dataset_train_data_evrp_wcci_HGS_0.1/seed_15</th>\n",
       "      <th>4863.959133</th>\n",
       "      <td>386.96126</td>\n",
       "      <td>581.070311</td>\n",
       "      <td>509.470415</td>\n",
       "      <td>840.145836</td>\n",
       "      <td>529.900692</td>\n",
       "      <td>692.640584</td>\n",
       "      <td>838.999651</td>\n",
       "      <td>15880.762189</td>\n",
       "      <td>11023.770874</td>\n",
       "      <td>26222.066151</td>\n",
       "      <td>24322.909120</td>\n",
       "      <td>51262.357733</td>\n",
       "      <td>69253.993225</td>\n",
       "      <td>78746.034154</td>\n",
       "      <td>159587.965858</td>\n",
       "      <td>334464.327310</td>\n",
       "      <td>74514.346660</td>\n",
       "    </tr>\n",
       "    <tr>\n",
       "      <th>logs/dataset_train_data_evrp_wcci_HGS_0.1/seed_16</th>\n",
       "      <th>4875.430531</th>\n",
       "      <td>386.96126</td>\n",
       "      <td>581.070311</td>\n",
       "      <td>509.470415</td>\n",
       "      <td>840.145836</td>\n",
       "      <td>529.900692</td>\n",
       "      <td>692.640584</td>\n",
       "      <td>838.999651</td>\n",
       "      <td>15865.193797</td>\n",
       "      <td>11046.126805</td>\n",
       "      <td>26257.422483</td>\n",
       "      <td>24292.141329</td>\n",
       "      <td>51324.383705</td>\n",
       "      <td>69312.276544</td>\n",
       "      <td>78683.913035</td>\n",
       "      <td>159514.485241</td>\n",
       "      <td>334332.568247</td>\n",
       "      <td>74608.729759</td>\n",
       "    </tr>\n",
       "    <tr>\n",
       "      <th>logs/dataset_train_data_evrp_wcci_HGS_0.1/seed_17</th>\n",
       "      <th>4756.792766</th>\n",
       "      <td>386.96126</td>\n",
       "      <td>581.070311</td>\n",
       "      <td>509.470415</td>\n",
       "      <td>840.145836</td>\n",
       "      <td>529.900692</td>\n",
       "      <td>692.640584</td>\n",
       "      <td>838.999651</td>\n",
       "      <td>15878.507622</td>\n",
       "      <td>11047.955672</td>\n",
       "      <td>26295.962560</td>\n",
       "      <td>24403.403356</td>\n",
       "      <td>51391.728658</td>\n",
       "      <td>69278.422206</td>\n",
       "      <td>78907.472962</td>\n",
       "      <td>159700.939538</td>\n",
       "      <td>334580.989318</td>\n",
       "      <td>74550.808326</td>\n",
       "    </tr>\n",
       "    <tr>\n",
       "      <th>logs/dataset_train_data_evrp_wcci_HGS_0.1/seed_18</th>\n",
       "      <th>4811.067721</th>\n",
       "      <td>386.96126</td>\n",
       "      <td>581.070311</td>\n",
       "      <td>509.470415</td>\n",
       "      <td>840.145836</td>\n",
       "      <td>529.900692</td>\n",
       "      <td>692.640584</td>\n",
       "      <td>838.999651</td>\n",
       "      <td>15880.762189</td>\n",
       "      <td>11028.268613</td>\n",
       "      <td>26249.949619</td>\n",
       "      <td>24325.668775</td>\n",
       "      <td>51483.835719</td>\n",
       "      <td>69085.437493</td>\n",
       "      <td>78975.148602</td>\n",
       "      <td>159554.635410</td>\n",
       "      <td>334616.080279</td>\n",
       "      <td>74274.066670</td>\n",
       "    </tr>\n",
       "    <tr>\n",
       "      <th>logs/dataset_train_data_evrp_wcci_HGS_0.1/seed_19</th>\n",
       "      <th>3041.268814</th>\n",
       "      <td>386.96126</td>\n",
       "      <td>581.070311</td>\n",
       "      <td>509.470415</td>\n",
       "      <td>840.145836</td>\n",
       "      <td>529.900692</td>\n",
       "      <td>692.640584</td>\n",
       "      <td>838.999651</td>\n",
       "      <td>15878.507622</td>\n",
       "      <td>11014.043571</td>\n",
       "      <td>26382.113647</td>\n",
       "      <td>24290.744216</td>\n",
       "      <td>51138.085757</td>\n",
       "      <td>69189.439235</td>\n",
       "      <td>78988.367551</td>\n",
       "      <td>159557.857688</td>\n",
       "      <td>334645.388902</td>\n",
       "      <td>74482.667267</td>\n",
       "    </tr>\n",
       "    <tr>\n",
       "      <th>logs/dataset_train_data_evrp_wcci_HGS_0.1/seed_20</th>\n",
       "      <th>2987.604745</th>\n",
       "      <td>386.96126</td>\n",
       "      <td>581.070311</td>\n",
       "      <td>509.470415</td>\n",
       "      <td>840.145836</td>\n",
       "      <td>529.900692</td>\n",
       "      <td>692.640584</td>\n",
       "      <td>838.999651</td>\n",
       "      <td>15880.762189</td>\n",
       "      <td>11012.379016</td>\n",
       "      <td>26243.166276</td>\n",
       "      <td>24361.401521</td>\n",
       "      <td>51289.718959</td>\n",
       "      <td>69125.933590</td>\n",
       "      <td>78993.096337</td>\n",
       "      <td>159618.999816</td>\n",
       "      <td>334491.861838</td>\n",
       "      <td>74367.672389</td>\n",
       "    </tr>\n",
       "  </tbody>\n",
       "</table>\n",
       "</div>"
      ],
      "text/plain": [
       "                                                                E-n22-k4.evrp  \\\n",
       "Folder                                            Running Time                  \n",
       "logs/dataset_train_data_evrp_wcci_HGS_0.1/seed_1  4777.062319       386.96126   \n",
       "logs/dataset_train_data_evrp_wcci_HGS_0.1/seed_2  4772.085239       386.96126   \n",
       "logs/dataset_train_data_evrp_wcci_HGS_0.1/seed_3  4788.849669       386.96126   \n",
       "logs/dataset_train_data_evrp_wcci_HGS_0.1/seed_4  4840.699600       386.96126   \n",
       "logs/dataset_train_data_evrp_wcci_HGS_0.1/seed_5  4717.080919       386.96126   \n",
       "logs/dataset_train_data_evrp_wcci_HGS_0.1/seed_6  4629.198482       386.96126   \n",
       "logs/dataset_train_data_evrp_wcci_HGS_0.1/seed_7  4876.168765       386.96126   \n",
       "logs/dataset_train_data_evrp_wcci_HGS_0.1/seed_8  4933.962519       386.96126   \n",
       "logs/dataset_train_data_evrp_wcci_HGS_0.1/seed_9  4885.769333       386.96126   \n",
       "logs/dataset_train_data_evrp_wcci_HGS_0.1/seed_10 4833.703541       386.96126   \n",
       "logs/dataset_train_data_evrp_wcci_HGS_0.1/seed_11 4695.294673       386.96126   \n",
       "logs/dataset_train_data_evrp_wcci_HGS_0.1/seed_12 4856.495643       386.96126   \n",
       "logs/dataset_train_data_evrp_wcci_HGS_0.1/seed_13 4671.370626       386.96126   \n",
       "logs/dataset_train_data_evrp_wcci_HGS_0.1/seed_14 4889.840440       386.96126   \n",
       "logs/dataset_train_data_evrp_wcci_HGS_0.1/seed_15 4863.959133       386.96126   \n",
       "logs/dataset_train_data_evrp_wcci_HGS_0.1/seed_16 4875.430531       386.96126   \n",
       "logs/dataset_train_data_evrp_wcci_HGS_0.1/seed_17 4756.792766       386.96126   \n",
       "logs/dataset_train_data_evrp_wcci_HGS_0.1/seed_18 4811.067721       386.96126   \n",
       "logs/dataset_train_data_evrp_wcci_HGS_0.1/seed_19 3041.268814       386.96126   \n",
       "logs/dataset_train_data_evrp_wcci_HGS_0.1/seed_20 2987.604745       386.96126   \n",
       "\n",
       "                                                                E-n23-k3.evrp  \\\n",
       "Folder                                            Running Time                  \n",
       "logs/dataset_train_data_evrp_wcci_HGS_0.1/seed_1  4777.062319      581.070311   \n",
       "logs/dataset_train_data_evrp_wcci_HGS_0.1/seed_2  4772.085239      581.070311   \n",
       "logs/dataset_train_data_evrp_wcci_HGS_0.1/seed_3  4788.849669      581.070311   \n",
       "logs/dataset_train_data_evrp_wcci_HGS_0.1/seed_4  4840.699600      581.070311   \n",
       "logs/dataset_train_data_evrp_wcci_HGS_0.1/seed_5  4717.080919      581.070311   \n",
       "logs/dataset_train_data_evrp_wcci_HGS_0.1/seed_6  4629.198482      581.070311   \n",
       "logs/dataset_train_data_evrp_wcci_HGS_0.1/seed_7  4876.168765      581.070311   \n",
       "logs/dataset_train_data_evrp_wcci_HGS_0.1/seed_8  4933.962519      581.070311   \n",
       "logs/dataset_train_data_evrp_wcci_HGS_0.1/seed_9  4885.769333      581.070311   \n",
       "logs/dataset_train_data_evrp_wcci_HGS_0.1/seed_10 4833.703541      581.070311   \n",
       "logs/dataset_train_data_evrp_wcci_HGS_0.1/seed_11 4695.294673      581.070311   \n",
       "logs/dataset_train_data_evrp_wcci_HGS_0.1/seed_12 4856.495643      581.070311   \n",
       "logs/dataset_train_data_evrp_wcci_HGS_0.1/seed_13 4671.370626      581.070311   \n",
       "logs/dataset_train_data_evrp_wcci_HGS_0.1/seed_14 4889.840440      581.070311   \n",
       "logs/dataset_train_data_evrp_wcci_HGS_0.1/seed_15 4863.959133      581.070311   \n",
       "logs/dataset_train_data_evrp_wcci_HGS_0.1/seed_16 4875.430531      581.070311   \n",
       "logs/dataset_train_data_evrp_wcci_HGS_0.1/seed_17 4756.792766      581.070311   \n",
       "logs/dataset_train_data_evrp_wcci_HGS_0.1/seed_18 4811.067721      581.070311   \n",
       "logs/dataset_train_data_evrp_wcci_HGS_0.1/seed_19 3041.268814      581.070311   \n",
       "logs/dataset_train_data_evrp_wcci_HGS_0.1/seed_20 2987.604745      581.070311   \n",
       "\n",
       "                                                                E-n30-k3.evrp  \\\n",
       "Folder                                            Running Time                  \n",
       "logs/dataset_train_data_evrp_wcci_HGS_0.1/seed_1  4777.062319      509.470415   \n",
       "logs/dataset_train_data_evrp_wcci_HGS_0.1/seed_2  4772.085239      509.470415   \n",
       "logs/dataset_train_data_evrp_wcci_HGS_0.1/seed_3  4788.849669      509.470415   \n",
       "logs/dataset_train_data_evrp_wcci_HGS_0.1/seed_4  4840.699600      509.470415   \n",
       "logs/dataset_train_data_evrp_wcci_HGS_0.1/seed_5  4717.080919      509.470415   \n",
       "logs/dataset_train_data_evrp_wcci_HGS_0.1/seed_6  4629.198482      509.470415   \n",
       "logs/dataset_train_data_evrp_wcci_HGS_0.1/seed_7  4876.168765      509.470415   \n",
       "logs/dataset_train_data_evrp_wcci_HGS_0.1/seed_8  4933.962519      509.470415   \n",
       "logs/dataset_train_data_evrp_wcci_HGS_0.1/seed_9  4885.769333      509.470415   \n",
       "logs/dataset_train_data_evrp_wcci_HGS_0.1/seed_10 4833.703541      509.470415   \n",
       "logs/dataset_train_data_evrp_wcci_HGS_0.1/seed_11 4695.294673      509.470415   \n",
       "logs/dataset_train_data_evrp_wcci_HGS_0.1/seed_12 4856.495643      509.470415   \n",
       "logs/dataset_train_data_evrp_wcci_HGS_0.1/seed_13 4671.370626      509.470415   \n",
       "logs/dataset_train_data_evrp_wcci_HGS_0.1/seed_14 4889.840440      509.470415   \n",
       "logs/dataset_train_data_evrp_wcci_HGS_0.1/seed_15 4863.959133      509.470415   \n",
       "logs/dataset_train_data_evrp_wcci_HGS_0.1/seed_16 4875.430531      509.470415   \n",
       "logs/dataset_train_data_evrp_wcci_HGS_0.1/seed_17 4756.792766      509.470415   \n",
       "logs/dataset_train_data_evrp_wcci_HGS_0.1/seed_18 4811.067721      509.470415   \n",
       "logs/dataset_train_data_evrp_wcci_HGS_0.1/seed_19 3041.268814      509.470415   \n",
       "logs/dataset_train_data_evrp_wcci_HGS_0.1/seed_20 2987.604745      509.470415   \n",
       "\n",
       "                                                                E-n33-k4.evrp  \\\n",
       "Folder                                            Running Time                  \n",
       "logs/dataset_train_data_evrp_wcci_HGS_0.1/seed_1  4777.062319      840.145836   \n",
       "logs/dataset_train_data_evrp_wcci_HGS_0.1/seed_2  4772.085239      840.145836   \n",
       "logs/dataset_train_data_evrp_wcci_HGS_0.1/seed_3  4788.849669      840.145836   \n",
       "logs/dataset_train_data_evrp_wcci_HGS_0.1/seed_4  4840.699600      840.145836   \n",
       "logs/dataset_train_data_evrp_wcci_HGS_0.1/seed_5  4717.080919      840.145836   \n",
       "logs/dataset_train_data_evrp_wcci_HGS_0.1/seed_6  4629.198482      840.145836   \n",
       "logs/dataset_train_data_evrp_wcci_HGS_0.1/seed_7  4876.168765      840.145836   \n",
       "logs/dataset_train_data_evrp_wcci_HGS_0.1/seed_8  4933.962519      840.145836   \n",
       "logs/dataset_train_data_evrp_wcci_HGS_0.1/seed_9  4885.769333      840.145836   \n",
       "logs/dataset_train_data_evrp_wcci_HGS_0.1/seed_10 4833.703541      840.145836   \n",
       "logs/dataset_train_data_evrp_wcci_HGS_0.1/seed_11 4695.294673      840.145836   \n",
       "logs/dataset_train_data_evrp_wcci_HGS_0.1/seed_12 4856.495643      840.145836   \n",
       "logs/dataset_train_data_evrp_wcci_HGS_0.1/seed_13 4671.370626      840.145836   \n",
       "logs/dataset_train_data_evrp_wcci_HGS_0.1/seed_14 4889.840440      840.145836   \n",
       "logs/dataset_train_data_evrp_wcci_HGS_0.1/seed_15 4863.959133      840.145836   \n",
       "logs/dataset_train_data_evrp_wcci_HGS_0.1/seed_16 4875.430531      840.145836   \n",
       "logs/dataset_train_data_evrp_wcci_HGS_0.1/seed_17 4756.792766      840.145836   \n",
       "logs/dataset_train_data_evrp_wcci_HGS_0.1/seed_18 4811.067721      840.145836   \n",
       "logs/dataset_train_data_evrp_wcci_HGS_0.1/seed_19 3041.268814      840.145836   \n",
       "logs/dataset_train_data_evrp_wcci_HGS_0.1/seed_20 2987.604745      840.145836   \n",
       "\n",
       "                                                                E-n51-k5.evrp  \\\n",
       "Folder                                            Running Time                  \n",
       "logs/dataset_train_data_evrp_wcci_HGS_0.1/seed_1  4777.062319      529.900692   \n",
       "logs/dataset_train_data_evrp_wcci_HGS_0.1/seed_2  4772.085239      529.900692   \n",
       "logs/dataset_train_data_evrp_wcci_HGS_0.1/seed_3  4788.849669      529.900692   \n",
       "logs/dataset_train_data_evrp_wcci_HGS_0.1/seed_4  4840.699600      529.900692   \n",
       "logs/dataset_train_data_evrp_wcci_HGS_0.1/seed_5  4717.080919      529.900692   \n",
       "logs/dataset_train_data_evrp_wcci_HGS_0.1/seed_6  4629.198482      529.900692   \n",
       "logs/dataset_train_data_evrp_wcci_HGS_0.1/seed_7  4876.168765      529.900692   \n",
       "logs/dataset_train_data_evrp_wcci_HGS_0.1/seed_8  4933.962519      529.900692   \n",
       "logs/dataset_train_data_evrp_wcci_HGS_0.1/seed_9  4885.769333      529.900692   \n",
       "logs/dataset_train_data_evrp_wcci_HGS_0.1/seed_10 4833.703541      529.900692   \n",
       "logs/dataset_train_data_evrp_wcci_HGS_0.1/seed_11 4695.294673      529.900692   \n",
       "logs/dataset_train_data_evrp_wcci_HGS_0.1/seed_12 4856.495643      529.900692   \n",
       "logs/dataset_train_data_evrp_wcci_HGS_0.1/seed_13 4671.370626      529.900692   \n",
       "logs/dataset_train_data_evrp_wcci_HGS_0.1/seed_14 4889.840440      529.900692   \n",
       "logs/dataset_train_data_evrp_wcci_HGS_0.1/seed_15 4863.959133      529.900692   \n",
       "logs/dataset_train_data_evrp_wcci_HGS_0.1/seed_16 4875.430531      529.900692   \n",
       "logs/dataset_train_data_evrp_wcci_HGS_0.1/seed_17 4756.792766      529.900692   \n",
       "logs/dataset_train_data_evrp_wcci_HGS_0.1/seed_18 4811.067721      529.900692   \n",
       "logs/dataset_train_data_evrp_wcci_HGS_0.1/seed_19 3041.268814      529.900692   \n",
       "logs/dataset_train_data_evrp_wcci_HGS_0.1/seed_20 2987.604745      529.900692   \n",
       "\n",
       "                                                                E-n76-k7.evrp  \\\n",
       "Folder                                            Running Time                  \n",
       "logs/dataset_train_data_evrp_wcci_HGS_0.1/seed_1  4777.062319      692.640584   \n",
       "logs/dataset_train_data_evrp_wcci_HGS_0.1/seed_2  4772.085239      692.640584   \n",
       "logs/dataset_train_data_evrp_wcci_HGS_0.1/seed_3  4788.849669      692.640584   \n",
       "logs/dataset_train_data_evrp_wcci_HGS_0.1/seed_4  4840.699600      692.640584   \n",
       "logs/dataset_train_data_evrp_wcci_HGS_0.1/seed_5  4717.080919      692.640584   \n",
       "logs/dataset_train_data_evrp_wcci_HGS_0.1/seed_6  4629.198482      692.640584   \n",
       "logs/dataset_train_data_evrp_wcci_HGS_0.1/seed_7  4876.168765      692.640584   \n",
       "logs/dataset_train_data_evrp_wcci_HGS_0.1/seed_8  4933.962519      692.640584   \n",
       "logs/dataset_train_data_evrp_wcci_HGS_0.1/seed_9  4885.769333      692.640584   \n",
       "logs/dataset_train_data_evrp_wcci_HGS_0.1/seed_10 4833.703541      692.640584   \n",
       "logs/dataset_train_data_evrp_wcci_HGS_0.1/seed_11 4695.294673      692.640584   \n",
       "logs/dataset_train_data_evrp_wcci_HGS_0.1/seed_12 4856.495643      692.640584   \n",
       "logs/dataset_train_data_evrp_wcci_HGS_0.1/seed_13 4671.370626      692.640584   \n",
       "logs/dataset_train_data_evrp_wcci_HGS_0.1/seed_14 4889.840440      692.640584   \n",
       "logs/dataset_train_data_evrp_wcci_HGS_0.1/seed_15 4863.959133      692.640584   \n",
       "logs/dataset_train_data_evrp_wcci_HGS_0.1/seed_16 4875.430531      692.640584   \n",
       "logs/dataset_train_data_evrp_wcci_HGS_0.1/seed_17 4756.792766      692.640584   \n",
       "logs/dataset_train_data_evrp_wcci_HGS_0.1/seed_18 4811.067721      692.640584   \n",
       "logs/dataset_train_data_evrp_wcci_HGS_0.1/seed_19 3041.268814      692.640584   \n",
       "logs/dataset_train_data_evrp_wcci_HGS_0.1/seed_20 2987.604745      692.640584   \n",
       "\n",
       "                                                                E-n101-k8.evrp  \\\n",
       "Folder                                            Running Time                   \n",
       "logs/dataset_train_data_evrp_wcci_HGS_0.1/seed_1  4777.062319       838.999651   \n",
       "logs/dataset_train_data_evrp_wcci_HGS_0.1/seed_2  4772.085239       838.999651   \n",
       "logs/dataset_train_data_evrp_wcci_HGS_0.1/seed_3  4788.849669       838.999651   \n",
       "logs/dataset_train_data_evrp_wcci_HGS_0.1/seed_4  4840.699600       838.999651   \n",
       "logs/dataset_train_data_evrp_wcci_HGS_0.1/seed_5  4717.080919       838.999651   \n",
       "logs/dataset_train_data_evrp_wcci_HGS_0.1/seed_6  4629.198482       838.999651   \n",
       "logs/dataset_train_data_evrp_wcci_HGS_0.1/seed_7  4876.168765       838.999651   \n",
       "logs/dataset_train_data_evrp_wcci_HGS_0.1/seed_8  4933.962519       838.999651   \n",
       "logs/dataset_train_data_evrp_wcci_HGS_0.1/seed_9  4885.769333       838.999651   \n",
       "logs/dataset_train_data_evrp_wcci_HGS_0.1/seed_10 4833.703541       838.999651   \n",
       "logs/dataset_train_data_evrp_wcci_HGS_0.1/seed_11 4695.294673       838.999651   \n",
       "logs/dataset_train_data_evrp_wcci_HGS_0.1/seed_12 4856.495643       838.999651   \n",
       "logs/dataset_train_data_evrp_wcci_HGS_0.1/seed_13 4671.370626       838.999651   \n",
       "logs/dataset_train_data_evrp_wcci_HGS_0.1/seed_14 4889.840440       838.999651   \n",
       "logs/dataset_train_data_evrp_wcci_HGS_0.1/seed_15 4863.959133       838.999651   \n",
       "logs/dataset_train_data_evrp_wcci_HGS_0.1/seed_16 4875.430531       838.999651   \n",
       "logs/dataset_train_data_evrp_wcci_HGS_0.1/seed_17 4756.792766       838.999651   \n",
       "logs/dataset_train_data_evrp_wcci_HGS_0.1/seed_18 4811.067721       838.999651   \n",
       "logs/dataset_train_data_evrp_wcci_HGS_0.1/seed_19 3041.268814       838.999651   \n",
       "logs/dataset_train_data_evrp_wcci_HGS_0.1/seed_20 2987.604745       838.999651   \n",
       "\n",
       "                                                                X-n143-k7.evrp  \\\n",
       "Folder                                            Running Time                   \n",
       "logs/dataset_train_data_evrp_wcci_HGS_0.1/seed_1  4777.062319     15878.507622   \n",
       "logs/dataset_train_data_evrp_wcci_HGS_0.1/seed_2  4772.085239     15878.507622   \n",
       "logs/dataset_train_data_evrp_wcci_HGS_0.1/seed_3  4788.849669     15877.543245   \n",
       "logs/dataset_train_data_evrp_wcci_HGS_0.1/seed_4  4840.699600     15878.507622   \n",
       "logs/dataset_train_data_evrp_wcci_HGS_0.1/seed_5  4717.080919     15865.497629   \n",
       "logs/dataset_train_data_evrp_wcci_HGS_0.1/seed_6  4629.198482     15878.507622   \n",
       "logs/dataset_train_data_evrp_wcci_HGS_0.1/seed_7  4876.168765     15880.762189   \n",
       "logs/dataset_train_data_evrp_wcci_HGS_0.1/seed_8  4933.962519     15880.762189   \n",
       "logs/dataset_train_data_evrp_wcci_HGS_0.1/seed_9  4885.769333     15880.762189   \n",
       "logs/dataset_train_data_evrp_wcci_HGS_0.1/seed_10 4833.703541     15878.507622   \n",
       "logs/dataset_train_data_evrp_wcci_HGS_0.1/seed_11 4695.294673     15880.762189   \n",
       "logs/dataset_train_data_evrp_wcci_HGS_0.1/seed_12 4856.495643     15878.507622   \n",
       "logs/dataset_train_data_evrp_wcci_HGS_0.1/seed_13 4671.370626     15888.992132   \n",
       "logs/dataset_train_data_evrp_wcci_HGS_0.1/seed_14 4889.840440     15880.762189   \n",
       "logs/dataset_train_data_evrp_wcci_HGS_0.1/seed_15 4863.959133     15880.762189   \n",
       "logs/dataset_train_data_evrp_wcci_HGS_0.1/seed_16 4875.430531     15865.193797   \n",
       "logs/dataset_train_data_evrp_wcci_HGS_0.1/seed_17 4756.792766     15878.507622   \n",
       "logs/dataset_train_data_evrp_wcci_HGS_0.1/seed_18 4811.067721     15880.762189   \n",
       "logs/dataset_train_data_evrp_wcci_HGS_0.1/seed_19 3041.268814     15878.507622   \n",
       "logs/dataset_train_data_evrp_wcci_HGS_0.1/seed_20 2987.604745     15880.762189   \n",
       "\n",
       "                                                                X-n214-k11.evrp  \\\n",
       "Folder                                            Running Time                    \n",
       "logs/dataset_train_data_evrp_wcci_HGS_0.1/seed_1  4777.062319      11028.423360   \n",
       "logs/dataset_train_data_evrp_wcci_HGS_0.1/seed_2  4772.085239      10991.835317   \n",
       "logs/dataset_train_data_evrp_wcci_HGS_0.1/seed_3  4788.849669      11036.209690   \n",
       "logs/dataset_train_data_evrp_wcci_HGS_0.1/seed_4  4840.699600      11047.116376   \n",
       "logs/dataset_train_data_evrp_wcci_HGS_0.1/seed_5  4717.080919      11019.991970   \n",
       "logs/dataset_train_data_evrp_wcci_HGS_0.1/seed_6  4629.198482      11011.418661   \n",
       "logs/dataset_train_data_evrp_wcci_HGS_0.1/seed_7  4876.168765      11038.621374   \n",
       "logs/dataset_train_data_evrp_wcci_HGS_0.1/seed_8  4933.962519      11032.831939   \n",
       "logs/dataset_train_data_evrp_wcci_HGS_0.1/seed_9  4885.769333      11015.893882   \n",
       "logs/dataset_train_data_evrp_wcci_HGS_0.1/seed_10 4833.703541      11034.282404   \n",
       "logs/dataset_train_data_evrp_wcci_HGS_0.1/seed_11 4695.294673      11011.725792   \n",
       "logs/dataset_train_data_evrp_wcci_HGS_0.1/seed_12 4856.495643      11027.619539   \n",
       "logs/dataset_train_data_evrp_wcci_HGS_0.1/seed_13 4671.370626      11014.824002   \n",
       "logs/dataset_train_data_evrp_wcci_HGS_0.1/seed_14 4889.840440      11028.565888   \n",
       "logs/dataset_train_data_evrp_wcci_HGS_0.1/seed_15 4863.959133      11023.770874   \n",
       "logs/dataset_train_data_evrp_wcci_HGS_0.1/seed_16 4875.430531      11046.126805   \n",
       "logs/dataset_train_data_evrp_wcci_HGS_0.1/seed_17 4756.792766      11047.955672   \n",
       "logs/dataset_train_data_evrp_wcci_HGS_0.1/seed_18 4811.067721      11028.268613   \n",
       "logs/dataset_train_data_evrp_wcci_HGS_0.1/seed_19 3041.268814      11014.043571   \n",
       "logs/dataset_train_data_evrp_wcci_HGS_0.1/seed_20 2987.604745      11012.379016   \n",
       "\n",
       "                                                                X-n351-k40.evrp  \\\n",
       "Folder                                            Running Time                    \n",
       "logs/dataset_train_data_evrp_wcci_HGS_0.1/seed_1  4777.062319      26293.909724   \n",
       "logs/dataset_train_data_evrp_wcci_HGS_0.1/seed_2  4772.085239      26291.854814   \n",
       "logs/dataset_train_data_evrp_wcci_HGS_0.1/seed_3  4788.849669      26222.706953   \n",
       "logs/dataset_train_data_evrp_wcci_HGS_0.1/seed_4  4840.699600      26279.329996   \n",
       "logs/dataset_train_data_evrp_wcci_HGS_0.1/seed_5  4717.080919      26272.968383   \n",
       "logs/dataset_train_data_evrp_wcci_HGS_0.1/seed_6  4629.198482      26259.592477   \n",
       "logs/dataset_train_data_evrp_wcci_HGS_0.1/seed_7  4876.168765      26325.946051   \n",
       "logs/dataset_train_data_evrp_wcci_HGS_0.1/seed_8  4933.962519      26172.752148   \n",
       "logs/dataset_train_data_evrp_wcci_HGS_0.1/seed_9  4885.769333      26256.652125   \n",
       "logs/dataset_train_data_evrp_wcci_HGS_0.1/seed_10 4833.703541      26270.469318   \n",
       "logs/dataset_train_data_evrp_wcci_HGS_0.1/seed_11 4695.294673      26261.440587   \n",
       "logs/dataset_train_data_evrp_wcci_HGS_0.1/seed_12 4856.495643      26274.340365   \n",
       "logs/dataset_train_data_evrp_wcci_HGS_0.1/seed_13 4671.370626      26268.942487   \n",
       "logs/dataset_train_data_evrp_wcci_HGS_0.1/seed_14 4889.840440      26317.810486   \n",
       "logs/dataset_train_data_evrp_wcci_HGS_0.1/seed_15 4863.959133      26222.066151   \n",
       "logs/dataset_train_data_evrp_wcci_HGS_0.1/seed_16 4875.430531      26257.422483   \n",
       "logs/dataset_train_data_evrp_wcci_HGS_0.1/seed_17 4756.792766      26295.962560   \n",
       "logs/dataset_train_data_evrp_wcci_HGS_0.1/seed_18 4811.067721      26249.949619   \n",
       "logs/dataset_train_data_evrp_wcci_HGS_0.1/seed_19 3041.268814      26382.113647   \n",
       "logs/dataset_train_data_evrp_wcci_HGS_0.1/seed_20 2987.604745      26243.166276   \n",
       "\n",
       "                                                                X-n459-k26.evrp  \\\n",
       "Folder                                            Running Time                    \n",
       "logs/dataset_train_data_evrp_wcci_HGS_0.1/seed_1  4777.062319      24350.377828   \n",
       "logs/dataset_train_data_evrp_wcci_HGS_0.1/seed_2  4772.085239      24401.296265   \n",
       "logs/dataset_train_data_evrp_wcci_HGS_0.1/seed_3  4788.849669      24359.533890   \n",
       "logs/dataset_train_data_evrp_wcci_HGS_0.1/seed_4  4840.699600      24429.311595   \n",
       "logs/dataset_train_data_evrp_wcci_HGS_0.1/seed_5  4717.080919      24317.276068   \n",
       "logs/dataset_train_data_evrp_wcci_HGS_0.1/seed_6  4629.198482      24492.686272   \n",
       "logs/dataset_train_data_evrp_wcci_HGS_0.1/seed_7  4876.168765      24337.671221   \n",
       "logs/dataset_train_data_evrp_wcci_HGS_0.1/seed_8  4933.962519      24333.774901   \n",
       "logs/dataset_train_data_evrp_wcci_HGS_0.1/seed_9  4885.769333      24426.615178   \n",
       "logs/dataset_train_data_evrp_wcci_HGS_0.1/seed_10 4833.703541      24421.207628   \n",
       "logs/dataset_train_data_evrp_wcci_HGS_0.1/seed_11 4695.294673      24335.973556   \n",
       "logs/dataset_train_data_evrp_wcci_HGS_0.1/seed_12 4856.495643      24355.776167   \n",
       "logs/dataset_train_data_evrp_wcci_HGS_0.1/seed_13 4671.370626      24322.989214   \n",
       "logs/dataset_train_data_evrp_wcci_HGS_0.1/seed_14 4889.840440      24263.330270   \n",
       "logs/dataset_train_data_evrp_wcci_HGS_0.1/seed_15 4863.959133      24322.909120   \n",
       "logs/dataset_train_data_evrp_wcci_HGS_0.1/seed_16 4875.430531      24292.141329   \n",
       "logs/dataset_train_data_evrp_wcci_HGS_0.1/seed_17 4756.792766      24403.403356   \n",
       "logs/dataset_train_data_evrp_wcci_HGS_0.1/seed_18 4811.067721      24325.668775   \n",
       "logs/dataset_train_data_evrp_wcci_HGS_0.1/seed_19 3041.268814      24290.744216   \n",
       "logs/dataset_train_data_evrp_wcci_HGS_0.1/seed_20 2987.604745      24361.401521   \n",
       "\n",
       "                                                                X-n573-k30.evrp  \\\n",
       "Folder                                            Running Time                    \n",
       "logs/dataset_train_data_evrp_wcci_HGS_0.1/seed_1  4777.062319      51330.110609   \n",
       "logs/dataset_train_data_evrp_wcci_HGS_0.1/seed_2  4772.085239      51232.968824   \n",
       "logs/dataset_train_data_evrp_wcci_HGS_0.1/seed_3  4788.849669      51323.745530   \n",
       "logs/dataset_train_data_evrp_wcci_HGS_0.1/seed_4  4840.699600      51335.805890   \n",
       "logs/dataset_train_data_evrp_wcci_HGS_0.1/seed_5  4717.080919      51322.107675   \n",
       "logs/dataset_train_data_evrp_wcci_HGS_0.1/seed_6  4629.198482      51600.763256   \n",
       "logs/dataset_train_data_evrp_wcci_HGS_0.1/seed_7  4876.168765      51591.294127   \n",
       "logs/dataset_train_data_evrp_wcci_HGS_0.1/seed_8  4933.962519      51346.730288   \n",
       "logs/dataset_train_data_evrp_wcci_HGS_0.1/seed_9  4885.769333      51396.844373   \n",
       "logs/dataset_train_data_evrp_wcci_HGS_0.1/seed_10 4833.703541      51365.370694   \n",
       "logs/dataset_train_data_evrp_wcci_HGS_0.1/seed_11 4695.294673      51531.189838   \n",
       "logs/dataset_train_data_evrp_wcci_HGS_0.1/seed_12 4856.495643      51243.158753   \n",
       "logs/dataset_train_data_evrp_wcci_HGS_0.1/seed_13 4671.370626      51340.289450   \n",
       "logs/dataset_train_data_evrp_wcci_HGS_0.1/seed_14 4889.840440      51376.881634   \n",
       "logs/dataset_train_data_evrp_wcci_HGS_0.1/seed_15 4863.959133      51262.357733   \n",
       "logs/dataset_train_data_evrp_wcci_HGS_0.1/seed_16 4875.430531      51324.383705   \n",
       "logs/dataset_train_data_evrp_wcci_HGS_0.1/seed_17 4756.792766      51391.728658   \n",
       "logs/dataset_train_data_evrp_wcci_HGS_0.1/seed_18 4811.067721      51483.835719   \n",
       "logs/dataset_train_data_evrp_wcci_HGS_0.1/seed_19 3041.268814      51138.085757   \n",
       "logs/dataset_train_data_evrp_wcci_HGS_0.1/seed_20 2987.604745      51289.718959   \n",
       "\n",
       "                                                                X-n685-k75.evrp  \\\n",
       "Folder                                            Running Time                    \n",
       "logs/dataset_train_data_evrp_wcci_HGS_0.1/seed_1  4777.062319      69170.057532   \n",
       "logs/dataset_train_data_evrp_wcci_HGS_0.1/seed_2  4772.085239      69162.167980   \n",
       "logs/dataset_train_data_evrp_wcci_HGS_0.1/seed_3  4788.849669      69196.680572   \n",
       "logs/dataset_train_data_evrp_wcci_HGS_0.1/seed_4  4840.699600      69110.276403   \n",
       "logs/dataset_train_data_evrp_wcci_HGS_0.1/seed_5  4717.080919      69169.174429   \n",
       "logs/dataset_train_data_evrp_wcci_HGS_0.1/seed_6  4629.198482      69206.542586   \n",
       "logs/dataset_train_data_evrp_wcci_HGS_0.1/seed_7  4876.168765      69201.737251   \n",
       "logs/dataset_train_data_evrp_wcci_HGS_0.1/seed_8  4933.962519      69109.189704   \n",
       "logs/dataset_train_data_evrp_wcci_HGS_0.1/seed_9  4885.769333      69071.377247   \n",
       "logs/dataset_train_data_evrp_wcci_HGS_0.1/seed_10 4833.703541      69218.402748   \n",
       "logs/dataset_train_data_evrp_wcci_HGS_0.1/seed_11 4695.294673      69219.600315   \n",
       "logs/dataset_train_data_evrp_wcci_HGS_0.1/seed_12 4856.495643      69292.425963   \n",
       "logs/dataset_train_data_evrp_wcci_HGS_0.1/seed_13 4671.370626      69133.215868   \n",
       "logs/dataset_train_data_evrp_wcci_HGS_0.1/seed_14 4889.840440      69202.012886   \n",
       "logs/dataset_train_data_evrp_wcci_HGS_0.1/seed_15 4863.959133      69253.993225   \n",
       "logs/dataset_train_data_evrp_wcci_HGS_0.1/seed_16 4875.430531      69312.276544   \n",
       "logs/dataset_train_data_evrp_wcci_HGS_0.1/seed_17 4756.792766      69278.422206   \n",
       "logs/dataset_train_data_evrp_wcci_HGS_0.1/seed_18 4811.067721      69085.437493   \n",
       "logs/dataset_train_data_evrp_wcci_HGS_0.1/seed_19 3041.268814      69189.439235   \n",
       "logs/dataset_train_data_evrp_wcci_HGS_0.1/seed_20 2987.604745      69125.933590   \n",
       "\n",
       "                                                                X-n749-k98.evrp  \\\n",
       "Folder                                            Running Time                    \n",
       "logs/dataset_train_data_evrp_wcci_HGS_0.1/seed_1  4777.062319      79009.128426   \n",
       "logs/dataset_train_data_evrp_wcci_HGS_0.1/seed_2  4772.085239      78939.769705   \n",
       "logs/dataset_train_data_evrp_wcci_HGS_0.1/seed_3  4788.849669      78797.031108   \n",
       "logs/dataset_train_data_evrp_wcci_HGS_0.1/seed_4  4840.699600      78895.017262   \n",
       "logs/dataset_train_data_evrp_wcci_HGS_0.1/seed_5  4717.080919      78914.961688   \n",
       "logs/dataset_train_data_evrp_wcci_HGS_0.1/seed_6  4629.198482      79004.193907   \n",
       "logs/dataset_train_data_evrp_wcci_HGS_0.1/seed_7  4876.168765      78955.224600   \n",
       "logs/dataset_train_data_evrp_wcci_HGS_0.1/seed_8  4933.962519      78747.828025   \n",
       "logs/dataset_train_data_evrp_wcci_HGS_0.1/seed_9  4885.769333      79012.540685   \n",
       "logs/dataset_train_data_evrp_wcci_HGS_0.1/seed_10 4833.703541      78849.216088   \n",
       "logs/dataset_train_data_evrp_wcci_HGS_0.1/seed_11 4695.294673      78725.718503   \n",
       "logs/dataset_train_data_evrp_wcci_HGS_0.1/seed_12 4856.495643      79020.081215   \n",
       "logs/dataset_train_data_evrp_wcci_HGS_0.1/seed_13 4671.370626      78963.513594   \n",
       "logs/dataset_train_data_evrp_wcci_HGS_0.1/seed_14 4889.840440      78860.960339   \n",
       "logs/dataset_train_data_evrp_wcci_HGS_0.1/seed_15 4863.959133      78746.034154   \n",
       "logs/dataset_train_data_evrp_wcci_HGS_0.1/seed_16 4875.430531      78683.913035   \n",
       "logs/dataset_train_data_evrp_wcci_HGS_0.1/seed_17 4756.792766      78907.472962   \n",
       "logs/dataset_train_data_evrp_wcci_HGS_0.1/seed_18 4811.067721      78975.148602   \n",
       "logs/dataset_train_data_evrp_wcci_HGS_0.1/seed_19 3041.268814      78988.367551   \n",
       "logs/dataset_train_data_evrp_wcci_HGS_0.1/seed_20 2987.604745      78993.096337   \n",
       "\n",
       "                                                                X-n819-k171.evrp  \\\n",
       "Folder                                            Running Time                     \n",
       "logs/dataset_train_data_evrp_wcci_HGS_0.1/seed_1  4777.062319      159688.037118   \n",
       "logs/dataset_train_data_evrp_wcci_HGS_0.1/seed_2  4772.085239      159664.286691   \n",
       "logs/dataset_train_data_evrp_wcci_HGS_0.1/seed_3  4788.849669      159395.979528   \n",
       "logs/dataset_train_data_evrp_wcci_HGS_0.1/seed_4  4840.699600      159686.301649   \n",
       "logs/dataset_train_data_evrp_wcci_HGS_0.1/seed_5  4717.080919      159519.488654   \n",
       "logs/dataset_train_data_evrp_wcci_HGS_0.1/seed_6  4629.198482      159803.080039   \n",
       "logs/dataset_train_data_evrp_wcci_HGS_0.1/seed_7  4876.168765      159459.504157   \n",
       "logs/dataset_train_data_evrp_wcci_HGS_0.1/seed_8  4933.962519      159705.721389   \n",
       "logs/dataset_train_data_evrp_wcci_HGS_0.1/seed_9  4885.769333      159763.576515   \n",
       "logs/dataset_train_data_evrp_wcci_HGS_0.1/seed_10 4833.703541      159638.568151   \n",
       "logs/dataset_train_data_evrp_wcci_HGS_0.1/seed_11 4695.294673      159604.028802   \n",
       "logs/dataset_train_data_evrp_wcci_HGS_0.1/seed_12 4856.495643      159476.911690   \n",
       "logs/dataset_train_data_evrp_wcci_HGS_0.1/seed_13 4671.370626      159542.096426   \n",
       "logs/dataset_train_data_evrp_wcci_HGS_0.1/seed_14 4889.840440      159672.965842   \n",
       "logs/dataset_train_data_evrp_wcci_HGS_0.1/seed_15 4863.959133      159587.965858   \n",
       "logs/dataset_train_data_evrp_wcci_HGS_0.1/seed_16 4875.430531      159514.485241   \n",
       "logs/dataset_train_data_evrp_wcci_HGS_0.1/seed_17 4756.792766      159700.939538   \n",
       "logs/dataset_train_data_evrp_wcci_HGS_0.1/seed_18 4811.067721      159554.635410   \n",
       "logs/dataset_train_data_evrp_wcci_HGS_0.1/seed_19 3041.268814      159557.857688   \n",
       "logs/dataset_train_data_evrp_wcci_HGS_0.1/seed_20 2987.604745      159618.999816   \n",
       "\n",
       "                                                                X-n916-k207.evrp  \\\n",
       "Folder                                            Running Time                     \n",
       "logs/dataset_train_data_evrp_wcci_HGS_0.1/seed_1  4777.062319      334086.764824   \n",
       "logs/dataset_train_data_evrp_wcci_HGS_0.1/seed_2  4772.085239      334807.977320   \n",
       "logs/dataset_train_data_evrp_wcci_HGS_0.1/seed_3  4788.849669      334195.243513   \n",
       "logs/dataset_train_data_evrp_wcci_HGS_0.1/seed_4  4840.699600      334421.682387   \n",
       "logs/dataset_train_data_evrp_wcci_HGS_0.1/seed_5  4717.080919      334786.449322   \n",
       "logs/dataset_train_data_evrp_wcci_HGS_0.1/seed_6  4629.198482      334728.625334   \n",
       "logs/dataset_train_data_evrp_wcci_HGS_0.1/seed_7  4876.168765      334664.845132   \n",
       "logs/dataset_train_data_evrp_wcci_HGS_0.1/seed_8  4933.962519      334729.089269   \n",
       "logs/dataset_train_data_evrp_wcci_HGS_0.1/seed_9  4885.769333      334281.856975   \n",
       "logs/dataset_train_data_evrp_wcci_HGS_0.1/seed_10 4833.703541      334499.740016   \n",
       "logs/dataset_train_data_evrp_wcci_HGS_0.1/seed_11 4695.294673      335049.107666   \n",
       "logs/dataset_train_data_evrp_wcci_HGS_0.1/seed_12 4856.495643      334888.471815   \n",
       "logs/dataset_train_data_evrp_wcci_HGS_0.1/seed_13 4671.370626      334711.247868   \n",
       "logs/dataset_train_data_evrp_wcci_HGS_0.1/seed_14 4889.840440      334099.028445   \n",
       "logs/dataset_train_data_evrp_wcci_HGS_0.1/seed_15 4863.959133      334464.327310   \n",
       "logs/dataset_train_data_evrp_wcci_HGS_0.1/seed_16 4875.430531      334332.568247   \n",
       "logs/dataset_train_data_evrp_wcci_HGS_0.1/seed_17 4756.792766      334580.989318   \n",
       "logs/dataset_train_data_evrp_wcci_HGS_0.1/seed_18 4811.067721      334616.080279   \n",
       "logs/dataset_train_data_evrp_wcci_HGS_0.1/seed_19 3041.268814      334645.388902   \n",
       "logs/dataset_train_data_evrp_wcci_HGS_0.1/seed_20 2987.604745      334491.861838   \n",
       "\n",
       "                                                                X-n1001-k43.evrp  \n",
       "Folder                                            Running Time                    \n",
       "logs/dataset_train_data_evrp_wcci_HGS_0.1/seed_1  4777.062319       74097.049611  \n",
       "logs/dataset_train_data_evrp_wcci_HGS_0.1/seed_2  4772.085239       74777.234071  \n",
       "logs/dataset_train_data_evrp_wcci_HGS_0.1/seed_3  4788.849669       74516.710550  \n",
       "logs/dataset_train_data_evrp_wcci_HGS_0.1/seed_4  4840.699600       74160.609178  \n",
       "logs/dataset_train_data_evrp_wcci_HGS_0.1/seed_5  4717.080919       74571.185860  \n",
       "logs/dataset_train_data_evrp_wcci_HGS_0.1/seed_6  4629.198482       74618.633489  \n",
       "logs/dataset_train_data_evrp_wcci_HGS_0.1/seed_7  4876.168765       74504.761369  \n",
       "logs/dataset_train_data_evrp_wcci_HGS_0.1/seed_8  4933.962519       74674.154955  \n",
       "logs/dataset_train_data_evrp_wcci_HGS_0.1/seed_9  4885.769333       74612.072444  \n",
       "logs/dataset_train_data_evrp_wcci_HGS_0.1/seed_10 4833.703541       74614.817738  \n",
       "logs/dataset_train_data_evrp_wcci_HGS_0.1/seed_11 4695.294673       74414.733517  \n",
       "logs/dataset_train_data_evrp_wcci_HGS_0.1/seed_12 4856.495643       74303.916825  \n",
       "logs/dataset_train_data_evrp_wcci_HGS_0.1/seed_13 4671.370626       74429.622835  \n",
       "logs/dataset_train_data_evrp_wcci_HGS_0.1/seed_14 4889.840440       74573.485831  \n",
       "logs/dataset_train_data_evrp_wcci_HGS_0.1/seed_15 4863.959133       74514.346660  \n",
       "logs/dataset_train_data_evrp_wcci_HGS_0.1/seed_16 4875.430531       74608.729759  \n",
       "logs/dataset_train_data_evrp_wcci_HGS_0.1/seed_17 4756.792766       74550.808326  \n",
       "logs/dataset_train_data_evrp_wcci_HGS_0.1/seed_18 4811.067721       74274.066670  \n",
       "logs/dataset_train_data_evrp_wcci_HGS_0.1/seed_19 3041.268814       74482.667267  \n",
       "logs/dataset_train_data_evrp_wcci_HGS_0.1/seed_20 2987.604745       74367.672389  "
      ]
     },
     "execution_count": 5,
     "metadata": {},
     "output_type": "execute_result"
    }
   ],
   "source": [
    "df = load_all_scores(\"logs/dataset_train_data_evrp_wcci_HGS_0.1\")\n",
    "df"
   ]
  },
  {
   "cell_type": "code",
   "execution_count": 6,
   "id": "d2813d5c",
   "metadata": {},
   "outputs": [
    {
     "data": {
      "application/vnd.plotly.v1+json": {
       "config": {
        "plotlyServerURL": "https://plot.ly"
       },
       "data": [
        {
         "marker": {
          "color": "black",
          "size": 6,
          "symbol": "square"
         },
         "mode": "markers",
         "name": "station",
         "type": "scatter",
         "x": [
          137,
          137,
          137,
          137,
          155,
          155,
          155,
          155
         ],
         "y": [
          193,
          213,
          234,
          254,
          193,
          213,
          234,
          254
         ]
        },
        {
         "line": {
          "color": "rgb(240,72,38,240)",
          "width": 2
         },
         "mode": "lines",
         "name": "EVRP1",
         "type": "scatter",
         "x": [
          145,
          141,
          129,
          139,
          146,
          145
         ],
         "y": [
          215,
          206,
          189,
          182,
          208,
          215
         ]
        },
        {
         "line": {
          "color": "rgb(240,172,0,240)",
          "width": 2
         },
         "mode": "lines",
         "name": "EVRP2",
         "type": "scatter",
         "x": [
          145,
          147,
          155,
          164,
          164,
          155,
          156,
          145
         ],
         "y": [
          215,
          193,
          185,
          193,
          208,
          213,
          217,
          215
         ]
        },
        {
         "line": {
          "color": "rgb(147,240,0,240)",
          "width": 2
         },
         "mode": "lines",
         "name": "EVRP3",
         "type": "scatter",
         "x": [
          145,
          163,
          161,
          163,
          159,
          151,
          155,
          146,
          142,
          145
         ],
         "y": [
          215,
          236,
          242,
          247,
          261,
          264,
          254,
          246,
          239,
          215
         ]
        },
        {
         "line": {
          "color": "rgb(0,240,35,240)",
          "width": 2
         },
         "mode": "lines",
         "name": "EVRP4",
         "type": "scatter",
         "x": [
          145,
          129,
          128,
          128,
          130,
          137,
          148,
          145
         ],
         "y": [
          215,
          214,
          231,
          252,
          254,
          234,
          232,
          215
         ]
        },
        {
         "marker": {
          "color": "rgb(240,72,38,240)",
          "size": 3
         },
         "mode": "markers",
         "name": "EVRP1",
         "type": "scatter",
         "x": [
          145,
          141,
          129,
          139,
          146,
          145
         ],
         "y": [
          215,
          206,
          189,
          182,
          208,
          215
         ]
        },
        {
         "marker": {
          "color": "rgb(240,172,0,240)",
          "size": 3
         },
         "mode": "markers",
         "name": "EVRP2",
         "type": "scatter",
         "x": [
          145,
          147,
          155,
          164,
          164,
          155,
          156,
          145
         ],
         "y": [
          215,
          193,
          185,
          193,
          208,
          213,
          217,
          215
         ]
        },
        {
         "marker": {
          "color": "rgb(147,240,0,240)",
          "size": 3
         },
         "mode": "markers",
         "name": "EVRP3",
         "type": "scatter",
         "x": [
          145,
          163,
          161,
          163,
          159,
          151,
          155,
          146,
          142,
          145
         ],
         "y": [
          215,
          236,
          242,
          247,
          261,
          264,
          254,
          246,
          239,
          215
         ]
        },
        {
         "marker": {
          "color": "rgb(0,240,35,240)",
          "size": 3
         },
         "mode": "markers",
         "name": "EVRP4",
         "type": "scatter",
         "x": [
          145,
          129,
          128,
          128,
          130,
          137,
          148,
          145
         ],
         "y": [
          215,
          214,
          231,
          252,
          254,
          234,
          232,
          215
         ]
        },
        {
         "marker": {
          "color": "red",
          "size": 10,
          "symbol": "hexagram"
         },
         "mode": "markers",
         "name": "depot",
         "type": "scatter",
         "x": [
          145
         ],
         "y": [
          215
         ]
        }
       ],
       "layout": {
        "height": 640,
        "showlegend": false,
        "template": {
         "data": {
          "bar": [
           {
            "error_x": {
             "color": "#2a3f5f"
            },
            "error_y": {
             "color": "#2a3f5f"
            },
            "marker": {
             "line": {
              "color": "white",
              "width": 0.5
             },
             "pattern": {
              "fillmode": "overlay",
              "size": 10,
              "solidity": 0.2
             }
            },
            "type": "bar"
           }
          ],
          "barpolar": [
           {
            "marker": {
             "line": {
              "color": "white",
              "width": 0.5
             },
             "pattern": {
              "fillmode": "overlay",
              "size": 10,
              "solidity": 0.2
             }
            },
            "type": "barpolar"
           }
          ],
          "carpet": [
           {
            "aaxis": {
             "endlinecolor": "#2a3f5f",
             "gridcolor": "#C8D4E3",
             "linecolor": "#C8D4E3",
             "minorgridcolor": "#C8D4E3",
             "startlinecolor": "#2a3f5f"
            },
            "baxis": {
             "endlinecolor": "#2a3f5f",
             "gridcolor": "#C8D4E3",
             "linecolor": "#C8D4E3",
             "minorgridcolor": "#C8D4E3",
             "startlinecolor": "#2a3f5f"
            },
            "type": "carpet"
           }
          ],
          "choropleth": [
           {
            "colorbar": {
             "outlinewidth": 0,
             "ticks": ""
            },
            "type": "choropleth"
           }
          ],
          "contour": [
           {
            "colorbar": {
             "outlinewidth": 0,
             "ticks": ""
            },
            "colorscale": [
             [
              0,
              "#0d0887"
             ],
             [
              0.1111111111111111,
              "#46039f"
             ],
             [
              0.2222222222222222,
              "#7201a8"
             ],
             [
              0.3333333333333333,
              "#9c179e"
             ],
             [
              0.4444444444444444,
              "#bd3786"
             ],
             [
              0.5555555555555556,
              "#d8576b"
             ],
             [
              0.6666666666666666,
              "#ed7953"
             ],
             [
              0.7777777777777778,
              "#fb9f3a"
             ],
             [
              0.8888888888888888,
              "#fdca26"
             ],
             [
              1,
              "#f0f921"
             ]
            ],
            "type": "contour"
           }
          ],
          "contourcarpet": [
           {
            "colorbar": {
             "outlinewidth": 0,
             "ticks": ""
            },
            "type": "contourcarpet"
           }
          ],
          "heatmap": [
           {
            "colorbar": {
             "outlinewidth": 0,
             "ticks": ""
            },
            "colorscale": [
             [
              0,
              "#0d0887"
             ],
             [
              0.1111111111111111,
              "#46039f"
             ],
             [
              0.2222222222222222,
              "#7201a8"
             ],
             [
              0.3333333333333333,
              "#9c179e"
             ],
             [
              0.4444444444444444,
              "#bd3786"
             ],
             [
              0.5555555555555556,
              "#d8576b"
             ],
             [
              0.6666666666666666,
              "#ed7953"
             ],
             [
              0.7777777777777778,
              "#fb9f3a"
             ],
             [
              0.8888888888888888,
              "#fdca26"
             ],
             [
              1,
              "#f0f921"
             ]
            ],
            "type": "heatmap"
           }
          ],
          "heatmapgl": [
           {
            "colorbar": {
             "outlinewidth": 0,
             "ticks": ""
            },
            "colorscale": [
             [
              0,
              "#0d0887"
             ],
             [
              0.1111111111111111,
              "#46039f"
             ],
             [
              0.2222222222222222,
              "#7201a8"
             ],
             [
              0.3333333333333333,
              "#9c179e"
             ],
             [
              0.4444444444444444,
              "#bd3786"
             ],
             [
              0.5555555555555556,
              "#d8576b"
             ],
             [
              0.6666666666666666,
              "#ed7953"
             ],
             [
              0.7777777777777778,
              "#fb9f3a"
             ],
             [
              0.8888888888888888,
              "#fdca26"
             ],
             [
              1,
              "#f0f921"
             ]
            ],
            "type": "heatmapgl"
           }
          ],
          "histogram": [
           {
            "marker": {
             "pattern": {
              "fillmode": "overlay",
              "size": 10,
              "solidity": 0.2
             }
            },
            "type": "histogram"
           }
          ],
          "histogram2d": [
           {
            "colorbar": {
             "outlinewidth": 0,
             "ticks": ""
            },
            "colorscale": [
             [
              0,
              "#0d0887"
             ],
             [
              0.1111111111111111,
              "#46039f"
             ],
             [
              0.2222222222222222,
              "#7201a8"
             ],
             [
              0.3333333333333333,
              "#9c179e"
             ],
             [
              0.4444444444444444,
              "#bd3786"
             ],
             [
              0.5555555555555556,
              "#d8576b"
             ],
             [
              0.6666666666666666,
              "#ed7953"
             ],
             [
              0.7777777777777778,
              "#fb9f3a"
             ],
             [
              0.8888888888888888,
              "#fdca26"
             ],
             [
              1,
              "#f0f921"
             ]
            ],
            "type": "histogram2d"
           }
          ],
          "histogram2dcontour": [
           {
            "colorbar": {
             "outlinewidth": 0,
             "ticks": ""
            },
            "colorscale": [
             [
              0,
              "#0d0887"
             ],
             [
              0.1111111111111111,
              "#46039f"
             ],
             [
              0.2222222222222222,
              "#7201a8"
             ],
             [
              0.3333333333333333,
              "#9c179e"
             ],
             [
              0.4444444444444444,
              "#bd3786"
             ],
             [
              0.5555555555555556,
              "#d8576b"
             ],
             [
              0.6666666666666666,
              "#ed7953"
             ],
             [
              0.7777777777777778,
              "#fb9f3a"
             ],
             [
              0.8888888888888888,
              "#fdca26"
             ],
             [
              1,
              "#f0f921"
             ]
            ],
            "type": "histogram2dcontour"
           }
          ],
          "mesh3d": [
           {
            "colorbar": {
             "outlinewidth": 0,
             "ticks": ""
            },
            "type": "mesh3d"
           }
          ],
          "parcoords": [
           {
            "line": {
             "colorbar": {
              "outlinewidth": 0,
              "ticks": ""
             }
            },
            "type": "parcoords"
           }
          ],
          "pie": [
           {
            "automargin": true,
            "type": "pie"
           }
          ],
          "scatter": [
           {
            "marker": {
             "colorbar": {
              "outlinewidth": 0,
              "ticks": ""
             }
            },
            "type": "scatter"
           }
          ],
          "scatter3d": [
           {
            "line": {
             "colorbar": {
              "outlinewidth": 0,
              "ticks": ""
             }
            },
            "marker": {
             "colorbar": {
              "outlinewidth": 0,
              "ticks": ""
             }
            },
            "type": "scatter3d"
           }
          ],
          "scattercarpet": [
           {
            "marker": {
             "colorbar": {
              "outlinewidth": 0,
              "ticks": ""
             }
            },
            "type": "scattercarpet"
           }
          ],
          "scattergeo": [
           {
            "marker": {
             "colorbar": {
              "outlinewidth": 0,
              "ticks": ""
             }
            },
            "type": "scattergeo"
           }
          ],
          "scattergl": [
           {
            "marker": {
             "colorbar": {
              "outlinewidth": 0,
              "ticks": ""
             }
            },
            "type": "scattergl"
           }
          ],
          "scattermapbox": [
           {
            "marker": {
             "colorbar": {
              "outlinewidth": 0,
              "ticks": ""
             }
            },
            "type": "scattermapbox"
           }
          ],
          "scatterpolar": [
           {
            "marker": {
             "colorbar": {
              "outlinewidth": 0,
              "ticks": ""
             }
            },
            "type": "scatterpolar"
           }
          ],
          "scatterpolargl": [
           {
            "marker": {
             "colorbar": {
              "outlinewidth": 0,
              "ticks": ""
             }
            },
            "type": "scatterpolargl"
           }
          ],
          "scatterternary": [
           {
            "marker": {
             "colorbar": {
              "outlinewidth": 0,
              "ticks": ""
             }
            },
            "type": "scatterternary"
           }
          ],
          "surface": [
           {
            "colorbar": {
             "outlinewidth": 0,
             "ticks": ""
            },
            "colorscale": [
             [
              0,
              "#0d0887"
             ],
             [
              0.1111111111111111,
              "#46039f"
             ],
             [
              0.2222222222222222,
              "#7201a8"
             ],
             [
              0.3333333333333333,
              "#9c179e"
             ],
             [
              0.4444444444444444,
              "#bd3786"
             ],
             [
              0.5555555555555556,
              "#d8576b"
             ],
             [
              0.6666666666666666,
              "#ed7953"
             ],
             [
              0.7777777777777778,
              "#fb9f3a"
             ],
             [
              0.8888888888888888,
              "#fdca26"
             ],
             [
              1,
              "#f0f921"
             ]
            ],
            "type": "surface"
           }
          ],
          "table": [
           {
            "cells": {
             "fill": {
              "color": "#EBF0F8"
             },
             "line": {
              "color": "white"
             }
            },
            "header": {
             "fill": {
              "color": "#C8D4E3"
             },
             "line": {
              "color": "white"
             }
            },
            "type": "table"
           }
          ]
         },
         "layout": {
          "annotationdefaults": {
           "arrowcolor": "#2a3f5f",
           "arrowhead": 0,
           "arrowwidth": 1
          },
          "autotypenumbers": "strict",
          "coloraxis": {
           "colorbar": {
            "outlinewidth": 0,
            "ticks": ""
           }
          },
          "colorscale": {
           "diverging": [
            [
             0,
             "#8e0152"
            ],
            [
             0.1,
             "#c51b7d"
            ],
            [
             0.2,
             "#de77ae"
            ],
            [
             0.3,
             "#f1b6da"
            ],
            [
             0.4,
             "#fde0ef"
            ],
            [
             0.5,
             "#f7f7f7"
            ],
            [
             0.6,
             "#e6f5d0"
            ],
            [
             0.7,
             "#b8e186"
            ],
            [
             0.8,
             "#7fbc41"
            ],
            [
             0.9,
             "#4d9221"
            ],
            [
             1,
             "#276419"
            ]
           ],
           "sequential": [
            [
             0,
             "#0d0887"
            ],
            [
             0.1111111111111111,
             "#46039f"
            ],
            [
             0.2222222222222222,
             "#7201a8"
            ],
            [
             0.3333333333333333,
             "#9c179e"
            ],
            [
             0.4444444444444444,
             "#bd3786"
            ],
            [
             0.5555555555555556,
             "#d8576b"
            ],
            [
             0.6666666666666666,
             "#ed7953"
            ],
            [
             0.7777777777777778,
             "#fb9f3a"
            ],
            [
             0.8888888888888888,
             "#fdca26"
            ],
            [
             1,
             "#f0f921"
            ]
           ],
           "sequentialminus": [
            [
             0,
             "#0d0887"
            ],
            [
             0.1111111111111111,
             "#46039f"
            ],
            [
             0.2222222222222222,
             "#7201a8"
            ],
            [
             0.3333333333333333,
             "#9c179e"
            ],
            [
             0.4444444444444444,
             "#bd3786"
            ],
            [
             0.5555555555555556,
             "#d8576b"
            ],
            [
             0.6666666666666666,
             "#ed7953"
            ],
            [
             0.7777777777777778,
             "#fb9f3a"
            ],
            [
             0.8888888888888888,
             "#fdca26"
            ],
            [
             1,
             "#f0f921"
            ]
           ]
          },
          "colorway": [
           "#636efa",
           "#EF553B",
           "#00cc96",
           "#ab63fa",
           "#FFA15A",
           "#19d3f3",
           "#FF6692",
           "#B6E880",
           "#FF97FF",
           "#FECB52"
          ],
          "font": {
           "color": "#2a3f5f"
          },
          "geo": {
           "bgcolor": "white",
           "lakecolor": "white",
           "landcolor": "white",
           "showlakes": true,
           "showland": true,
           "subunitcolor": "#C8D4E3"
          },
          "hoverlabel": {
           "align": "left"
          },
          "hovermode": "closest",
          "mapbox": {
           "style": "light"
          },
          "paper_bgcolor": "white",
          "plot_bgcolor": "white",
          "polar": {
           "angularaxis": {
            "gridcolor": "#EBF0F8",
            "linecolor": "#EBF0F8",
            "ticks": ""
           },
           "bgcolor": "white",
           "radialaxis": {
            "gridcolor": "#EBF0F8",
            "linecolor": "#EBF0F8",
            "ticks": ""
           }
          },
          "scene": {
           "xaxis": {
            "backgroundcolor": "white",
            "gridcolor": "#DFE8F3",
            "gridwidth": 2,
            "linecolor": "#EBF0F8",
            "showbackground": true,
            "ticks": "",
            "zerolinecolor": "#EBF0F8"
           },
           "yaxis": {
            "backgroundcolor": "white",
            "gridcolor": "#DFE8F3",
            "gridwidth": 2,
            "linecolor": "#EBF0F8",
            "showbackground": true,
            "ticks": "",
            "zerolinecolor": "#EBF0F8"
           },
           "zaxis": {
            "backgroundcolor": "white",
            "gridcolor": "#DFE8F3",
            "gridwidth": 2,
            "linecolor": "#EBF0F8",
            "showbackground": true,
            "ticks": "",
            "zerolinecolor": "#EBF0F8"
           }
          },
          "shapedefaults": {
           "line": {
            "color": "#2a3f5f"
           }
          },
          "ternary": {
           "aaxis": {
            "gridcolor": "#DFE8F3",
            "linecolor": "#A2B1C6",
            "ticks": ""
           },
           "baxis": {
            "gridcolor": "#DFE8F3",
            "linecolor": "#A2B1C6",
            "ticks": ""
           },
           "bgcolor": "white",
           "caxis": {
            "gridcolor": "#DFE8F3",
            "linecolor": "#A2B1C6",
            "ticks": ""
           }
          },
          "title": {
           "x": 0.05
          },
          "xaxis": {
           "automargin": true,
           "gridcolor": "#EBF0F8",
           "linecolor": "#EBF0F8",
           "ticks": "",
           "title": {
            "standoff": 15
           },
           "zerolinecolor": "#EBF0F8",
           "zerolinewidth": 2
          },
          "yaxis": {
           "automargin": true,
           "gridcolor": "#EBF0F8",
           "linecolor": "#EBF0F8",
           "ticks": "",
           "title": {
            "standoff": 15
           },
           "zerolinecolor": "#EBF0F8",
           "zerolinewidth": 2
          }
         }
        },
        "title": {
         "text": "E-n22-k4.evrp - 386.961",
         "x": 0.5
        },
        "width": 640,
        "xaxis": {
         "visible": false
        },
        "yaxis": {
         "visible": false
        }
       }
      }
     },
     "metadata": {},
     "output_type": "display_data"
    }
   ],
   "source": [
    "def plot_instance(key):\n",
    "    best_folder, _ = df[key].idxmin()\n",
    "    solution = load_scores(best_folder)[key].solution\n",
    "    args = Namespace(round_int=False, algo=None)\n",
    "    instance = VRPInstance.from_path(f\"dataset/train/data_evrp_wcci/{key}\", args, f\"sub_{key}\")\n",
    "    instance.name = key\n",
    "    instance.solution = solution\n",
    "    fig = instance.plot()\n",
    "    fig.show()\n",
    "\n",
    "plot_instance(\"E-n22-k4.evrp\")"
   ]
  },
  {
   "cell_type": "code",
   "execution_count": 7,
   "id": "360a9cff",
   "metadata": {},
   "outputs": [
    {
     "data": {
      "application/vnd.plotly.v1+json": {
       "config": {
        "plotlyServerURL": "https://plot.ly"
       },
       "data": [
        {
         "marker": {
          "color": "black",
          "size": 6,
          "symbol": "square"
         },
         "mode": "markers",
         "name": "station",
         "type": "scatter",
         "x": [
          137,
          137,
          137,
          137,
          155,
          155,
          155,
          155
         ],
         "y": [
          193,
          213,
          234,
          254,
          193,
          213,
          234,
          254
         ]
        },
        {
         "line": {
          "color": "rgb(240,72,38,240)",
          "width": 2
         },
         "mode": "lines",
         "name": "EVRP1",
         "type": "scatter",
         "x": [
          145,
          141,
          129,
          139,
          146,
          145
         ],
         "y": [
          215,
          206,
          189,
          182,
          208,
          215
         ]
        },
        {
         "line": {
          "color": "rgb(240,172,0,240)",
          "width": 2
         },
         "mode": "lines",
         "name": "EVRP2",
         "type": "scatter",
         "x": [
          145,
          147,
          155,
          164,
          164,
          155,
          156,
          145
         ],
         "y": [
          215,
          193,
          185,
          193,
          208,
          213,
          217,
          215
         ]
        },
        {
         "line": {
          "color": "rgb(147,240,0,240)",
          "width": 2
         },
         "mode": "lines",
         "name": "EVRP3",
         "type": "scatter",
         "x": [
          145,
          163,
          161,
          163,
          159,
          151,
          155,
          146,
          142,
          145
         ],
         "y": [
          215,
          236,
          242,
          247,
          261,
          264,
          254,
          246,
          239,
          215
         ]
        },
        {
         "line": {
          "color": "rgb(0,240,35,240)",
          "width": 2
         },
         "mode": "lines",
         "name": "EVRP4",
         "type": "scatter",
         "x": [
          145,
          129,
          128,
          128,
          130,
          137,
          148,
          145
         ],
         "y": [
          215,
          214,
          231,
          252,
          254,
          234,
          232,
          215
         ]
        },
        {
         "marker": {
          "color": "rgb(240,72,38,240)",
          "size": 3
         },
         "mode": "markers",
         "name": "EVRP1",
         "type": "scatter",
         "x": [
          145,
          141,
          129,
          139,
          146,
          145
         ],
         "y": [
          215,
          206,
          189,
          182,
          208,
          215
         ]
        },
        {
         "marker": {
          "color": "rgb(240,172,0,240)",
          "size": 3
         },
         "mode": "markers",
         "name": "EVRP2",
         "type": "scatter",
         "x": [
          145,
          147,
          155,
          164,
          164,
          155,
          156,
          145
         ],
         "y": [
          215,
          193,
          185,
          193,
          208,
          213,
          217,
          215
         ]
        },
        {
         "marker": {
          "color": "rgb(147,240,0,240)",
          "size": 3
         },
         "mode": "markers",
         "name": "EVRP3",
         "type": "scatter",
         "x": [
          145,
          163,
          161,
          163,
          159,
          151,
          155,
          146,
          142,
          145
         ],
         "y": [
          215,
          236,
          242,
          247,
          261,
          264,
          254,
          246,
          239,
          215
         ]
        },
        {
         "marker": {
          "color": "rgb(0,240,35,240)",
          "size": 3
         },
         "mode": "markers",
         "name": "EVRP4",
         "type": "scatter",
         "x": [
          145,
          129,
          128,
          128,
          130,
          137,
          148,
          145
         ],
         "y": [
          215,
          214,
          231,
          252,
          254,
          234,
          232,
          215
         ]
        },
        {
         "marker": {
          "color": "red",
          "size": 10,
          "symbol": "hexagram"
         },
         "mode": "markers",
         "name": "depot",
         "type": "scatter",
         "x": [
          145
         ],
         "y": [
          215
         ]
        }
       ],
       "layout": {
        "height": 640,
        "showlegend": false,
        "template": {
         "data": {
          "bar": [
           {
            "error_x": {
             "color": "#2a3f5f"
            },
            "error_y": {
             "color": "#2a3f5f"
            },
            "marker": {
             "line": {
              "color": "white",
              "width": 0.5
             },
             "pattern": {
              "fillmode": "overlay",
              "size": 10,
              "solidity": 0.2
             }
            },
            "type": "bar"
           }
          ],
          "barpolar": [
           {
            "marker": {
             "line": {
              "color": "white",
              "width": 0.5
             },
             "pattern": {
              "fillmode": "overlay",
              "size": 10,
              "solidity": 0.2
             }
            },
            "type": "barpolar"
           }
          ],
          "carpet": [
           {
            "aaxis": {
             "endlinecolor": "#2a3f5f",
             "gridcolor": "#C8D4E3",
             "linecolor": "#C8D4E3",
             "minorgridcolor": "#C8D4E3",
             "startlinecolor": "#2a3f5f"
            },
            "baxis": {
             "endlinecolor": "#2a3f5f",
             "gridcolor": "#C8D4E3",
             "linecolor": "#C8D4E3",
             "minorgridcolor": "#C8D4E3",
             "startlinecolor": "#2a3f5f"
            },
            "type": "carpet"
           }
          ],
          "choropleth": [
           {
            "colorbar": {
             "outlinewidth": 0,
             "ticks": ""
            },
            "type": "choropleth"
           }
          ],
          "contour": [
           {
            "colorbar": {
             "outlinewidth": 0,
             "ticks": ""
            },
            "colorscale": [
             [
              0,
              "#0d0887"
             ],
             [
              0.1111111111111111,
              "#46039f"
             ],
             [
              0.2222222222222222,
              "#7201a8"
             ],
             [
              0.3333333333333333,
              "#9c179e"
             ],
             [
              0.4444444444444444,
              "#bd3786"
             ],
             [
              0.5555555555555556,
              "#d8576b"
             ],
             [
              0.6666666666666666,
              "#ed7953"
             ],
             [
              0.7777777777777778,
              "#fb9f3a"
             ],
             [
              0.8888888888888888,
              "#fdca26"
             ],
             [
              1,
              "#f0f921"
             ]
            ],
            "type": "contour"
           }
          ],
          "contourcarpet": [
           {
            "colorbar": {
             "outlinewidth": 0,
             "ticks": ""
            },
            "type": "contourcarpet"
           }
          ],
          "heatmap": [
           {
            "colorbar": {
             "outlinewidth": 0,
             "ticks": ""
            },
            "colorscale": [
             [
              0,
              "#0d0887"
             ],
             [
              0.1111111111111111,
              "#46039f"
             ],
             [
              0.2222222222222222,
              "#7201a8"
             ],
             [
              0.3333333333333333,
              "#9c179e"
             ],
             [
              0.4444444444444444,
              "#bd3786"
             ],
             [
              0.5555555555555556,
              "#d8576b"
             ],
             [
              0.6666666666666666,
              "#ed7953"
             ],
             [
              0.7777777777777778,
              "#fb9f3a"
             ],
             [
              0.8888888888888888,
              "#fdca26"
             ],
             [
              1,
              "#f0f921"
             ]
            ],
            "type": "heatmap"
           }
          ],
          "heatmapgl": [
           {
            "colorbar": {
             "outlinewidth": 0,
             "ticks": ""
            },
            "colorscale": [
             [
              0,
              "#0d0887"
             ],
             [
              0.1111111111111111,
              "#46039f"
             ],
             [
              0.2222222222222222,
              "#7201a8"
             ],
             [
              0.3333333333333333,
              "#9c179e"
             ],
             [
              0.4444444444444444,
              "#bd3786"
             ],
             [
              0.5555555555555556,
              "#d8576b"
             ],
             [
              0.6666666666666666,
              "#ed7953"
             ],
             [
              0.7777777777777778,
              "#fb9f3a"
             ],
             [
              0.8888888888888888,
              "#fdca26"
             ],
             [
              1,
              "#f0f921"
             ]
            ],
            "type": "heatmapgl"
           }
          ],
          "histogram": [
           {
            "marker": {
             "pattern": {
              "fillmode": "overlay",
              "size": 10,
              "solidity": 0.2
             }
            },
            "type": "histogram"
           }
          ],
          "histogram2d": [
           {
            "colorbar": {
             "outlinewidth": 0,
             "ticks": ""
            },
            "colorscale": [
             [
              0,
              "#0d0887"
             ],
             [
              0.1111111111111111,
              "#46039f"
             ],
             [
              0.2222222222222222,
              "#7201a8"
             ],
             [
              0.3333333333333333,
              "#9c179e"
             ],
             [
              0.4444444444444444,
              "#bd3786"
             ],
             [
              0.5555555555555556,
              "#d8576b"
             ],
             [
              0.6666666666666666,
              "#ed7953"
             ],
             [
              0.7777777777777778,
              "#fb9f3a"
             ],
             [
              0.8888888888888888,
              "#fdca26"
             ],
             [
              1,
              "#f0f921"
             ]
            ],
            "type": "histogram2d"
           }
          ],
          "histogram2dcontour": [
           {
            "colorbar": {
             "outlinewidth": 0,
             "ticks": ""
            },
            "colorscale": [
             [
              0,
              "#0d0887"
             ],
             [
              0.1111111111111111,
              "#46039f"
             ],
             [
              0.2222222222222222,
              "#7201a8"
             ],
             [
              0.3333333333333333,
              "#9c179e"
             ],
             [
              0.4444444444444444,
              "#bd3786"
             ],
             [
              0.5555555555555556,
              "#d8576b"
             ],
             [
              0.6666666666666666,
              "#ed7953"
             ],
             [
              0.7777777777777778,
              "#fb9f3a"
             ],
             [
              0.8888888888888888,
              "#fdca26"
             ],
             [
              1,
              "#f0f921"
             ]
            ],
            "type": "histogram2dcontour"
           }
          ],
          "mesh3d": [
           {
            "colorbar": {
             "outlinewidth": 0,
             "ticks": ""
            },
            "type": "mesh3d"
           }
          ],
          "parcoords": [
           {
            "line": {
             "colorbar": {
              "outlinewidth": 0,
              "ticks": ""
             }
            },
            "type": "parcoords"
           }
          ],
          "pie": [
           {
            "automargin": true,
            "type": "pie"
           }
          ],
          "scatter": [
           {
            "marker": {
             "colorbar": {
              "outlinewidth": 0,
              "ticks": ""
             }
            },
            "type": "scatter"
           }
          ],
          "scatter3d": [
           {
            "line": {
             "colorbar": {
              "outlinewidth": 0,
              "ticks": ""
             }
            },
            "marker": {
             "colorbar": {
              "outlinewidth": 0,
              "ticks": ""
             }
            },
            "type": "scatter3d"
           }
          ],
          "scattercarpet": [
           {
            "marker": {
             "colorbar": {
              "outlinewidth": 0,
              "ticks": ""
             }
            },
            "type": "scattercarpet"
           }
          ],
          "scattergeo": [
           {
            "marker": {
             "colorbar": {
              "outlinewidth": 0,
              "ticks": ""
             }
            },
            "type": "scattergeo"
           }
          ],
          "scattergl": [
           {
            "marker": {
             "colorbar": {
              "outlinewidth": 0,
              "ticks": ""
             }
            },
            "type": "scattergl"
           }
          ],
          "scattermapbox": [
           {
            "marker": {
             "colorbar": {
              "outlinewidth": 0,
              "ticks": ""
             }
            },
            "type": "scattermapbox"
           }
          ],
          "scatterpolar": [
           {
            "marker": {
             "colorbar": {
              "outlinewidth": 0,
              "ticks": ""
             }
            },
            "type": "scatterpolar"
           }
          ],
          "scatterpolargl": [
           {
            "marker": {
             "colorbar": {
              "outlinewidth": 0,
              "ticks": ""
             }
            },
            "type": "scatterpolargl"
           }
          ],
          "scatterternary": [
           {
            "marker": {
             "colorbar": {
              "outlinewidth": 0,
              "ticks": ""
             }
            },
            "type": "scatterternary"
           }
          ],
          "surface": [
           {
            "colorbar": {
             "outlinewidth": 0,
             "ticks": ""
            },
            "colorscale": [
             [
              0,
              "#0d0887"
             ],
             [
              0.1111111111111111,
              "#46039f"
             ],
             [
              0.2222222222222222,
              "#7201a8"
             ],
             [
              0.3333333333333333,
              "#9c179e"
             ],
             [
              0.4444444444444444,
              "#bd3786"
             ],
             [
              0.5555555555555556,
              "#d8576b"
             ],
             [
              0.6666666666666666,
              "#ed7953"
             ],
             [
              0.7777777777777778,
              "#fb9f3a"
             ],
             [
              0.8888888888888888,
              "#fdca26"
             ],
             [
              1,
              "#f0f921"
             ]
            ],
            "type": "surface"
           }
          ],
          "table": [
           {
            "cells": {
             "fill": {
              "color": "#EBF0F8"
             },
             "line": {
              "color": "white"
             }
            },
            "header": {
             "fill": {
              "color": "#C8D4E3"
             },
             "line": {
              "color": "white"
             }
            },
            "type": "table"
           }
          ]
         },
         "layout": {
          "annotationdefaults": {
           "arrowcolor": "#2a3f5f",
           "arrowhead": 0,
           "arrowwidth": 1
          },
          "autotypenumbers": "strict",
          "coloraxis": {
           "colorbar": {
            "outlinewidth": 0,
            "ticks": ""
           }
          },
          "colorscale": {
           "diverging": [
            [
             0,
             "#8e0152"
            ],
            [
             0.1,
             "#c51b7d"
            ],
            [
             0.2,
             "#de77ae"
            ],
            [
             0.3,
             "#f1b6da"
            ],
            [
             0.4,
             "#fde0ef"
            ],
            [
             0.5,
             "#f7f7f7"
            ],
            [
             0.6,
             "#e6f5d0"
            ],
            [
             0.7,
             "#b8e186"
            ],
            [
             0.8,
             "#7fbc41"
            ],
            [
             0.9,
             "#4d9221"
            ],
            [
             1,
             "#276419"
            ]
           ],
           "sequential": [
            [
             0,
             "#0d0887"
            ],
            [
             0.1111111111111111,
             "#46039f"
            ],
            [
             0.2222222222222222,
             "#7201a8"
            ],
            [
             0.3333333333333333,
             "#9c179e"
            ],
            [
             0.4444444444444444,
             "#bd3786"
            ],
            [
             0.5555555555555556,
             "#d8576b"
            ],
            [
             0.6666666666666666,
             "#ed7953"
            ],
            [
             0.7777777777777778,
             "#fb9f3a"
            ],
            [
             0.8888888888888888,
             "#fdca26"
            ],
            [
             1,
             "#f0f921"
            ]
           ],
           "sequentialminus": [
            [
             0,
             "#0d0887"
            ],
            [
             0.1111111111111111,
             "#46039f"
            ],
            [
             0.2222222222222222,
             "#7201a8"
            ],
            [
             0.3333333333333333,
             "#9c179e"
            ],
            [
             0.4444444444444444,
             "#bd3786"
            ],
            [
             0.5555555555555556,
             "#d8576b"
            ],
            [
             0.6666666666666666,
             "#ed7953"
            ],
            [
             0.7777777777777778,
             "#fb9f3a"
            ],
            [
             0.8888888888888888,
             "#fdca26"
            ],
            [
             1,
             "#f0f921"
            ]
           ]
          },
          "colorway": [
           "#636efa",
           "#EF553B",
           "#00cc96",
           "#ab63fa",
           "#FFA15A",
           "#19d3f3",
           "#FF6692",
           "#B6E880",
           "#FF97FF",
           "#FECB52"
          ],
          "font": {
           "color": "#2a3f5f"
          },
          "geo": {
           "bgcolor": "white",
           "lakecolor": "white",
           "landcolor": "white",
           "showlakes": true,
           "showland": true,
           "subunitcolor": "#C8D4E3"
          },
          "hoverlabel": {
           "align": "left"
          },
          "hovermode": "closest",
          "mapbox": {
           "style": "light"
          },
          "paper_bgcolor": "white",
          "plot_bgcolor": "white",
          "polar": {
           "angularaxis": {
            "gridcolor": "#EBF0F8",
            "linecolor": "#EBF0F8",
            "ticks": ""
           },
           "bgcolor": "white",
           "radialaxis": {
            "gridcolor": "#EBF0F8",
            "linecolor": "#EBF0F8",
            "ticks": ""
           }
          },
          "scene": {
           "xaxis": {
            "backgroundcolor": "white",
            "gridcolor": "#DFE8F3",
            "gridwidth": 2,
            "linecolor": "#EBF0F8",
            "showbackground": true,
            "ticks": "",
            "zerolinecolor": "#EBF0F8"
           },
           "yaxis": {
            "backgroundcolor": "white",
            "gridcolor": "#DFE8F3",
            "gridwidth": 2,
            "linecolor": "#EBF0F8",
            "showbackground": true,
            "ticks": "",
            "zerolinecolor": "#EBF0F8"
           },
           "zaxis": {
            "backgroundcolor": "white",
            "gridcolor": "#DFE8F3",
            "gridwidth": 2,
            "linecolor": "#EBF0F8",
            "showbackground": true,
            "ticks": "",
            "zerolinecolor": "#EBF0F8"
           }
          },
          "shapedefaults": {
           "line": {
            "color": "#2a3f5f"
           }
          },
          "ternary": {
           "aaxis": {
            "gridcolor": "#DFE8F3",
            "linecolor": "#A2B1C6",
            "ticks": ""
           },
           "baxis": {
            "gridcolor": "#DFE8F3",
            "linecolor": "#A2B1C6",
            "ticks": ""
           },
           "bgcolor": "white",
           "caxis": {
            "gridcolor": "#DFE8F3",
            "linecolor": "#A2B1C6",
            "ticks": ""
           }
          },
          "title": {
           "x": 0.05
          },
          "xaxis": {
           "automargin": true,
           "gridcolor": "#EBF0F8",
           "linecolor": "#EBF0F8",
           "ticks": "",
           "title": {
            "standoff": 15
           },
           "zerolinecolor": "#EBF0F8",
           "zerolinewidth": 2
          },
          "yaxis": {
           "automargin": true,
           "gridcolor": "#EBF0F8",
           "linecolor": "#EBF0F8",
           "ticks": "",
           "title": {
            "standoff": 15
           },
           "zerolinecolor": "#EBF0F8",
           "zerolinewidth": 2
          }
         }
        },
        "title": {
         "text": "E-n22-k4.evrp - 386.961",
         "x": 0.5
        },
        "width": 640,
        "xaxis": {
         "visible": false
        },
        "yaxis": {
         "visible": false
        }
       }
      }
     },
     "metadata": {},
     "output_type": "display_data"
    }
   ],
   "source": [
    "plot_instance(\"E-n22-k4.evrp\")"
   ]
  },
  {
   "cell_type": "code",
   "execution_count": 8,
   "id": "2aeb1cbc",
   "metadata": {},
   "outputs": [
    {
     "data": {
      "application/vnd.plotly.v1+json": {
       "config": {
        "plotlyServerURL": "https://plot.ly"
       },
       "data": [
        {
         "marker": {
          "color": "black",
          "size": 6,
          "symbol": "square"
         },
         "mode": "markers",
         "name": "station",
         "type": "scatter",
         "x": [
          167,
          167,
          167,
          500,
          500,
          500,
          833,
          833,
          833
         ],
         "y": [
          167,
          500,
          834,
          167,
          500,
          834,
          167,
          500,
          834
         ]
        },
        {
         "line": {
          "color": "rgb(240,72,38,240)",
          "width": 2
         },
         "mode": "lines",
         "name": "EVRP1",
         "type": "scatter",
         "x": [
          2,
          0,
          2,
          11,
          12,
          9,
          14,
          2,
          0,
          13,
          2,
          5,
          20,
          26,
          47,
          57,
          67,
          71,
          54,
          37,
          52,
          45,
          61,
          41,
          21,
          2
         ],
         "y": [
          857,
          825,
          545,
          499,
          468,
          452,
          440,
          317,
          299,
          286,
          239,
          237,
          222,
          218,
          211,
          217,
          260,
          263,
          278,
          331,
          348,
          362,
          465,
          665,
          769,
          857
         ]
        },
        {
         "line": {
          "color": "rgb(240,72,8,240)",
          "width": 2
         },
         "mode": "lines",
         "name": "EVRP2",
         "type": "scatter",
         "x": [
          2,
          167,
          34,
          36,
          49,
          52,
          54,
          57,
          73,
          76,
          70,
          74,
          102,
          104,
          100,
          97,
          65,
          63,
          9,
          19,
          37,
          31,
          35,
          44,
          22,
          23,
          1,
          0,
          3,
          19,
          2
         ],
         "y": [
          857,
          500,
          189,
          160,
          160,
          153,
          122,
          114,
          108,
          105,
          100,
          80,
          78,
          50,
          49,
          50,
          35,
          28,
          25,
          60,
          62,
          68,
          70,
          81,
          81,
          117,
          111,
          143,
          209,
          243,
          857
         ]
        },
        {
         "line": {
          "color": "rgb(240,87,0,240)",
          "width": 2
         },
         "mode": "lines",
         "name": "EVRP3",
         "type": "scatter",
         "x": [
          2,
          43,
          136,
          144,
          146,
          150,
          161,
          168,
          138,
          121,
          130,
          135,
          126,
          112,
          99,
          114,
          108,
          81,
          90,
          87,
          81,
          74,
          81,
          2
         ],
         "y": [
          857,
          699,
          331,
          312,
          305,
          279,
          275,
          254,
          226,
          219,
          202,
          158,
          154,
          165,
          174,
          189,
          218,
          236,
          256,
          291,
          292,
          407,
          422,
          857
         ]
        },
        {
         "line": {
          "color": "rgb(240,108,0,240)",
          "width": 2
         },
         "mode": "lines",
         "name": "EVRP4",
         "type": "scatter",
         "x": [
          2,
          7,
          15,
          29,
          42,
          36,
          46,
          41,
          48,
          72,
          81,
          84,
          139,
          126,
          112,
          115,
          123,
          121,
          131,
          122,
          83,
          2
         ],
         "y": [
          857,
          792,
          596,
          477,
          430,
          394,
          372,
          367,
          367,
          370,
          368,
          369,
          376,
          383,
          407,
          435,
          488,
          520,
          560,
          587,
          664,
          857
         ]
        },
        {
         "line": {
          "color": "rgb(240,130,0,240)",
          "width": 2
         },
         "mode": "lines",
         "name": "EVRP5",
         "type": "scatter",
         "x": [
          2,
          86,
          124,
          124,
          164,
          164,
          167,
          175,
          187,
          188,
          182,
          128,
          139,
          127,
          136,
          143,
          154,
          184,
          206,
          213,
          215,
          198,
          193,
          224,
          227,
          209,
          215,
          204,
          192,
          186,
          157,
          156,
          2
         ],
         "y": [
          857,
          411,
          298,
          270,
          219,
          188,
          167,
          165,
          137,
          134,
          123,
          106,
          60,
          46,
          12,
          0,
          39,
          38,
          5,
          23,
          48,
          57,
          59,
          74,
          124,
          128,
          154,
          169,
          177,
          229,
          295,
          301,
          857
         ]
        },
        {
         "line": {
          "color": "rgb(240,151,0,240)",
          "width": 2
         },
         "mode": "lines",
         "name": "EVRP6",
         "type": "scatter",
         "x": [
          2,
          11,
          22,
          33,
          56,
          73,
          67,
          83,
          94,
          86,
          89,
          88,
          75,
          86,
          60,
          2
         ],
         "y": [
          857,
          831,
          787,
          761,
          666,
          608,
          510,
          489,
          483,
          528,
          582,
          626,
          647,
          692,
          730,
          857
         ]
        },
        {
         "line": {
          "color": "rgb(240,172,0,240)",
          "width": 2
         },
         "mode": "lines",
         "name": "EVRP7",
         "type": "scatter",
         "x": [
          2,
          179,
          187,
          192,
          218,
          239,
          245,
          238,
          260,
          289,
          307,
          315,
          315,
          336,
          309,
          280,
          281,
          311,
          330,
          348,
          357,
          383,
          376,
          365,
          350,
          330,
          285,
          294,
          290,
          263,
          259,
          245,
          167,
          2
         ],
         "y": [
          857,
          319,
          284,
          263,
          189,
          180,
          156,
          143,
          138,
          115,
          97,
          98,
          92,
          44,
          29,
          13,
          2,
          9,
          18,
          6,
          10,
          5,
          83,
          89,
          131,
          143,
          153,
          174,
          179,
          242,
          278,
          335,
          500,
          857
         ]
        },
        {
         "line": {
          "color": "rgb(240,194,0,240)",
          "width": 2
         },
         "mode": "lines",
         "name": "EVRP8",
         "type": "scatter",
         "x": [
          2,
          76,
          94,
          113,
          159,
          174,
          207,
          209,
          228,
          220,
          233,
          248,
          271,
          272,
          282,
          285,
          312,
          301,
          301,
          297,
          280,
          257,
          243,
          235,
          2
         ],
         "y": [
          857,
          619,
          533,
          496,
          382,
          367,
          280,
          276,
          251,
          208,
          210,
          220,
          186,
          181,
          213,
          224,
          251,
          260,
          278,
          297,
          296,
          337,
          357,
          368,
          857
         ]
        },
        {
         "line": {
          "color": "rgb(240,215,0,240)",
          "width": 2
         },
         "mode": "lines",
         "name": "EVRP9",
         "type": "scatter",
         "x": [
          2,
          70,
          133,
          158,
          146,
          156,
          164,
          177,
          186,
          238,
          254,
          269,
          233,
          227,
          207,
          192,
          192,
          166,
          163,
          95,
          2
         ],
         "y": [
          857,
          736,
          610,
          537,
          512,
          507,
          485,
          425,
          426,
          416,
          413,
          422,
          438,
          435,
          501,
          525,
          569,
          573,
          577,
          712,
          857
         ]
        },
        {
         "line": {
          "color": "rgb(240,237,0,240)",
          "width": 2
         },
         "mode": "lines",
         "name": "EVRP10",
         "type": "scatter",
         "x": [
          2,
          131,
          214,
          276,
          295,
          294,
          330,
          351,
          343,
          395,
          423,
          454,
          451,
          447,
          445,
          464,
          465,
          418,
          398,
          382,
          361,
          327,
          302,
          269,
          264,
          232,
          167,
          124,
          62,
          2
         ],
         "y": [
          857,
          647,
          547,
          463,
          427,
          425,
          390,
          354,
          347,
          299,
          259,
          207,
          192,
          171,
          135,
          127,
          114,
          120,
          156,
          176,
          166,
          183,
          219,
          246,
          253,
          344,
          500,
          588,
          737,
          857
         ]
        },
        {
         "line": {
          "color": "rgb(213,240,0,240)",
          "width": 2
         },
         "mode": "lines",
         "name": "EVRP11",
         "type": "scatter",
         "x": [
          2,
          237,
          300,
          301,
          369,
          395,
          500,
          495,
          487,
          495,
          482,
          493,
          508,
          525,
          470,
          462,
          452,
          443,
          415,
          397,
          407,
          376,
          363,
          331,
          323,
          2
         ],
         "y": [
          857,
          533,
          456,
          452,
          346,
          309,
          167,
          158,
          121,
          110,
          100,
          88,
          52,
          6,
          10,
          5,
          1,
          10,
          0,
          20,
          102,
          144,
          154,
          231,
          319,
          857
         ]
        },
        {
         "line": {
          "color": "rgb(178,240,0,240)",
          "width": 2
         },
         "mode": "lines",
         "name": "EVRP12",
         "type": "scatter",
         "x": [
          2,
          316,
          358,
          380,
          401,
          500,
          538,
          565,
          581,
          576,
          594,
          613,
          670,
          655,
          657,
          669,
          671,
          667,
          651,
          639,
          630,
          618,
          567,
          546,
          532,
          440,
          2
         ],
         "y": [
          857,
          319,
          274,
          261,
          251,
          167,
          74,
          82,
          60,
          24,
          3,
          37,
          18,
          39,
          44,
          65,
          77,
          91,
          110,
          101,
          96,
          113,
          187,
          191,
          201,
          322,
          857
         ]
        },
        {
         "line": {
          "color": "rgb(147,240,0,240)",
          "width": 2
         },
         "mode": "lines",
         "name": "EVRP13",
         "type": "scatter",
         "x": [
          2,
          352,
          395,
          433,
          481,
          499,
          507,
          500,
          513,
          524,
          522,
          542,
          581,
          583,
          558,
          534,
          537,
          528,
          540,
          527,
          511,
          479,
          429,
          2
         ],
         "y": [
          857,
          425,
          335,
          302,
          223,
          223,
          183,
          167,
          152,
          158,
          137,
          145,
          121,
          127,
          175,
          176,
          183,
          192,
          206,
          255,
          279,
          307,
          381,
          857
         ]
        },
        {
         "line": {
          "color": "rgb(117,240,0,240)",
          "width": 2
         },
         "mode": "lines",
         "name": "EVRP14",
         "type": "scatter",
         "x": [
          2,
          192,
          204,
          202,
          210,
          272,
          294,
          305,
          310,
          330,
          337,
          362,
          362,
          340,
          319,
          299,
          262,
          263,
          258,
          220,
          2
         ],
         "y": [
          857,
          598,
          585,
          575,
          569,
          525,
          501,
          495,
          467,
          450,
          475,
          490,
          501,
          504,
          503,
          507,
          566,
          570,
          620,
          643,
          857
         ]
        },
        {
         "line": {
          "color": "rgb(86,240,0,240)",
          "width": 2
         },
         "mode": "lines",
         "name": "EVRP15",
         "type": "scatter",
         "x": [
          2,
          33,
          43,
          79,
          116,
          156,
          155,
          166,
          172,
          184,
          191,
          194,
          201,
          211,
          205,
          202,
          174,
          111,
          98,
          65,
          2
         ],
         "y": [
          857,
          817,
          801,
          750,
          698,
          683,
          680,
          656,
          627,
          633,
          627,
          631,
          643,
          678,
          696,
          695,
          702,
          776,
          769,
          804,
          857
         ]
        },
        {
         "line": {
          "color": "rgb(55,240,0,240)",
          "width": 2
         },
         "mode": "lines",
         "name": "EVRP16",
         "type": "scatter",
         "x": [
          2,
          429,
          518,
          552,
          588,
          592,
          597,
          603,
          612,
          632,
          623,
          652,
          645,
          643,
          628,
          624,
          570,
          551,
          541,
          514,
          397,
          167,
          2
         ],
         "y": [
          857,
          478,
          361,
          315,
          289,
          274,
          257,
          247,
          243,
          229,
          197,
          154,
          140,
          138,
          139,
          134,
          210,
          243,
          265,
          296,
          439,
          500,
          857
         ]
        },
        {
         "line": {
          "color": "rgb(25,240,0,240)",
          "width": 2
         },
         "mode": "lines",
         "name": "EVRP17",
         "type": "scatter",
         "x": [
          2,
          114,
          214,
          342,
          370,
          402,
          436,
          452,
          483,
          524,
          538,
          574,
          568,
          555,
          564,
          505,
          498,
          453,
          385,
          380,
          379,
          343,
          280,
          274,
          2
         ],
         "y": [
          857,
          728,
          623,
          445,
          421,
          363,
          346,
          330,
          315,
          322,
          337,
          348,
          361,
          364,
          379,
          396,
          412,
          440,
          490,
          514,
          518,
          558,
          605,
          608,
          857
         ]
        },
        {
         "line": {
          "color": "rgb(0,240,5,240)",
          "width": 2
         },
         "mode": "lines",
         "name": "EVRP18",
         "type": "scatter",
         "x": [
          2,
          529,
          647,
          698,
          756,
          777,
          779,
          801,
          802,
          833,
          838,
          808,
          796,
          801,
          784,
          791,
          847,
          833,
          797,
          764,
          741,
          747,
          756,
          744,
          736,
          721,
          673,
          585,
          582,
          510,
          510,
          2
         ],
         "y": [
          857,
          362,
          246,
          186,
          147,
          163,
          143,
          148,
          150,
          167,
          111,
          103,
          106,
          94,
          89,
          71,
          51,
          41,
          45,
          43,
          69,
          86,
          89,
          131,
          125,
          116,
          162,
          234,
          263,
          332,
          342,
          857
         ]
        },
        {
         "line": {
          "color": "rgb(0,240,35,240)",
          "width": 2
         },
         "mode": "lines",
         "name": "EVRP19",
         "type": "scatter",
         "x": [
          2,
          665,
          678,
          694,
          710,
          714,
          734,
          773,
          832,
          888,
          898,
          970,
          962,
          954,
          910,
          911,
          865,
          833,
          829,
          824,
          782,
          776,
          747,
          748,
          668,
          647,
          618,
          2
         ],
         "y": [
          857,
          139,
          127,
          101,
          102,
          65,
          20,
          7,
          12,
          7,
          25,
          38,
          95,
          103,
          98,
          127,
          155,
          167,
          177,
          196,
          216,
          212,
          223,
          248,
          268,
          323,
          340,
          857
         ]
        },
        {
         "line": {
          "color": "rgb(0,240,65,240)",
          "width": 2
         },
         "mode": "lines",
         "name": "EVRP20",
         "type": "scatter",
         "x": [
          2,
          374,
          381,
          390,
          410,
          440,
          449,
          463,
          512,
          522,
          522,
          520,
          530,
          550,
          547,
          543,
          524,
          512,
          499,
          348,
          2
         ],
         "y": [
          857,
          546,
          534,
          532,
          503,
          484,
          469,
          461,
          403,
          400,
          405,
          413,
          411,
          408,
          416,
          422,
          473,
          482,
          491,
          606,
          857
         ]
        },
        {
         "line": {
          "color": "rgb(0,240,96,240)",
          "width": 2
         },
         "mode": "lines",
         "name": "EVRP21",
         "type": "scatter",
         "x": [
          2,
          429,
          500,
          510,
          520,
          616,
          652,
          693,
          737,
          745,
          796,
          790,
          788,
          785,
          791,
          790,
          777,
          772,
          754,
          742,
          730,
          711,
          681,
          652,
          640,
          557,
          493,
          478,
          415,
          263,
          2
         ],
         "y": [
          857,
          565,
          500,
          511,
          508,
          448,
          395,
          370,
          364,
          362,
          328,
          311,
          277,
          260,
          248,
          247,
          242,
          252,
          255,
          267,
          272,
          288,
          294,
          328,
          356,
          408,
          469,
          480,
          542,
          655,
          857
         ]
        },
        {
         "line": {
          "color": "rgb(0,240,131,240)",
          "width": 2
         },
         "mode": "lines",
         "name": "EVRP22",
         "type": "scatter",
         "x": [
          2,
          547,
          637,
          732,
          736,
          796,
          880,
          889,
          895,
          879,
          881,
          872,
          833,
          907,
          923,
          976,
          977,
          981,
          951,
          944,
          957,
          973,
          988,
          997,
          999,
          944,
          943,
          916,
          909,
          865,
          679,
          373,
          2
         ],
         "y": [
          857,
          473,
          397,
          304,
          288,
          265,
          251,
          230,
          216,
          198,
          187,
          179,
          167,
          171,
          177,
          106,
          120,
          148,
          203,
          218,
          214,
          212,
          225,
          241,
          268,
          270,
          254,
          240,
          254,
          278,
          434,
          633,
          857
         ]
        },
        {
         "line": {
          "color": "rgb(0,240,161,240)",
          "width": 2
         },
         "mode": "lines",
         "name": "EVRP23",
         "type": "scatter",
         "x": [
          2,
          400,
          471,
          500,
          511,
          551,
          606,
          610,
          662,
          706,
          715,
          739,
          739,
          713,
          677,
          650,
          646,
          628,
          630,
          628,
          621,
          526,
          487,
          474,
          396,
          2
         ],
         "y": [
          857,
          574,
          517,
          500,
          488,
          459,
          434,
          429,
          394,
          395,
          397,
          419,
          441,
          447,
          455,
          476,
          481,
          479,
          484,
          495,
          498,
          532,
          552,
          559,
          630,
          857
         ]
        },
        {
         "line": {
          "color": "rgb(0,240,192,240)",
          "width": 2
         },
         "mode": "lines",
         "name": "EVRP24",
         "type": "scatter",
         "x": [
          2,
          480,
          692,
          724,
          779,
          769,
          800,
          806,
          836,
          847,
          864,
          859,
          896,
          892,
          892,
          885,
          872,
          839,
          822,
          822,
          788,
          775,
          768,
          693,
          660,
          617,
          534,
          500,
          2
         ],
         "y": [
          857,
          579,
          472,
          472,
          445,
          423,
          398,
          403,
          385,
          359,
          360,
          350,
          319,
          317,
          299,
          309,
          318,
          329,
          365,
          370,
          392,
          395,
          396,
          433,
          459,
          486,
          496,
          500,
          857
         ]
        },
        {
         "line": {
          "color": "rgb(0,240,222,240)",
          "width": 2
         },
         "mode": "lines",
         "name": "EVRP25",
         "type": "scatter",
         "x": [
          2,
          162,
          277,
          280,
          300,
          316,
          367,
          415,
          418,
          456,
          459,
          502,
          470,
          471,
          470,
          483,
          482,
          450,
          419,
          364,
          314,
          250,
          2
         ],
         "y": [
          857,
          788,
          689,
          692,
          683,
          688,
          690,
          658,
          650,
          639,
          649,
          640,
          613,
          610,
          598,
          578,
          575,
          572,
          592,
          617,
          637,
          676,
          857
         ]
        },
        {
         "line": {
          "color": "rgb(0,230,240,240)",
          "width": 2
         },
         "mode": "lines",
         "name": "EVRP26",
         "type": "scatter",
         "x": [
          2,
          102,
          168,
          206,
          225,
          281,
          286,
          277,
          223,
          196,
          181,
          177,
          149,
          132,
          62,
          57,
          2
         ],
         "y": [
          857,
          815,
          803,
          769,
          753,
          735,
          733,
          697,
          747,
          752,
          760,
          756,
          784,
          789,
          828,
          831,
          857
         ]
        },
        {
         "line": {
          "color": "rgb(0,209,240,240)",
          "width": 2
         },
         "mode": "lines",
         "name": "EVRP27",
         "type": "scatter",
         "x": [
          2,
          829,
          873,
          906,
          919,
          950,
          944,
          938,
          951,
          970,
          980,
          983,
          997,
          980,
          987,
          995,
          986,
          989,
          977,
          986,
          970,
          948,
          870,
          833,
          809,
          803,
          635,
          2
         ],
         "y": [
          857,
          426,
          378,
          354,
          357,
          346,
          334,
          307,
          307,
          319,
          301,
          312,
          332,
          347,
          382,
          412,
          414,
          451,
          476,
          513,
          492,
          485,
          506,
          500,
          556,
          561,
          620,
          857
         ]
        },
        {
         "line": {
          "color": "rgb(0,187,240,240)",
          "width": 2
         },
         "mode": "lines",
         "name": "EVRP28",
         "type": "scatter",
         "x": [
          2,
          642,
          795,
          813,
          833,
          829,
          864,
          881,
          877,
          897,
          902,
          926,
          960,
          973,
          960,
          956,
          939,
          938,
          923,
          905,
          884,
          816,
          799,
          788,
          2
         ],
         "y": [
          857,
          549,
          493,
          502,
          500,
          489,
          465,
          466,
          451,
          431,
          424,
          415,
          423,
          391,
          395,
          386,
          390,
          393,
          386,
          402,
          403,
          435,
          452,
          451,
          857
         ]
        },
        {
         "line": {
          "color": "rgb(0,166,240,240)",
          "width": 2
         },
         "mode": "lines",
         "name": "EVRP29",
         "type": "scatter",
         "x": [
          2,
          394,
          526,
          532,
          601,
          635,
          636,
          682,
          701,
          712,
          744,
          770,
          794,
          792,
          778,
          756,
          726,
          718,
          693,
          678,
          660,
          625,
          585,
          583,
          527,
          167,
          2
         ],
         "y": [
          857,
          642,
          587,
          586,
          545,
          531,
          512,
          525,
          529,
          498,
          492,
          512,
          510,
          533,
          532,
          539,
          581,
          570,
          559,
          560,
          561,
          578,
          586,
          602,
          626,
          834,
          857
         ]
        },
        {
         "line": {
          "color": "rgb(0,144,240,240)",
          "width": 2
         },
         "mode": "lines",
         "name": "EVRP30",
         "type": "scatter",
         "x": [
          2,
          460,
          476,
          504,
          555,
          575,
          590,
          617,
          627,
          703,
          712,
          739,
          740,
          765,
          774,
          804,
          776,
          741,
          710,
          678,
          651,
          650,
          640,
          504,
          167,
          2
         ],
         "y": [
          857,
          683,
          656,
          648,
          631,
          648,
          641,
          639,
          629,
          627,
          633,
          627,
          619,
          621,
          620,
          616,
          660,
          665,
          665,
          661,
          691,
          683,
          675,
          708,
          834,
          857
         ]
        },
        {
         "line": {
          "color": "rgb(0,123,240,240)",
          "width": 2
         },
         "mode": "lines",
         "name": "EVRP31",
         "type": "scatter",
         "x": [
          2,
          457,
          676,
          709,
          728,
          793,
          803,
          824,
          858,
          855,
          842,
          850,
          833,
          876,
          887,
          902,
          904,
          913,
          999,
          991,
          979,
          974,
          951,
          951,
          884,
          884,
          873,
          859,
          849,
          836,
          2
         ],
         "y": [
          857,
          678,
          582,
          590,
          583,
          584,
          584,
          571,
          581,
          575,
          559,
          534,
          500,
          539,
          534,
          529,
          551,
          564,
          602,
          649,
          645,
          643,
          633,
          622,
          613,
          616,
          616,
          627,
          644,
          650,
          857
         ]
        },
        {
         "line": {
          "color": "rgb(0,101,240,240)",
          "width": 2
         },
         "mode": "lines",
         "name": "EVRP32",
         "type": "scatter",
         "x": [
          2,
          174,
          241,
          285,
          377,
          477,
          481,
          500,
          559,
          569,
          581,
          568,
          545,
          529,
          520,
          524,
          484,
          449,
          423,
          374,
          372,
          321,
          229,
          133,
          2
         ],
         "y": [
          857,
          812,
          785,
          769,
          708,
          717,
          728,
          726,
          746,
          740,
          757,
          771,
          806,
          813,
          801,
          793,
          801,
          781,
          798,
          795,
          799,
          786,
          807,
          826,
          857
         ]
        },
        {
         "line": {
          "color": "rgb(0,76,240,240)",
          "width": 2
         },
         "mode": "lines",
         "name": "EVRP33",
         "type": "scatter",
         "x": [
          2,
          525,
          647,
          686,
          695,
          718,
          714,
          721,
          754,
          757,
          778,
          788,
          794,
          789,
          772,
          746,
          737,
          722,
          705,
          668,
          653,
          610,
          167,
          2
         ],
         "y": [
          857,
          768,
          753,
          750,
          732,
          704,
          685,
          692,
          703,
          708,
          700,
          712,
          714,
          724,
          743,
          768,
          749,
          757,
          769,
          777,
          798,
          786,
          834,
          857
         ]
        },
        {
         "line": {
          "color": "rgb(23,72,240,240)",
          "width": 2
         },
         "mode": "lines",
         "name": "EVRP34",
         "type": "scatter",
         "x": [
          2,
          500,
          713,
          751,
          806,
          831,
          845,
          874,
          891,
          877,
          888,
          887,
          909,
          911,
          923,
          951,
          952,
          947,
          920,
          886,
          871,
          863,
          837,
          784,
          768,
          726,
          599,
          553,
          2
         ],
         "y": [
          857,
          834,
          779,
          788,
          773,
          755,
          753,
          740,
          741,
          720,
          721,
          717,
          704,
          708,
          705,
          696,
          677,
          675,
          675,
          684,
          661,
          673,
          673,
          685,
          689,
          723,
          724,
          756,
          857
         ]
        },
        {
         "line": {
          "color": "rgb(54,72,240,240)",
          "width": 2
         },
         "mode": "lines",
         "name": "EVRP35",
         "type": "scatter",
         "x": [
          2,
          752,
          806,
          823,
          829,
          848,
          889,
          895,
          900,
          915,
          926,
          938,
          951,
          993,
          979,
          982,
          977,
          998,
          980,
          976,
          937,
          884,
          833,
          2
         ],
         "y": [
          857,
          792,
          796,
          774,
          776,
          785,
          765,
          755,
          748,
          772,
          747,
          743,
          766,
          748,
          779,
          797,
          815,
          835,
          868,
          863,
          826,
          821,
          834,
          857
         ]
        },
        {
         "line": {
          "color": "rgb(85,72,240,240)",
          "width": 2
         },
         "mode": "lines",
         "name": "EVRP36",
         "type": "scatter",
         "x": [
          2,
          161,
          230,
          308,
          334,
          387,
          415,
          443,
          495,
          512,
          502,
          483,
          479,
          431,
          412,
          399,
          376,
          367,
          335,
          323,
          307,
          239,
          238,
          193,
          2
         ],
         "y": [
          857,
          844,
          835,
          857,
          855,
          843,
          846,
          869,
          862,
          860,
          856,
          824,
          831,
          827,
          813,
          812,
          810,
          807,
          815,
          814,
          810,
          811,
          811,
          831,
          857
         ]
        },
        {
         "line": {
          "color": "rgb(115,72,240,240)",
          "width": 2
         },
         "mode": "lines",
         "name": "EVRP37",
         "type": "scatter",
         "x": [
          2,
          350,
          490,
          634,
          729,
          774,
          792,
          798,
          838,
          861,
          854,
          838,
          842,
          817,
          804,
          791,
          793,
          800,
          795,
          794,
          781,
          736,
          717,
          704,
          691,
          648,
          641,
          500,
          409,
          2
         ],
         "y": [
          857,
          909,
          911,
          955,
          915,
          925,
          917,
          918,
          897,
          886,
          884,
          860,
          847,
          861,
          864,
          870,
          865,
          833,
          836,
          836,
          849,
          849,
          851,
          846,
          851,
          837,
          824,
          834,
          840,
          857
         ]
        },
        {
         "line": {
          "color": "rgb(146,72,240,240)",
          "width": 2
         },
         "mode": "lines",
         "name": "EVRP38",
         "type": "scatter",
         "x": [
          2,
          379,
          577,
          702,
          754,
          775,
          780,
          785,
          794,
          808,
          841,
          866,
          889,
          904,
          892,
          895,
          901,
          918,
          925,
          918,
          894,
          881,
          829,
          809,
          799,
          736,
          644,
          500,
          2
         ],
         "y": [
          857,
          894,
          911,
          902,
          899,
          894,
          886,
          899,
          896,
          903,
          919,
          928,
          916,
          910,
          896,
          875,
          875,
          853,
          847,
          839,
          845,
          836,
          814,
          821,
          823,
          821,
          810,
          834,
          857
         ]
        },
        {
         "line": {
          "color": "rgb(177,72,240,240)",
          "width": 2
         },
         "mode": "lines",
         "name": "EVRP39",
         "type": "scatter",
         "x": [
          2,
          395,
          423,
          518,
          534,
          575,
          614,
          653,
          676,
          677,
          653,
          636,
          635,
          622,
          608,
          597,
          584,
          524,
          511,
          485,
          425,
          390,
          2
         ],
         "y": [
          857,
          941,
          929,
          915,
          906,
          901,
          890,
          904,
          875,
          872,
          877,
          866,
          865,
          844,
          852,
          866,
          878,
          887,
          898,
          885,
          873,
          873,
          857
         ]
        },
        {
         "line": {
          "color": "rgb(207,72,240,240)",
          "width": 2
         },
         "mode": "lines",
         "name": "EVRP40",
         "type": "scatter",
         "x": [
          2,
          710,
          742,
          778,
          813,
          895,
          909,
          915,
          960,
          982,
          996,
          981,
          976,
          952,
          960,
          930,
          927,
          898,
          890,
          854,
          830,
          783,
          726,
          710,
          500,
          2
         ],
         "y": [
          857,
          998,
          981,
          994,
          997,
          963,
          962,
          965,
          959,
          977,
          922,
          897,
          884,
          915,
          936,
          935,
          947,
          957,
          951,
          951,
          947,
          958,
          948,
          940,
          834,
          857
         ]
        },
        {
         "line": {
          "color": "rgb(238,72,240,240)",
          "width": 2
         },
         "mode": "lines",
         "name": "EVRP41",
         "type": "scatter",
         "x": [
          2,
          328,
          425,
          455,
          524,
          551,
          563,
          600,
          602,
          645,
          666,
          664,
          643,
          649,
          644,
          603,
          550,
          487,
          478,
          462,
          416,
          396,
          2
         ],
         "y": [
          857,
          995,
          990,
          989,
          978,
          998,
          987,
          973,
          984,
          986,
          975,
          966,
          937,
          933,
          925,
          933,
          937,
          945,
          956,
          970,
          973,
          950,
          857
         ]
        },
        {
         "line": {
          "color": "rgb(240,72,210,240)",
          "width": 2
         },
         "mode": "lines",
         "name": "EVRP42",
         "type": "scatter",
         "x": [
          2,
          76,
          110,
          224,
          239,
          241,
          247,
          296,
          301,
          316,
          342,
          359,
          335,
          336,
          327,
          317,
          261,
          250,
          235,
          194,
          134,
          116,
          2
         ],
         "y": [
          857,
          883,
          901,
          959,
          951,
          949,
          947,
          959,
          968,
          970,
          979,
          963,
          941,
          912,
          908,
          884,
          867,
          862,
          877,
          884,
          858,
          857,
          857
         ]
        },
        {
         "line": {
          "color": "rgb(240,72,180,240)",
          "width": 2
         },
         "mode": "lines",
         "name": "EVRP43",
         "type": "scatter",
         "x": [
          2,
          46,
          51,
          54,
          109,
          168,
          169,
          176,
          184,
          188,
          183,
          171,
          156,
          117,
          100,
          99,
          7,
          1,
          5,
          12,
          22,
          7,
          1,
          2
         ],
         "y": [
          857,
          872,
          901,
          930,
          935,
          907,
          906,
          928,
          941,
          955,
          988,
          971,
          967,
          973,
          996,
          1000,
          981,
          975,
          941,
          909,
          899,
          891,
          880,
          857
         ]
        },
        {
         "marker": {
          "color": "rgb(240,72,38,240)",
          "size": 3
         },
         "mode": "markers",
         "name": "EVRP1",
         "type": "scatter",
         "x": [
          2,
          0,
          2,
          11,
          12,
          9,
          14,
          2,
          0,
          13,
          2,
          5,
          20,
          26,
          47,
          57,
          67,
          71,
          54,
          37,
          52,
          45,
          61,
          41,
          21,
          2
         ],
         "y": [
          857,
          825,
          545,
          499,
          468,
          452,
          440,
          317,
          299,
          286,
          239,
          237,
          222,
          218,
          211,
          217,
          260,
          263,
          278,
          331,
          348,
          362,
          465,
          665,
          769,
          857
         ]
        },
        {
         "marker": {
          "color": "rgb(240,72,8,240)",
          "size": 3
         },
         "mode": "markers",
         "name": "EVRP2",
         "type": "scatter",
         "x": [
          2,
          167,
          34,
          36,
          49,
          52,
          54,
          57,
          73,
          76,
          70,
          74,
          102,
          104,
          100,
          97,
          65,
          63,
          9,
          19,
          37,
          31,
          35,
          44,
          22,
          23,
          1,
          0,
          3,
          19,
          2
         ],
         "y": [
          857,
          500,
          189,
          160,
          160,
          153,
          122,
          114,
          108,
          105,
          100,
          80,
          78,
          50,
          49,
          50,
          35,
          28,
          25,
          60,
          62,
          68,
          70,
          81,
          81,
          117,
          111,
          143,
          209,
          243,
          857
         ]
        },
        {
         "marker": {
          "color": "rgb(240,87,0,240)",
          "size": 3
         },
         "mode": "markers",
         "name": "EVRP3",
         "type": "scatter",
         "x": [
          2,
          43,
          136,
          144,
          146,
          150,
          161,
          168,
          138,
          121,
          130,
          135,
          126,
          112,
          99,
          114,
          108,
          81,
          90,
          87,
          81,
          74,
          81,
          2
         ],
         "y": [
          857,
          699,
          331,
          312,
          305,
          279,
          275,
          254,
          226,
          219,
          202,
          158,
          154,
          165,
          174,
          189,
          218,
          236,
          256,
          291,
          292,
          407,
          422,
          857
         ]
        },
        {
         "marker": {
          "color": "rgb(240,108,0,240)",
          "size": 3
         },
         "mode": "markers",
         "name": "EVRP4",
         "type": "scatter",
         "x": [
          2,
          7,
          15,
          29,
          42,
          36,
          46,
          41,
          48,
          72,
          81,
          84,
          139,
          126,
          112,
          115,
          123,
          121,
          131,
          122,
          83,
          2
         ],
         "y": [
          857,
          792,
          596,
          477,
          430,
          394,
          372,
          367,
          367,
          370,
          368,
          369,
          376,
          383,
          407,
          435,
          488,
          520,
          560,
          587,
          664,
          857
         ]
        },
        {
         "marker": {
          "color": "rgb(240,130,0,240)",
          "size": 3
         },
         "mode": "markers",
         "name": "EVRP5",
         "type": "scatter",
         "x": [
          2,
          86,
          124,
          124,
          164,
          164,
          167,
          175,
          187,
          188,
          182,
          128,
          139,
          127,
          136,
          143,
          154,
          184,
          206,
          213,
          215,
          198,
          193,
          224,
          227,
          209,
          215,
          204,
          192,
          186,
          157,
          156,
          2
         ],
         "y": [
          857,
          411,
          298,
          270,
          219,
          188,
          167,
          165,
          137,
          134,
          123,
          106,
          60,
          46,
          12,
          0,
          39,
          38,
          5,
          23,
          48,
          57,
          59,
          74,
          124,
          128,
          154,
          169,
          177,
          229,
          295,
          301,
          857
         ]
        },
        {
         "marker": {
          "color": "rgb(240,151,0,240)",
          "size": 3
         },
         "mode": "markers",
         "name": "EVRP6",
         "type": "scatter",
         "x": [
          2,
          11,
          22,
          33,
          56,
          73,
          67,
          83,
          94,
          86,
          89,
          88,
          75,
          86,
          60,
          2
         ],
         "y": [
          857,
          831,
          787,
          761,
          666,
          608,
          510,
          489,
          483,
          528,
          582,
          626,
          647,
          692,
          730,
          857
         ]
        },
        {
         "marker": {
          "color": "rgb(240,172,0,240)",
          "size": 3
         },
         "mode": "markers",
         "name": "EVRP7",
         "type": "scatter",
         "x": [
          2,
          179,
          187,
          192,
          218,
          239,
          245,
          238,
          260,
          289,
          307,
          315,
          315,
          336,
          309,
          280,
          281,
          311,
          330,
          348,
          357,
          383,
          376,
          365,
          350,
          330,
          285,
          294,
          290,
          263,
          259,
          245,
          167,
          2
         ],
         "y": [
          857,
          319,
          284,
          263,
          189,
          180,
          156,
          143,
          138,
          115,
          97,
          98,
          92,
          44,
          29,
          13,
          2,
          9,
          18,
          6,
          10,
          5,
          83,
          89,
          131,
          143,
          153,
          174,
          179,
          242,
          278,
          335,
          500,
          857
         ]
        },
        {
         "marker": {
          "color": "rgb(240,194,0,240)",
          "size": 3
         },
         "mode": "markers",
         "name": "EVRP8",
         "type": "scatter",
         "x": [
          2,
          76,
          94,
          113,
          159,
          174,
          207,
          209,
          228,
          220,
          233,
          248,
          271,
          272,
          282,
          285,
          312,
          301,
          301,
          297,
          280,
          257,
          243,
          235,
          2
         ],
         "y": [
          857,
          619,
          533,
          496,
          382,
          367,
          280,
          276,
          251,
          208,
          210,
          220,
          186,
          181,
          213,
          224,
          251,
          260,
          278,
          297,
          296,
          337,
          357,
          368,
          857
         ]
        },
        {
         "marker": {
          "color": "rgb(240,215,0,240)",
          "size": 3
         },
         "mode": "markers",
         "name": "EVRP9",
         "type": "scatter",
         "x": [
          2,
          70,
          133,
          158,
          146,
          156,
          164,
          177,
          186,
          238,
          254,
          269,
          233,
          227,
          207,
          192,
          192,
          166,
          163,
          95,
          2
         ],
         "y": [
          857,
          736,
          610,
          537,
          512,
          507,
          485,
          425,
          426,
          416,
          413,
          422,
          438,
          435,
          501,
          525,
          569,
          573,
          577,
          712,
          857
         ]
        },
        {
         "marker": {
          "color": "rgb(240,237,0,240)",
          "size": 3
         },
         "mode": "markers",
         "name": "EVRP10",
         "type": "scatter",
         "x": [
          2,
          131,
          214,
          276,
          295,
          294,
          330,
          351,
          343,
          395,
          423,
          454,
          451,
          447,
          445,
          464,
          465,
          418,
          398,
          382,
          361,
          327,
          302,
          269,
          264,
          232,
          167,
          124,
          62,
          2
         ],
         "y": [
          857,
          647,
          547,
          463,
          427,
          425,
          390,
          354,
          347,
          299,
          259,
          207,
          192,
          171,
          135,
          127,
          114,
          120,
          156,
          176,
          166,
          183,
          219,
          246,
          253,
          344,
          500,
          588,
          737,
          857
         ]
        },
        {
         "marker": {
          "color": "rgb(213,240,0,240)",
          "size": 3
         },
         "mode": "markers",
         "name": "EVRP11",
         "type": "scatter",
         "x": [
          2,
          237,
          300,
          301,
          369,
          395,
          500,
          495,
          487,
          495,
          482,
          493,
          508,
          525,
          470,
          462,
          452,
          443,
          415,
          397,
          407,
          376,
          363,
          331,
          323,
          2
         ],
         "y": [
          857,
          533,
          456,
          452,
          346,
          309,
          167,
          158,
          121,
          110,
          100,
          88,
          52,
          6,
          10,
          5,
          1,
          10,
          0,
          20,
          102,
          144,
          154,
          231,
          319,
          857
         ]
        },
        {
         "marker": {
          "color": "rgb(178,240,0,240)",
          "size": 3
         },
         "mode": "markers",
         "name": "EVRP12",
         "type": "scatter",
         "x": [
          2,
          316,
          358,
          380,
          401,
          500,
          538,
          565,
          581,
          576,
          594,
          613,
          670,
          655,
          657,
          669,
          671,
          667,
          651,
          639,
          630,
          618,
          567,
          546,
          532,
          440,
          2
         ],
         "y": [
          857,
          319,
          274,
          261,
          251,
          167,
          74,
          82,
          60,
          24,
          3,
          37,
          18,
          39,
          44,
          65,
          77,
          91,
          110,
          101,
          96,
          113,
          187,
          191,
          201,
          322,
          857
         ]
        },
        {
         "marker": {
          "color": "rgb(147,240,0,240)",
          "size": 3
         },
         "mode": "markers",
         "name": "EVRP13",
         "type": "scatter",
         "x": [
          2,
          352,
          395,
          433,
          481,
          499,
          507,
          500,
          513,
          524,
          522,
          542,
          581,
          583,
          558,
          534,
          537,
          528,
          540,
          527,
          511,
          479,
          429,
          2
         ],
         "y": [
          857,
          425,
          335,
          302,
          223,
          223,
          183,
          167,
          152,
          158,
          137,
          145,
          121,
          127,
          175,
          176,
          183,
          192,
          206,
          255,
          279,
          307,
          381,
          857
         ]
        },
        {
         "marker": {
          "color": "rgb(117,240,0,240)",
          "size": 3
         },
         "mode": "markers",
         "name": "EVRP14",
         "type": "scatter",
         "x": [
          2,
          192,
          204,
          202,
          210,
          272,
          294,
          305,
          310,
          330,
          337,
          362,
          362,
          340,
          319,
          299,
          262,
          263,
          258,
          220,
          2
         ],
         "y": [
          857,
          598,
          585,
          575,
          569,
          525,
          501,
          495,
          467,
          450,
          475,
          490,
          501,
          504,
          503,
          507,
          566,
          570,
          620,
          643,
          857
         ]
        },
        {
         "marker": {
          "color": "rgb(86,240,0,240)",
          "size": 3
         },
         "mode": "markers",
         "name": "EVRP15",
         "type": "scatter",
         "x": [
          2,
          33,
          43,
          79,
          116,
          156,
          155,
          166,
          172,
          184,
          191,
          194,
          201,
          211,
          205,
          202,
          174,
          111,
          98,
          65,
          2
         ],
         "y": [
          857,
          817,
          801,
          750,
          698,
          683,
          680,
          656,
          627,
          633,
          627,
          631,
          643,
          678,
          696,
          695,
          702,
          776,
          769,
          804,
          857
         ]
        },
        {
         "marker": {
          "color": "rgb(55,240,0,240)",
          "size": 3
         },
         "mode": "markers",
         "name": "EVRP16",
         "type": "scatter",
         "x": [
          2,
          429,
          518,
          552,
          588,
          592,
          597,
          603,
          612,
          632,
          623,
          652,
          645,
          643,
          628,
          624,
          570,
          551,
          541,
          514,
          397,
          167,
          2
         ],
         "y": [
          857,
          478,
          361,
          315,
          289,
          274,
          257,
          247,
          243,
          229,
          197,
          154,
          140,
          138,
          139,
          134,
          210,
          243,
          265,
          296,
          439,
          500,
          857
         ]
        },
        {
         "marker": {
          "color": "rgb(25,240,0,240)",
          "size": 3
         },
         "mode": "markers",
         "name": "EVRP17",
         "type": "scatter",
         "x": [
          2,
          114,
          214,
          342,
          370,
          402,
          436,
          452,
          483,
          524,
          538,
          574,
          568,
          555,
          564,
          505,
          498,
          453,
          385,
          380,
          379,
          343,
          280,
          274,
          2
         ],
         "y": [
          857,
          728,
          623,
          445,
          421,
          363,
          346,
          330,
          315,
          322,
          337,
          348,
          361,
          364,
          379,
          396,
          412,
          440,
          490,
          514,
          518,
          558,
          605,
          608,
          857
         ]
        },
        {
         "marker": {
          "color": "rgb(0,240,5,240)",
          "size": 3
         },
         "mode": "markers",
         "name": "EVRP18",
         "type": "scatter",
         "x": [
          2,
          529,
          647,
          698,
          756,
          777,
          779,
          801,
          802,
          833,
          838,
          808,
          796,
          801,
          784,
          791,
          847,
          833,
          797,
          764,
          741,
          747,
          756,
          744,
          736,
          721,
          673,
          585,
          582,
          510,
          510,
          2
         ],
         "y": [
          857,
          362,
          246,
          186,
          147,
          163,
          143,
          148,
          150,
          167,
          111,
          103,
          106,
          94,
          89,
          71,
          51,
          41,
          45,
          43,
          69,
          86,
          89,
          131,
          125,
          116,
          162,
          234,
          263,
          332,
          342,
          857
         ]
        },
        {
         "marker": {
          "color": "rgb(0,240,35,240)",
          "size": 3
         },
         "mode": "markers",
         "name": "EVRP19",
         "type": "scatter",
         "x": [
          2,
          665,
          678,
          694,
          710,
          714,
          734,
          773,
          832,
          888,
          898,
          970,
          962,
          954,
          910,
          911,
          865,
          833,
          829,
          824,
          782,
          776,
          747,
          748,
          668,
          647,
          618,
          2
         ],
         "y": [
          857,
          139,
          127,
          101,
          102,
          65,
          20,
          7,
          12,
          7,
          25,
          38,
          95,
          103,
          98,
          127,
          155,
          167,
          177,
          196,
          216,
          212,
          223,
          248,
          268,
          323,
          340,
          857
         ]
        },
        {
         "marker": {
          "color": "rgb(0,240,65,240)",
          "size": 3
         },
         "mode": "markers",
         "name": "EVRP20",
         "type": "scatter",
         "x": [
          2,
          374,
          381,
          390,
          410,
          440,
          449,
          463,
          512,
          522,
          522,
          520,
          530,
          550,
          547,
          543,
          524,
          512,
          499,
          348,
          2
         ],
         "y": [
          857,
          546,
          534,
          532,
          503,
          484,
          469,
          461,
          403,
          400,
          405,
          413,
          411,
          408,
          416,
          422,
          473,
          482,
          491,
          606,
          857
         ]
        },
        {
         "marker": {
          "color": "rgb(0,240,96,240)",
          "size": 3
         },
         "mode": "markers",
         "name": "EVRP21",
         "type": "scatter",
         "x": [
          2,
          429,
          500,
          510,
          520,
          616,
          652,
          693,
          737,
          745,
          796,
          790,
          788,
          785,
          791,
          790,
          777,
          772,
          754,
          742,
          730,
          711,
          681,
          652,
          640,
          557,
          493,
          478,
          415,
          263,
          2
         ],
         "y": [
          857,
          565,
          500,
          511,
          508,
          448,
          395,
          370,
          364,
          362,
          328,
          311,
          277,
          260,
          248,
          247,
          242,
          252,
          255,
          267,
          272,
          288,
          294,
          328,
          356,
          408,
          469,
          480,
          542,
          655,
          857
         ]
        },
        {
         "marker": {
          "color": "rgb(0,240,131,240)",
          "size": 3
         },
         "mode": "markers",
         "name": "EVRP22",
         "type": "scatter",
         "x": [
          2,
          547,
          637,
          732,
          736,
          796,
          880,
          889,
          895,
          879,
          881,
          872,
          833,
          907,
          923,
          976,
          977,
          981,
          951,
          944,
          957,
          973,
          988,
          997,
          999,
          944,
          943,
          916,
          909,
          865,
          679,
          373,
          2
         ],
         "y": [
          857,
          473,
          397,
          304,
          288,
          265,
          251,
          230,
          216,
          198,
          187,
          179,
          167,
          171,
          177,
          106,
          120,
          148,
          203,
          218,
          214,
          212,
          225,
          241,
          268,
          270,
          254,
          240,
          254,
          278,
          434,
          633,
          857
         ]
        },
        {
         "marker": {
          "color": "rgb(0,240,161,240)",
          "size": 3
         },
         "mode": "markers",
         "name": "EVRP23",
         "type": "scatter",
         "x": [
          2,
          400,
          471,
          500,
          511,
          551,
          606,
          610,
          662,
          706,
          715,
          739,
          739,
          713,
          677,
          650,
          646,
          628,
          630,
          628,
          621,
          526,
          487,
          474,
          396,
          2
         ],
         "y": [
          857,
          574,
          517,
          500,
          488,
          459,
          434,
          429,
          394,
          395,
          397,
          419,
          441,
          447,
          455,
          476,
          481,
          479,
          484,
          495,
          498,
          532,
          552,
          559,
          630,
          857
         ]
        },
        {
         "marker": {
          "color": "rgb(0,240,192,240)",
          "size": 3
         },
         "mode": "markers",
         "name": "EVRP24",
         "type": "scatter",
         "x": [
          2,
          480,
          692,
          724,
          779,
          769,
          800,
          806,
          836,
          847,
          864,
          859,
          896,
          892,
          892,
          885,
          872,
          839,
          822,
          822,
          788,
          775,
          768,
          693,
          660,
          617,
          534,
          500,
          2
         ],
         "y": [
          857,
          579,
          472,
          472,
          445,
          423,
          398,
          403,
          385,
          359,
          360,
          350,
          319,
          317,
          299,
          309,
          318,
          329,
          365,
          370,
          392,
          395,
          396,
          433,
          459,
          486,
          496,
          500,
          857
         ]
        },
        {
         "marker": {
          "color": "rgb(0,240,222,240)",
          "size": 3
         },
         "mode": "markers",
         "name": "EVRP25",
         "type": "scatter",
         "x": [
          2,
          162,
          277,
          280,
          300,
          316,
          367,
          415,
          418,
          456,
          459,
          502,
          470,
          471,
          470,
          483,
          482,
          450,
          419,
          364,
          314,
          250,
          2
         ],
         "y": [
          857,
          788,
          689,
          692,
          683,
          688,
          690,
          658,
          650,
          639,
          649,
          640,
          613,
          610,
          598,
          578,
          575,
          572,
          592,
          617,
          637,
          676,
          857
         ]
        },
        {
         "marker": {
          "color": "rgb(0,230,240,240)",
          "size": 3
         },
         "mode": "markers",
         "name": "EVRP26",
         "type": "scatter",
         "x": [
          2,
          102,
          168,
          206,
          225,
          281,
          286,
          277,
          223,
          196,
          181,
          177,
          149,
          132,
          62,
          57,
          2
         ],
         "y": [
          857,
          815,
          803,
          769,
          753,
          735,
          733,
          697,
          747,
          752,
          760,
          756,
          784,
          789,
          828,
          831,
          857
         ]
        },
        {
         "marker": {
          "color": "rgb(0,209,240,240)",
          "size": 3
         },
         "mode": "markers",
         "name": "EVRP27",
         "type": "scatter",
         "x": [
          2,
          829,
          873,
          906,
          919,
          950,
          944,
          938,
          951,
          970,
          980,
          983,
          997,
          980,
          987,
          995,
          986,
          989,
          977,
          986,
          970,
          948,
          870,
          833,
          809,
          803,
          635,
          2
         ],
         "y": [
          857,
          426,
          378,
          354,
          357,
          346,
          334,
          307,
          307,
          319,
          301,
          312,
          332,
          347,
          382,
          412,
          414,
          451,
          476,
          513,
          492,
          485,
          506,
          500,
          556,
          561,
          620,
          857
         ]
        },
        {
         "marker": {
          "color": "rgb(0,187,240,240)",
          "size": 3
         },
         "mode": "markers",
         "name": "EVRP28",
         "type": "scatter",
         "x": [
          2,
          642,
          795,
          813,
          833,
          829,
          864,
          881,
          877,
          897,
          902,
          926,
          960,
          973,
          960,
          956,
          939,
          938,
          923,
          905,
          884,
          816,
          799,
          788,
          2
         ],
         "y": [
          857,
          549,
          493,
          502,
          500,
          489,
          465,
          466,
          451,
          431,
          424,
          415,
          423,
          391,
          395,
          386,
          390,
          393,
          386,
          402,
          403,
          435,
          452,
          451,
          857
         ]
        },
        {
         "marker": {
          "color": "rgb(0,166,240,240)",
          "size": 3
         },
         "mode": "markers",
         "name": "EVRP29",
         "type": "scatter",
         "x": [
          2,
          394,
          526,
          532,
          601,
          635,
          636,
          682,
          701,
          712,
          744,
          770,
          794,
          792,
          778,
          756,
          726,
          718,
          693,
          678,
          660,
          625,
          585,
          583,
          527,
          167,
          2
         ],
         "y": [
          857,
          642,
          587,
          586,
          545,
          531,
          512,
          525,
          529,
          498,
          492,
          512,
          510,
          533,
          532,
          539,
          581,
          570,
          559,
          560,
          561,
          578,
          586,
          602,
          626,
          834,
          857
         ]
        },
        {
         "marker": {
          "color": "rgb(0,144,240,240)",
          "size": 3
         },
         "mode": "markers",
         "name": "EVRP30",
         "type": "scatter",
         "x": [
          2,
          460,
          476,
          504,
          555,
          575,
          590,
          617,
          627,
          703,
          712,
          739,
          740,
          765,
          774,
          804,
          776,
          741,
          710,
          678,
          651,
          650,
          640,
          504,
          167,
          2
         ],
         "y": [
          857,
          683,
          656,
          648,
          631,
          648,
          641,
          639,
          629,
          627,
          633,
          627,
          619,
          621,
          620,
          616,
          660,
          665,
          665,
          661,
          691,
          683,
          675,
          708,
          834,
          857
         ]
        },
        {
         "marker": {
          "color": "rgb(0,123,240,240)",
          "size": 3
         },
         "mode": "markers",
         "name": "EVRP31",
         "type": "scatter",
         "x": [
          2,
          457,
          676,
          709,
          728,
          793,
          803,
          824,
          858,
          855,
          842,
          850,
          833,
          876,
          887,
          902,
          904,
          913,
          999,
          991,
          979,
          974,
          951,
          951,
          884,
          884,
          873,
          859,
          849,
          836,
          2
         ],
         "y": [
          857,
          678,
          582,
          590,
          583,
          584,
          584,
          571,
          581,
          575,
          559,
          534,
          500,
          539,
          534,
          529,
          551,
          564,
          602,
          649,
          645,
          643,
          633,
          622,
          613,
          616,
          616,
          627,
          644,
          650,
          857
         ]
        },
        {
         "marker": {
          "color": "rgb(0,101,240,240)",
          "size": 3
         },
         "mode": "markers",
         "name": "EVRP32",
         "type": "scatter",
         "x": [
          2,
          174,
          241,
          285,
          377,
          477,
          481,
          500,
          559,
          569,
          581,
          568,
          545,
          529,
          520,
          524,
          484,
          449,
          423,
          374,
          372,
          321,
          229,
          133,
          2
         ],
         "y": [
          857,
          812,
          785,
          769,
          708,
          717,
          728,
          726,
          746,
          740,
          757,
          771,
          806,
          813,
          801,
          793,
          801,
          781,
          798,
          795,
          799,
          786,
          807,
          826,
          857
         ]
        },
        {
         "marker": {
          "color": "rgb(0,76,240,240)",
          "size": 3
         },
         "mode": "markers",
         "name": "EVRP33",
         "type": "scatter",
         "x": [
          2,
          525,
          647,
          686,
          695,
          718,
          714,
          721,
          754,
          757,
          778,
          788,
          794,
          789,
          772,
          746,
          737,
          722,
          705,
          668,
          653,
          610,
          167,
          2
         ],
         "y": [
          857,
          768,
          753,
          750,
          732,
          704,
          685,
          692,
          703,
          708,
          700,
          712,
          714,
          724,
          743,
          768,
          749,
          757,
          769,
          777,
          798,
          786,
          834,
          857
         ]
        },
        {
         "marker": {
          "color": "rgb(23,72,240,240)",
          "size": 3
         },
         "mode": "markers",
         "name": "EVRP34",
         "type": "scatter",
         "x": [
          2,
          500,
          713,
          751,
          806,
          831,
          845,
          874,
          891,
          877,
          888,
          887,
          909,
          911,
          923,
          951,
          952,
          947,
          920,
          886,
          871,
          863,
          837,
          784,
          768,
          726,
          599,
          553,
          2
         ],
         "y": [
          857,
          834,
          779,
          788,
          773,
          755,
          753,
          740,
          741,
          720,
          721,
          717,
          704,
          708,
          705,
          696,
          677,
          675,
          675,
          684,
          661,
          673,
          673,
          685,
          689,
          723,
          724,
          756,
          857
         ]
        },
        {
         "marker": {
          "color": "rgb(54,72,240,240)",
          "size": 3
         },
         "mode": "markers",
         "name": "EVRP35",
         "type": "scatter",
         "x": [
          2,
          752,
          806,
          823,
          829,
          848,
          889,
          895,
          900,
          915,
          926,
          938,
          951,
          993,
          979,
          982,
          977,
          998,
          980,
          976,
          937,
          884,
          833,
          2
         ],
         "y": [
          857,
          792,
          796,
          774,
          776,
          785,
          765,
          755,
          748,
          772,
          747,
          743,
          766,
          748,
          779,
          797,
          815,
          835,
          868,
          863,
          826,
          821,
          834,
          857
         ]
        },
        {
         "marker": {
          "color": "rgb(85,72,240,240)",
          "size": 3
         },
         "mode": "markers",
         "name": "EVRP36",
         "type": "scatter",
         "x": [
          2,
          161,
          230,
          308,
          334,
          387,
          415,
          443,
          495,
          512,
          502,
          483,
          479,
          431,
          412,
          399,
          376,
          367,
          335,
          323,
          307,
          239,
          238,
          193,
          2
         ],
         "y": [
          857,
          844,
          835,
          857,
          855,
          843,
          846,
          869,
          862,
          860,
          856,
          824,
          831,
          827,
          813,
          812,
          810,
          807,
          815,
          814,
          810,
          811,
          811,
          831,
          857
         ]
        },
        {
         "marker": {
          "color": "rgb(115,72,240,240)",
          "size": 3
         },
         "mode": "markers",
         "name": "EVRP37",
         "type": "scatter",
         "x": [
          2,
          350,
          490,
          634,
          729,
          774,
          792,
          798,
          838,
          861,
          854,
          838,
          842,
          817,
          804,
          791,
          793,
          800,
          795,
          794,
          781,
          736,
          717,
          704,
          691,
          648,
          641,
          500,
          409,
          2
         ],
         "y": [
          857,
          909,
          911,
          955,
          915,
          925,
          917,
          918,
          897,
          886,
          884,
          860,
          847,
          861,
          864,
          870,
          865,
          833,
          836,
          836,
          849,
          849,
          851,
          846,
          851,
          837,
          824,
          834,
          840,
          857
         ]
        },
        {
         "marker": {
          "color": "rgb(146,72,240,240)",
          "size": 3
         },
         "mode": "markers",
         "name": "EVRP38",
         "type": "scatter",
         "x": [
          2,
          379,
          577,
          702,
          754,
          775,
          780,
          785,
          794,
          808,
          841,
          866,
          889,
          904,
          892,
          895,
          901,
          918,
          925,
          918,
          894,
          881,
          829,
          809,
          799,
          736,
          644,
          500,
          2
         ],
         "y": [
          857,
          894,
          911,
          902,
          899,
          894,
          886,
          899,
          896,
          903,
          919,
          928,
          916,
          910,
          896,
          875,
          875,
          853,
          847,
          839,
          845,
          836,
          814,
          821,
          823,
          821,
          810,
          834,
          857
         ]
        },
        {
         "marker": {
          "color": "rgb(177,72,240,240)",
          "size": 3
         },
         "mode": "markers",
         "name": "EVRP39",
         "type": "scatter",
         "x": [
          2,
          395,
          423,
          518,
          534,
          575,
          614,
          653,
          676,
          677,
          653,
          636,
          635,
          622,
          608,
          597,
          584,
          524,
          511,
          485,
          425,
          390,
          2
         ],
         "y": [
          857,
          941,
          929,
          915,
          906,
          901,
          890,
          904,
          875,
          872,
          877,
          866,
          865,
          844,
          852,
          866,
          878,
          887,
          898,
          885,
          873,
          873,
          857
         ]
        },
        {
         "marker": {
          "color": "rgb(207,72,240,240)",
          "size": 3
         },
         "mode": "markers",
         "name": "EVRP40",
         "type": "scatter",
         "x": [
          2,
          710,
          742,
          778,
          813,
          895,
          909,
          915,
          960,
          982,
          996,
          981,
          976,
          952,
          960,
          930,
          927,
          898,
          890,
          854,
          830,
          783,
          726,
          710,
          500,
          2
         ],
         "y": [
          857,
          998,
          981,
          994,
          997,
          963,
          962,
          965,
          959,
          977,
          922,
          897,
          884,
          915,
          936,
          935,
          947,
          957,
          951,
          951,
          947,
          958,
          948,
          940,
          834,
          857
         ]
        },
        {
         "marker": {
          "color": "rgb(238,72,240,240)",
          "size": 3
         },
         "mode": "markers",
         "name": "EVRP41",
         "type": "scatter",
         "x": [
          2,
          328,
          425,
          455,
          524,
          551,
          563,
          600,
          602,
          645,
          666,
          664,
          643,
          649,
          644,
          603,
          550,
          487,
          478,
          462,
          416,
          396,
          2
         ],
         "y": [
          857,
          995,
          990,
          989,
          978,
          998,
          987,
          973,
          984,
          986,
          975,
          966,
          937,
          933,
          925,
          933,
          937,
          945,
          956,
          970,
          973,
          950,
          857
         ]
        },
        {
         "marker": {
          "color": "rgb(240,72,210,240)",
          "size": 3
         },
         "mode": "markers",
         "name": "EVRP42",
         "type": "scatter",
         "x": [
          2,
          76,
          110,
          224,
          239,
          241,
          247,
          296,
          301,
          316,
          342,
          359,
          335,
          336,
          327,
          317,
          261,
          250,
          235,
          194,
          134,
          116,
          2
         ],
         "y": [
          857,
          883,
          901,
          959,
          951,
          949,
          947,
          959,
          968,
          970,
          979,
          963,
          941,
          912,
          908,
          884,
          867,
          862,
          877,
          884,
          858,
          857,
          857
         ]
        },
        {
         "marker": {
          "color": "rgb(240,72,180,240)",
          "size": 3
         },
         "mode": "markers",
         "name": "EVRP43",
         "type": "scatter",
         "x": [
          2,
          46,
          51,
          54,
          109,
          168,
          169,
          176,
          184,
          188,
          183,
          171,
          156,
          117,
          100,
          99,
          7,
          1,
          5,
          12,
          22,
          7,
          1,
          2
         ],
         "y": [
          857,
          872,
          901,
          930,
          935,
          907,
          906,
          928,
          941,
          955,
          988,
          971,
          967,
          973,
          996,
          1000,
          981,
          975,
          941,
          909,
          899,
          891,
          880,
          857
         ]
        },
        {
         "marker": {
          "color": "red",
          "size": 10,
          "symbol": "hexagram"
         },
         "mode": "markers",
         "name": "depot",
         "type": "scatter",
         "x": [
          2
         ],
         "y": [
          857
         ]
        }
       ],
       "layout": {
        "height": 640,
        "showlegend": false,
        "template": {
         "data": {
          "bar": [
           {
            "error_x": {
             "color": "#2a3f5f"
            },
            "error_y": {
             "color": "#2a3f5f"
            },
            "marker": {
             "line": {
              "color": "white",
              "width": 0.5
             },
             "pattern": {
              "fillmode": "overlay",
              "size": 10,
              "solidity": 0.2
             }
            },
            "type": "bar"
           }
          ],
          "barpolar": [
           {
            "marker": {
             "line": {
              "color": "white",
              "width": 0.5
             },
             "pattern": {
              "fillmode": "overlay",
              "size": 10,
              "solidity": 0.2
             }
            },
            "type": "barpolar"
           }
          ],
          "carpet": [
           {
            "aaxis": {
             "endlinecolor": "#2a3f5f",
             "gridcolor": "#C8D4E3",
             "linecolor": "#C8D4E3",
             "minorgridcolor": "#C8D4E3",
             "startlinecolor": "#2a3f5f"
            },
            "baxis": {
             "endlinecolor": "#2a3f5f",
             "gridcolor": "#C8D4E3",
             "linecolor": "#C8D4E3",
             "minorgridcolor": "#C8D4E3",
             "startlinecolor": "#2a3f5f"
            },
            "type": "carpet"
           }
          ],
          "choropleth": [
           {
            "colorbar": {
             "outlinewidth": 0,
             "ticks": ""
            },
            "type": "choropleth"
           }
          ],
          "contour": [
           {
            "colorbar": {
             "outlinewidth": 0,
             "ticks": ""
            },
            "colorscale": [
             [
              0,
              "#0d0887"
             ],
             [
              0.1111111111111111,
              "#46039f"
             ],
             [
              0.2222222222222222,
              "#7201a8"
             ],
             [
              0.3333333333333333,
              "#9c179e"
             ],
             [
              0.4444444444444444,
              "#bd3786"
             ],
             [
              0.5555555555555556,
              "#d8576b"
             ],
             [
              0.6666666666666666,
              "#ed7953"
             ],
             [
              0.7777777777777778,
              "#fb9f3a"
             ],
             [
              0.8888888888888888,
              "#fdca26"
             ],
             [
              1,
              "#f0f921"
             ]
            ],
            "type": "contour"
           }
          ],
          "contourcarpet": [
           {
            "colorbar": {
             "outlinewidth": 0,
             "ticks": ""
            },
            "type": "contourcarpet"
           }
          ],
          "heatmap": [
           {
            "colorbar": {
             "outlinewidth": 0,
             "ticks": ""
            },
            "colorscale": [
             [
              0,
              "#0d0887"
             ],
             [
              0.1111111111111111,
              "#46039f"
             ],
             [
              0.2222222222222222,
              "#7201a8"
             ],
             [
              0.3333333333333333,
              "#9c179e"
             ],
             [
              0.4444444444444444,
              "#bd3786"
             ],
             [
              0.5555555555555556,
              "#d8576b"
             ],
             [
              0.6666666666666666,
              "#ed7953"
             ],
             [
              0.7777777777777778,
              "#fb9f3a"
             ],
             [
              0.8888888888888888,
              "#fdca26"
             ],
             [
              1,
              "#f0f921"
             ]
            ],
            "type": "heatmap"
           }
          ],
          "heatmapgl": [
           {
            "colorbar": {
             "outlinewidth": 0,
             "ticks": ""
            },
            "colorscale": [
             [
              0,
              "#0d0887"
             ],
             [
              0.1111111111111111,
              "#46039f"
             ],
             [
              0.2222222222222222,
              "#7201a8"
             ],
             [
              0.3333333333333333,
              "#9c179e"
             ],
             [
              0.4444444444444444,
              "#bd3786"
             ],
             [
              0.5555555555555556,
              "#d8576b"
             ],
             [
              0.6666666666666666,
              "#ed7953"
             ],
             [
              0.7777777777777778,
              "#fb9f3a"
             ],
             [
              0.8888888888888888,
              "#fdca26"
             ],
             [
              1,
              "#f0f921"
             ]
            ],
            "type": "heatmapgl"
           }
          ],
          "histogram": [
           {
            "marker": {
             "pattern": {
              "fillmode": "overlay",
              "size": 10,
              "solidity": 0.2
             }
            },
            "type": "histogram"
           }
          ],
          "histogram2d": [
           {
            "colorbar": {
             "outlinewidth": 0,
             "ticks": ""
            },
            "colorscale": [
             [
              0,
              "#0d0887"
             ],
             [
              0.1111111111111111,
              "#46039f"
             ],
             [
              0.2222222222222222,
              "#7201a8"
             ],
             [
              0.3333333333333333,
              "#9c179e"
             ],
             [
              0.4444444444444444,
              "#bd3786"
             ],
             [
              0.5555555555555556,
              "#d8576b"
             ],
             [
              0.6666666666666666,
              "#ed7953"
             ],
             [
              0.7777777777777778,
              "#fb9f3a"
             ],
             [
              0.8888888888888888,
              "#fdca26"
             ],
             [
              1,
              "#f0f921"
             ]
            ],
            "type": "histogram2d"
           }
          ],
          "histogram2dcontour": [
           {
            "colorbar": {
             "outlinewidth": 0,
             "ticks": ""
            },
            "colorscale": [
             [
              0,
              "#0d0887"
             ],
             [
              0.1111111111111111,
              "#46039f"
             ],
             [
              0.2222222222222222,
              "#7201a8"
             ],
             [
              0.3333333333333333,
              "#9c179e"
             ],
             [
              0.4444444444444444,
              "#bd3786"
             ],
             [
              0.5555555555555556,
              "#d8576b"
             ],
             [
              0.6666666666666666,
              "#ed7953"
             ],
             [
              0.7777777777777778,
              "#fb9f3a"
             ],
             [
              0.8888888888888888,
              "#fdca26"
             ],
             [
              1,
              "#f0f921"
             ]
            ],
            "type": "histogram2dcontour"
           }
          ],
          "mesh3d": [
           {
            "colorbar": {
             "outlinewidth": 0,
             "ticks": ""
            },
            "type": "mesh3d"
           }
          ],
          "parcoords": [
           {
            "line": {
             "colorbar": {
              "outlinewidth": 0,
              "ticks": ""
             }
            },
            "type": "parcoords"
           }
          ],
          "pie": [
           {
            "automargin": true,
            "type": "pie"
           }
          ],
          "scatter": [
           {
            "marker": {
             "colorbar": {
              "outlinewidth": 0,
              "ticks": ""
             }
            },
            "type": "scatter"
           }
          ],
          "scatter3d": [
           {
            "line": {
             "colorbar": {
              "outlinewidth": 0,
              "ticks": ""
             }
            },
            "marker": {
             "colorbar": {
              "outlinewidth": 0,
              "ticks": ""
             }
            },
            "type": "scatter3d"
           }
          ],
          "scattercarpet": [
           {
            "marker": {
             "colorbar": {
              "outlinewidth": 0,
              "ticks": ""
             }
            },
            "type": "scattercarpet"
           }
          ],
          "scattergeo": [
           {
            "marker": {
             "colorbar": {
              "outlinewidth": 0,
              "ticks": ""
             }
            },
            "type": "scattergeo"
           }
          ],
          "scattergl": [
           {
            "marker": {
             "colorbar": {
              "outlinewidth": 0,
              "ticks": ""
             }
            },
            "type": "scattergl"
           }
          ],
          "scattermapbox": [
           {
            "marker": {
             "colorbar": {
              "outlinewidth": 0,
              "ticks": ""
             }
            },
            "type": "scattermapbox"
           }
          ],
          "scatterpolar": [
           {
            "marker": {
             "colorbar": {
              "outlinewidth": 0,
              "ticks": ""
             }
            },
            "type": "scatterpolar"
           }
          ],
          "scatterpolargl": [
           {
            "marker": {
             "colorbar": {
              "outlinewidth": 0,
              "ticks": ""
             }
            },
            "type": "scatterpolargl"
           }
          ],
          "scatterternary": [
           {
            "marker": {
             "colorbar": {
              "outlinewidth": 0,
              "ticks": ""
             }
            },
            "type": "scatterternary"
           }
          ],
          "surface": [
           {
            "colorbar": {
             "outlinewidth": 0,
             "ticks": ""
            },
            "colorscale": [
             [
              0,
              "#0d0887"
             ],
             [
              0.1111111111111111,
              "#46039f"
             ],
             [
              0.2222222222222222,
              "#7201a8"
             ],
             [
              0.3333333333333333,
              "#9c179e"
             ],
             [
              0.4444444444444444,
              "#bd3786"
             ],
             [
              0.5555555555555556,
              "#d8576b"
             ],
             [
              0.6666666666666666,
              "#ed7953"
             ],
             [
              0.7777777777777778,
              "#fb9f3a"
             ],
             [
              0.8888888888888888,
              "#fdca26"
             ],
             [
              1,
              "#f0f921"
             ]
            ],
            "type": "surface"
           }
          ],
          "table": [
           {
            "cells": {
             "fill": {
              "color": "#EBF0F8"
             },
             "line": {
              "color": "white"
             }
            },
            "header": {
             "fill": {
              "color": "#C8D4E3"
             },
             "line": {
              "color": "white"
             }
            },
            "type": "table"
           }
          ]
         },
         "layout": {
          "annotationdefaults": {
           "arrowcolor": "#2a3f5f",
           "arrowhead": 0,
           "arrowwidth": 1
          },
          "autotypenumbers": "strict",
          "coloraxis": {
           "colorbar": {
            "outlinewidth": 0,
            "ticks": ""
           }
          },
          "colorscale": {
           "diverging": [
            [
             0,
             "#8e0152"
            ],
            [
             0.1,
             "#c51b7d"
            ],
            [
             0.2,
             "#de77ae"
            ],
            [
             0.3,
             "#f1b6da"
            ],
            [
             0.4,
             "#fde0ef"
            ],
            [
             0.5,
             "#f7f7f7"
            ],
            [
             0.6,
             "#e6f5d0"
            ],
            [
             0.7,
             "#b8e186"
            ],
            [
             0.8,
             "#7fbc41"
            ],
            [
             0.9,
             "#4d9221"
            ],
            [
             1,
             "#276419"
            ]
           ],
           "sequential": [
            [
             0,
             "#0d0887"
            ],
            [
             0.1111111111111111,
             "#46039f"
            ],
            [
             0.2222222222222222,
             "#7201a8"
            ],
            [
             0.3333333333333333,
             "#9c179e"
            ],
            [
             0.4444444444444444,
             "#bd3786"
            ],
            [
             0.5555555555555556,
             "#d8576b"
            ],
            [
             0.6666666666666666,
             "#ed7953"
            ],
            [
             0.7777777777777778,
             "#fb9f3a"
            ],
            [
             0.8888888888888888,
             "#fdca26"
            ],
            [
             1,
             "#f0f921"
            ]
           ],
           "sequentialminus": [
            [
             0,
             "#0d0887"
            ],
            [
             0.1111111111111111,
             "#46039f"
            ],
            [
             0.2222222222222222,
             "#7201a8"
            ],
            [
             0.3333333333333333,
             "#9c179e"
            ],
            [
             0.4444444444444444,
             "#bd3786"
            ],
            [
             0.5555555555555556,
             "#d8576b"
            ],
            [
             0.6666666666666666,
             "#ed7953"
            ],
            [
             0.7777777777777778,
             "#fb9f3a"
            ],
            [
             0.8888888888888888,
             "#fdca26"
            ],
            [
             1,
             "#f0f921"
            ]
           ]
          },
          "colorway": [
           "#636efa",
           "#EF553B",
           "#00cc96",
           "#ab63fa",
           "#FFA15A",
           "#19d3f3",
           "#FF6692",
           "#B6E880",
           "#FF97FF",
           "#FECB52"
          ],
          "font": {
           "color": "#2a3f5f"
          },
          "geo": {
           "bgcolor": "white",
           "lakecolor": "white",
           "landcolor": "white",
           "showlakes": true,
           "showland": true,
           "subunitcolor": "#C8D4E3"
          },
          "hoverlabel": {
           "align": "left"
          },
          "hovermode": "closest",
          "mapbox": {
           "style": "light"
          },
          "paper_bgcolor": "white",
          "plot_bgcolor": "white",
          "polar": {
           "angularaxis": {
            "gridcolor": "#EBF0F8",
            "linecolor": "#EBF0F8",
            "ticks": ""
           },
           "bgcolor": "white",
           "radialaxis": {
            "gridcolor": "#EBF0F8",
            "linecolor": "#EBF0F8",
            "ticks": ""
           }
          },
          "scene": {
           "xaxis": {
            "backgroundcolor": "white",
            "gridcolor": "#DFE8F3",
            "gridwidth": 2,
            "linecolor": "#EBF0F8",
            "showbackground": true,
            "ticks": "",
            "zerolinecolor": "#EBF0F8"
           },
           "yaxis": {
            "backgroundcolor": "white",
            "gridcolor": "#DFE8F3",
            "gridwidth": 2,
            "linecolor": "#EBF0F8",
            "showbackground": true,
            "ticks": "",
            "zerolinecolor": "#EBF0F8"
           },
           "zaxis": {
            "backgroundcolor": "white",
            "gridcolor": "#DFE8F3",
            "gridwidth": 2,
            "linecolor": "#EBF0F8",
            "showbackground": true,
            "ticks": "",
            "zerolinecolor": "#EBF0F8"
           }
          },
          "shapedefaults": {
           "line": {
            "color": "#2a3f5f"
           }
          },
          "ternary": {
           "aaxis": {
            "gridcolor": "#DFE8F3",
            "linecolor": "#A2B1C6",
            "ticks": ""
           },
           "baxis": {
            "gridcolor": "#DFE8F3",
            "linecolor": "#A2B1C6",
            "ticks": ""
           },
           "bgcolor": "white",
           "caxis": {
            "gridcolor": "#DFE8F3",
            "linecolor": "#A2B1C6",
            "ticks": ""
           }
          },
          "title": {
           "x": 0.05
          },
          "xaxis": {
           "automargin": true,
           "gridcolor": "#EBF0F8",
           "linecolor": "#EBF0F8",
           "ticks": "",
           "title": {
            "standoff": 15
           },
           "zerolinecolor": "#EBF0F8",
           "zerolinewidth": 2
          },
          "yaxis": {
           "automargin": true,
           "gridcolor": "#EBF0F8",
           "linecolor": "#EBF0F8",
           "ticks": "",
           "title": {
            "standoff": 15
           },
           "zerolinecolor": "#EBF0F8",
           "zerolinewidth": 2
          }
         }
        },
        "title": {
         "text": "X-n1001-k43.evrp - 74097.050",
         "x": 0.5
        },
        "width": 640,
        "xaxis": {
         "visible": false
        },
        "yaxis": {
         "visible": false
        }
       }
      }
     },
     "metadata": {},
     "output_type": "display_data"
    }
   ],
   "source": [
    "plot_instance(\"X-n1001-k43.evrp\")"
   ]
  }
 ],
 "metadata": {
  "interpreter": {
   "hash": "139c7272f71cd34e937ae7cfad9dc41cbe2e9501c0754aa18489c993c2c36d38"
  },
  "kernelspec": {
   "display_name": "Python 3.9.5 ('base')",
   "language": "python",
   "name": "python3"
  },
  "language_info": {
   "codemirror_mode": {
    "name": "ipython",
    "version": 3
   },
   "file_extension": ".py",
   "mimetype": "text/x-python",
   "name": "python",
   "nbconvert_exporter": "python",
   "pygments_lexer": "ipython3",
   "version": "3.9.5"
  }
 },
 "nbformat": 4,
 "nbformat_minor": 5
}
