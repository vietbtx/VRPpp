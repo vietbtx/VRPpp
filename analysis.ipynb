{
 "cells": [
  {
   "cell_type": "code",
   "execution_count": 1,
   "id": "344bbf81-ca2d-469d-af61-c9adb33ff30d",
   "metadata": {},
   "outputs": [],
   "source": [
    "import os\n",
    "import chart_studio.plotly as py\n",
    "import plotly.figure_factory as ff\n",
    "import plotly.graph_objects as go\n",
    "from collections import defaultdict\n",
    "from ipywidgets import interact\n",
    "import pandas as pd\n",
    "import numpy as np\n",
    "from argparse import Namespace\n",
    "from tensorboard.backend.event_processing import event_accumulator\n",
    "from env.VRPInstance import VRPInstance\n",
    "from env.utils import load_scores, sort_instances"
   ]
  },
  {
   "cell_type": "code",
   "execution_count": 2,
   "id": "146e0cc4-db81-42b4-9962-8826a0548e60",
   "metadata": {},
   "outputs": [],
   "source": [
    "def read_tensorboard_event(folder):\n",
    "    for file in os.listdir(folder):\n",
    "        if \"events\" in file:\n",
    "            event = event_accumulator.EventAccumulator(os.path.join(folder, file))\n",
    "            event.Reload()\n",
    "            return event"
   ]
  },
  {
   "cell_type": "code",
   "execution_count": 3,
   "id": "202302a7-0b6b-4bec-bcb4-6f4243f010e0",
   "metadata": {},
   "outputs": [],
   "source": [
    "def load_all_scores(log_folder):\n",
    "    data = defaultdict(list)\n",
    "    for seed in range(1, 21):\n",
    "        folder = f\"{log_folder}/seed_{seed}\"\n",
    "        data[\"Folder\"].append(folder)\n",
    "        event = read_tensorboard_event(folder)\n",
    "        steps = event.Scalars(\"steps\")\n",
    "        running_time = steps[-1].wall_time - steps[0].wall_time\n",
    "        scores = load_scores(folder)\n",
    "        keys = sort_instances(scores.keys())\n",
    "        for key in keys:\n",
    "            score = scores[key]\n",
    "            data[key].append(score.score)\n",
    "        data[\"Running Time\"].append(running_time)\n",
    "    df = pd.DataFrame(data).set_index([\"Folder\", \"Running Time\"])\n",
    "    return df"
   ]
  },
  {
   "cell_type": "code",
   "execution_count": 4,
   "id": "2f1f415f-ee7c-4d37-8362-87ab5b08ecc7",
   "metadata": {},
   "outputs": [
    {
     "data": {
      "text/html": [
       "<div>\n",
       "<style scoped>\n",
       "    .dataframe tbody tr th:only-of-type {\n",
       "        vertical-align: middle;\n",
       "    }\n",
       "\n",
       "    .dataframe tbody tr th {\n",
       "        vertical-align: top;\n",
       "    }\n",
       "\n",
       "    .dataframe thead th {\n",
       "        text-align: right;\n",
       "    }\n",
       "</style>\n",
       "<table border=\"1\" class=\"dataframe\">\n",
       "  <thead>\n",
       "    <tr style=\"text-align: right;\">\n",
       "      <th></th>\n",
       "      <th></th>\n",
       "      <th>E-n22-k4.evrp</th>\n",
       "      <th>E-n23-k3.evrp</th>\n",
       "      <th>E-n30-k3.evrp</th>\n",
       "      <th>E-n33-k4.evrp</th>\n",
       "      <th>E-n51-k5.evrp</th>\n",
       "      <th>E-n76-k7.evrp</th>\n",
       "      <th>E-n101-k8.evrp</th>\n",
       "      <th>X-n143-k7.evrp</th>\n",
       "      <th>X-n214-k11.evrp</th>\n",
       "      <th>X-n351-k40.evrp</th>\n",
       "      <th>X-n459-k26.evrp</th>\n",
       "      <th>X-n573-k30.evrp</th>\n",
       "      <th>X-n685-k75.evrp</th>\n",
       "      <th>X-n749-k98.evrp</th>\n",
       "      <th>X-n819-k171.evrp</th>\n",
       "      <th>X-n916-k207.evrp</th>\n",
       "      <th>X-n1001-k43.evrp</th>\n",
       "    </tr>\n",
       "    <tr>\n",
       "      <th>Folder</th>\n",
       "      <th>Running Time</th>\n",
       "      <th></th>\n",
       "      <th></th>\n",
       "      <th></th>\n",
       "      <th></th>\n",
       "      <th></th>\n",
       "      <th></th>\n",
       "      <th></th>\n",
       "      <th></th>\n",
       "      <th></th>\n",
       "      <th></th>\n",
       "      <th></th>\n",
       "      <th></th>\n",
       "      <th></th>\n",
       "      <th></th>\n",
       "      <th></th>\n",
       "      <th></th>\n",
       "      <th></th>\n",
       "    </tr>\n",
       "  </thead>\n",
       "  <tbody>\n",
       "    <tr>\n",
       "      <th>logs/dataset_train_data_evrp_wcci_HGS_0.1/seed_1</th>\n",
       "      <th>4777.062319</th>\n",
       "      <td>386.96126</td>\n",
       "      <td>581.070311</td>\n",
       "      <td>509.470415</td>\n",
       "      <td>840.145836</td>\n",
       "      <td>529.900692</td>\n",
       "      <td>692.640584</td>\n",
       "      <td>838.999651</td>\n",
       "      <td>15878.507622</td>\n",
       "      <td>11028.423360</td>\n",
       "      <td>26293.909724</td>\n",
       "      <td>24350.377828</td>\n",
       "      <td>51330.110609</td>\n",
       "      <td>69170.057532</td>\n",
       "      <td>79009.128426</td>\n",
       "      <td>159688.037118</td>\n",
       "      <td>334086.764824</td>\n",
       "      <td>74097.049611</td>\n",
       "    </tr>\n",
       "    <tr>\n",
       "      <th>logs/dataset_train_data_evrp_wcci_HGS_0.1/seed_2</th>\n",
       "      <th>4772.085239</th>\n",
       "      <td>386.96126</td>\n",
       "      <td>581.070311</td>\n",
       "      <td>509.470415</td>\n",
       "      <td>840.145836</td>\n",
       "      <td>529.900692</td>\n",
       "      <td>692.640584</td>\n",
       "      <td>838.999651</td>\n",
       "      <td>15878.507622</td>\n",
       "      <td>10991.835317</td>\n",
       "      <td>26291.854814</td>\n",
       "      <td>24401.296265</td>\n",
       "      <td>51232.968824</td>\n",
       "      <td>69162.167980</td>\n",
       "      <td>78939.769705</td>\n",
       "      <td>159664.286691</td>\n",
       "      <td>334807.977320</td>\n",
       "      <td>74777.234071</td>\n",
       "    </tr>\n",
       "    <tr>\n",
       "      <th>logs/dataset_train_data_evrp_wcci_HGS_0.1/seed_3</th>\n",
       "      <th>4788.849669</th>\n",
       "      <td>386.96126</td>\n",
       "      <td>581.070311</td>\n",
       "      <td>509.470415</td>\n",
       "      <td>840.145836</td>\n",
       "      <td>529.900692</td>\n",
       "      <td>692.640584</td>\n",
       "      <td>838.999651</td>\n",
       "      <td>15877.543245</td>\n",
       "      <td>11036.209690</td>\n",
       "      <td>26222.706953</td>\n",
       "      <td>24359.533890</td>\n",
       "      <td>51323.745530</td>\n",
       "      <td>69196.680572</td>\n",
       "      <td>78797.031108</td>\n",
       "      <td>159395.979528</td>\n",
       "      <td>334195.243513</td>\n",
       "      <td>74516.710550</td>\n",
       "    </tr>\n",
       "    <tr>\n",
       "      <th>logs/dataset_train_data_evrp_wcci_HGS_0.1/seed_4</th>\n",
       "      <th>4840.699600</th>\n",
       "      <td>386.96126</td>\n",
       "      <td>581.070311</td>\n",
       "      <td>509.470415</td>\n",
       "      <td>840.145836</td>\n",
       "      <td>529.900692</td>\n",
       "      <td>692.640584</td>\n",
       "      <td>838.999651</td>\n",
       "      <td>15878.507622</td>\n",
       "      <td>11047.116376</td>\n",
       "      <td>26279.329996</td>\n",
       "      <td>24429.311595</td>\n",
       "      <td>51335.805890</td>\n",
       "      <td>69110.276403</td>\n",
       "      <td>78895.017262</td>\n",
       "      <td>159686.301649</td>\n",
       "      <td>334421.682387</td>\n",
       "      <td>74160.609178</td>\n",
       "    </tr>\n",
       "    <tr>\n",
       "      <th>logs/dataset_train_data_evrp_wcci_HGS_0.1/seed_5</th>\n",
       "      <th>4717.080919</th>\n",
       "      <td>386.96126</td>\n",
       "      <td>581.070311</td>\n",
       "      <td>509.470415</td>\n",
       "      <td>840.145836</td>\n",
       "      <td>529.900692</td>\n",
       "      <td>692.640584</td>\n",
       "      <td>838.999651</td>\n",
       "      <td>15865.497629</td>\n",
       "      <td>11019.991970</td>\n",
       "      <td>26272.968383</td>\n",
       "      <td>24317.276068</td>\n",
       "      <td>51322.107675</td>\n",
       "      <td>69169.174429</td>\n",
       "      <td>78914.961688</td>\n",
       "      <td>159519.488654</td>\n",
       "      <td>334786.449322</td>\n",
       "      <td>74571.185860</td>\n",
       "    </tr>\n",
       "    <tr>\n",
       "      <th>logs/dataset_train_data_evrp_wcci_HGS_0.1/seed_6</th>\n",
       "      <th>4629.198482</th>\n",
       "      <td>386.96126</td>\n",
       "      <td>581.070311</td>\n",
       "      <td>509.470415</td>\n",
       "      <td>840.145836</td>\n",
       "      <td>529.900692</td>\n",
       "      <td>692.640584</td>\n",
       "      <td>838.999651</td>\n",
       "      <td>15878.507622</td>\n",
       "      <td>11011.418661</td>\n",
       "      <td>26259.592477</td>\n",
       "      <td>24492.686272</td>\n",
       "      <td>51600.763256</td>\n",
       "      <td>69206.542586</td>\n",
       "      <td>79004.193907</td>\n",
       "      <td>159803.080039</td>\n",
       "      <td>334728.625334</td>\n",
       "      <td>74618.633489</td>\n",
       "    </tr>\n",
       "    <tr>\n",
       "      <th>logs/dataset_train_data_evrp_wcci_HGS_0.1/seed_7</th>\n",
       "      <th>4876.168765</th>\n",
       "      <td>386.96126</td>\n",
       "      <td>581.070311</td>\n",
       "      <td>509.470415</td>\n",
       "      <td>840.145836</td>\n",
       "      <td>529.900692</td>\n",
       "      <td>692.640584</td>\n",
       "      <td>838.999651</td>\n",
       "      <td>15880.762189</td>\n",
       "      <td>11038.621374</td>\n",
       "      <td>26325.946051</td>\n",
       "      <td>24337.671221</td>\n",
       "      <td>51591.294127</td>\n",
       "      <td>69201.737251</td>\n",
       "      <td>78955.224600</td>\n",
       "      <td>159459.504157</td>\n",
       "      <td>334664.845132</td>\n",
       "      <td>74504.761369</td>\n",
       "    </tr>\n",
       "    <tr>\n",
       "      <th>logs/dataset_train_data_evrp_wcci_HGS_0.1/seed_8</th>\n",
       "      <th>4933.962519</th>\n",
       "      <td>386.96126</td>\n",
       "      <td>581.070311</td>\n",
       "      <td>509.470415</td>\n",
       "      <td>840.145836</td>\n",
       "      <td>529.900692</td>\n",
       "      <td>692.640584</td>\n",
       "      <td>838.999651</td>\n",
       "      <td>15880.762189</td>\n",
       "      <td>11032.831939</td>\n",
       "      <td>26172.752148</td>\n",
       "      <td>24333.774901</td>\n",
       "      <td>51346.730288</td>\n",
       "      <td>69109.189704</td>\n",
       "      <td>78747.828025</td>\n",
       "      <td>159705.721389</td>\n",
       "      <td>334729.089269</td>\n",
       "      <td>74674.154955</td>\n",
       "    </tr>\n",
       "    <tr>\n",
       "      <th>logs/dataset_train_data_evrp_wcci_HGS_0.1/seed_9</th>\n",
       "      <th>4885.769333</th>\n",
       "      <td>386.96126</td>\n",
       "      <td>581.070311</td>\n",
       "      <td>509.470415</td>\n",
       "      <td>840.145836</td>\n",
       "      <td>529.900692</td>\n",
       "      <td>692.640584</td>\n",
       "      <td>838.999651</td>\n",
       "      <td>15880.762189</td>\n",
       "      <td>11015.893882</td>\n",
       "      <td>26256.652125</td>\n",
       "      <td>24426.615178</td>\n",
       "      <td>51396.844373</td>\n",
       "      <td>69071.377247</td>\n",
       "      <td>79012.540685</td>\n",
       "      <td>159763.576515</td>\n",
       "      <td>334281.856975</td>\n",
       "      <td>74612.072444</td>\n",
       "    </tr>\n",
       "    <tr>\n",
       "      <th>logs/dataset_train_data_evrp_wcci_HGS_0.1/seed_10</th>\n",
       "      <th>4833.703541</th>\n",
       "      <td>386.96126</td>\n",
       "      <td>581.070311</td>\n",
       "      <td>509.470415</td>\n",
       "      <td>840.145836</td>\n",
       "      <td>529.900692</td>\n",
       "      <td>692.640584</td>\n",
       "      <td>838.999651</td>\n",
       "      <td>15878.507622</td>\n",
       "      <td>11034.282404</td>\n",
       "      <td>26270.469318</td>\n",
       "      <td>24421.207628</td>\n",
       "      <td>51365.370694</td>\n",
       "      <td>69218.402748</td>\n",
       "      <td>78849.216088</td>\n",
       "      <td>159638.568151</td>\n",
       "      <td>334499.740016</td>\n",
       "      <td>74614.817738</td>\n",
       "    </tr>\n",
       "    <tr>\n",
       "      <th>logs/dataset_train_data_evrp_wcci_HGS_0.1/seed_11</th>\n",
       "      <th>4695.294673</th>\n",
       "      <td>386.96126</td>\n",
       "      <td>581.070311</td>\n",
       "      <td>509.470415</td>\n",
       "      <td>840.145836</td>\n",
       "      <td>529.900692</td>\n",
       "      <td>692.640584</td>\n",
       "      <td>838.999651</td>\n",
       "      <td>15880.762189</td>\n",
       "      <td>11011.725792</td>\n",
       "      <td>26261.440587</td>\n",
       "      <td>24335.973556</td>\n",
       "      <td>51531.189838</td>\n",
       "      <td>69219.600315</td>\n",
       "      <td>78725.718503</td>\n",
       "      <td>159604.028802</td>\n",
       "      <td>335049.107666</td>\n",
       "      <td>74414.733517</td>\n",
       "    </tr>\n",
       "    <tr>\n",
       "      <th>logs/dataset_train_data_evrp_wcci_HGS_0.1/seed_12</th>\n",
       "      <th>4856.495643</th>\n",
       "      <td>386.96126</td>\n",
       "      <td>581.070311</td>\n",
       "      <td>509.470415</td>\n",
       "      <td>840.145836</td>\n",
       "      <td>529.900692</td>\n",
       "      <td>692.640584</td>\n",
       "      <td>838.999651</td>\n",
       "      <td>15878.507622</td>\n",
       "      <td>11027.619539</td>\n",
       "      <td>26274.340365</td>\n",
       "      <td>24355.776167</td>\n",
       "      <td>51243.158753</td>\n",
       "      <td>69292.425963</td>\n",
       "      <td>79020.081215</td>\n",
       "      <td>159476.911690</td>\n",
       "      <td>334888.471815</td>\n",
       "      <td>74303.916825</td>\n",
       "    </tr>\n",
       "    <tr>\n",
       "      <th>logs/dataset_train_data_evrp_wcci_HGS_0.1/seed_13</th>\n",
       "      <th>4671.370626</th>\n",
       "      <td>386.96126</td>\n",
       "      <td>581.070311</td>\n",
       "      <td>509.470415</td>\n",
       "      <td>840.145836</td>\n",
       "      <td>529.900692</td>\n",
       "      <td>692.640584</td>\n",
       "      <td>838.999651</td>\n",
       "      <td>15888.992132</td>\n",
       "      <td>11014.824002</td>\n",
       "      <td>26268.942487</td>\n",
       "      <td>24322.989214</td>\n",
       "      <td>51340.289450</td>\n",
       "      <td>69133.215868</td>\n",
       "      <td>78963.513594</td>\n",
       "      <td>159542.096426</td>\n",
       "      <td>334711.247868</td>\n",
       "      <td>74429.622835</td>\n",
       "    </tr>\n",
       "    <tr>\n",
       "      <th>logs/dataset_train_data_evrp_wcci_HGS_0.1/seed_14</th>\n",
       "      <th>4889.840440</th>\n",
       "      <td>386.96126</td>\n",
       "      <td>581.070311</td>\n",
       "      <td>509.470415</td>\n",
       "      <td>840.145836</td>\n",
       "      <td>529.900692</td>\n",
       "      <td>692.640584</td>\n",
       "      <td>838.999651</td>\n",
       "      <td>15880.762189</td>\n",
       "      <td>11028.565888</td>\n",
       "      <td>26317.810486</td>\n",
       "      <td>24263.330270</td>\n",
       "      <td>51376.881634</td>\n",
       "      <td>69202.012886</td>\n",
       "      <td>78860.960339</td>\n",
       "      <td>159672.965842</td>\n",
       "      <td>334099.028445</td>\n",
       "      <td>74573.485831</td>\n",
       "    </tr>\n",
       "    <tr>\n",
       "      <th>logs/dataset_train_data_evrp_wcci_HGS_0.1/seed_15</th>\n",
       "      <th>4863.959133</th>\n",
       "      <td>386.96126</td>\n",
       "      <td>581.070311</td>\n",
       "      <td>509.470415</td>\n",
       "      <td>840.145836</td>\n",
       "      <td>529.900692</td>\n",
       "      <td>692.640584</td>\n",
       "      <td>838.999651</td>\n",
       "      <td>15880.762189</td>\n",
       "      <td>11023.770874</td>\n",
       "      <td>26222.066151</td>\n",
       "      <td>24322.909120</td>\n",
       "      <td>51262.357733</td>\n",
       "      <td>69253.993225</td>\n",
       "      <td>78746.034154</td>\n",
       "      <td>159587.965858</td>\n",
       "      <td>334464.327310</td>\n",
       "      <td>74514.346660</td>\n",
       "    </tr>\n",
       "    <tr>\n",
       "      <th>logs/dataset_train_data_evrp_wcci_HGS_0.1/seed_16</th>\n",
       "      <th>4875.430531</th>\n",
       "      <td>386.96126</td>\n",
       "      <td>581.070311</td>\n",
       "      <td>509.470415</td>\n",
       "      <td>840.145836</td>\n",
       "      <td>529.900692</td>\n",
       "      <td>692.640584</td>\n",
       "      <td>838.999651</td>\n",
       "      <td>15865.193797</td>\n",
       "      <td>11046.126805</td>\n",
       "      <td>26257.422483</td>\n",
       "      <td>24292.141329</td>\n",
       "      <td>51324.383705</td>\n",
       "      <td>69312.276544</td>\n",
       "      <td>78683.913035</td>\n",
       "      <td>159514.485241</td>\n",
       "      <td>334332.568247</td>\n",
       "      <td>74608.729759</td>\n",
       "    </tr>\n",
       "    <tr>\n",
       "      <th>logs/dataset_train_data_evrp_wcci_HGS_0.1/seed_17</th>\n",
       "      <th>4756.792766</th>\n",
       "      <td>386.96126</td>\n",
       "      <td>581.070311</td>\n",
       "      <td>509.470415</td>\n",
       "      <td>840.145836</td>\n",
       "      <td>529.900692</td>\n",
       "      <td>692.640584</td>\n",
       "      <td>838.999651</td>\n",
       "      <td>15878.507622</td>\n",
       "      <td>11047.955672</td>\n",
       "      <td>26295.962560</td>\n",
       "      <td>24403.403356</td>\n",
       "      <td>51391.728658</td>\n",
       "      <td>69278.422206</td>\n",
       "      <td>78907.472962</td>\n",
       "      <td>159700.939538</td>\n",
       "      <td>334580.989318</td>\n",
       "      <td>74550.808326</td>\n",
       "    </tr>\n",
       "    <tr>\n",
       "      <th>logs/dataset_train_data_evrp_wcci_HGS_0.1/seed_18</th>\n",
       "      <th>4811.067721</th>\n",
       "      <td>386.96126</td>\n",
       "      <td>581.070311</td>\n",
       "      <td>509.470415</td>\n",
       "      <td>840.145836</td>\n",
       "      <td>529.900692</td>\n",
       "      <td>692.640584</td>\n",
       "      <td>838.999651</td>\n",
       "      <td>15880.762189</td>\n",
       "      <td>11028.268613</td>\n",
       "      <td>26249.949619</td>\n",
       "      <td>24325.668775</td>\n",
       "      <td>51483.835719</td>\n",
       "      <td>69085.437493</td>\n",
       "      <td>78975.148602</td>\n",
       "      <td>159554.635410</td>\n",
       "      <td>334616.080279</td>\n",
       "      <td>74274.066670</td>\n",
       "    </tr>\n",
       "    <tr>\n",
       "      <th>logs/dataset_train_data_evrp_wcci_HGS_0.1/seed_19</th>\n",
       "      <th>3041.268814</th>\n",
       "      <td>386.96126</td>\n",
       "      <td>581.070311</td>\n",
       "      <td>509.470415</td>\n",
       "      <td>840.145836</td>\n",
       "      <td>529.900692</td>\n",
       "      <td>692.640584</td>\n",
       "      <td>838.999651</td>\n",
       "      <td>15878.507622</td>\n",
       "      <td>11014.043571</td>\n",
       "      <td>26382.113647</td>\n",
       "      <td>24290.744216</td>\n",
       "      <td>51138.085757</td>\n",
       "      <td>69189.439235</td>\n",
       "      <td>78988.367551</td>\n",
       "      <td>159557.857688</td>\n",
       "      <td>334645.388902</td>\n",
       "      <td>74482.667267</td>\n",
       "    </tr>\n",
       "    <tr>\n",
       "      <th>logs/dataset_train_data_evrp_wcci_HGS_0.1/seed_20</th>\n",
       "      <th>2987.604745</th>\n",
       "      <td>386.96126</td>\n",
       "      <td>581.070311</td>\n",
       "      <td>509.470415</td>\n",
       "      <td>840.145836</td>\n",
       "      <td>529.900692</td>\n",
       "      <td>692.640584</td>\n",
       "      <td>838.999651</td>\n",
       "      <td>15880.762189</td>\n",
       "      <td>11012.379016</td>\n",
       "      <td>26243.166276</td>\n",
       "      <td>24361.401521</td>\n",
       "      <td>51289.718959</td>\n",
       "      <td>69125.933590</td>\n",
       "      <td>78993.096337</td>\n",
       "      <td>159618.999816</td>\n",
       "      <td>334491.861838</td>\n",
       "      <td>74367.672389</td>\n",
       "    </tr>\n",
       "  </tbody>\n",
       "</table>\n",
       "</div>"
      ],
      "text/plain": [
       "                                                                E-n22-k4.evrp  \\\n",
       "Folder                                            Running Time                  \n",
       "logs/dataset_train_data_evrp_wcci_HGS_0.1/seed_1  4777.062319       386.96126   \n",
       "logs/dataset_train_data_evrp_wcci_HGS_0.1/seed_2  4772.085239       386.96126   \n",
       "logs/dataset_train_data_evrp_wcci_HGS_0.1/seed_3  4788.849669       386.96126   \n",
       "logs/dataset_train_data_evrp_wcci_HGS_0.1/seed_4  4840.699600       386.96126   \n",
       "logs/dataset_train_data_evrp_wcci_HGS_0.1/seed_5  4717.080919       386.96126   \n",
       "logs/dataset_train_data_evrp_wcci_HGS_0.1/seed_6  4629.198482       386.96126   \n",
       "logs/dataset_train_data_evrp_wcci_HGS_0.1/seed_7  4876.168765       386.96126   \n",
       "logs/dataset_train_data_evrp_wcci_HGS_0.1/seed_8  4933.962519       386.96126   \n",
       "logs/dataset_train_data_evrp_wcci_HGS_0.1/seed_9  4885.769333       386.96126   \n",
       "logs/dataset_train_data_evrp_wcci_HGS_0.1/seed_10 4833.703541       386.96126   \n",
       "logs/dataset_train_data_evrp_wcci_HGS_0.1/seed_11 4695.294673       386.96126   \n",
       "logs/dataset_train_data_evrp_wcci_HGS_0.1/seed_12 4856.495643       386.96126   \n",
       "logs/dataset_train_data_evrp_wcci_HGS_0.1/seed_13 4671.370626       386.96126   \n",
       "logs/dataset_train_data_evrp_wcci_HGS_0.1/seed_14 4889.840440       386.96126   \n",
       "logs/dataset_train_data_evrp_wcci_HGS_0.1/seed_15 4863.959133       386.96126   \n",
       "logs/dataset_train_data_evrp_wcci_HGS_0.1/seed_16 4875.430531       386.96126   \n",
       "logs/dataset_train_data_evrp_wcci_HGS_0.1/seed_17 4756.792766       386.96126   \n",
       "logs/dataset_train_data_evrp_wcci_HGS_0.1/seed_18 4811.067721       386.96126   \n",
       "logs/dataset_train_data_evrp_wcci_HGS_0.1/seed_19 3041.268814       386.96126   \n",
       "logs/dataset_train_data_evrp_wcci_HGS_0.1/seed_20 2987.604745       386.96126   \n",
       "\n",
       "                                                                E-n23-k3.evrp  \\\n",
       "Folder                                            Running Time                  \n",
       "logs/dataset_train_data_evrp_wcci_HGS_0.1/seed_1  4777.062319      581.070311   \n",
       "logs/dataset_train_data_evrp_wcci_HGS_0.1/seed_2  4772.085239      581.070311   \n",
       "logs/dataset_train_data_evrp_wcci_HGS_0.1/seed_3  4788.849669      581.070311   \n",
       "logs/dataset_train_data_evrp_wcci_HGS_0.1/seed_4  4840.699600      581.070311   \n",
       "logs/dataset_train_data_evrp_wcci_HGS_0.1/seed_5  4717.080919      581.070311   \n",
       "logs/dataset_train_data_evrp_wcci_HGS_0.1/seed_6  4629.198482      581.070311   \n",
       "logs/dataset_train_data_evrp_wcci_HGS_0.1/seed_7  4876.168765      581.070311   \n",
       "logs/dataset_train_data_evrp_wcci_HGS_0.1/seed_8  4933.962519      581.070311   \n",
       "logs/dataset_train_data_evrp_wcci_HGS_0.1/seed_9  4885.769333      581.070311   \n",
       "logs/dataset_train_data_evrp_wcci_HGS_0.1/seed_10 4833.703541      581.070311   \n",
       "logs/dataset_train_data_evrp_wcci_HGS_0.1/seed_11 4695.294673      581.070311   \n",
       "logs/dataset_train_data_evrp_wcci_HGS_0.1/seed_12 4856.495643      581.070311   \n",
       "logs/dataset_train_data_evrp_wcci_HGS_0.1/seed_13 4671.370626      581.070311   \n",
       "logs/dataset_train_data_evrp_wcci_HGS_0.1/seed_14 4889.840440      581.070311   \n",
       "logs/dataset_train_data_evrp_wcci_HGS_0.1/seed_15 4863.959133      581.070311   \n",
       "logs/dataset_train_data_evrp_wcci_HGS_0.1/seed_16 4875.430531      581.070311   \n",
       "logs/dataset_train_data_evrp_wcci_HGS_0.1/seed_17 4756.792766      581.070311   \n",
       "logs/dataset_train_data_evrp_wcci_HGS_0.1/seed_18 4811.067721      581.070311   \n",
       "logs/dataset_train_data_evrp_wcci_HGS_0.1/seed_19 3041.268814      581.070311   \n",
       "logs/dataset_train_data_evrp_wcci_HGS_0.1/seed_20 2987.604745      581.070311   \n",
       "\n",
       "                                                                E-n30-k3.evrp  \\\n",
       "Folder                                            Running Time                  \n",
       "logs/dataset_train_data_evrp_wcci_HGS_0.1/seed_1  4777.062319      509.470415   \n",
       "logs/dataset_train_data_evrp_wcci_HGS_0.1/seed_2  4772.085239      509.470415   \n",
       "logs/dataset_train_data_evrp_wcci_HGS_0.1/seed_3  4788.849669      509.470415   \n",
       "logs/dataset_train_data_evrp_wcci_HGS_0.1/seed_4  4840.699600      509.470415   \n",
       "logs/dataset_train_data_evrp_wcci_HGS_0.1/seed_5  4717.080919      509.470415   \n",
       "logs/dataset_train_data_evrp_wcci_HGS_0.1/seed_6  4629.198482      509.470415   \n",
       "logs/dataset_train_data_evrp_wcci_HGS_0.1/seed_7  4876.168765      509.470415   \n",
       "logs/dataset_train_data_evrp_wcci_HGS_0.1/seed_8  4933.962519      509.470415   \n",
       "logs/dataset_train_data_evrp_wcci_HGS_0.1/seed_9  4885.769333      509.470415   \n",
       "logs/dataset_train_data_evrp_wcci_HGS_0.1/seed_10 4833.703541      509.470415   \n",
       "logs/dataset_train_data_evrp_wcci_HGS_0.1/seed_11 4695.294673      509.470415   \n",
       "logs/dataset_train_data_evrp_wcci_HGS_0.1/seed_12 4856.495643      509.470415   \n",
       "logs/dataset_train_data_evrp_wcci_HGS_0.1/seed_13 4671.370626      509.470415   \n",
       "logs/dataset_train_data_evrp_wcci_HGS_0.1/seed_14 4889.840440      509.470415   \n",
       "logs/dataset_train_data_evrp_wcci_HGS_0.1/seed_15 4863.959133      509.470415   \n",
       "logs/dataset_train_data_evrp_wcci_HGS_0.1/seed_16 4875.430531      509.470415   \n",
       "logs/dataset_train_data_evrp_wcci_HGS_0.1/seed_17 4756.792766      509.470415   \n",
       "logs/dataset_train_data_evrp_wcci_HGS_0.1/seed_18 4811.067721      509.470415   \n",
       "logs/dataset_train_data_evrp_wcci_HGS_0.1/seed_19 3041.268814      509.470415   \n",
       "logs/dataset_train_data_evrp_wcci_HGS_0.1/seed_20 2987.604745      509.470415   \n",
       "\n",
       "                                                                E-n33-k4.evrp  \\\n",
       "Folder                                            Running Time                  \n",
       "logs/dataset_train_data_evrp_wcci_HGS_0.1/seed_1  4777.062319      840.145836   \n",
       "logs/dataset_train_data_evrp_wcci_HGS_0.1/seed_2  4772.085239      840.145836   \n",
       "logs/dataset_train_data_evrp_wcci_HGS_0.1/seed_3  4788.849669      840.145836   \n",
       "logs/dataset_train_data_evrp_wcci_HGS_0.1/seed_4  4840.699600      840.145836   \n",
       "logs/dataset_train_data_evrp_wcci_HGS_0.1/seed_5  4717.080919      840.145836   \n",
       "logs/dataset_train_data_evrp_wcci_HGS_0.1/seed_6  4629.198482      840.145836   \n",
       "logs/dataset_train_data_evrp_wcci_HGS_0.1/seed_7  4876.168765      840.145836   \n",
       "logs/dataset_train_data_evrp_wcci_HGS_0.1/seed_8  4933.962519      840.145836   \n",
       "logs/dataset_train_data_evrp_wcci_HGS_0.1/seed_9  4885.769333      840.145836   \n",
       "logs/dataset_train_data_evrp_wcci_HGS_0.1/seed_10 4833.703541      840.145836   \n",
       "logs/dataset_train_data_evrp_wcci_HGS_0.1/seed_11 4695.294673      840.145836   \n",
       "logs/dataset_train_data_evrp_wcci_HGS_0.1/seed_12 4856.495643      840.145836   \n",
       "logs/dataset_train_data_evrp_wcci_HGS_0.1/seed_13 4671.370626      840.145836   \n",
       "logs/dataset_train_data_evrp_wcci_HGS_0.1/seed_14 4889.840440      840.145836   \n",
       "logs/dataset_train_data_evrp_wcci_HGS_0.1/seed_15 4863.959133      840.145836   \n",
       "logs/dataset_train_data_evrp_wcci_HGS_0.1/seed_16 4875.430531      840.145836   \n",
       "logs/dataset_train_data_evrp_wcci_HGS_0.1/seed_17 4756.792766      840.145836   \n",
       "logs/dataset_train_data_evrp_wcci_HGS_0.1/seed_18 4811.067721      840.145836   \n",
       "logs/dataset_train_data_evrp_wcci_HGS_0.1/seed_19 3041.268814      840.145836   \n",
       "logs/dataset_train_data_evrp_wcci_HGS_0.1/seed_20 2987.604745      840.145836   \n",
       "\n",
       "                                                                E-n51-k5.evrp  \\\n",
       "Folder                                            Running Time                  \n",
       "logs/dataset_train_data_evrp_wcci_HGS_0.1/seed_1  4777.062319      529.900692   \n",
       "logs/dataset_train_data_evrp_wcci_HGS_0.1/seed_2  4772.085239      529.900692   \n",
       "logs/dataset_train_data_evrp_wcci_HGS_0.1/seed_3  4788.849669      529.900692   \n",
       "logs/dataset_train_data_evrp_wcci_HGS_0.1/seed_4  4840.699600      529.900692   \n",
       "logs/dataset_train_data_evrp_wcci_HGS_0.1/seed_5  4717.080919      529.900692   \n",
       "logs/dataset_train_data_evrp_wcci_HGS_0.1/seed_6  4629.198482      529.900692   \n",
       "logs/dataset_train_data_evrp_wcci_HGS_0.1/seed_7  4876.168765      529.900692   \n",
       "logs/dataset_train_data_evrp_wcci_HGS_0.1/seed_8  4933.962519      529.900692   \n",
       "logs/dataset_train_data_evrp_wcci_HGS_0.1/seed_9  4885.769333      529.900692   \n",
       "logs/dataset_train_data_evrp_wcci_HGS_0.1/seed_10 4833.703541      529.900692   \n",
       "logs/dataset_train_data_evrp_wcci_HGS_0.1/seed_11 4695.294673      529.900692   \n",
       "logs/dataset_train_data_evrp_wcci_HGS_0.1/seed_12 4856.495643      529.900692   \n",
       "logs/dataset_train_data_evrp_wcci_HGS_0.1/seed_13 4671.370626      529.900692   \n",
       "logs/dataset_train_data_evrp_wcci_HGS_0.1/seed_14 4889.840440      529.900692   \n",
       "logs/dataset_train_data_evrp_wcci_HGS_0.1/seed_15 4863.959133      529.900692   \n",
       "logs/dataset_train_data_evrp_wcci_HGS_0.1/seed_16 4875.430531      529.900692   \n",
       "logs/dataset_train_data_evrp_wcci_HGS_0.1/seed_17 4756.792766      529.900692   \n",
       "logs/dataset_train_data_evrp_wcci_HGS_0.1/seed_18 4811.067721      529.900692   \n",
       "logs/dataset_train_data_evrp_wcci_HGS_0.1/seed_19 3041.268814      529.900692   \n",
       "logs/dataset_train_data_evrp_wcci_HGS_0.1/seed_20 2987.604745      529.900692   \n",
       "\n",
       "                                                                E-n76-k7.evrp  \\\n",
       "Folder                                            Running Time                  \n",
       "logs/dataset_train_data_evrp_wcci_HGS_0.1/seed_1  4777.062319      692.640584   \n",
       "logs/dataset_train_data_evrp_wcci_HGS_0.1/seed_2  4772.085239      692.640584   \n",
       "logs/dataset_train_data_evrp_wcci_HGS_0.1/seed_3  4788.849669      692.640584   \n",
       "logs/dataset_train_data_evrp_wcci_HGS_0.1/seed_4  4840.699600      692.640584   \n",
       "logs/dataset_train_data_evrp_wcci_HGS_0.1/seed_5  4717.080919      692.640584   \n",
       "logs/dataset_train_data_evrp_wcci_HGS_0.1/seed_6  4629.198482      692.640584   \n",
       "logs/dataset_train_data_evrp_wcci_HGS_0.1/seed_7  4876.168765      692.640584   \n",
       "logs/dataset_train_data_evrp_wcci_HGS_0.1/seed_8  4933.962519      692.640584   \n",
       "logs/dataset_train_data_evrp_wcci_HGS_0.1/seed_9  4885.769333      692.640584   \n",
       "logs/dataset_train_data_evrp_wcci_HGS_0.1/seed_10 4833.703541      692.640584   \n",
       "logs/dataset_train_data_evrp_wcci_HGS_0.1/seed_11 4695.294673      692.640584   \n",
       "logs/dataset_train_data_evrp_wcci_HGS_0.1/seed_12 4856.495643      692.640584   \n",
       "logs/dataset_train_data_evrp_wcci_HGS_0.1/seed_13 4671.370626      692.640584   \n",
       "logs/dataset_train_data_evrp_wcci_HGS_0.1/seed_14 4889.840440      692.640584   \n",
       "logs/dataset_train_data_evrp_wcci_HGS_0.1/seed_15 4863.959133      692.640584   \n",
       "logs/dataset_train_data_evrp_wcci_HGS_0.1/seed_16 4875.430531      692.640584   \n",
       "logs/dataset_train_data_evrp_wcci_HGS_0.1/seed_17 4756.792766      692.640584   \n",
       "logs/dataset_train_data_evrp_wcci_HGS_0.1/seed_18 4811.067721      692.640584   \n",
       "logs/dataset_train_data_evrp_wcci_HGS_0.1/seed_19 3041.268814      692.640584   \n",
       "logs/dataset_train_data_evrp_wcci_HGS_0.1/seed_20 2987.604745      692.640584   \n",
       "\n",
       "                                                                E-n101-k8.evrp  \\\n",
       "Folder                                            Running Time                   \n",
       "logs/dataset_train_data_evrp_wcci_HGS_0.1/seed_1  4777.062319       838.999651   \n",
       "logs/dataset_train_data_evrp_wcci_HGS_0.1/seed_2  4772.085239       838.999651   \n",
       "logs/dataset_train_data_evrp_wcci_HGS_0.1/seed_3  4788.849669       838.999651   \n",
       "logs/dataset_train_data_evrp_wcci_HGS_0.1/seed_4  4840.699600       838.999651   \n",
       "logs/dataset_train_data_evrp_wcci_HGS_0.1/seed_5  4717.080919       838.999651   \n",
       "logs/dataset_train_data_evrp_wcci_HGS_0.1/seed_6  4629.198482       838.999651   \n",
       "logs/dataset_train_data_evrp_wcci_HGS_0.1/seed_7  4876.168765       838.999651   \n",
       "logs/dataset_train_data_evrp_wcci_HGS_0.1/seed_8  4933.962519       838.999651   \n",
       "logs/dataset_train_data_evrp_wcci_HGS_0.1/seed_9  4885.769333       838.999651   \n",
       "logs/dataset_train_data_evrp_wcci_HGS_0.1/seed_10 4833.703541       838.999651   \n",
       "logs/dataset_train_data_evrp_wcci_HGS_0.1/seed_11 4695.294673       838.999651   \n",
       "logs/dataset_train_data_evrp_wcci_HGS_0.1/seed_12 4856.495643       838.999651   \n",
       "logs/dataset_train_data_evrp_wcci_HGS_0.1/seed_13 4671.370626       838.999651   \n",
       "logs/dataset_train_data_evrp_wcci_HGS_0.1/seed_14 4889.840440       838.999651   \n",
       "logs/dataset_train_data_evrp_wcci_HGS_0.1/seed_15 4863.959133       838.999651   \n",
       "logs/dataset_train_data_evrp_wcci_HGS_0.1/seed_16 4875.430531       838.999651   \n",
       "logs/dataset_train_data_evrp_wcci_HGS_0.1/seed_17 4756.792766       838.999651   \n",
       "logs/dataset_train_data_evrp_wcci_HGS_0.1/seed_18 4811.067721       838.999651   \n",
       "logs/dataset_train_data_evrp_wcci_HGS_0.1/seed_19 3041.268814       838.999651   \n",
       "logs/dataset_train_data_evrp_wcci_HGS_0.1/seed_20 2987.604745       838.999651   \n",
       "\n",
       "                                                                X-n143-k7.evrp  \\\n",
       "Folder                                            Running Time                   \n",
       "logs/dataset_train_data_evrp_wcci_HGS_0.1/seed_1  4777.062319     15878.507622   \n",
       "logs/dataset_train_data_evrp_wcci_HGS_0.1/seed_2  4772.085239     15878.507622   \n",
       "logs/dataset_train_data_evrp_wcci_HGS_0.1/seed_3  4788.849669     15877.543245   \n",
       "logs/dataset_train_data_evrp_wcci_HGS_0.1/seed_4  4840.699600     15878.507622   \n",
       "logs/dataset_train_data_evrp_wcci_HGS_0.1/seed_5  4717.080919     15865.497629   \n",
       "logs/dataset_train_data_evrp_wcci_HGS_0.1/seed_6  4629.198482     15878.507622   \n",
       "logs/dataset_train_data_evrp_wcci_HGS_0.1/seed_7  4876.168765     15880.762189   \n",
       "logs/dataset_train_data_evrp_wcci_HGS_0.1/seed_8  4933.962519     15880.762189   \n",
       "logs/dataset_train_data_evrp_wcci_HGS_0.1/seed_9  4885.769333     15880.762189   \n",
       "logs/dataset_train_data_evrp_wcci_HGS_0.1/seed_10 4833.703541     15878.507622   \n",
       "logs/dataset_train_data_evrp_wcci_HGS_0.1/seed_11 4695.294673     15880.762189   \n",
       "logs/dataset_train_data_evrp_wcci_HGS_0.1/seed_12 4856.495643     15878.507622   \n",
       "logs/dataset_train_data_evrp_wcci_HGS_0.1/seed_13 4671.370626     15888.992132   \n",
       "logs/dataset_train_data_evrp_wcci_HGS_0.1/seed_14 4889.840440     15880.762189   \n",
       "logs/dataset_train_data_evrp_wcci_HGS_0.1/seed_15 4863.959133     15880.762189   \n",
       "logs/dataset_train_data_evrp_wcci_HGS_0.1/seed_16 4875.430531     15865.193797   \n",
       "logs/dataset_train_data_evrp_wcci_HGS_0.1/seed_17 4756.792766     15878.507622   \n",
       "logs/dataset_train_data_evrp_wcci_HGS_0.1/seed_18 4811.067721     15880.762189   \n",
       "logs/dataset_train_data_evrp_wcci_HGS_0.1/seed_19 3041.268814     15878.507622   \n",
       "logs/dataset_train_data_evrp_wcci_HGS_0.1/seed_20 2987.604745     15880.762189   \n",
       "\n",
       "                                                                X-n214-k11.evrp  \\\n",
       "Folder                                            Running Time                    \n",
       "logs/dataset_train_data_evrp_wcci_HGS_0.1/seed_1  4777.062319      11028.423360   \n",
       "logs/dataset_train_data_evrp_wcci_HGS_0.1/seed_2  4772.085239      10991.835317   \n",
       "logs/dataset_train_data_evrp_wcci_HGS_0.1/seed_3  4788.849669      11036.209690   \n",
       "logs/dataset_train_data_evrp_wcci_HGS_0.1/seed_4  4840.699600      11047.116376   \n",
       "logs/dataset_train_data_evrp_wcci_HGS_0.1/seed_5  4717.080919      11019.991970   \n",
       "logs/dataset_train_data_evrp_wcci_HGS_0.1/seed_6  4629.198482      11011.418661   \n",
       "logs/dataset_train_data_evrp_wcci_HGS_0.1/seed_7  4876.168765      11038.621374   \n",
       "logs/dataset_train_data_evrp_wcci_HGS_0.1/seed_8  4933.962519      11032.831939   \n",
       "logs/dataset_train_data_evrp_wcci_HGS_0.1/seed_9  4885.769333      11015.893882   \n",
       "logs/dataset_train_data_evrp_wcci_HGS_0.1/seed_10 4833.703541      11034.282404   \n",
       "logs/dataset_train_data_evrp_wcci_HGS_0.1/seed_11 4695.294673      11011.725792   \n",
       "logs/dataset_train_data_evrp_wcci_HGS_0.1/seed_12 4856.495643      11027.619539   \n",
       "logs/dataset_train_data_evrp_wcci_HGS_0.1/seed_13 4671.370626      11014.824002   \n",
       "logs/dataset_train_data_evrp_wcci_HGS_0.1/seed_14 4889.840440      11028.565888   \n",
       "logs/dataset_train_data_evrp_wcci_HGS_0.1/seed_15 4863.959133      11023.770874   \n",
       "logs/dataset_train_data_evrp_wcci_HGS_0.1/seed_16 4875.430531      11046.126805   \n",
       "logs/dataset_train_data_evrp_wcci_HGS_0.1/seed_17 4756.792766      11047.955672   \n",
       "logs/dataset_train_data_evrp_wcci_HGS_0.1/seed_18 4811.067721      11028.268613   \n",
       "logs/dataset_train_data_evrp_wcci_HGS_0.1/seed_19 3041.268814      11014.043571   \n",
       "logs/dataset_train_data_evrp_wcci_HGS_0.1/seed_20 2987.604745      11012.379016   \n",
       "\n",
       "                                                                X-n351-k40.evrp  \\\n",
       "Folder                                            Running Time                    \n",
       "logs/dataset_train_data_evrp_wcci_HGS_0.1/seed_1  4777.062319      26293.909724   \n",
       "logs/dataset_train_data_evrp_wcci_HGS_0.1/seed_2  4772.085239      26291.854814   \n",
       "logs/dataset_train_data_evrp_wcci_HGS_0.1/seed_3  4788.849669      26222.706953   \n",
       "logs/dataset_train_data_evrp_wcci_HGS_0.1/seed_4  4840.699600      26279.329996   \n",
       "logs/dataset_train_data_evrp_wcci_HGS_0.1/seed_5  4717.080919      26272.968383   \n",
       "logs/dataset_train_data_evrp_wcci_HGS_0.1/seed_6  4629.198482      26259.592477   \n",
       "logs/dataset_train_data_evrp_wcci_HGS_0.1/seed_7  4876.168765      26325.946051   \n",
       "logs/dataset_train_data_evrp_wcci_HGS_0.1/seed_8  4933.962519      26172.752148   \n",
       "logs/dataset_train_data_evrp_wcci_HGS_0.1/seed_9  4885.769333      26256.652125   \n",
       "logs/dataset_train_data_evrp_wcci_HGS_0.1/seed_10 4833.703541      26270.469318   \n",
       "logs/dataset_train_data_evrp_wcci_HGS_0.1/seed_11 4695.294673      26261.440587   \n",
       "logs/dataset_train_data_evrp_wcci_HGS_0.1/seed_12 4856.495643      26274.340365   \n",
       "logs/dataset_train_data_evrp_wcci_HGS_0.1/seed_13 4671.370626      26268.942487   \n",
       "logs/dataset_train_data_evrp_wcci_HGS_0.1/seed_14 4889.840440      26317.810486   \n",
       "logs/dataset_train_data_evrp_wcci_HGS_0.1/seed_15 4863.959133      26222.066151   \n",
       "logs/dataset_train_data_evrp_wcci_HGS_0.1/seed_16 4875.430531      26257.422483   \n",
       "logs/dataset_train_data_evrp_wcci_HGS_0.1/seed_17 4756.792766      26295.962560   \n",
       "logs/dataset_train_data_evrp_wcci_HGS_0.1/seed_18 4811.067721      26249.949619   \n",
       "logs/dataset_train_data_evrp_wcci_HGS_0.1/seed_19 3041.268814      26382.113647   \n",
       "logs/dataset_train_data_evrp_wcci_HGS_0.1/seed_20 2987.604745      26243.166276   \n",
       "\n",
       "                                                                X-n459-k26.evrp  \\\n",
       "Folder                                            Running Time                    \n",
       "logs/dataset_train_data_evrp_wcci_HGS_0.1/seed_1  4777.062319      24350.377828   \n",
       "logs/dataset_train_data_evrp_wcci_HGS_0.1/seed_2  4772.085239      24401.296265   \n",
       "logs/dataset_train_data_evrp_wcci_HGS_0.1/seed_3  4788.849669      24359.533890   \n",
       "logs/dataset_train_data_evrp_wcci_HGS_0.1/seed_4  4840.699600      24429.311595   \n",
       "logs/dataset_train_data_evrp_wcci_HGS_0.1/seed_5  4717.080919      24317.276068   \n",
       "logs/dataset_train_data_evrp_wcci_HGS_0.1/seed_6  4629.198482      24492.686272   \n",
       "logs/dataset_train_data_evrp_wcci_HGS_0.1/seed_7  4876.168765      24337.671221   \n",
       "logs/dataset_train_data_evrp_wcci_HGS_0.1/seed_8  4933.962519      24333.774901   \n",
       "logs/dataset_train_data_evrp_wcci_HGS_0.1/seed_9  4885.769333      24426.615178   \n",
       "logs/dataset_train_data_evrp_wcci_HGS_0.1/seed_10 4833.703541      24421.207628   \n",
       "logs/dataset_train_data_evrp_wcci_HGS_0.1/seed_11 4695.294673      24335.973556   \n",
       "logs/dataset_train_data_evrp_wcci_HGS_0.1/seed_12 4856.495643      24355.776167   \n",
       "logs/dataset_train_data_evrp_wcci_HGS_0.1/seed_13 4671.370626      24322.989214   \n",
       "logs/dataset_train_data_evrp_wcci_HGS_0.1/seed_14 4889.840440      24263.330270   \n",
       "logs/dataset_train_data_evrp_wcci_HGS_0.1/seed_15 4863.959133      24322.909120   \n",
       "logs/dataset_train_data_evrp_wcci_HGS_0.1/seed_16 4875.430531      24292.141329   \n",
       "logs/dataset_train_data_evrp_wcci_HGS_0.1/seed_17 4756.792766      24403.403356   \n",
       "logs/dataset_train_data_evrp_wcci_HGS_0.1/seed_18 4811.067721      24325.668775   \n",
       "logs/dataset_train_data_evrp_wcci_HGS_0.1/seed_19 3041.268814      24290.744216   \n",
       "logs/dataset_train_data_evrp_wcci_HGS_0.1/seed_20 2987.604745      24361.401521   \n",
       "\n",
       "                                                                X-n573-k30.evrp  \\\n",
       "Folder                                            Running Time                    \n",
       "logs/dataset_train_data_evrp_wcci_HGS_0.1/seed_1  4777.062319      51330.110609   \n",
       "logs/dataset_train_data_evrp_wcci_HGS_0.1/seed_2  4772.085239      51232.968824   \n",
       "logs/dataset_train_data_evrp_wcci_HGS_0.1/seed_3  4788.849669      51323.745530   \n",
       "logs/dataset_train_data_evrp_wcci_HGS_0.1/seed_4  4840.699600      51335.805890   \n",
       "logs/dataset_train_data_evrp_wcci_HGS_0.1/seed_5  4717.080919      51322.107675   \n",
       "logs/dataset_train_data_evrp_wcci_HGS_0.1/seed_6  4629.198482      51600.763256   \n",
       "logs/dataset_train_data_evrp_wcci_HGS_0.1/seed_7  4876.168765      51591.294127   \n",
       "logs/dataset_train_data_evrp_wcci_HGS_0.1/seed_8  4933.962519      51346.730288   \n",
       "logs/dataset_train_data_evrp_wcci_HGS_0.1/seed_9  4885.769333      51396.844373   \n",
       "logs/dataset_train_data_evrp_wcci_HGS_0.1/seed_10 4833.703541      51365.370694   \n",
       "logs/dataset_train_data_evrp_wcci_HGS_0.1/seed_11 4695.294673      51531.189838   \n",
       "logs/dataset_train_data_evrp_wcci_HGS_0.1/seed_12 4856.495643      51243.158753   \n",
       "logs/dataset_train_data_evrp_wcci_HGS_0.1/seed_13 4671.370626      51340.289450   \n",
       "logs/dataset_train_data_evrp_wcci_HGS_0.1/seed_14 4889.840440      51376.881634   \n",
       "logs/dataset_train_data_evrp_wcci_HGS_0.1/seed_15 4863.959133      51262.357733   \n",
       "logs/dataset_train_data_evrp_wcci_HGS_0.1/seed_16 4875.430531      51324.383705   \n",
       "logs/dataset_train_data_evrp_wcci_HGS_0.1/seed_17 4756.792766      51391.728658   \n",
       "logs/dataset_train_data_evrp_wcci_HGS_0.1/seed_18 4811.067721      51483.835719   \n",
       "logs/dataset_train_data_evrp_wcci_HGS_0.1/seed_19 3041.268814      51138.085757   \n",
       "logs/dataset_train_data_evrp_wcci_HGS_0.1/seed_20 2987.604745      51289.718959   \n",
       "\n",
       "                                                                X-n685-k75.evrp  \\\n",
       "Folder                                            Running Time                    \n",
       "logs/dataset_train_data_evrp_wcci_HGS_0.1/seed_1  4777.062319      69170.057532   \n",
       "logs/dataset_train_data_evrp_wcci_HGS_0.1/seed_2  4772.085239      69162.167980   \n",
       "logs/dataset_train_data_evrp_wcci_HGS_0.1/seed_3  4788.849669      69196.680572   \n",
       "logs/dataset_train_data_evrp_wcci_HGS_0.1/seed_4  4840.699600      69110.276403   \n",
       "logs/dataset_train_data_evrp_wcci_HGS_0.1/seed_5  4717.080919      69169.174429   \n",
       "logs/dataset_train_data_evrp_wcci_HGS_0.1/seed_6  4629.198482      69206.542586   \n",
       "logs/dataset_train_data_evrp_wcci_HGS_0.1/seed_7  4876.168765      69201.737251   \n",
       "logs/dataset_train_data_evrp_wcci_HGS_0.1/seed_8  4933.962519      69109.189704   \n",
       "logs/dataset_train_data_evrp_wcci_HGS_0.1/seed_9  4885.769333      69071.377247   \n",
       "logs/dataset_train_data_evrp_wcci_HGS_0.1/seed_10 4833.703541      69218.402748   \n",
       "logs/dataset_train_data_evrp_wcci_HGS_0.1/seed_11 4695.294673      69219.600315   \n",
       "logs/dataset_train_data_evrp_wcci_HGS_0.1/seed_12 4856.495643      69292.425963   \n",
       "logs/dataset_train_data_evrp_wcci_HGS_0.1/seed_13 4671.370626      69133.215868   \n",
       "logs/dataset_train_data_evrp_wcci_HGS_0.1/seed_14 4889.840440      69202.012886   \n",
       "logs/dataset_train_data_evrp_wcci_HGS_0.1/seed_15 4863.959133      69253.993225   \n",
       "logs/dataset_train_data_evrp_wcci_HGS_0.1/seed_16 4875.430531      69312.276544   \n",
       "logs/dataset_train_data_evrp_wcci_HGS_0.1/seed_17 4756.792766      69278.422206   \n",
       "logs/dataset_train_data_evrp_wcci_HGS_0.1/seed_18 4811.067721      69085.437493   \n",
       "logs/dataset_train_data_evrp_wcci_HGS_0.1/seed_19 3041.268814      69189.439235   \n",
       "logs/dataset_train_data_evrp_wcci_HGS_0.1/seed_20 2987.604745      69125.933590   \n",
       "\n",
       "                                                                X-n749-k98.evrp  \\\n",
       "Folder                                            Running Time                    \n",
       "logs/dataset_train_data_evrp_wcci_HGS_0.1/seed_1  4777.062319      79009.128426   \n",
       "logs/dataset_train_data_evrp_wcci_HGS_0.1/seed_2  4772.085239      78939.769705   \n",
       "logs/dataset_train_data_evrp_wcci_HGS_0.1/seed_3  4788.849669      78797.031108   \n",
       "logs/dataset_train_data_evrp_wcci_HGS_0.1/seed_4  4840.699600      78895.017262   \n",
       "logs/dataset_train_data_evrp_wcci_HGS_0.1/seed_5  4717.080919      78914.961688   \n",
       "logs/dataset_train_data_evrp_wcci_HGS_0.1/seed_6  4629.198482      79004.193907   \n",
       "logs/dataset_train_data_evrp_wcci_HGS_0.1/seed_7  4876.168765      78955.224600   \n",
       "logs/dataset_train_data_evrp_wcci_HGS_0.1/seed_8  4933.962519      78747.828025   \n",
       "logs/dataset_train_data_evrp_wcci_HGS_0.1/seed_9  4885.769333      79012.540685   \n",
       "logs/dataset_train_data_evrp_wcci_HGS_0.1/seed_10 4833.703541      78849.216088   \n",
       "logs/dataset_train_data_evrp_wcci_HGS_0.1/seed_11 4695.294673      78725.718503   \n",
       "logs/dataset_train_data_evrp_wcci_HGS_0.1/seed_12 4856.495643      79020.081215   \n",
       "logs/dataset_train_data_evrp_wcci_HGS_0.1/seed_13 4671.370626      78963.513594   \n",
       "logs/dataset_train_data_evrp_wcci_HGS_0.1/seed_14 4889.840440      78860.960339   \n",
       "logs/dataset_train_data_evrp_wcci_HGS_0.1/seed_15 4863.959133      78746.034154   \n",
       "logs/dataset_train_data_evrp_wcci_HGS_0.1/seed_16 4875.430531      78683.913035   \n",
       "logs/dataset_train_data_evrp_wcci_HGS_0.1/seed_17 4756.792766      78907.472962   \n",
       "logs/dataset_train_data_evrp_wcci_HGS_0.1/seed_18 4811.067721      78975.148602   \n",
       "logs/dataset_train_data_evrp_wcci_HGS_0.1/seed_19 3041.268814      78988.367551   \n",
       "logs/dataset_train_data_evrp_wcci_HGS_0.1/seed_20 2987.604745      78993.096337   \n",
       "\n",
       "                                                                X-n819-k171.evrp  \\\n",
       "Folder                                            Running Time                     \n",
       "logs/dataset_train_data_evrp_wcci_HGS_0.1/seed_1  4777.062319      159688.037118   \n",
       "logs/dataset_train_data_evrp_wcci_HGS_0.1/seed_2  4772.085239      159664.286691   \n",
       "logs/dataset_train_data_evrp_wcci_HGS_0.1/seed_3  4788.849669      159395.979528   \n",
       "logs/dataset_train_data_evrp_wcci_HGS_0.1/seed_4  4840.699600      159686.301649   \n",
       "logs/dataset_train_data_evrp_wcci_HGS_0.1/seed_5  4717.080919      159519.488654   \n",
       "logs/dataset_train_data_evrp_wcci_HGS_0.1/seed_6  4629.198482      159803.080039   \n",
       "logs/dataset_train_data_evrp_wcci_HGS_0.1/seed_7  4876.168765      159459.504157   \n",
       "logs/dataset_train_data_evrp_wcci_HGS_0.1/seed_8  4933.962519      159705.721389   \n",
       "logs/dataset_train_data_evrp_wcci_HGS_0.1/seed_9  4885.769333      159763.576515   \n",
       "logs/dataset_train_data_evrp_wcci_HGS_0.1/seed_10 4833.703541      159638.568151   \n",
       "logs/dataset_train_data_evrp_wcci_HGS_0.1/seed_11 4695.294673      159604.028802   \n",
       "logs/dataset_train_data_evrp_wcci_HGS_0.1/seed_12 4856.495643      159476.911690   \n",
       "logs/dataset_train_data_evrp_wcci_HGS_0.1/seed_13 4671.370626      159542.096426   \n",
       "logs/dataset_train_data_evrp_wcci_HGS_0.1/seed_14 4889.840440      159672.965842   \n",
       "logs/dataset_train_data_evrp_wcci_HGS_0.1/seed_15 4863.959133      159587.965858   \n",
       "logs/dataset_train_data_evrp_wcci_HGS_0.1/seed_16 4875.430531      159514.485241   \n",
       "logs/dataset_train_data_evrp_wcci_HGS_0.1/seed_17 4756.792766      159700.939538   \n",
       "logs/dataset_train_data_evrp_wcci_HGS_0.1/seed_18 4811.067721      159554.635410   \n",
       "logs/dataset_train_data_evrp_wcci_HGS_0.1/seed_19 3041.268814      159557.857688   \n",
       "logs/dataset_train_data_evrp_wcci_HGS_0.1/seed_20 2987.604745      159618.999816   \n",
       "\n",
       "                                                                X-n916-k207.evrp  \\\n",
       "Folder                                            Running Time                     \n",
       "logs/dataset_train_data_evrp_wcci_HGS_0.1/seed_1  4777.062319      334086.764824   \n",
       "logs/dataset_train_data_evrp_wcci_HGS_0.1/seed_2  4772.085239      334807.977320   \n",
       "logs/dataset_train_data_evrp_wcci_HGS_0.1/seed_3  4788.849669      334195.243513   \n",
       "logs/dataset_train_data_evrp_wcci_HGS_0.1/seed_4  4840.699600      334421.682387   \n",
       "logs/dataset_train_data_evrp_wcci_HGS_0.1/seed_5  4717.080919      334786.449322   \n",
       "logs/dataset_train_data_evrp_wcci_HGS_0.1/seed_6  4629.198482      334728.625334   \n",
       "logs/dataset_train_data_evrp_wcci_HGS_0.1/seed_7  4876.168765      334664.845132   \n",
       "logs/dataset_train_data_evrp_wcci_HGS_0.1/seed_8  4933.962519      334729.089269   \n",
       "logs/dataset_train_data_evrp_wcci_HGS_0.1/seed_9  4885.769333      334281.856975   \n",
       "logs/dataset_train_data_evrp_wcci_HGS_0.1/seed_10 4833.703541      334499.740016   \n",
       "logs/dataset_train_data_evrp_wcci_HGS_0.1/seed_11 4695.294673      335049.107666   \n",
       "logs/dataset_train_data_evrp_wcci_HGS_0.1/seed_12 4856.495643      334888.471815   \n",
       "logs/dataset_train_data_evrp_wcci_HGS_0.1/seed_13 4671.370626      334711.247868   \n",
       "logs/dataset_train_data_evrp_wcci_HGS_0.1/seed_14 4889.840440      334099.028445   \n",
       "logs/dataset_train_data_evrp_wcci_HGS_0.1/seed_15 4863.959133      334464.327310   \n",
       "logs/dataset_train_data_evrp_wcci_HGS_0.1/seed_16 4875.430531      334332.568247   \n",
       "logs/dataset_train_data_evrp_wcci_HGS_0.1/seed_17 4756.792766      334580.989318   \n",
       "logs/dataset_train_data_evrp_wcci_HGS_0.1/seed_18 4811.067721      334616.080279   \n",
       "logs/dataset_train_data_evrp_wcci_HGS_0.1/seed_19 3041.268814      334645.388902   \n",
       "logs/dataset_train_data_evrp_wcci_HGS_0.1/seed_20 2987.604745      334491.861838   \n",
       "\n",
       "                                                                X-n1001-k43.evrp  \n",
       "Folder                                            Running Time                    \n",
       "logs/dataset_train_data_evrp_wcci_HGS_0.1/seed_1  4777.062319       74097.049611  \n",
       "logs/dataset_train_data_evrp_wcci_HGS_0.1/seed_2  4772.085239       74777.234071  \n",
       "logs/dataset_train_data_evrp_wcci_HGS_0.1/seed_3  4788.849669       74516.710550  \n",
       "logs/dataset_train_data_evrp_wcci_HGS_0.1/seed_4  4840.699600       74160.609178  \n",
       "logs/dataset_train_data_evrp_wcci_HGS_0.1/seed_5  4717.080919       74571.185860  \n",
       "logs/dataset_train_data_evrp_wcci_HGS_0.1/seed_6  4629.198482       74618.633489  \n",
       "logs/dataset_train_data_evrp_wcci_HGS_0.1/seed_7  4876.168765       74504.761369  \n",
       "logs/dataset_train_data_evrp_wcci_HGS_0.1/seed_8  4933.962519       74674.154955  \n",
       "logs/dataset_train_data_evrp_wcci_HGS_0.1/seed_9  4885.769333       74612.072444  \n",
       "logs/dataset_train_data_evrp_wcci_HGS_0.1/seed_10 4833.703541       74614.817738  \n",
       "logs/dataset_train_data_evrp_wcci_HGS_0.1/seed_11 4695.294673       74414.733517  \n",
       "logs/dataset_train_data_evrp_wcci_HGS_0.1/seed_12 4856.495643       74303.916825  \n",
       "logs/dataset_train_data_evrp_wcci_HGS_0.1/seed_13 4671.370626       74429.622835  \n",
       "logs/dataset_train_data_evrp_wcci_HGS_0.1/seed_14 4889.840440       74573.485831  \n",
       "logs/dataset_train_data_evrp_wcci_HGS_0.1/seed_15 4863.959133       74514.346660  \n",
       "logs/dataset_train_data_evrp_wcci_HGS_0.1/seed_16 4875.430531       74608.729759  \n",
       "logs/dataset_train_data_evrp_wcci_HGS_0.1/seed_17 4756.792766       74550.808326  \n",
       "logs/dataset_train_data_evrp_wcci_HGS_0.1/seed_18 4811.067721       74274.066670  \n",
       "logs/dataset_train_data_evrp_wcci_HGS_0.1/seed_19 3041.268814       74482.667267  \n",
       "logs/dataset_train_data_evrp_wcci_HGS_0.1/seed_20 2987.604745       74367.672389  "
      ]
     },
     "execution_count": 4,
     "metadata": {},
     "output_type": "execute_result"
    }
   ],
   "source": [
    "df = load_all_scores(\"logs/dataset_train_data_evrp_wcci_HGS_0.1\")\n",
    "df"
   ]
  },
  {
   "cell_type": "code",
   "execution_count": 23,
   "id": "d2813d5c",
   "metadata": {},
   "outputs": [
    {
     "data": {
      "application/vnd.plotly.v1+json": {
       "config": {
        "plotlyServerURL": "https://plot.ly"
       },
       "data": [
        {
         "marker": {
          "color": "black",
          "size": 6,
          "symbol": "square"
         },
         "mode": "markers",
         "name": "station",
         "type": "scatter",
         "x": [
          137,
          137,
          137,
          137,
          155,
          155,
          155,
          155
         ],
         "y": [
          193,
          213,
          234,
          254,
          193,
          213,
          234,
          254
         ]
        },
        {
         "line": {
          "color": "rgb(240,72,38,240)",
          "width": 2
         },
         "mode": "lines",
         "name": "EVRP1",
         "type": "scatter",
         "x": [
          145,
          141,
          129,
          139,
          146,
          145
         ],
         "y": [
          215,
          206,
          189,
          182,
          208,
          215
         ]
        },
        {
         "line": {
          "color": "rgb(240,172,0,240)",
          "width": 2
         },
         "mode": "lines",
         "name": "EVRP2",
         "type": "scatter",
         "x": [
          145,
          147,
          155,
          164,
          164,
          155,
          156,
          145
         ],
         "y": [
          215,
          193,
          185,
          193,
          208,
          213,
          217,
          215
         ]
        },
        {
         "line": {
          "color": "rgb(147,240,0,240)",
          "width": 2
         },
         "mode": "lines",
         "name": "EVRP3",
         "type": "scatter",
         "x": [
          145,
          163,
          161,
          163,
          159,
          151,
          155,
          146,
          142,
          145
         ],
         "y": [
          215,
          236,
          242,
          247,
          261,
          264,
          254,
          246,
          239,
          215
         ]
        },
        {
         "line": {
          "color": "rgb(0,240,35,240)",
          "width": 2
         },
         "mode": "lines",
         "name": "EVRP4",
         "type": "scatter",
         "x": [
          145,
          129,
          128,
          128,
          130,
          137,
          148,
          145
         ],
         "y": [
          215,
          214,
          231,
          252,
          254,
          234,
          232,
          215
         ]
        },
        {
         "marker": {
          "color": "rgb(240,72,38,240)",
          "size": 3
         },
         "mode": "markers",
         "name": "EVRP1",
         "type": "scatter",
         "x": [
          145,
          141,
          129,
          139,
          146,
          145
         ],
         "y": [
          215,
          206,
          189,
          182,
          208,
          215
         ]
        },
        {
         "marker": {
          "color": "rgb(240,172,0,240)",
          "size": 3
         },
         "mode": "markers",
         "name": "EVRP2",
         "type": "scatter",
         "x": [
          145,
          147,
          155,
          164,
          164,
          155,
          156,
          145
         ],
         "y": [
          215,
          193,
          185,
          193,
          208,
          213,
          217,
          215
         ]
        },
        {
         "marker": {
          "color": "rgb(147,240,0,240)",
          "size": 3
         },
         "mode": "markers",
         "name": "EVRP3",
         "type": "scatter",
         "x": [
          145,
          163,
          161,
          163,
          159,
          151,
          155,
          146,
          142,
          145
         ],
         "y": [
          215,
          236,
          242,
          247,
          261,
          264,
          254,
          246,
          239,
          215
         ]
        },
        {
         "marker": {
          "color": "rgb(0,240,35,240)",
          "size": 3
         },
         "mode": "markers",
         "name": "EVRP4",
         "type": "scatter",
         "x": [
          145,
          129,
          128,
          128,
          130,
          137,
          148,
          145
         ],
         "y": [
          215,
          214,
          231,
          252,
          254,
          234,
          232,
          215
         ]
        },
        {
         "marker": {
          "color": "red",
          "size": 10,
          "symbol": "hexagram"
         },
         "mode": "markers",
         "name": "depot",
         "type": "scatter",
         "x": [
          145
         ],
         "y": [
          215
         ]
        }
       ],
       "layout": {
        "height": 640,
        "showlegend": false,
        "template": {
         "data": {
          "bar": [
           {
            "error_x": {
             "color": "#2a3f5f"
            },
            "error_y": {
             "color": "#2a3f5f"
            },
            "marker": {
             "line": {
              "color": "white",
              "width": 0.5
             },
             "pattern": {
              "fillmode": "overlay",
              "size": 10,
              "solidity": 0.2
             }
            },
            "type": "bar"
           }
          ],
          "barpolar": [
           {
            "marker": {
             "line": {
              "color": "white",
              "width": 0.5
             },
             "pattern": {
              "fillmode": "overlay",
              "size": 10,
              "solidity": 0.2
             }
            },
            "type": "barpolar"
           }
          ],
          "carpet": [
           {
            "aaxis": {
             "endlinecolor": "#2a3f5f",
             "gridcolor": "#C8D4E3",
             "linecolor": "#C8D4E3",
             "minorgridcolor": "#C8D4E3",
             "startlinecolor": "#2a3f5f"
            },
            "baxis": {
             "endlinecolor": "#2a3f5f",
             "gridcolor": "#C8D4E3",
             "linecolor": "#C8D4E3",
             "minorgridcolor": "#C8D4E3",
             "startlinecolor": "#2a3f5f"
            },
            "type": "carpet"
           }
          ],
          "choropleth": [
           {
            "colorbar": {
             "outlinewidth": 0,
             "ticks": ""
            },
            "type": "choropleth"
           }
          ],
          "contour": [
           {
            "colorbar": {
             "outlinewidth": 0,
             "ticks": ""
            },
            "colorscale": [
             [
              0,
              "#0d0887"
             ],
             [
              0.1111111111111111,
              "#46039f"
             ],
             [
              0.2222222222222222,
              "#7201a8"
             ],
             [
              0.3333333333333333,
              "#9c179e"
             ],
             [
              0.4444444444444444,
              "#bd3786"
             ],
             [
              0.5555555555555556,
              "#d8576b"
             ],
             [
              0.6666666666666666,
              "#ed7953"
             ],
             [
              0.7777777777777778,
              "#fb9f3a"
             ],
             [
              0.8888888888888888,
              "#fdca26"
             ],
             [
              1,
              "#f0f921"
             ]
            ],
            "type": "contour"
           }
          ],
          "contourcarpet": [
           {
            "colorbar": {
             "outlinewidth": 0,
             "ticks": ""
            },
            "type": "contourcarpet"
           }
          ],
          "heatmap": [
           {
            "colorbar": {
             "outlinewidth": 0,
             "ticks": ""
            },
            "colorscale": [
             [
              0,
              "#0d0887"
             ],
             [
              0.1111111111111111,
              "#46039f"
             ],
             [
              0.2222222222222222,
              "#7201a8"
             ],
             [
              0.3333333333333333,
              "#9c179e"
             ],
             [
              0.4444444444444444,
              "#bd3786"
             ],
             [
              0.5555555555555556,
              "#d8576b"
             ],
             [
              0.6666666666666666,
              "#ed7953"
             ],
             [
              0.7777777777777778,
              "#fb9f3a"
             ],
             [
              0.8888888888888888,
              "#fdca26"
             ],
             [
              1,
              "#f0f921"
             ]
            ],
            "type": "heatmap"
           }
          ],
          "heatmapgl": [
           {
            "colorbar": {
             "outlinewidth": 0,
             "ticks": ""
            },
            "colorscale": [
             [
              0,
              "#0d0887"
             ],
             [
              0.1111111111111111,
              "#46039f"
             ],
             [
              0.2222222222222222,
              "#7201a8"
             ],
             [
              0.3333333333333333,
              "#9c179e"
             ],
             [
              0.4444444444444444,
              "#bd3786"
             ],
             [
              0.5555555555555556,
              "#d8576b"
             ],
             [
              0.6666666666666666,
              "#ed7953"
             ],
             [
              0.7777777777777778,
              "#fb9f3a"
             ],
             [
              0.8888888888888888,
              "#fdca26"
             ],
             [
              1,
              "#f0f921"
             ]
            ],
            "type": "heatmapgl"
           }
          ],
          "histogram": [
           {
            "marker": {
             "pattern": {
              "fillmode": "overlay",
              "size": 10,
              "solidity": 0.2
             }
            },
            "type": "histogram"
           }
          ],
          "histogram2d": [
           {
            "colorbar": {
             "outlinewidth": 0,
             "ticks": ""
            },
            "colorscale": [
             [
              0,
              "#0d0887"
             ],
             [
              0.1111111111111111,
              "#46039f"
             ],
             [
              0.2222222222222222,
              "#7201a8"
             ],
             [
              0.3333333333333333,
              "#9c179e"
             ],
             [
              0.4444444444444444,
              "#bd3786"
             ],
             [
              0.5555555555555556,
              "#d8576b"
             ],
             [
              0.6666666666666666,
              "#ed7953"
             ],
             [
              0.7777777777777778,
              "#fb9f3a"
             ],
             [
              0.8888888888888888,
              "#fdca26"
             ],
             [
              1,
              "#f0f921"
             ]
            ],
            "type": "histogram2d"
           }
          ],
          "histogram2dcontour": [
           {
            "colorbar": {
             "outlinewidth": 0,
             "ticks": ""
            },
            "colorscale": [
             [
              0,
              "#0d0887"
             ],
             [
              0.1111111111111111,
              "#46039f"
             ],
             [
              0.2222222222222222,
              "#7201a8"
             ],
             [
              0.3333333333333333,
              "#9c179e"
             ],
             [
              0.4444444444444444,
              "#bd3786"
             ],
             [
              0.5555555555555556,
              "#d8576b"
             ],
             [
              0.6666666666666666,
              "#ed7953"
             ],
             [
              0.7777777777777778,
              "#fb9f3a"
             ],
             [
              0.8888888888888888,
              "#fdca26"
             ],
             [
              1,
              "#f0f921"
             ]
            ],
            "type": "histogram2dcontour"
           }
          ],
          "mesh3d": [
           {
            "colorbar": {
             "outlinewidth": 0,
             "ticks": ""
            },
            "type": "mesh3d"
           }
          ],
          "parcoords": [
           {
            "line": {
             "colorbar": {
              "outlinewidth": 0,
              "ticks": ""
             }
            },
            "type": "parcoords"
           }
          ],
          "pie": [
           {
            "automargin": true,
            "type": "pie"
           }
          ],
          "scatter": [
           {
            "marker": {
             "colorbar": {
              "outlinewidth": 0,
              "ticks": ""
             }
            },
            "type": "scatter"
           }
          ],
          "scatter3d": [
           {
            "line": {
             "colorbar": {
              "outlinewidth": 0,
              "ticks": ""
             }
            },
            "marker": {
             "colorbar": {
              "outlinewidth": 0,
              "ticks": ""
             }
            },
            "type": "scatter3d"
           }
          ],
          "scattercarpet": [
           {
            "marker": {
             "colorbar": {
              "outlinewidth": 0,
              "ticks": ""
             }
            },
            "type": "scattercarpet"
           }
          ],
          "scattergeo": [
           {
            "marker": {
             "colorbar": {
              "outlinewidth": 0,
              "ticks": ""
             }
            },
            "type": "scattergeo"
           }
          ],
          "scattergl": [
           {
            "marker": {
             "colorbar": {
              "outlinewidth": 0,
              "ticks": ""
             }
            },
            "type": "scattergl"
           }
          ],
          "scattermapbox": [
           {
            "marker": {
             "colorbar": {
              "outlinewidth": 0,
              "ticks": ""
             }
            },
            "type": "scattermapbox"
           }
          ],
          "scatterpolar": [
           {
            "marker": {
             "colorbar": {
              "outlinewidth": 0,
              "ticks": ""
             }
            },
            "type": "scatterpolar"
           }
          ],
          "scatterpolargl": [
           {
            "marker": {
             "colorbar": {
              "outlinewidth": 0,
              "ticks": ""
             }
            },
            "type": "scatterpolargl"
           }
          ],
          "scatterternary": [
           {
            "marker": {
             "colorbar": {
              "outlinewidth": 0,
              "ticks": ""
             }
            },
            "type": "scatterternary"
           }
          ],
          "surface": [
           {
            "colorbar": {
             "outlinewidth": 0,
             "ticks": ""
            },
            "colorscale": [
             [
              0,
              "#0d0887"
             ],
             [
              0.1111111111111111,
              "#46039f"
             ],
             [
              0.2222222222222222,
              "#7201a8"
             ],
             [
              0.3333333333333333,
              "#9c179e"
             ],
             [
              0.4444444444444444,
              "#bd3786"
             ],
             [
              0.5555555555555556,
              "#d8576b"
             ],
             [
              0.6666666666666666,
              "#ed7953"
             ],
             [
              0.7777777777777778,
              "#fb9f3a"
             ],
             [
              0.8888888888888888,
              "#fdca26"
             ],
             [
              1,
              "#f0f921"
             ]
            ],
            "type": "surface"
           }
          ],
          "table": [
           {
            "cells": {
             "fill": {
              "color": "#EBF0F8"
             },
             "line": {
              "color": "white"
             }
            },
            "header": {
             "fill": {
              "color": "#C8D4E3"
             },
             "line": {
              "color": "white"
             }
            },
            "type": "table"
           }
          ]
         },
         "layout": {
          "annotationdefaults": {
           "arrowcolor": "#2a3f5f",
           "arrowhead": 0,
           "arrowwidth": 1
          },
          "autotypenumbers": "strict",
          "coloraxis": {
           "colorbar": {
            "outlinewidth": 0,
            "ticks": ""
           }
          },
          "colorscale": {
           "diverging": [
            [
             0,
             "#8e0152"
            ],
            [
             0.1,
             "#c51b7d"
            ],
            [
             0.2,
             "#de77ae"
            ],
            [
             0.3,
             "#f1b6da"
            ],
            [
             0.4,
             "#fde0ef"
            ],
            [
             0.5,
             "#f7f7f7"
            ],
            [
             0.6,
             "#e6f5d0"
            ],
            [
             0.7,
             "#b8e186"
            ],
            [
             0.8,
             "#7fbc41"
            ],
            [
             0.9,
             "#4d9221"
            ],
            [
             1,
             "#276419"
            ]
           ],
           "sequential": [
            [
             0,
             "#0d0887"
            ],
            [
             0.1111111111111111,
             "#46039f"
            ],
            [
             0.2222222222222222,
             "#7201a8"
            ],
            [
             0.3333333333333333,
             "#9c179e"
            ],
            [
             0.4444444444444444,
             "#bd3786"
            ],
            [
             0.5555555555555556,
             "#d8576b"
            ],
            [
             0.6666666666666666,
             "#ed7953"
            ],
            [
             0.7777777777777778,
             "#fb9f3a"
            ],
            [
             0.8888888888888888,
             "#fdca26"
            ],
            [
             1,
             "#f0f921"
            ]
           ],
           "sequentialminus": [
            [
             0,
             "#0d0887"
            ],
            [
             0.1111111111111111,
             "#46039f"
            ],
            [
             0.2222222222222222,
             "#7201a8"
            ],
            [
             0.3333333333333333,
             "#9c179e"
            ],
            [
             0.4444444444444444,
             "#bd3786"
            ],
            [
             0.5555555555555556,
             "#d8576b"
            ],
            [
             0.6666666666666666,
             "#ed7953"
            ],
            [
             0.7777777777777778,
             "#fb9f3a"
            ],
            [
             0.8888888888888888,
             "#fdca26"
            ],
            [
             1,
             "#f0f921"
            ]
           ]
          },
          "colorway": [
           "#636efa",
           "#EF553B",
           "#00cc96",
           "#ab63fa",
           "#FFA15A",
           "#19d3f3",
           "#FF6692",
           "#B6E880",
           "#FF97FF",
           "#FECB52"
          ],
          "font": {
           "color": "#2a3f5f"
          },
          "geo": {
           "bgcolor": "white",
           "lakecolor": "white",
           "landcolor": "white",
           "showlakes": true,
           "showland": true,
           "subunitcolor": "#C8D4E3"
          },
          "hoverlabel": {
           "align": "left"
          },
          "hovermode": "closest",
          "mapbox": {
           "style": "light"
          },
          "paper_bgcolor": "white",
          "plot_bgcolor": "white",
          "polar": {
           "angularaxis": {
            "gridcolor": "#EBF0F8",
            "linecolor": "#EBF0F8",
            "ticks": ""
           },
           "bgcolor": "white",
           "radialaxis": {
            "gridcolor": "#EBF0F8",
            "linecolor": "#EBF0F8",
            "ticks": ""
           }
          },
          "scene": {
           "xaxis": {
            "backgroundcolor": "white",
            "gridcolor": "#DFE8F3",
            "gridwidth": 2,
            "linecolor": "#EBF0F8",
            "showbackground": true,
            "ticks": "",
            "zerolinecolor": "#EBF0F8"
           },
           "yaxis": {
            "backgroundcolor": "white",
            "gridcolor": "#DFE8F3",
            "gridwidth": 2,
            "linecolor": "#EBF0F8",
            "showbackground": true,
            "ticks": "",
            "zerolinecolor": "#EBF0F8"
           },
           "zaxis": {
            "backgroundcolor": "white",
            "gridcolor": "#DFE8F3",
            "gridwidth": 2,
            "linecolor": "#EBF0F8",
            "showbackground": true,
            "ticks": "",
            "zerolinecolor": "#EBF0F8"
           }
          },
          "shapedefaults": {
           "line": {
            "color": "#2a3f5f"
           }
          },
          "ternary": {
           "aaxis": {
            "gridcolor": "#DFE8F3",
            "linecolor": "#A2B1C6",
            "ticks": ""
           },
           "baxis": {
            "gridcolor": "#DFE8F3",
            "linecolor": "#A2B1C6",
            "ticks": ""
           },
           "bgcolor": "white",
           "caxis": {
            "gridcolor": "#DFE8F3",
            "linecolor": "#A2B1C6",
            "ticks": ""
           }
          },
          "title": {
           "x": 0.05
          },
          "xaxis": {
           "automargin": true,
           "gridcolor": "#EBF0F8",
           "linecolor": "#EBF0F8",
           "ticks": "",
           "title": {
            "standoff": 15
           },
           "zerolinecolor": "#EBF0F8",
           "zerolinewidth": 2
          },
          "yaxis": {
           "automargin": true,
           "gridcolor": "#EBF0F8",
           "linecolor": "#EBF0F8",
           "ticks": "",
           "title": {
            "standoff": 15
           },
           "zerolinecolor": "#EBF0F8",
           "zerolinewidth": 2
          }
         }
        },
        "title": {
         "text": "E-n22-k4.evrp - 386.961",
         "x": 0.5
        },
        "width": 640,
        "xaxis": {
         "visible": false
        },
        "yaxis": {
         "visible": false
        }
       }
      }
     },
     "metadata": {},
     "output_type": "display_data"
    },
    {
     "data": {
      "application/vnd.plotly.v1+json": {
       "config": {
        "plotlyServerURL": "https://plot.ly"
       },
       "data": [
        {
         "marker": {
          "color": "black",
          "size": 6,
          "symbol": "square"
         },
         "mode": "markers",
         "name": "station",
         "type": "scatter",
         "x": [
          137,
          137,
          137,
          137,
          155,
          155,
          155,
          155
         ],
         "y": [
          193,
          213,
          234,
          254,
          193,
          213,
          234,
          254
         ]
        },
        {
         "line": {
          "color": "rgb(240,72,38,240)",
          "width": 2
         },
         "mode": "lines",
         "name": "EVRP1",
         "type": "scatter",
         "x": [
          145,
          141,
          129,
          139,
          146,
          145
         ],
         "y": [
          215,
          206,
          189,
          182,
          208,
          215
         ]
        },
        {
         "line": {
          "color": "rgb(240,172,0,240)",
          "width": 2
         },
         "mode": "lines",
         "name": "EVRP2",
         "type": "scatter",
         "x": [
          145,
          147,
          155,
          164,
          164,
          155,
          156,
          145
         ],
         "y": [
          215,
          193,
          185,
          193,
          208,
          213,
          217,
          215
         ]
        },
        {
         "line": {
          "color": "rgb(147,240,0,240)",
          "width": 2
         },
         "mode": "lines",
         "name": "EVRP3",
         "type": "scatter",
         "x": [
          145,
          163,
          161,
          163,
          159,
          151,
          155,
          146,
          142,
          145
         ],
         "y": [
          215,
          236,
          242,
          247,
          261,
          264,
          254,
          246,
          239,
          215
         ]
        },
        {
         "line": {
          "color": "rgb(0,240,35,240)",
          "width": 2
         },
         "mode": "lines",
         "name": "EVRP4",
         "type": "scatter",
         "x": [
          145,
          129,
          128,
          128,
          130,
          137,
          148,
          145
         ],
         "y": [
          215,
          214,
          231,
          252,
          254,
          234,
          232,
          215
         ]
        },
        {
         "marker": {
          "color": "rgb(240,72,38,240)",
          "size": 3
         },
         "mode": "markers",
         "name": "EVRP1",
         "type": "scatter",
         "x": [
          145,
          141,
          129,
          139,
          146,
          145
         ],
         "y": [
          215,
          206,
          189,
          182,
          208,
          215
         ]
        },
        {
         "marker": {
          "color": "rgb(240,172,0,240)",
          "size": 3
         },
         "mode": "markers",
         "name": "EVRP2",
         "type": "scatter",
         "x": [
          145,
          147,
          155,
          164,
          164,
          155,
          156,
          145
         ],
         "y": [
          215,
          193,
          185,
          193,
          208,
          213,
          217,
          215
         ]
        },
        {
         "marker": {
          "color": "rgb(147,240,0,240)",
          "size": 3
         },
         "mode": "markers",
         "name": "EVRP3",
         "type": "scatter",
         "x": [
          145,
          163,
          161,
          163,
          159,
          151,
          155,
          146,
          142,
          145
         ],
         "y": [
          215,
          236,
          242,
          247,
          261,
          264,
          254,
          246,
          239,
          215
         ]
        },
        {
         "marker": {
          "color": "rgb(0,240,35,240)",
          "size": 3
         },
         "mode": "markers",
         "name": "EVRP4",
         "type": "scatter",
         "x": [
          145,
          129,
          128,
          128,
          130,
          137,
          148,
          145
         ],
         "y": [
          215,
          214,
          231,
          252,
          254,
          234,
          232,
          215
         ]
        },
        {
         "marker": {
          "color": "red",
          "size": 10,
          "symbol": "hexagram"
         },
         "mode": "markers",
         "name": "depot",
         "type": "scatter",
         "x": [
          145
         ],
         "y": [
          215
         ]
        }
       ],
       "layout": {
        "height": 640,
        "showlegend": false,
        "template": {
         "data": {
          "bar": [
           {
            "error_x": {
             "color": "#2a3f5f"
            },
            "error_y": {
             "color": "#2a3f5f"
            },
            "marker": {
             "line": {
              "color": "white",
              "width": 0.5
             },
             "pattern": {
              "fillmode": "overlay",
              "size": 10,
              "solidity": 0.2
             }
            },
            "type": "bar"
           }
          ],
          "barpolar": [
           {
            "marker": {
             "line": {
              "color": "white",
              "width": 0.5
             },
             "pattern": {
              "fillmode": "overlay",
              "size": 10,
              "solidity": 0.2
             }
            },
            "type": "barpolar"
           }
          ],
          "carpet": [
           {
            "aaxis": {
             "endlinecolor": "#2a3f5f",
             "gridcolor": "#C8D4E3",
             "linecolor": "#C8D4E3",
             "minorgridcolor": "#C8D4E3",
             "startlinecolor": "#2a3f5f"
            },
            "baxis": {
             "endlinecolor": "#2a3f5f",
             "gridcolor": "#C8D4E3",
             "linecolor": "#C8D4E3",
             "minorgridcolor": "#C8D4E3",
             "startlinecolor": "#2a3f5f"
            },
            "type": "carpet"
           }
          ],
          "choropleth": [
           {
            "colorbar": {
             "outlinewidth": 0,
             "ticks": ""
            },
            "type": "choropleth"
           }
          ],
          "contour": [
           {
            "colorbar": {
             "outlinewidth": 0,
             "ticks": ""
            },
            "colorscale": [
             [
              0,
              "#0d0887"
             ],
             [
              0.1111111111111111,
              "#46039f"
             ],
             [
              0.2222222222222222,
              "#7201a8"
             ],
             [
              0.3333333333333333,
              "#9c179e"
             ],
             [
              0.4444444444444444,
              "#bd3786"
             ],
             [
              0.5555555555555556,
              "#d8576b"
             ],
             [
              0.6666666666666666,
              "#ed7953"
             ],
             [
              0.7777777777777778,
              "#fb9f3a"
             ],
             [
              0.8888888888888888,
              "#fdca26"
             ],
             [
              1,
              "#f0f921"
             ]
            ],
            "type": "contour"
           }
          ],
          "contourcarpet": [
           {
            "colorbar": {
             "outlinewidth": 0,
             "ticks": ""
            },
            "type": "contourcarpet"
           }
          ],
          "heatmap": [
           {
            "colorbar": {
             "outlinewidth": 0,
             "ticks": ""
            },
            "colorscale": [
             [
              0,
              "#0d0887"
             ],
             [
              0.1111111111111111,
              "#46039f"
             ],
             [
              0.2222222222222222,
              "#7201a8"
             ],
             [
              0.3333333333333333,
              "#9c179e"
             ],
             [
              0.4444444444444444,
              "#bd3786"
             ],
             [
              0.5555555555555556,
              "#d8576b"
             ],
             [
              0.6666666666666666,
              "#ed7953"
             ],
             [
              0.7777777777777778,
              "#fb9f3a"
             ],
             [
              0.8888888888888888,
              "#fdca26"
             ],
             [
              1,
              "#f0f921"
             ]
            ],
            "type": "heatmap"
           }
          ],
          "heatmapgl": [
           {
            "colorbar": {
             "outlinewidth": 0,
             "ticks": ""
            },
            "colorscale": [
             [
              0,
              "#0d0887"
             ],
             [
              0.1111111111111111,
              "#46039f"
             ],
             [
              0.2222222222222222,
              "#7201a8"
             ],
             [
              0.3333333333333333,
              "#9c179e"
             ],
             [
              0.4444444444444444,
              "#bd3786"
             ],
             [
              0.5555555555555556,
              "#d8576b"
             ],
             [
              0.6666666666666666,
              "#ed7953"
             ],
             [
              0.7777777777777778,
              "#fb9f3a"
             ],
             [
              0.8888888888888888,
              "#fdca26"
             ],
             [
              1,
              "#f0f921"
             ]
            ],
            "type": "heatmapgl"
           }
          ],
          "histogram": [
           {
            "marker": {
             "pattern": {
              "fillmode": "overlay",
              "size": 10,
              "solidity": 0.2
             }
            },
            "type": "histogram"
           }
          ],
          "histogram2d": [
           {
            "colorbar": {
             "outlinewidth": 0,
             "ticks": ""
            },
            "colorscale": [
             [
              0,
              "#0d0887"
             ],
             [
              0.1111111111111111,
              "#46039f"
             ],
             [
              0.2222222222222222,
              "#7201a8"
             ],
             [
              0.3333333333333333,
              "#9c179e"
             ],
             [
              0.4444444444444444,
              "#bd3786"
             ],
             [
              0.5555555555555556,
              "#d8576b"
             ],
             [
              0.6666666666666666,
              "#ed7953"
             ],
             [
              0.7777777777777778,
              "#fb9f3a"
             ],
             [
              0.8888888888888888,
              "#fdca26"
             ],
             [
              1,
              "#f0f921"
             ]
            ],
            "type": "histogram2d"
           }
          ],
          "histogram2dcontour": [
           {
            "colorbar": {
             "outlinewidth": 0,
             "ticks": ""
            },
            "colorscale": [
             [
              0,
              "#0d0887"
             ],
             [
              0.1111111111111111,
              "#46039f"
             ],
             [
              0.2222222222222222,
              "#7201a8"
             ],
             [
              0.3333333333333333,
              "#9c179e"
             ],
             [
              0.4444444444444444,
              "#bd3786"
             ],
             [
              0.5555555555555556,
              "#d8576b"
             ],
             [
              0.6666666666666666,
              "#ed7953"
             ],
             [
              0.7777777777777778,
              "#fb9f3a"
             ],
             [
              0.8888888888888888,
              "#fdca26"
             ],
             [
              1,
              "#f0f921"
             ]
            ],
            "type": "histogram2dcontour"
           }
          ],
          "mesh3d": [
           {
            "colorbar": {
             "outlinewidth": 0,
             "ticks": ""
            },
            "type": "mesh3d"
           }
          ],
          "parcoords": [
           {
            "line": {
             "colorbar": {
              "outlinewidth": 0,
              "ticks": ""
             }
            },
            "type": "parcoords"
           }
          ],
          "pie": [
           {
            "automargin": true,
            "type": "pie"
           }
          ],
          "scatter": [
           {
            "marker": {
             "colorbar": {
              "outlinewidth": 0,
              "ticks": ""
             }
            },
            "type": "scatter"
           }
          ],
          "scatter3d": [
           {
            "line": {
             "colorbar": {
              "outlinewidth": 0,
              "ticks": ""
             }
            },
            "marker": {
             "colorbar": {
              "outlinewidth": 0,
              "ticks": ""
             }
            },
            "type": "scatter3d"
           }
          ],
          "scattercarpet": [
           {
            "marker": {
             "colorbar": {
              "outlinewidth": 0,
              "ticks": ""
             }
            },
            "type": "scattercarpet"
           }
          ],
          "scattergeo": [
           {
            "marker": {
             "colorbar": {
              "outlinewidth": 0,
              "ticks": ""
             }
            },
            "type": "scattergeo"
           }
          ],
          "scattergl": [
           {
            "marker": {
             "colorbar": {
              "outlinewidth": 0,
              "ticks": ""
             }
            },
            "type": "scattergl"
           }
          ],
          "scattermapbox": [
           {
            "marker": {
             "colorbar": {
              "outlinewidth": 0,
              "ticks": ""
             }
            },
            "type": "scattermapbox"
           }
          ],
          "scatterpolar": [
           {
            "marker": {
             "colorbar": {
              "outlinewidth": 0,
              "ticks": ""
             }
            },
            "type": "scatterpolar"
           }
          ],
          "scatterpolargl": [
           {
            "marker": {
             "colorbar": {
              "outlinewidth": 0,
              "ticks": ""
             }
            },
            "type": "scatterpolargl"
           }
          ],
          "scatterternary": [
           {
            "marker": {
             "colorbar": {
              "outlinewidth": 0,
              "ticks": ""
             }
            },
            "type": "scatterternary"
           }
          ],
          "surface": [
           {
            "colorbar": {
             "outlinewidth": 0,
             "ticks": ""
            },
            "colorscale": [
             [
              0,
              "#0d0887"
             ],
             [
              0.1111111111111111,
              "#46039f"
             ],
             [
              0.2222222222222222,
              "#7201a8"
             ],
             [
              0.3333333333333333,
              "#9c179e"
             ],
             [
              0.4444444444444444,
              "#bd3786"
             ],
             [
              0.5555555555555556,
              "#d8576b"
             ],
             [
              0.6666666666666666,
              "#ed7953"
             ],
             [
              0.7777777777777778,
              "#fb9f3a"
             ],
             [
              0.8888888888888888,
              "#fdca26"
             ],
             [
              1,
              "#f0f921"
             ]
            ],
            "type": "surface"
           }
          ],
          "table": [
           {
            "cells": {
             "fill": {
              "color": "#EBF0F8"
             },
             "line": {
              "color": "white"
             }
            },
            "header": {
             "fill": {
              "color": "#C8D4E3"
             },
             "line": {
              "color": "white"
             }
            },
            "type": "table"
           }
          ]
         },
         "layout": {
          "annotationdefaults": {
           "arrowcolor": "#2a3f5f",
           "arrowhead": 0,
           "arrowwidth": 1
          },
          "autotypenumbers": "strict",
          "coloraxis": {
           "colorbar": {
            "outlinewidth": 0,
            "ticks": ""
           }
          },
          "colorscale": {
           "diverging": [
            [
             0,
             "#8e0152"
            ],
            [
             0.1,
             "#c51b7d"
            ],
            [
             0.2,
             "#de77ae"
            ],
            [
             0.3,
             "#f1b6da"
            ],
            [
             0.4,
             "#fde0ef"
            ],
            [
             0.5,
             "#f7f7f7"
            ],
            [
             0.6,
             "#e6f5d0"
            ],
            [
             0.7,
             "#b8e186"
            ],
            [
             0.8,
             "#7fbc41"
            ],
            [
             0.9,
             "#4d9221"
            ],
            [
             1,
             "#276419"
            ]
           ],
           "sequential": [
            [
             0,
             "#0d0887"
            ],
            [
             0.1111111111111111,
             "#46039f"
            ],
            [
             0.2222222222222222,
             "#7201a8"
            ],
            [
             0.3333333333333333,
             "#9c179e"
            ],
            [
             0.4444444444444444,
             "#bd3786"
            ],
            [
             0.5555555555555556,
             "#d8576b"
            ],
            [
             0.6666666666666666,
             "#ed7953"
            ],
            [
             0.7777777777777778,
             "#fb9f3a"
            ],
            [
             0.8888888888888888,
             "#fdca26"
            ],
            [
             1,
             "#f0f921"
            ]
           ],
           "sequentialminus": [
            [
             0,
             "#0d0887"
            ],
            [
             0.1111111111111111,
             "#46039f"
            ],
            [
             0.2222222222222222,
             "#7201a8"
            ],
            [
             0.3333333333333333,
             "#9c179e"
            ],
            [
             0.4444444444444444,
             "#bd3786"
            ],
            [
             0.5555555555555556,
             "#d8576b"
            ],
            [
             0.6666666666666666,
             "#ed7953"
            ],
            [
             0.7777777777777778,
             "#fb9f3a"
            ],
            [
             0.8888888888888888,
             "#fdca26"
            ],
            [
             1,
             "#f0f921"
            ]
           ]
          },
          "colorway": [
           "#636efa",
           "#EF553B",
           "#00cc96",
           "#ab63fa",
           "#FFA15A",
           "#19d3f3",
           "#FF6692",
           "#B6E880",
           "#FF97FF",
           "#FECB52"
          ],
          "font": {
           "color": "#2a3f5f"
          },
          "geo": {
           "bgcolor": "white",
           "lakecolor": "white",
           "landcolor": "white",
           "showlakes": true,
           "showland": true,
           "subunitcolor": "#C8D4E3"
          },
          "hoverlabel": {
           "align": "left"
          },
          "hovermode": "closest",
          "mapbox": {
           "style": "light"
          },
          "paper_bgcolor": "white",
          "plot_bgcolor": "white",
          "polar": {
           "angularaxis": {
            "gridcolor": "#EBF0F8",
            "linecolor": "#EBF0F8",
            "ticks": ""
           },
           "bgcolor": "white",
           "radialaxis": {
            "gridcolor": "#EBF0F8",
            "linecolor": "#EBF0F8",
            "ticks": ""
           }
          },
          "scene": {
           "xaxis": {
            "backgroundcolor": "white",
            "gridcolor": "#DFE8F3",
            "gridwidth": 2,
            "linecolor": "#EBF0F8",
            "showbackground": true,
            "ticks": "",
            "zerolinecolor": "#EBF0F8"
           },
           "yaxis": {
            "backgroundcolor": "white",
            "gridcolor": "#DFE8F3",
            "gridwidth": 2,
            "linecolor": "#EBF0F8",
            "showbackground": true,
            "ticks": "",
            "zerolinecolor": "#EBF0F8"
           },
           "zaxis": {
            "backgroundcolor": "white",
            "gridcolor": "#DFE8F3",
            "gridwidth": 2,
            "linecolor": "#EBF0F8",
            "showbackground": true,
            "ticks": "",
            "zerolinecolor": "#EBF0F8"
           }
          },
          "shapedefaults": {
           "line": {
            "color": "#2a3f5f"
           }
          },
          "ternary": {
           "aaxis": {
            "gridcolor": "#DFE8F3",
            "linecolor": "#A2B1C6",
            "ticks": ""
           },
           "baxis": {
            "gridcolor": "#DFE8F3",
            "linecolor": "#A2B1C6",
            "ticks": ""
           },
           "bgcolor": "white",
           "caxis": {
            "gridcolor": "#DFE8F3",
            "linecolor": "#A2B1C6",
            "ticks": ""
           }
          },
          "title": {
           "x": 0.05
          },
          "xaxis": {
           "automargin": true,
           "gridcolor": "#EBF0F8",
           "linecolor": "#EBF0F8",
           "ticks": "",
           "title": {
            "standoff": 15
           },
           "zerolinecolor": "#EBF0F8",
           "zerolinewidth": 2
          },
          "yaxis": {
           "automargin": true,
           "gridcolor": "#EBF0F8",
           "linecolor": "#EBF0F8",
           "ticks": "",
           "title": {
            "standoff": 15
           },
           "zerolinecolor": "#EBF0F8",
           "zerolinewidth": 2
          }
         }
        },
        "title": {
         "text": "E-n22-k4.evrp - 386.961",
         "x": 0.5
        },
        "width": 640,
        "xaxis": {
         "visible": false
        },
        "yaxis": {
         "visible": false
        }
       }
      }
     },
     "metadata": {},
     "output_type": "display_data"
    }
   ],
   "source": [
    "def plot_instance(key):\n",
    "    best_folder, _ = df[key].idxmin()\n",
    "    solution = load_scores(best_folder)[key].solution\n",
    "    args = Namespace(round_int=False, algo=None)\n",
    "    instance = VRPInstance.from_path(f\"dataset/train/data_evrp_wcci/{key}\", args, f\"sub_{key}\")\n",
    "    instance.name = key\n",
    "    instance.solution = solution\n",
    "    fig = instance.plot()\n",
    "    fig.show()\n",
    "    # fig.show(\"svg\")\n",
    "    # return fig.to_image(\"svg\")\n",
    "\n",
    "plot_instance(\"E-n22-k4.evrp\")\n",
    "# fig.add_image(plot_instance(\"E-n22-k4.evrp\"))"
   ]
  },
  {
   "cell_type": "code",
   "execution_count": 6,
   "id": "360a9cff",
   "metadata": {},
   "outputs": [
    {
     "data": {
      "image/svg+xml": "<svg class=\"main-svg\" xmlns=\"http://www.w3.org/2000/svg\" xmlns:xlink=\"http://www.w3.org/1999/xlink\" width=\"640\" height=\"640\" style=\"\" viewBox=\"0 0 640 640\"><rect x=\"0\" y=\"0\" width=\"640\" height=\"640\" style=\"fill: rgb(255, 255, 255); fill-opacity: 1;\"/><defs id=\"defs-453d57\"><g class=\"clips\"><clipPath id=\"clip453d57xyplot\" class=\"plotclip\"><rect width=\"480\" height=\"460\"/></clipPath><clipPath class=\"axesclip\" id=\"clip453d57x\"><rect x=\"80\" y=\"0\" width=\"480\" height=\"640\"/></clipPath><clipPath class=\"axesclip\" id=\"clip453d57y\"><rect x=\"0\" y=\"100\" width=\"640\" height=\"460\"/></clipPath><clipPath class=\"axesclip\" id=\"clip453d57xy\"><rect x=\"80\" y=\"100\" width=\"480\" height=\"460\"/></clipPath></g><g class=\"gradients\"/><g class=\"patterns\"/></defs><g class=\"bglayer\"/><g class=\"layer-below\"><g class=\"imagelayer\"/><g class=\"shapelayer\"/></g><g class=\"cartesianlayer\"><g class=\"subplot xy\"><g class=\"layer-subplot\"><g class=\"shapelayer\"/><g class=\"imagelayer\"/></g><g class=\"gridlayer\"><g class=\"x\"/><g class=\"y\"/></g><g class=\"zerolinelayer\"/><path class=\"xlines-below\"/><path class=\"ylines-below\"/><g class=\"overlines-below\"/><g class=\"xaxislayer-below\"/><g class=\"yaxislayer-below\"/><g class=\"overaxes-below\"/><g class=\"plot\" transform=\"translate(80,100)\" clip-path=\"url(#clip453d57xyplot)\"><g class=\"scatterlayer mlayer\"><g class=\"trace scatter tracebd35b4\" style=\"stroke-miterlimit: 2; opacity: 1;\"><g class=\"fills\"/><g class=\"errorbars\"/><g class=\"lines\"/><g class=\"points\"><path class=\"point\" transform=\"translate(133.5,379.27)\" d=\"M3,3H-3V-3H3Z\" style=\"opacity: 1; stroke-width: 0px; fill: rgb(0, 0, 0); fill-opacity: 1;\"/><path class=\"point\" transform=\"translate(133.5,279.76)\" d=\"M3,3H-3V-3H3Z\" style=\"opacity: 1; stroke-width: 0px; fill: rgb(0, 0, 0); fill-opacity: 1;\"/><path class=\"point\" transform=\"translate(133.5,175.27)\" d=\"M3,3H-3V-3H3Z\" style=\"opacity: 1; stroke-width: 0px; fill: rgb(0, 0, 0); fill-opacity: 1;\"/><path class=\"point\" transform=\"translate(133.5,75.76)\" d=\"M3,3H-3V-3H3Z\" style=\"opacity: 1; stroke-width: 0px; fill: rgb(0, 0, 0); fill-opacity: 1;\"/><path class=\"point\" transform=\"translate(346.5,379.27)\" d=\"M3,3H-3V-3H3Z\" style=\"opacity: 1; stroke-width: 0px; fill: rgb(0, 0, 0); fill-opacity: 1;\"/><path class=\"point\" transform=\"translate(346.5,279.76)\" d=\"M3,3H-3V-3H3Z\" style=\"opacity: 1; stroke-width: 0px; fill: rgb(0, 0, 0); fill-opacity: 1;\"/><path class=\"point\" transform=\"translate(346.5,175.27)\" d=\"M3,3H-3V-3H3Z\" style=\"opacity: 1; stroke-width: 0px; fill: rgb(0, 0, 0); fill-opacity: 1;\"/><path class=\"point\" transform=\"translate(346.5,75.76)\" d=\"M3,3H-3V-3H3Z\" style=\"opacity: 1; stroke-width: 0px; fill: rgb(0, 0, 0); fill-opacity: 1;\"/></g><g class=\"text\"/></g><g class=\"trace scatter trace2658ff\" style=\"stroke-miterlimit: 2; opacity: 1;\"><g class=\"fills\"/><g class=\"errorbars\"/><g class=\"lines\"><path class=\"js-line\" d=\"M228.17,269.8L180.83,314.59L38.83,399.17L157.17,434L240,304.63L228.17,269.8\" style=\"vector-effect: non-scaling-stroke; fill: none; stroke: rgb(240, 72, 38); stroke-opacity: 1; stroke-width: 2px; opacity: 1;\"/></g><g class=\"points\"/><g class=\"text\"/></g><g class=\"trace scatter trace72a299\" style=\"stroke-miterlimit: 2; opacity: 1;\"><g class=\"fills\"/><g class=\"errorbars\"/><g class=\"lines\"><path class=\"js-line\" d=\"M228.17,269.8L251.83,379.27L346.5,419.07L453,379.27L453,304.63L346.5,279.76L358.33,259.85L228.17,269.8\" style=\"vector-effect: non-scaling-stroke; fill: none; stroke: rgb(240, 172, 0); stroke-opacity: 1; stroke-width: 2px; opacity: 1;\"/></g><g class=\"points\"/><g class=\"text\"/></g><g class=\"trace scatter traceeb52a3\" style=\"stroke-miterlimit: 2; opacity: 1;\"><g class=\"fills\"/><g class=\"errorbars\"/><g class=\"lines\"><path class=\"js-line\" d=\"M228.17,269.8L441.17,165.32L417.5,135.46L441.17,110.59L393.83,40.93L299.17,26L346.5,75.76L240,115.56L192.67,150.39L228.17,269.8\" style=\"vector-effect: non-scaling-stroke; fill: none; stroke: rgb(147, 240, 0); stroke-opacity: 1; stroke-width: 2px; opacity: 1;\"/></g><g class=\"points\"/><g class=\"text\"/></g><g class=\"trace scatter trace149eb5\" style=\"stroke-miterlimit: 2; opacity: 1;\"><g class=\"fills\"/><g class=\"errorbars\"/><g class=\"lines\"><path class=\"js-line\" d=\"M228.17,269.8L38.83,274.78L27,190.2L27,85.71L50.67,75.76L133.5,175.27L263.67,185.22L228.17,269.8\" style=\"vector-effect: non-scaling-stroke; fill: none; stroke: rgb(0, 240, 35); stroke-opacity: 1; stroke-width: 2px; opacity: 1;\"/></g><g class=\"points\"/><g class=\"text\"/></g><g class=\"trace scatter traceaa44b8\" style=\"stroke-miterlimit: 2; opacity: 1;\"><g class=\"fills\"/><g class=\"errorbars\"/><g class=\"lines\"/><g class=\"points\"><path class=\"point\" transform=\"translate(228.17,269.8)\" d=\"M1.5,0A1.5,1.5 0 1,1 0,-1.5A1.5,1.5 0 0,1 1.5,0Z\" style=\"opacity: 1; stroke-width: 0px; fill: rgb(240, 72, 38); fill-opacity: 1;\"/><path class=\"point\" transform=\"translate(180.83,314.59)\" d=\"M1.5,0A1.5,1.5 0 1,1 0,-1.5A1.5,1.5 0 0,1 1.5,0Z\" style=\"opacity: 1; stroke-width: 0px; fill: rgb(240, 72, 38); fill-opacity: 1;\"/><path class=\"point\" transform=\"translate(38.83,399.17)\" d=\"M1.5,0A1.5,1.5 0 1,1 0,-1.5A1.5,1.5 0 0,1 1.5,0Z\" style=\"opacity: 1; stroke-width: 0px; fill: rgb(240, 72, 38); fill-opacity: 1;\"/><path class=\"point\" transform=\"translate(157.17,434)\" d=\"M1.5,0A1.5,1.5 0 1,1 0,-1.5A1.5,1.5 0 0,1 1.5,0Z\" style=\"opacity: 1; stroke-width: 0px; fill: rgb(240, 72, 38); fill-opacity: 1;\"/><path class=\"point\" transform=\"translate(240,304.63)\" d=\"M1.5,0A1.5,1.5 0 1,1 0,-1.5A1.5,1.5 0 0,1 1.5,0Z\" style=\"opacity: 1; stroke-width: 0px; fill: rgb(240, 72, 38); fill-opacity: 1;\"/><path class=\"point\" transform=\"translate(228.17,269.8)\" d=\"M1.5,0A1.5,1.5 0 1,1 0,-1.5A1.5,1.5 0 0,1 1.5,0Z\" style=\"opacity: 1; stroke-width: 0px; fill: rgb(240, 72, 38); fill-opacity: 1;\"/></g><g class=\"text\"/></g><g class=\"trace scatter traceb1195c\" style=\"stroke-miterlimit: 2; opacity: 1;\"><g class=\"fills\"/><g class=\"errorbars\"/><g class=\"lines\"/><g class=\"points\"><path class=\"point\" transform=\"translate(228.17,269.8)\" d=\"M1.5,0A1.5,1.5 0 1,1 0,-1.5A1.5,1.5 0 0,1 1.5,0Z\" style=\"opacity: 1; stroke-width: 0px; fill: rgb(240, 172, 0); fill-opacity: 1;\"/><path class=\"point\" transform=\"translate(251.83,379.27)\" d=\"M1.5,0A1.5,1.5 0 1,1 0,-1.5A1.5,1.5 0 0,1 1.5,0Z\" style=\"opacity: 1; stroke-width: 0px; fill: rgb(240, 172, 0); fill-opacity: 1;\"/><path class=\"point\" transform=\"translate(346.5,419.07)\" d=\"M1.5,0A1.5,1.5 0 1,1 0,-1.5A1.5,1.5 0 0,1 1.5,0Z\" style=\"opacity: 1; stroke-width: 0px; fill: rgb(240, 172, 0); fill-opacity: 1;\"/><path class=\"point\" transform=\"translate(453,379.27)\" d=\"M1.5,0A1.5,1.5 0 1,1 0,-1.5A1.5,1.5 0 0,1 1.5,0Z\" style=\"opacity: 1; stroke-width: 0px; fill: rgb(240, 172, 0); fill-opacity: 1;\"/><path class=\"point\" transform=\"translate(453,304.63)\" d=\"M1.5,0A1.5,1.5 0 1,1 0,-1.5A1.5,1.5 0 0,1 1.5,0Z\" style=\"opacity: 1; stroke-width: 0px; fill: rgb(240, 172, 0); fill-opacity: 1;\"/><path class=\"point\" transform=\"translate(346.5,279.76)\" d=\"M1.5,0A1.5,1.5 0 1,1 0,-1.5A1.5,1.5 0 0,1 1.5,0Z\" style=\"opacity: 1; stroke-width: 0px; fill: rgb(240, 172, 0); fill-opacity: 1;\"/><path class=\"point\" transform=\"translate(358.33,259.85)\" d=\"M1.5,0A1.5,1.5 0 1,1 0,-1.5A1.5,1.5 0 0,1 1.5,0Z\" style=\"opacity: 1; stroke-width: 0px; fill: rgb(240, 172, 0); fill-opacity: 1;\"/><path class=\"point\" transform=\"translate(228.17,269.8)\" d=\"M1.5,0A1.5,1.5 0 1,1 0,-1.5A1.5,1.5 0 0,1 1.5,0Z\" style=\"opacity: 1; stroke-width: 0px; fill: rgb(240, 172, 0); fill-opacity: 1;\"/></g><g class=\"text\"/></g><g class=\"trace scatter tracea800c6\" style=\"stroke-miterlimit: 2; opacity: 1;\"><g class=\"fills\"/><g class=\"errorbars\"/><g class=\"lines\"/><g class=\"points\"><path class=\"point\" transform=\"translate(228.17,269.8)\" d=\"M1.5,0A1.5,1.5 0 1,1 0,-1.5A1.5,1.5 0 0,1 1.5,0Z\" style=\"opacity: 1; stroke-width: 0px; fill: rgb(147, 240, 0); fill-opacity: 1;\"/><path class=\"point\" transform=\"translate(441.17,165.32)\" d=\"M1.5,0A1.5,1.5 0 1,1 0,-1.5A1.5,1.5 0 0,1 1.5,0Z\" style=\"opacity: 1; stroke-width: 0px; fill: rgb(147, 240, 0); fill-opacity: 1;\"/><path class=\"point\" transform=\"translate(417.5,135.46)\" d=\"M1.5,0A1.5,1.5 0 1,1 0,-1.5A1.5,1.5 0 0,1 1.5,0Z\" style=\"opacity: 1; stroke-width: 0px; fill: rgb(147, 240, 0); fill-opacity: 1;\"/><path class=\"point\" transform=\"translate(441.17,110.59)\" d=\"M1.5,0A1.5,1.5 0 1,1 0,-1.5A1.5,1.5 0 0,1 1.5,0Z\" style=\"opacity: 1; stroke-width: 0px; fill: rgb(147, 240, 0); fill-opacity: 1;\"/><path class=\"point\" transform=\"translate(393.83,40.93)\" d=\"M1.5,0A1.5,1.5 0 1,1 0,-1.5A1.5,1.5 0 0,1 1.5,0Z\" style=\"opacity: 1; stroke-width: 0px; fill: rgb(147, 240, 0); fill-opacity: 1;\"/><path class=\"point\" transform=\"translate(299.17,26)\" d=\"M1.5,0A1.5,1.5 0 1,1 0,-1.5A1.5,1.5 0 0,1 1.5,0Z\" style=\"opacity: 1; stroke-width: 0px; fill: rgb(147, 240, 0); fill-opacity: 1;\"/><path class=\"point\" transform=\"translate(346.5,75.76)\" d=\"M1.5,0A1.5,1.5 0 1,1 0,-1.5A1.5,1.5 0 0,1 1.5,0Z\" style=\"opacity: 1; stroke-width: 0px; fill: rgb(147, 240, 0); fill-opacity: 1;\"/><path class=\"point\" transform=\"translate(240,115.56)\" d=\"M1.5,0A1.5,1.5 0 1,1 0,-1.5A1.5,1.5 0 0,1 1.5,0Z\" style=\"opacity: 1; stroke-width: 0px; fill: rgb(147, 240, 0); fill-opacity: 1;\"/><path class=\"point\" transform=\"translate(192.67,150.39)\" d=\"M1.5,0A1.5,1.5 0 1,1 0,-1.5A1.5,1.5 0 0,1 1.5,0Z\" style=\"opacity: 1; stroke-width: 0px; fill: rgb(147, 240, 0); fill-opacity: 1;\"/><path class=\"point\" transform=\"translate(228.17,269.8)\" d=\"M1.5,0A1.5,1.5 0 1,1 0,-1.5A1.5,1.5 0 0,1 1.5,0Z\" style=\"opacity: 1; stroke-width: 0px; fill: rgb(147, 240, 0); fill-opacity: 1;\"/></g><g class=\"text\"/></g><g class=\"trace scatter trace392773\" style=\"stroke-miterlimit: 2; opacity: 1;\"><g class=\"fills\"/><g class=\"errorbars\"/><g class=\"lines\"/><g class=\"points\"><path class=\"point\" transform=\"translate(228.17,269.8)\" d=\"M1.5,0A1.5,1.5 0 1,1 0,-1.5A1.5,1.5 0 0,1 1.5,0Z\" style=\"opacity: 1; stroke-width: 0px; fill: rgb(0, 240, 35); fill-opacity: 1;\"/><path class=\"point\" transform=\"translate(38.83,274.78)\" d=\"M1.5,0A1.5,1.5 0 1,1 0,-1.5A1.5,1.5 0 0,1 1.5,0Z\" style=\"opacity: 1; stroke-width: 0px; fill: rgb(0, 240, 35); fill-opacity: 1;\"/><path class=\"point\" transform=\"translate(27,190.2)\" d=\"M1.5,0A1.5,1.5 0 1,1 0,-1.5A1.5,1.5 0 0,1 1.5,0Z\" style=\"opacity: 1; stroke-width: 0px; fill: rgb(0, 240, 35); fill-opacity: 1;\"/><path class=\"point\" transform=\"translate(27,85.71)\" d=\"M1.5,0A1.5,1.5 0 1,1 0,-1.5A1.5,1.5 0 0,1 1.5,0Z\" style=\"opacity: 1; stroke-width: 0px; fill: rgb(0, 240, 35); fill-opacity: 1;\"/><path class=\"point\" transform=\"translate(50.67,75.76)\" d=\"M1.5,0A1.5,1.5 0 1,1 0,-1.5A1.5,1.5 0 0,1 1.5,0Z\" style=\"opacity: 1; stroke-width: 0px; fill: rgb(0, 240, 35); fill-opacity: 1;\"/><path class=\"point\" transform=\"translate(133.5,175.27)\" d=\"M1.5,0A1.5,1.5 0 1,1 0,-1.5A1.5,1.5 0 0,1 1.5,0Z\" style=\"opacity: 1; stroke-width: 0px; fill: rgb(0, 240, 35); fill-opacity: 1;\"/><path class=\"point\" transform=\"translate(263.67,185.22)\" d=\"M1.5,0A1.5,1.5 0 1,1 0,-1.5A1.5,1.5 0 0,1 1.5,0Z\" style=\"opacity: 1; stroke-width: 0px; fill: rgb(0, 240, 35); fill-opacity: 1;\"/><path class=\"point\" transform=\"translate(228.17,269.8)\" d=\"M1.5,0A1.5,1.5 0 1,1 0,-1.5A1.5,1.5 0 0,1 1.5,0Z\" style=\"opacity: 1; stroke-width: 0px; fill: rgb(0, 240, 35); fill-opacity: 1;\"/></g><g class=\"text\"/></g><g class=\"trace scatter tracec41282\" style=\"stroke-miterlimit: 2; opacity: 1;\"><g class=\"fills\"/><g class=\"errorbars\"/><g class=\"lines\"/><g class=\"points\"><path class=\"point\" transform=\"translate(228.17,269.8)\" d=\"M-3.8,0l-1.9,-3.3h3.8l1.9,-3.3l1.9,3.3h3.8l-1.9,3.3l1.9,3.3h-3.8l-1.9,3.3l-1.9,-3.3h-3.8Z\" style=\"opacity: 1; stroke-width: 0px; fill: rgb(255, 0, 0); fill-opacity: 1;\"/></g><g class=\"text\"/></g></g></g><g class=\"overplot\"/><path class=\"xlines-above crisp\" d=\"M0,0\" style=\"fill: none;\"/><path class=\"ylines-above crisp\" d=\"M0,0\" style=\"fill: none;\"/><g class=\"overlines-above\"/><g class=\"xaxislayer-above\"/><g class=\"yaxislayer-above\"/><g class=\"overaxes-above\"/></g></g><g class=\"polarlayer\"/><g class=\"smithlayer\"/><g class=\"ternarylayer\"/><g class=\"geolayer\"/><g class=\"funnelarealayer\"/><g class=\"pielayer\"/><g class=\"iciclelayer\"/><g class=\"treemaplayer\"/><g class=\"sunburstlayer\"/><g class=\"glimages\"/><defs id=\"topdefs-453d57\"><g class=\"clips\"/></defs><g class=\"layer-above\"><g class=\"imagelayer\"/><g class=\"shapelayer\"/></g><g class=\"infolayer\"><g class=\"g-gtitle\"><text class=\"gtitle\" x=\"320\" y=\"50\" text-anchor=\"middle\" dy=\"0em\" style=\"font-family: 'Open Sans', verdana, arial, sans-serif; font-size: 17px; fill: rgb(42, 63, 95); opacity: 1; font-weight: normal; white-space: pre;\">E-n22-k4.evrp - 386.961</text></g></g></svg>"
     },
     "metadata": {},
     "output_type": "display_data"
    }
   ],
   "source": [
    "plot_instance(\"E-n22-k4.evrp\")"
   ]
  },
  {
   "cell_type": "code",
   "execution_count": 7,
   "id": "2aeb1cbc",
   "metadata": {},
   "outputs": [
    {
     "data": {
      "image/svg+xml": "<svg class=\"main-svg\" xmlns=\"http://www.w3.org/2000/svg\" xmlns:xlink=\"http://www.w3.org/1999/xlink\" width=\"640\" height=\"640\" style=\"\" viewBox=\"0 0 640 640\"><rect x=\"0\" y=\"0\" width=\"640\" height=\"640\" style=\"fill: rgb(255, 255, 255); fill-opacity: 1;\"/><defs id=\"defs-5f84e0\"><g class=\"clips\"><clipPath id=\"clip5f84e0xyplot\" class=\"plotclip\"><rect width=\"480\" height=\"460\"/></clipPath><clipPath class=\"axesclip\" id=\"clip5f84e0x\"><rect x=\"80\" y=\"0\" width=\"480\" height=\"640\"/></clipPath><clipPath class=\"axesclip\" id=\"clip5f84e0y\"><rect x=\"0\" y=\"100\" width=\"640\" height=\"460\"/></clipPath><clipPath class=\"axesclip\" id=\"clip5f84e0xy\"><rect x=\"80\" y=\"100\" width=\"480\" height=\"460\"/></clipPath></g><g class=\"gradients\"/><g class=\"patterns\"/></defs><g class=\"bglayer\"/><g class=\"layer-below\"><g class=\"imagelayer\"/><g class=\"shapelayer\"/></g><g class=\"cartesianlayer\"><g class=\"subplot xy\"><g class=\"layer-subplot\"><g class=\"shapelayer\"/><g class=\"imagelayer\"/></g><g class=\"gridlayer\"><g class=\"x\"/><g class=\"y\"/></g><g class=\"zerolinelayer\"/><path class=\"xlines-below\"/><path class=\"ylines-below\"/><g class=\"overlines-below\"/><g class=\"xaxislayer-below\"/><g class=\"yaxislayer-below\"/><g class=\"overaxes-below\"/><g class=\"plot\" transform=\"translate(80,100)\" clip-path=\"url(#clip5f84e0xyplot)\"><g class=\"scatterlayer mlayer\"><g class=\"trace scatter trace7c2504\" style=\"stroke-miterlimit: 2; opacity: 1;\"><g class=\"fills\"/><g class=\"errorbars\"/><g class=\"lines\"/><g class=\"points\"><path class=\"point\" transform=\"translate(100.21,365.86)\" d=\"M3,3H-3V-3H3Z\" style=\"opacity: 1; stroke-width: 0px; fill: rgb(0, 0, 0); fill-opacity: 1;\"/><path class=\"point\" transform=\"translate(100.21,230)\" d=\"M3,3H-3V-3H3Z\" style=\"opacity: 1; stroke-width: 0px; fill: rgb(0, 0, 0); fill-opacity: 1;\"/><path class=\"point\" transform=\"translate(100.21,93.73)\" d=\"M3,3H-3V-3H3Z\" style=\"opacity: 1; stroke-width: 0px; fill: rgb(0, 0, 0); fill-opacity: 1;\"/><path class=\"point\" transform=\"translate(241.41,365.86)\" d=\"M3,3H-3V-3H3Z\" style=\"opacity: 1; stroke-width: 0px; fill: rgb(0, 0, 0); fill-opacity: 1;\"/><path class=\"point\" transform=\"translate(241.41,230)\" d=\"M3,3H-3V-3H3Z\" style=\"opacity: 1; stroke-width: 0px; fill: rgb(0, 0, 0); fill-opacity: 1;\"/><path class=\"point\" transform=\"translate(241.41,93.73)\" d=\"M3,3H-3V-3H3Z\" style=\"opacity: 1; stroke-width: 0px; fill: rgb(0, 0, 0); fill-opacity: 1;\"/><path class=\"point\" transform=\"translate(382.61,365.86)\" d=\"M3,3H-3V-3H3Z\" style=\"opacity: 1; stroke-width: 0px; fill: rgb(0, 0, 0); fill-opacity: 1;\"/><path class=\"point\" transform=\"translate(382.61,230)\" d=\"M3,3H-3V-3H3Z\" style=\"opacity: 1; stroke-width: 0px; fill: rgb(0, 0, 0); fill-opacity: 1;\"/><path class=\"point\" transform=\"translate(382.61,93.73)\" d=\"M3,3H-3V-3H3Z\" style=\"opacity: 1; stroke-width: 0px; fill: rgb(0, 0, 0); fill-opacity: 1;\"/></g><g class=\"text\"/></g><g class=\"trace scatter tracec84438\" style=\"stroke-miterlimit: 2; opacity: 1;\"><g class=\"fills\"/><g class=\"errorbars\"/><g class=\"lines\"><path class=\"js-line\" d=\"M30.25,84.34L29.4,97.4L30.25,211.64L34.07,230.41L34.49,243.06L33.22,249.58L35.34,254.48L29.4,312.01L34.91,317.31L30.25,336.49L31.52,337.3L40.43,345.06L49.33,347.91L53.57,345.46L57.81,327.92L59.51,326.7L52.3,320.58L45.09,298.95L51.45,292.02L48.48,286.3L55.27,244.28L46.79,162.68L38.31,120.25L30.25,84.34\" style=\"vector-effect: non-scaling-stroke; fill: none; stroke: rgb(240, 72, 38); stroke-opacity: 1; stroke-width: 2px; opacity: 1;\"/></g><g class=\"points\"/><g class=\"text\"/></g><g class=\"trace scatter traceee8f06\" style=\"stroke-miterlimit: 2; opacity: 1;\"><g class=\"fills\"/><g class=\"errorbars\"/><g class=\"lines\"><path class=\"js-line\" d=\"M30.25,84.34L100.21,230L43.82,356.89L44.67,368.72L50.18,368.72L51.45,371.58L52.3,384.22L53.57,387.49L60.36,389.94L61.63,391.16L59.08,393.2L60.78,401.36L72.65,402.18L73.5,413.6L71.8,414.01L70.53,413.6L56.96,419.72L56.12,422.58L33.22,423.8L37.46,409.52L45.09,408.7L42.55,406.26L44.24,405.44L48.06,400.95L38.73,400.95L39.15,386.26L29.83,388.71L29.4,375.66L30.67,348.73L37.46,334.86L30.25,84.34\" style=\"vector-effect: non-scaling-stroke; fill: none; stroke: rgb(240, 72, 8); stroke-opacity: 1; stroke-width: 2px; opacity: 1;\"/></g><g class=\"points\"/><g class=\"text\"/></g><g class=\"trace scatter trace03fb11\" style=\"stroke-miterlimit: 2; opacity: 1;\"><g class=\"fills\"/><g class=\"errorbars\"/><g class=\"lines\"><path class=\"js-line\" d=\"M30.25,84.34L47.63,148.81L87.07,298.95L91.31,309.56L93.01,320.17L97.67,321.8L100.64,330.37L87.92,341.79L80.71,344.65L84.52,351.58L86.64,369.54L82.83,371.17L76.89,366.68L71.38,363.01L77.74,356.89L75.2,345.06L63.75,337.71L67.56,329.55L66.29,315.27L63.75,314.86L60.78,267.94L63.75,261.82L30.25,84.34\" style=\"vector-effect: non-scaling-stroke; fill: none; stroke: rgb(240, 87, 0); stroke-opacity: 1; stroke-width: 2px; opacity: 1;\"/></g><g class=\"points\"/><g class=\"text\"/></g><g class=\"trace scatter traced26718\" style=\"stroke-miterlimit: 2; opacity: 1;\"><g class=\"fills\"/><g class=\"errorbars\"/><g class=\"lines\"><path class=\"js-line\" d=\"M30.25,84.34L32.37,110.86L35.76,190.83L41.7,239.38L47.21,258.56L44.67,273.25L48.91,282.22L46.79,284.26L49.76,284.26L59.93,283.04L63.75,283.86L65.02,283.45L88.34,280.59L82.83,277.74L76.89,267.94L78.16,256.52L81.56,234.9L80.71,221.84L84.95,205.52L81.13,194.5L64.6,163.09L30.25,84.34\" style=\"vector-effect: non-scaling-stroke; fill: none; stroke: rgb(240, 108, 0); stroke-opacity: 1; stroke-width: 2px; opacity: 1;\"/></g><g class=\"points\"/><g class=\"text\"/></g><g class=\"trace scatter tracee9fa02\" style=\"stroke-miterlimit: 2; opacity: 1;\"><g class=\"fills\"/><g class=\"errorbars\"/><g class=\"lines\"><path class=\"js-line\" d=\"M30.25,84.34L65.87,266.31L81.98,312.42L81.98,323.84L98.94,344.65L98.94,357.3L100.21,365.86L103.61,366.68L108.69,378.1L109.12,379.33L106.57,383.82L83.68,390.75L88.34,409.52L83.25,415.23L87.07,429.1L90.04,434L94.7,418.09L107.42,418.5L116.75,431.96L119.72,424.62L120.57,414.42L111.24,409.93L124.38,403.81L125.65,383.41L118.02,381.78L120.57,371.17L115.9,365.05L110.81,361.78L108.27,340.57L95.55,311.19L30.25,84.34\" style=\"vector-effect: non-scaling-stroke; fill: none; stroke: rgb(240, 130, 0); stroke-opacity: 1; stroke-width: 2px; opacity: 1;\"/></g><g class=\"points\"/><g class=\"text\"/></g><g class=\"trace scatter traceeaea44\" style=\"stroke-miterlimit: 2; opacity: 1;\"><g class=\"fills\"/><g class=\"errorbars\"/><g class=\"lines\"><path class=\"js-line\" d=\"M30.25,84.34L34.07,94.95L38.73,112.9L43.39,123.51L53.15,162.27L60.36,185.94L57.81,225.92L64.6,234.49L69.26,236.94L65.87,218.58L67.14,196.54L66.72,178.59L61.2,170.02L65.87,151.66L54.84,136.16L30.25,84.34\" style=\"vector-effect: non-scaling-stroke; fill: none; stroke: rgb(240, 151, 0); stroke-opacity: 1; stroke-width: 2px; opacity: 1;\"/></g><g class=\"points\"/><g class=\"text\"/></g><g class=\"trace scatter traceaf4818\" style=\"stroke-miterlimit: 2; opacity: 1;\"><g class=\"fills\"/><g class=\"errorbars\"/><g class=\"lines\"><path class=\"js-line\" d=\"M30.25,84.34L105.3,303.85L108.69,318.13L110.81,326.7L121.84,356.89L130.74,360.56L133.29,370.35L130.32,375.66L139.65,377.7L151.94,387.08L159.58,394.42L162.97,394.02L162.97,396.46L171.87,416.05L160.42,422.17L148.13,428.7L148.55,433.18L161.27,430.33L169.33,426.66L176.96,431.55L180.78,429.92L191.8,431.96L188.83,400.14L184.17,397.69L177.81,380.55L169.33,375.66L150.25,371.58L154.06,363.01L152.37,360.97L140.92,335.26L139.22,320.58L133.29,297.32L100.21,230L30.25,84.34\" style=\"vector-effect: non-scaling-stroke; fill: none; stroke: rgb(240, 172, 0); stroke-opacity: 1; stroke-width: 2px; opacity: 1;\"/></g><g class=\"points\"/><g class=\"text\"/></g><g class=\"trace scatter trace203d85\" style=\"stroke-miterlimit: 2; opacity: 1;\"><g class=\"fills\"/><g class=\"errorbars\"/><g class=\"lines\"><path class=\"js-line\" d=\"M30.25,84.34L61.63,181.45L69.26,216.54L77.32,231.63L96.82,278.14L103.18,284.26L117.17,319.76L118.02,321.39L126.08,331.59L122.69,349.14L128.2,348.32L134.56,344.24L144.31,358.11L144.74,360.15L148.98,347.1L150.25,342.61L161.7,331.59L157.03,327.92L157.03,320.58L155.34,312.82L148.13,313.23L138.38,296.5L132.44,288.34L129.05,283.86L30.25,84.34\" style=\"vector-effect: non-scaling-stroke; fill: none; stroke: rgb(240, 194, 0); stroke-opacity: 1; stroke-width: 2px; opacity: 1;\"/></g><g class=\"points\"/><g class=\"text\"/></g><g class=\"trace scatter trace4e33b4\" style=\"stroke-miterlimit: 2; opacity: 1;\"><g class=\"fills\"/><g class=\"errorbars\"/><g class=\"lines\"><path class=\"js-line\" d=\"M30.25,84.34L59.08,133.71L85.8,185.12L96.4,214.9L91.31,225.1L95.55,227.14L98.94,236.12L104.45,260.6L108.27,260.19L137.1,265.5L143.46,261.82L128.2,255.3L125.65,256.52L117.17,229.59L110.81,219.8L110.81,201.85L99.79,200.22L98.52,198.58L69.68,143.5L30.25,84.34\" style=\"vector-effect: non-scaling-stroke; fill: none; stroke: rgb(240, 215, 0); stroke-opacity: 1; stroke-width: 2px; opacity: 1;\"/></g><g class=\"points\"/><g class=\"text\"/></g><g class=\"trace scatter trace1ec702\" style=\"stroke-miterlimit: 2; opacity: 1;\"><g class=\"fills\"/><g class=\"errorbars\"/><g class=\"lines\"><path class=\"js-line\" d=\"M30.25,84.34L84.95,170.02L120.14,210.82L146.43,245.1L154.49,259.78L154.06,260.6L169.33,274.88L178.23,289.57L174.84,292.42L196.89,312.01L208.76,328.33L221.91,349.54L220.64,355.66L218.94,364.23L218.09,378.92L226.15,382.18L226.57,387.49L206.64,385.04L198.16,370.35L191.38,362.19L182.47,366.27L168.06,359.34L157.46,344.65L143.46,333.63L141.34,330.78L127.78,293.65L100.21,230L81.98,194.1L55.69,133.3L30.25,84.34\" style=\"vector-effect: non-scaling-stroke; fill: none; stroke: rgb(240, 237, 0); stroke-opacity: 1; stroke-width: 2px; opacity: 1;\"/></g><g class=\"points\"/><g class=\"text\"/></g><g class=\"trace scatter tracec28e71\" style=\"stroke-miterlimit: 2; opacity: 1;\"><g class=\"fills\"/><g class=\"errorbars\"/><g class=\"lines\"><path class=\"js-line\" d=\"M30.25,84.34L129.9,216.54L156.61,247.95L157.03,249.58L185.87,292.83L196.89,307.93L241.41,365.86L239.29,369.54L235.9,384.63L239.29,389.12L233.78,393.2L238.44,398.1L244.81,412.78L252.01,431.55L228.69,429.92L225.3,431.96L221.06,433.59L217.24,429.92L205.37,434L197.74,425.84L201.98,392.38L188.83,375.25L183.32,371.17L169.75,339.75L166.36,303.85L30.25,84.34\" style=\"vector-effect: non-scaling-stroke; fill: none; stroke: rgb(213, 240, 0); stroke-opacity: 1; stroke-width: 2px; opacity: 1;\"/></g><g class=\"points\"/><g class=\"text\"/></g><g class=\"trace scatter tracee52362\" style=\"stroke-miterlimit: 2; opacity: 1;\"><g class=\"fills\"/><g class=\"errorbars\"/><g class=\"lines\"><path class=\"js-line\" d=\"M30.25,84.34L163.39,303.85L181.2,322.21L190.53,327.51L199.43,331.59L241.41,365.86L257.53,403.81L268.97,400.54L275.76,409.52L273.64,424.21L281.27,432.78L289.33,418.9L313.5,426.66L307.14,418.09L307.98,416.05L313.07,407.48L313.92,402.58L312.22,396.87L305.44,389.12L296.54,394.83L291.45,387.9L269.82,357.7L260.92,356.07L254.98,351.99L215.97,302.62L30.25,84.34\" style=\"vector-effect: non-scaling-stroke; fill: none; stroke: rgb(178, 240, 0); stroke-opacity: 1; stroke-width: 2px; opacity: 1;\"/></g><g class=\"points\"/><g class=\"text\"/></g><g class=\"trace scatter traceb9cb5c\" style=\"stroke-miterlimit: 2; opacity: 1;\"><g class=\"fills\"/><g class=\"errorbars\"/><g class=\"lines\"><path class=\"js-line\" d=\"M30.25,84.34L178.66,260.6L196.89,297.32L213,310.78L233.36,343.02L240.99,343.02L244.38,359.34L241.41,365.86L246.93,371.98L251.59,369.54L250.74,378.1L259.22,374.84L275.76,384.63L276.61,382.18L266.01,362.6L255.83,362.19L257.1,359.34L253.29,355.66L258.37,349.95L252.86,329.96L246.08,320.17L232.51,308.74L211.31,278.55L30.25,84.34\" style=\"vector-effect: non-scaling-stroke; fill: none; stroke: rgb(147, 240, 0); stroke-opacity: 1; stroke-width: 2px; opacity: 1;\"/></g><g class=\"points\"/><g class=\"text\"/></g><g class=\"trace scatter tracec9ad17\" style=\"stroke-miterlimit: 2; opacity: 1;\"><g class=\"fills\"/><g class=\"errorbars\"/><g class=\"lines\"><path class=\"js-line\" d=\"M30.25,84.34L110.81,190.02L115.9,195.32L115.05,199.4L118.45,201.85L144.74,219.8L154.06,229.59L158.73,232.04L160.85,243.46L169.33,250.4L172.3,240.2L182.9,234.08L182.9,229.59L173.57,228.37L164.66,228.78L156.18,227.14L140.5,203.07L140.92,201.44L138.8,181.04L122.69,171.66L30.25,84.34\" style=\"vector-effect: non-scaling-stroke; fill: none; stroke: rgb(117, 240, 0); stroke-opacity: 1; stroke-width: 2px; opacity: 1;\"/></g><g class=\"points\"/><g class=\"text\"/></g><g class=\"trace scatter trace7feada\" style=\"stroke-miterlimit: 2; opacity: 1;\"><g class=\"fills\"/><g class=\"errorbars\"/><g class=\"lines\"><path class=\"js-line\" d=\"M30.25,84.34L43.39,100.66L47.63,107.19L78.59,149.22L95.55,155.34L95.13,156.56L99.79,166.35L102.33,178.18L107.42,175.74L110.39,178.18L111.66,176.55L114.63,171.66L118.87,157.38L116.33,150.03L115.05,150.44L103.18,147.58L76.47,117.39L70.96,120.25L56.96,105.97L30.25,84.34\" style=\"vector-effect: non-scaling-stroke; fill: none; stroke: rgb(86, 240, 0); stroke-opacity: 1; stroke-width: 2px; opacity: 1;\"/></g><g class=\"points\"/><g class=\"text\"/></g><g class=\"trace scatter trace5de687\" style=\"stroke-miterlimit: 2; opacity: 1;\"><g class=\"fills\"/><g class=\"errorbars\"/><g class=\"lines\"><path class=\"js-line\" d=\"M30.25,84.34L211.31,238.98L249.05,286.71L263.46,305.48L278.73,316.09L282.54,329.14L285.09,333.22L288.9,334.86L297.38,340.57L293.57,353.62L305.86,371.17L302.05,377.7L295.69,377.29L293.99,379.33L271.09,348.32L263.04,334.86L258.8,325.88L247.35,313.23L197.74,254.89L100.21,230L30.25,84.34\" style=\"vector-effect: non-scaling-stroke; fill: none; stroke: rgb(55, 240, 0); stroke-opacity: 1; stroke-width: 2px; opacity: 1;\"/></g><g class=\"points\"/><g class=\"text\"/></g><g class=\"trace scatter trace97145f\" style=\"stroke-miterlimit: 2; opacity: 1;\"><g class=\"fills\"/><g class=\"errorbars\"/><g class=\"lines\"><path class=\"js-line\" d=\"M30.25,84.34L77.74,136.98L120.14,179.82L174.42,252.44L186.29,262.23L199.86,285.9L214.28,292.83L221.06,299.36L234.2,305.48L251.59,302.62L257.53,296.5L272.79,292.02L270.25,286.71L264.73,285.49L268.55,279.37L243.53,272.43L240.56,265.9L221.48,254.48L192.65,234.08L190.11,222.66L174.84,206.34L145.58,185.94L30.25,84.34\" style=\"vector-effect: non-scaling-stroke; fill: none; stroke: rgb(25, 240, 0); stroke-opacity: 1; stroke-width: 2px; opacity: 1;\"/></g><g class=\"points\"/><g class=\"text\"/></g><g class=\"trace scatter tracefb976a\" style=\"stroke-miterlimit: 2; opacity: 1;\"><g class=\"fills\"/><g class=\"errorbars\"/><g class=\"lines\"><path class=\"js-line\" d=\"M30.25,84.34L253.71,286.3L303.74,333.63L325.37,358.11L349.96,374.02L358.87,367.5L359.72,375.66L369.47,372.8L382.61,365.86L384.73,388.71L372.01,391.98L366.92,390.75L369.04,395.65L361.84,397.69L364.8,405.03L388.55,413.19L382.61,417.27L367.35,415.64L353.35,416.46L343.6,405.85L346.15,398.91L349.96,397.69L344.87,380.55L341.48,383L335.12,386.67L314.77,367.9L277.45,338.53L276.18,326.7L245.65,298.54L245.65,294.46L30.25,84.34\" style=\"vector-effect: non-scaling-stroke; fill: none; stroke: rgb(0, 240, 5); stroke-opacity: 1; stroke-width: 2px; opacity: 1;\"/></g><g class=\"points\"/><g class=\"text\"/></g><g class=\"trace scatter traceaa02f6\" style=\"stroke-miterlimit: 2; opacity: 1;\"><g class=\"fills\"/><g class=\"errorbars\"/><g class=\"lines\"><path class=\"js-line\" d=\"M30.25,84.34L316.89,382.18L323.67,392.79L330.46,392.38L332.15,407.48L340.63,425.84L357.17,431.14L382.19,429.1L405.93,431.14L410.17,423.8L440.7,418.5L437.31,395.24L433.92,391.98L415.26,394.02L415.69,382.18L396.18,370.76L382.61,365.86L380.92,361.78L378.8,354.03L360.99,345.87L358.44,347.5L346.15,343.02L346.57,332.82L312.65,324.66L303.74,302.22L291.45,295.28L30.25,84.34\" style=\"vector-effect: non-scaling-stroke; fill: none; stroke: rgb(0, 240, 35); stroke-opacity: 1; stroke-width: 2px; opacity: 1;\"/></g><g class=\"points\"/><g class=\"text\"/></g><g class=\"trace scatter trace7f466c\" style=\"stroke-miterlimit: 2; opacity: 1;\"><g class=\"fills\"/><g class=\"errorbars\"/><g class=\"lines\"><path class=\"js-line\" d=\"M30.25,84.34L187.99,211.23L190.95,216.13L194.77,216.94L203.25,228.78L215.97,236.53L219.79,242.65L225.72,245.91L246.5,269.58L250.74,270.8L250.74,268.76L249.89,265.5L254.13,266.31L262.61,267.54L261.34,264.27L259.65,261.82L251.59,241.02L176.96,186.75L30.25,84.34\" style=\"vector-effect: non-scaling-stroke; fill: none; stroke: rgb(0, 240, 65); stroke-opacity: 1; stroke-width: 2px; opacity: 1;\"/></g><g class=\"points\"/><g class=\"text\"/></g><g class=\"trace scatter trace3a18c5\" style=\"stroke-miterlimit: 2; opacity: 1;\"><g class=\"fills\"/><g class=\"errorbars\"/><g class=\"lines\"><path class=\"js-line\" d=\"M30.25,84.34L211.31,203.48L241.41,230L245.65,225.51L249.89,226.74L290.6,251.22L305.86,272.84L323.25,283.04L341.91,285.49L345.3,286.3L366.92,300.18L364.38,307.11L363.53,320.98L362.26,327.92L364.8,332.82L364.38,333.22L358.87,335.26L356.75,331.18L349.11,329.96L344.03,325.06L338.94,323.02L330.88,316.5L318.16,314.05L305.86,300.18L300.78,288.75L265.58,267.54L238.44,242.65L232.08,238.16L205.37,212.86L140.92,166.76L30.25,84.34\" style=\"vector-effect: non-scaling-stroke; fill: none; stroke: rgb(0, 240, 96); stroke-opacity: 1; stroke-width: 2px; opacity: 1;\"/></g><g class=\"points\"/><g class=\"text\"/></g><g class=\"trace scatter tracebc5c53\" style=\"stroke-miterlimit: 2; opacity: 1;\"><g class=\"fills\"/><g class=\"errorbars\"/><g class=\"lines\"><path class=\"js-line\" d=\"M30.25,84.34L261.34,241.02L299.5,272.02L339.79,309.97L341.48,316.5L366.92,325.88L402.54,331.59L408.9,345.87L402.12,353.22L402.97,357.7L399.15,360.97L382.61,365.86L413.99,364.23L420.77,361.78L443.25,390.75L443.67,385.04L445.37,373.62L429.68,345.06L435.19,346.69L441.98,347.5L448.34,342.2L452.15,335.67L453,324.66L429.68,323.84L429.25,330.37L417.81,336.08L414.84,330.37L396.18,320.58L317.31,256.93L187.56,175.74L30.25,84.34\" style=\"vector-effect: non-scaling-stroke; fill: none; stroke: rgb(0, 240, 131); stroke-opacity: 1; stroke-width: 2px; opacity: 1;\"/></g><g class=\"points\"/><g class=\"text\"/></g><g class=\"trace scatter tracef89b04\" style=\"stroke-miterlimit: 2; opacity: 1;\"><g class=\"fills\"/><g class=\"errorbars\"/><g class=\"lines\"><path class=\"js-line\" d=\"M30.25,84.34L199.01,199.81L229.12,223.06L241.41,230L246.08,234.9L263.04,246.73L286.36,256.93L288.06,258.97L310.1,273.25L332.58,272.02L342.75,263.05L342.75,254.07L331.73,251.62L316.46,248.36L305.02,239.79L303.32,237.75L295.69,238.57L296.54,236.53L295.69,232.04L292.72,230.82L252.44,216.94L230.39,205.93L197.31,176.96L30.25,84.34\" style=\"vector-effect: non-scaling-stroke; fill: none; stroke: rgb(0, 240, 161); stroke-opacity: 1; stroke-width: 2px; opacity: 1;\"/></g><g class=\"points\"/><g class=\"text\"/></g><g class=\"trace scatter trace70eb18\" style=\"stroke-miterlimit: 2; opacity: 1;\"><g class=\"fills\"/><g class=\"errorbars\"/><g class=\"lines\"><path class=\"js-line\" d=\"M30.25,84.34L232.93,197.77L322.83,241.42L336.39,241.42L359.72,252.44L355.47,261.42L368.62,271.62L371.16,269.58L383.88,276.92L388.55,287.53L395.76,287.12L393.64,291.2L409.33,303.85L407.63,304.66L407.63,312.01L404.66,307.93L399.15,304.26L385.16,299.77L377.95,285.08L377.95,283.04L363.53,274.06L355.05,272.43L323.25,257.34L309.26,246.73L291.02,235.71L241.41,230L30.25,84.34\" style=\"vector-effect: non-scaling-stroke; fill: none; stroke: rgb(0, 240, 192); stroke-opacity: 1; stroke-width: 2px; opacity: 1;\"/></g><g class=\"points\"/><g class=\"text\"/></g><g class=\"trace scatter trace020ae3\" style=\"stroke-miterlimit: 2; opacity: 1;\"><g class=\"fills\"/><g class=\"errorbars\"/><g class=\"lines\"><path class=\"js-line\" d=\"M30.25,84.34L98.09,112.5L146.86,152.89L148.13,151.66L156.61,155.34L163.39,153.3L185.02,152.48L205.37,165.54L206.64,168.8L222.76,173.29L224.03,169.21L242.26,172.88L228.69,183.9L229.12,185.12L228.69,190.02L234.2,198.18L233.78,199.4L220.21,200.62L207.07,192.46L183.75,182.26L162.54,174.1L135.41,158.19L30.25,84.34\" style=\"vector-effect: non-scaling-stroke; fill: none; stroke: rgb(0, 240, 222); stroke-opacity: 1; stroke-width: 2px; opacity: 1;\"/></g><g class=\"points\"/><g class=\"text\"/></g><g class=\"trace scatter trace0352d9\" style=\"stroke-miterlimit: 2; opacity: 1;\"><g class=\"fills\"/><g class=\"errorbars\"/><g class=\"lines\"><path class=\"js-line\" d=\"M30.25,84.34L72.65,101.48L100.64,106.38L124.81,126.78L148.55,134.12L150.67,134.94L146.86,149.62L123.96,129.22L112.51,127.18L106.15,123.92L104.45,125.55L92.58,114.13L85.37,112.09L53.57,94.95L30.25,84.34\" style=\"vector-effect: non-scaling-stroke; fill: none; stroke: rgb(0, 230, 240); stroke-opacity: 1; stroke-width: 2px; opacity: 1;\"/></g><g class=\"points\"/><g class=\"text\"/></g><g class=\"trace scatter trace0e1c51\" style=\"stroke-miterlimit: 2; opacity: 1;\"><g class=\"fills\"/><g class=\"errorbars\"/><g class=\"lines\"><path class=\"js-line\" d=\"M30.25,84.34L380.92,260.19L399.57,279.78L413.57,289.57L419.08,288.34L432.22,292.83L429.68,297.73L427.13,308.74L432.65,308.74L440.7,303.85L444.94,311.19L446.22,306.7L452.15,298.54L444.94,292.42L447.91,278.14L451.3,265.9L447.49,265.09L448.76,249.99L443.67,239.79L447.49,224.7L440.7,233.26L431.37,236.12L398.3,227.55L382.61,230L372.44,207.15L369.89,205.11L298.66,181.04L30.25,84.34\" style=\"vector-effect: non-scaling-stroke; fill: none; stroke: rgb(0, 209, 240); stroke-opacity: 1; stroke-width: 2px; opacity: 1;\"/></g><g class=\"points\"/><g class=\"text\"/></g><g class=\"trace scatter trace245198\" style=\"stroke-miterlimit: 2; opacity: 1;\"><g class=\"fills\"/><g class=\"errorbars\"/><g class=\"lines\"><path class=\"js-line\" d=\"M30.25,84.34L301.62,210.01L366.5,232.86L374.13,229.18L382.61,230L380.92,234.49L395.76,244.28L402.97,243.87L401.27,249.99L411.87,261.01L422.05,264.68L436.46,261.42L441.98,274.47L436.46,272.84L434.77,276.51L427.56,274.88L427.13,273.66L420.77,276.51L413.14,269.98L404.24,269.58L375.4,256.52L368.2,249.58L363.53,249.99L30.25,84.34\" style=\"vector-effect: non-scaling-stroke; fill: none; stroke: rgb(0, 187, 240); stroke-opacity: 1; stroke-width: 2px; opacity: 1;\"/></g><g class=\"points\"/><g class=\"text\"/></g><g class=\"trace scatter trace3db415\" style=\"stroke-miterlimit: 2; opacity: 1;\"><g class=\"fills\"/><g class=\"errorbars\"/><g class=\"lines\"><path class=\"js-line\" d=\"M30.25,84.34L196.47,172.06L252.44,194.5L254.98,194.91L284.24,211.64L298.66,217.35L299.08,225.1L326.64,218.17L331.31,230.82L344.87,233.26L355.9,225.1L366.08,225.92L365.23,216.54L359.29,216.94L349.96,214.09L337.24,196.95L333.85,201.44L323.25,205.93L316.89,205.52L309.26,205.11L294.42,198.18L277.45,194.91L276.61,188.38L252.86,178.59L100.21,93.73L30.25,84.34\" style=\"vector-effect: non-scaling-stroke; fill: none; stroke: rgb(0, 166, 240); stroke-opacity: 1; stroke-width: 2px; opacity: 1;\"/></g><g class=\"points\"/><g class=\"text\"/></g><g class=\"trace scatter trace55919c\" style=\"stroke-miterlimit: 2; opacity: 1;\"><g class=\"fills\"/><g class=\"errorbars\"/><g class=\"lines\"><path class=\"js-line\" d=\"M30.25,84.34L224.45,155.34L231.24,166.35L243.11,169.62L264.73,176.55L273.21,169.62L279.57,172.47L291.02,173.29L295.26,177.37L327.49,178.18L331.31,175.74L342.75,178.18L343.18,181.45L357.6,181.04L370.32,182.67L358.44,164.72L343.6,162.68L330.46,162.68L316.89,164.31L305.44,152.07L305.02,155.34L300.78,158.6L243.11,145.14L100.21,93.73L30.25,84.34\" style=\"vector-effect: non-scaling-stroke; fill: none; stroke: rgb(0, 144, 240); stroke-opacity: 1; stroke-width: 2px; opacity: 1;\"/></g><g class=\"points\"/><g class=\"text\"/></g><g class=\"trace scatter trace5ef8b6\" style=\"stroke-miterlimit: 2; opacity: 1;\"><g class=\"fills\"/><g class=\"errorbars\"/><g class=\"lines\"><path class=\"js-line\" d=\"M30.25,84.34L223.18,157.38L316.04,196.54L330.03,193.28L338.09,196.14L369.89,195.73L378.8,201.03L393.21,196.95L391.94,199.4L386.43,205.93L389.82,216.13L382.61,230L400.85,214.09L411.87,218.17L412.72,209.19L416.53,203.89L453,188.38L449.61,169.21L444.52,170.84L432.65,175.74L432.65,180.22L404.24,183.9L404.24,182.67L399.57,182.67L393.64,178.18L389.4,171.25L383.88,168.8L30.25,84.34\" style=\"vector-effect: non-scaling-stroke; fill: none; stroke: rgb(0, 123, 240); stroke-opacity: 1; stroke-width: 2px; opacity: 1;\"/></g><g class=\"points\"/><g class=\"text\"/></g><g class=\"trace scatter tracedd9c19\" style=\"stroke-miterlimit: 2; opacity: 1;\"><g class=\"fills\"/><g class=\"errorbars\"/><g class=\"lines\"><path class=\"js-line\" d=\"M30.25,84.34L103.18,102.7L131.59,113.72L150.25,120.25L189.26,145.14L231.66,141.46L233.36,136.98L241.41,137.79L266.43,129.63L270.67,132.08L275.76,125.14L270.25,119.43L260.49,105.15L253.71,102.3L249.89,107.19L251.59,110.46L234.63,107.19L219.79,115.35L208.76,108.42L187.99,109.64L187.14,108.01L165.51,113.31L126.5,104.74L85.8,96.99L30.25,84.34\" style=\"vector-effect: non-scaling-stroke; fill: none; stroke: rgb(0, 101, 240); stroke-opacity: 1; stroke-width: 2px; opacity: 1;\"/></g><g class=\"points\"/><g class=\"text\"/></g><g class=\"trace scatter tracee5abda\" style=\"stroke-miterlimit: 2; opacity: 1;\"><g class=\"fills\"/><g class=\"errorbars\"/><g class=\"lines\"><path class=\"js-line\" d=\"M30.25,84.34L252.01,120.66L303.74,126.78L320.28,128L324.1,135.34L333.85,146.77L332.15,154.52L335.12,151.66L349.11,147.18L350.39,145.14L359.29,148.4L363.53,143.5L366.08,142.69L363.96,138.61L356.75,130.86L345.72,120.66L341.91,128.41L335.55,125.14L328.34,120.25L312.65,116.98L306.29,108.42L288.06,113.31L100.21,93.73L30.25,84.34\" style=\"vector-effect: non-scaling-stroke; fill: none; stroke: rgb(0, 76, 240); stroke-opacity: 1; stroke-width: 2px; opacity: 1;\"/></g><g class=\"points\"/><g class=\"text\"/></g><g class=\"trace scatter tracee226d1\" style=\"stroke-miterlimit: 2; opacity: 1;\"><g class=\"fills\"/><g class=\"errorbars\"/><g class=\"lines\"><path class=\"js-line\" d=\"M30.25,84.34L241.41,93.73L331.73,116.17L347.84,112.5L371.16,118.62L381.76,125.96L387.7,126.78L400,132.08L407.21,131.67L401.27,140.24L405.93,139.83L405.51,141.46L414.84,146.77L415.69,145.14L420.77,146.36L432.65,150.03L433.07,157.78L430.95,158.6L419.5,158.6L405.09,154.93L398.73,164.31L395.33,159.42L384.31,159.42L355.05,152.89L337.24,139.02L283.39,138.61L263.89,125.55L30.25,84.34\" style=\"vector-effect: non-scaling-stroke; fill: none; stroke: rgb(23, 72, 240); stroke-opacity: 1; stroke-width: 2px; opacity: 1;\"/></g><g class=\"points\"/><g class=\"text\"/></g><g class=\"trace scatter trace0008ce\" style=\"stroke-miterlimit: 2; opacity: 1;\"><g class=\"fills\"/><g class=\"errorbars\"/><g class=\"lines\"><path class=\"js-line\" d=\"M30.25,84.34L348.27,110.86L371.16,109.23L378.37,118.21L380.92,117.39L388.97,113.72L406.36,121.88L411.02,128.82L417.38,119.02L422.05,129.22L427.13,130.86L432.65,121.47L450.46,128.82L444.52,116.17L445.79,108.82L443.67,101.48L452.58,93.32L444.94,79.86L443.25,81.9L426.71,96.99L404.24,99.03L382.61,93.73L30.25,84.34\" style=\"vector-effect: non-scaling-stroke; fill: none; stroke: rgb(54, 72, 240); stroke-opacity: 1; stroke-width: 2px; opacity: 1;\"/></g><g class=\"points\"/><g class=\"text\"/></g><g class=\"trace scatter trace23b617\" style=\"stroke-miterlimit: 2; opacity: 1;\"><g class=\"fills\"/><g class=\"errorbars\"/><g class=\"lines\"><path class=\"js-line\" d=\"M30.25,84.34L97.67,89.65L126.93,93.32L160,84.34L171.03,85.16L193.5,90.06L205.37,88.83L217.24,79.45L239.29,82.3L246.5,83.12L242.26,84.75L234.2,97.81L232.51,94.95L212.16,96.58L204.1,102.3L188.83,103.52L185.02,104.74L171.45,101.48L166.36,101.89L159.58,103.52L130.74,103.11L130.32,103.11L111.24,94.95L30.25,84.34\" style=\"vector-effect: non-scaling-stroke; fill: none; stroke: rgb(85, 72, 240); stroke-opacity: 1; stroke-width: 2px; opacity: 1;\"/></g><g class=\"points\"/><g class=\"text\"/></g><g class=\"trace scatter trace764744\" style=\"stroke-miterlimit: 2; opacity: 1;\"><g class=\"fills\"/><g class=\"errorbars\"/><g class=\"lines\"><path class=\"js-line\" d=\"M30.25,84.34L177.81,63.13L237.17,62.31L298.23,44.36L338.51,60.68L357.6,56.6L365.23,59.86L367.77,59.46L384.73,68.02L394.48,72.51L391.52,73.33L384.73,83.12L386.43,88.42L375.83,82.71L370.32,81.49L364.8,79.04L365.65,81.08L368.62,94.14L366.5,92.91L366.08,92.91L360.56,87.61L341.48,87.61L333.43,86.79L327.91,88.83L322.4,86.79L304.17,92.5L301.2,97.81L202.83,91.28L30.25,84.34\" style=\"vector-effect: non-scaling-stroke; fill: none; stroke: rgb(115, 72, 240); stroke-opacity: 1; stroke-width: 2px; opacity: 1;\"/></g><g class=\"points\"/><g class=\"text\"/></g><g class=\"trace scatter trace349da9\" style=\"stroke-miterlimit: 2; opacity: 1;\"><g class=\"fills\"/><g class=\"errorbars\"/><g class=\"lines\"><path class=\"js-line\" d=\"M30.25,84.34L190.11,69.25L274.06,62.31L349.11,67.21L358.02,69.25L360.14,72.51L362.26,67.21L366.08,68.43L372.01,65.58L386,59.05L396.61,55.38L412.72,62.72L407.63,68.43L408.9,77L411.45,77L418.65,85.98L421.62,88.42L418.65,91.69L408.48,89.24L402.97,92.91L380.92,101.89L368.2,98.22L341.48,99.03L302.47,103.52L241.41,93.73L30.25,84.34\" style=\"vector-effect: non-scaling-stroke; fill: none; stroke: rgb(146, 72, 240); stroke-opacity: 1; stroke-width: 2px; opacity: 1;\"/></g><g class=\"points\"/><g class=\"text\"/></g><g class=\"trace scatter trace7a8a77\" style=\"stroke-miterlimit: 2; opacity: 1;\"><g class=\"fills\"/><g class=\"errorbars\"/><g class=\"lines\"><path class=\"js-line\" d=\"M30.25,84.34L196.89,50.07L208.76,54.97L249.05,60.68L255.83,64.35L273.21,66.39L289.75,70.88L306.29,65.17L316.04,77L316.46,78.22L306.29,76.18L298.66,81.08L293.14,89.65L287.21,86.38L282.54,80.67L277.03,75.78L251.59,72.1L246.08,67.62L235.05,72.92L209.61,77.82L194.77,77.82L30.25,84.34\" style=\"vector-effect: non-scaling-stroke; fill: none; stroke: rgb(177, 72, 240); stroke-opacity: 1; stroke-width: 2px; opacity: 1;\"/></g><g class=\"points\"/><g class=\"text\"/></g><g class=\"trace scatter trace7521bb\" style=\"stroke-miterlimit: 2; opacity: 1;\"><g class=\"fills\"/><g class=\"errorbars\"/><g class=\"lines\"><path class=\"js-line\" d=\"M30.25,84.34L330.46,26.82L344.03,33.75L359.29,28.45L374.13,27.22L408.9,41.1L414.84,41.5L417.38,40.28L436.46,42.73L445.79,35.38L451.73,57.82L445.37,68.02L443.25,73.33L433.07,60.68L436.46,52.11L423.74,52.52L422.47,47.62L410.17,43.54L406.78,45.99L391.52,45.99L381.34,47.62L361.41,43.14L337.24,47.22L241.41,93.73L30.25,84.34\" style=\"vector-effect: non-scaling-stroke; fill: none; stroke: rgb(207, 72, 240); stroke-opacity: 1; stroke-width: 2px; opacity: 1;\"/></g><g class=\"points\"/><g class=\"text\"/></g><g class=\"trace scatter trace4e3c7a\" style=\"stroke-miterlimit: 2; opacity: 1;\"><g class=\"fills\"/><g class=\"errorbars\"/><g class=\"lines\"><path class=\"js-line\" d=\"M30.25,84.34L168.48,28.04L209.61,30.08L222.33,30.49L251.59,34.98L263.04,26.82L268.13,31.3L283.82,37.02L284.66,32.53L302.9,31.71L311.8,36.2L310.95,39.87L302.05,51.7L304.59,53.34L302.47,56.6L285.09,53.34L262.61,51.7L235.9,48.44L232.08,43.95L225.3,38.24L205.8,37.02L197.31,46.4L30.25,84.34\" style=\"vector-effect: non-scaling-stroke; fill: none; stroke: rgb(238, 72, 240); stroke-opacity: 1; stroke-width: 2px; opacity: 1;\"/></g><g class=\"points\"/><g class=\"text\"/></g><g class=\"trace scatter trace36b9a9\" style=\"stroke-miterlimit: 2; opacity: 1;\"><g class=\"fills\"/><g class=\"errorbars\"/><g class=\"lines\"><path class=\"js-line\" d=\"M30.25,84.34L61.63,73.74L76.04,66.39L124.38,42.73L130.74,45.99L131.59,46.81L134.14,47.62L154.91,42.73L157.03,39.06L163.39,38.24L174.42,34.57L181.63,41.1L171.45,50.07L171.87,61.9L168.06,63.54L163.82,73.33L140.07,80.26L135.41,82.3L129.05,76.18L111.66,73.33L86.22,83.94L78.59,84.34L30.25,84.34\" style=\"vector-effect: non-scaling-stroke; fill: none; stroke: rgb(240, 72, 210); stroke-opacity: 1; stroke-width: 2px; opacity: 1;\"/></g><g class=\"points\"/><g class=\"text\"/></g><g class=\"trace scatter trace5c1965\" style=\"stroke-miterlimit: 2; opacity: 1;\"><g class=\"fills\"/><g class=\"errorbars\"/><g class=\"lines\"><path class=\"js-line\" d=\"M30.25,84.34L48.91,78.22L51.03,66.39L52.3,54.56L75.62,52.52L101.06,64.35L104.03,55.38L107.42,50.07L109.12,44.36L107,30.9L101.91,37.83L95.55,39.46L79.01,37.02L71.38,26L32.37,33.75L29.83,36.2L31.52,50.07L34.49,63.13L38.73,67.21L32.37,70.47L29.83,74.96L30.25,84.34\" style=\"vector-effect: non-scaling-stroke; fill: none; stroke: rgb(240, 72, 180); stroke-opacity: 1; stroke-width: 2px; opacity: 1;\"/></g><g class=\"points\"/><g class=\"text\"/></g><g class=\"trace scatter trace6b63aa\" style=\"stroke-miterlimit: 2; opacity: 1;\"><g class=\"fills\"/><g class=\"errorbars\"/><g class=\"lines\"/><g class=\"points\"><path class=\"point\" transform=\"translate(30.25,84.34)\" d=\"M1.5,0A1.5,1.5 0 1,1 0,-1.5A1.5,1.5 0 0,1 1.5,0Z\" style=\"opacity: 1; stroke-width: 0px; fill: rgb(240, 72, 38); fill-opacity: 1;\"/><path class=\"point\" transform=\"translate(29.4,97.4)\" d=\"M1.5,0A1.5,1.5 0 1,1 0,-1.5A1.5,1.5 0 0,1 1.5,0Z\" style=\"opacity: 1; stroke-width: 0px; fill: rgb(240, 72, 38); fill-opacity: 1;\"/><path class=\"point\" transform=\"translate(30.25,211.64)\" d=\"M1.5,0A1.5,1.5 0 1,1 0,-1.5A1.5,1.5 0 0,1 1.5,0Z\" style=\"opacity: 1; stroke-width: 0px; fill: rgb(240, 72, 38); fill-opacity: 1;\"/><path class=\"point\" transform=\"translate(34.07,230.41)\" d=\"M1.5,0A1.5,1.5 0 1,1 0,-1.5A1.5,1.5 0 0,1 1.5,0Z\" style=\"opacity: 1; stroke-width: 0px; fill: rgb(240, 72, 38); fill-opacity: 1;\"/><path class=\"point\" transform=\"translate(34.49,243.06)\" d=\"M1.5,0A1.5,1.5 0 1,1 0,-1.5A1.5,1.5 0 0,1 1.5,0Z\" style=\"opacity: 1; stroke-width: 0px; fill: rgb(240, 72, 38); fill-opacity: 1;\"/><path class=\"point\" transform=\"translate(33.22,249.58)\" d=\"M1.5,0A1.5,1.5 0 1,1 0,-1.5A1.5,1.5 0 0,1 1.5,0Z\" style=\"opacity: 1; stroke-width: 0px; fill: rgb(240, 72, 38); fill-opacity: 1;\"/><path class=\"point\" transform=\"translate(35.34,254.48)\" d=\"M1.5,0A1.5,1.5 0 1,1 0,-1.5A1.5,1.5 0 0,1 1.5,0Z\" style=\"opacity: 1; stroke-width: 0px; fill: rgb(240, 72, 38); fill-opacity: 1;\"/><path class=\"point\" transform=\"translate(30.25,304.66)\" d=\"M1.5,0A1.5,1.5 0 1,1 0,-1.5A1.5,1.5 0 0,1 1.5,0Z\" style=\"opacity: 1; stroke-width: 0px; fill: rgb(240, 72, 38); fill-opacity: 1;\"/><path class=\"point\" transform=\"translate(29.4,312.01)\" d=\"M1.5,0A1.5,1.5 0 1,1 0,-1.5A1.5,1.5 0 0,1 1.5,0Z\" style=\"opacity: 1; stroke-width: 0px; fill: rgb(240, 72, 38); fill-opacity: 1;\"/><path class=\"point\" transform=\"translate(34.91,317.31)\" d=\"M1.5,0A1.5,1.5 0 1,1 0,-1.5A1.5,1.5 0 0,1 1.5,0Z\" style=\"opacity: 1; stroke-width: 0px; fill: rgb(240, 72, 38); fill-opacity: 1;\"/><path class=\"point\" transform=\"translate(30.25,336.49)\" d=\"M1.5,0A1.5,1.5 0 1,1 0,-1.5A1.5,1.5 0 0,1 1.5,0Z\" style=\"opacity: 1; stroke-width: 0px; fill: rgb(240, 72, 38); fill-opacity: 1;\"/><path class=\"point\" transform=\"translate(31.52,337.3)\" d=\"M1.5,0A1.5,1.5 0 1,1 0,-1.5A1.5,1.5 0 0,1 1.5,0Z\" style=\"opacity: 1; stroke-width: 0px; fill: rgb(240, 72, 38); fill-opacity: 1;\"/><path class=\"point\" transform=\"translate(37.88,343.42)\" d=\"M1.5,0A1.5,1.5 0 1,1 0,-1.5A1.5,1.5 0 0,1 1.5,0Z\" style=\"opacity: 1; stroke-width: 0px; fill: rgb(240, 72, 38); fill-opacity: 1;\"/><path class=\"point\" transform=\"translate(40.43,345.06)\" d=\"M1.5,0A1.5,1.5 0 1,1 0,-1.5A1.5,1.5 0 0,1 1.5,0Z\" style=\"opacity: 1; stroke-width: 0px; fill: rgb(240, 72, 38); fill-opacity: 1;\"/><path class=\"point\" transform=\"translate(49.33,347.91)\" d=\"M1.5,0A1.5,1.5 0 1,1 0,-1.5A1.5,1.5 0 0,1 1.5,0Z\" style=\"opacity: 1; stroke-width: 0px; fill: rgb(240, 72, 38); fill-opacity: 1;\"/><path class=\"point\" transform=\"translate(53.57,345.46)\" d=\"M1.5,0A1.5,1.5 0 1,1 0,-1.5A1.5,1.5 0 0,1 1.5,0Z\" style=\"opacity: 1; stroke-width: 0px; fill: rgb(240, 72, 38); fill-opacity: 1;\"/><path class=\"point\" transform=\"translate(57.81,327.92)\" d=\"M1.5,0A1.5,1.5 0 1,1 0,-1.5A1.5,1.5 0 0,1 1.5,0Z\" style=\"opacity: 1; stroke-width: 0px; fill: rgb(240, 72, 38); fill-opacity: 1;\"/><path class=\"point\" transform=\"translate(59.51,326.7)\" d=\"M1.5,0A1.5,1.5 0 1,1 0,-1.5A1.5,1.5 0 0,1 1.5,0Z\" style=\"opacity: 1; stroke-width: 0px; fill: rgb(240, 72, 38); fill-opacity: 1;\"/><path class=\"point\" transform=\"translate(52.3,320.58)\" d=\"M1.5,0A1.5,1.5 0 1,1 0,-1.5A1.5,1.5 0 0,1 1.5,0Z\" style=\"opacity: 1; stroke-width: 0px; fill: rgb(240, 72, 38); fill-opacity: 1;\"/><path class=\"point\" transform=\"translate(45.09,298.95)\" d=\"M1.5,0A1.5,1.5 0 1,1 0,-1.5A1.5,1.5 0 0,1 1.5,0Z\" style=\"opacity: 1; stroke-width: 0px; fill: rgb(240, 72, 38); fill-opacity: 1;\"/><path class=\"point\" transform=\"translate(51.45,292.02)\" d=\"M1.5,0A1.5,1.5 0 1,1 0,-1.5A1.5,1.5 0 0,1 1.5,0Z\" style=\"opacity: 1; stroke-width: 0px; fill: rgb(240, 72, 38); fill-opacity: 1;\"/><path class=\"point\" transform=\"translate(48.48,286.3)\" d=\"M1.5,0A1.5,1.5 0 1,1 0,-1.5A1.5,1.5 0 0,1 1.5,0Z\" style=\"opacity: 1; stroke-width: 0px; fill: rgb(240, 72, 38); fill-opacity: 1;\"/><path class=\"point\" transform=\"translate(55.27,244.28)\" d=\"M1.5,0A1.5,1.5 0 1,1 0,-1.5A1.5,1.5 0 0,1 1.5,0Z\" style=\"opacity: 1; stroke-width: 0px; fill: rgb(240, 72, 38); fill-opacity: 1;\"/><path class=\"point\" transform=\"translate(46.79,162.68)\" d=\"M1.5,0A1.5,1.5 0 1,1 0,-1.5A1.5,1.5 0 0,1 1.5,0Z\" style=\"opacity: 1; stroke-width: 0px; fill: rgb(240, 72, 38); fill-opacity: 1;\"/><path class=\"point\" transform=\"translate(38.31,120.25)\" d=\"M1.5,0A1.5,1.5 0 1,1 0,-1.5A1.5,1.5 0 0,1 1.5,0Z\" style=\"opacity: 1; stroke-width: 0px; fill: rgb(240, 72, 38); fill-opacity: 1;\"/><path class=\"point\" transform=\"translate(30.25,84.34)\" d=\"M1.5,0A1.5,1.5 0 1,1 0,-1.5A1.5,1.5 0 0,1 1.5,0Z\" style=\"opacity: 1; stroke-width: 0px; fill: rgb(240, 72, 38); fill-opacity: 1;\"/></g><g class=\"text\"/></g><g class=\"trace scatter tracea35e93\" style=\"stroke-miterlimit: 2; opacity: 1;\"><g class=\"fills\"/><g class=\"errorbars\"/><g class=\"lines\"/><g class=\"points\"><path class=\"point\" transform=\"translate(30.25,84.34)\" d=\"M1.5,0A1.5,1.5 0 1,1 0,-1.5A1.5,1.5 0 0,1 1.5,0Z\" style=\"opacity: 1; stroke-width: 0px; fill: rgb(240, 72, 8); fill-opacity: 1;\"/><path class=\"point\" transform=\"translate(100.21,230)\" d=\"M1.5,0A1.5,1.5 0 1,1 0,-1.5A1.5,1.5 0 0,1 1.5,0Z\" style=\"opacity: 1; stroke-width: 0px; fill: rgb(240, 72, 8); fill-opacity: 1;\"/><path class=\"point\" transform=\"translate(43.82,356.89)\" d=\"M1.5,0A1.5,1.5 0 1,1 0,-1.5A1.5,1.5 0 0,1 1.5,0Z\" style=\"opacity: 1; stroke-width: 0px; fill: rgb(240, 72, 8); fill-opacity: 1;\"/><path class=\"point\" transform=\"translate(44.67,368.72)\" d=\"M1.5,0A1.5,1.5 0 1,1 0,-1.5A1.5,1.5 0 0,1 1.5,0Z\" style=\"opacity: 1; stroke-width: 0px; fill: rgb(240, 72, 8); fill-opacity: 1;\"/><path class=\"point\" transform=\"translate(50.18,368.72)\" d=\"M1.5,0A1.5,1.5 0 1,1 0,-1.5A1.5,1.5 0 0,1 1.5,0Z\" style=\"opacity: 1; stroke-width: 0px; fill: rgb(240, 72, 8); fill-opacity: 1;\"/><path class=\"point\" transform=\"translate(51.45,371.58)\" d=\"M1.5,0A1.5,1.5 0 1,1 0,-1.5A1.5,1.5 0 0,1 1.5,0Z\" style=\"opacity: 1; stroke-width: 0px; fill: rgb(240, 72, 8); fill-opacity: 1;\"/><path class=\"point\" transform=\"translate(52.3,384.22)\" d=\"M1.5,0A1.5,1.5 0 1,1 0,-1.5A1.5,1.5 0 0,1 1.5,0Z\" style=\"opacity: 1; stroke-width: 0px; fill: rgb(240, 72, 8); fill-opacity: 1;\"/><path class=\"point\" transform=\"translate(53.57,387.49)\" d=\"M1.5,0A1.5,1.5 0 1,1 0,-1.5A1.5,1.5 0 0,1 1.5,0Z\" style=\"opacity: 1; stroke-width: 0px; fill: rgb(240, 72, 8); fill-opacity: 1;\"/><path class=\"point\" transform=\"translate(60.36,389.94)\" d=\"M1.5,0A1.5,1.5 0 1,1 0,-1.5A1.5,1.5 0 0,1 1.5,0Z\" style=\"opacity: 1; stroke-width: 0px; fill: rgb(240, 72, 8); fill-opacity: 1;\"/><path class=\"point\" transform=\"translate(61.63,391.16)\" d=\"M1.5,0A1.5,1.5 0 1,1 0,-1.5A1.5,1.5 0 0,1 1.5,0Z\" style=\"opacity: 1; stroke-width: 0px; fill: rgb(240, 72, 8); fill-opacity: 1;\"/><path class=\"point\" transform=\"translate(59.08,393.2)\" d=\"M1.5,0A1.5,1.5 0 1,1 0,-1.5A1.5,1.5 0 0,1 1.5,0Z\" style=\"opacity: 1; stroke-width: 0px; fill: rgb(240, 72, 8); fill-opacity: 1;\"/><path class=\"point\" transform=\"translate(60.78,401.36)\" d=\"M1.5,0A1.5,1.5 0 1,1 0,-1.5A1.5,1.5 0 0,1 1.5,0Z\" style=\"opacity: 1; stroke-width: 0px; fill: rgb(240, 72, 8); fill-opacity: 1;\"/><path class=\"point\" transform=\"translate(72.65,402.18)\" d=\"M1.5,0A1.5,1.5 0 1,1 0,-1.5A1.5,1.5 0 0,1 1.5,0Z\" style=\"opacity: 1; stroke-width: 0px; fill: rgb(240, 72, 8); fill-opacity: 1;\"/><path class=\"point\" transform=\"translate(73.5,413.6)\" d=\"M1.5,0A1.5,1.5 0 1,1 0,-1.5A1.5,1.5 0 0,1 1.5,0Z\" style=\"opacity: 1; stroke-width: 0px; fill: rgb(240, 72, 8); fill-opacity: 1;\"/><path class=\"point\" transform=\"translate(71.8,414.01)\" d=\"M1.5,0A1.5,1.5 0 1,1 0,-1.5A1.5,1.5 0 0,1 1.5,0Z\" style=\"opacity: 1; stroke-width: 0px; fill: rgb(240, 72, 8); fill-opacity: 1;\"/><path class=\"point\" transform=\"translate(70.53,413.6)\" d=\"M1.5,0A1.5,1.5 0 1,1 0,-1.5A1.5,1.5 0 0,1 1.5,0Z\" style=\"opacity: 1; stroke-width: 0px; fill: rgb(240, 72, 8); fill-opacity: 1;\"/><path class=\"point\" transform=\"translate(56.96,419.72)\" d=\"M1.5,0A1.5,1.5 0 1,1 0,-1.5A1.5,1.5 0 0,1 1.5,0Z\" style=\"opacity: 1; stroke-width: 0px; fill: rgb(240, 72, 8); fill-opacity: 1;\"/><path class=\"point\" transform=\"translate(56.12,422.58)\" d=\"M1.5,0A1.5,1.5 0 1,1 0,-1.5A1.5,1.5 0 0,1 1.5,0Z\" style=\"opacity: 1; stroke-width: 0px; fill: rgb(240, 72, 8); fill-opacity: 1;\"/><path class=\"point\" transform=\"translate(33.22,423.8)\" d=\"M1.5,0A1.5,1.5 0 1,1 0,-1.5A1.5,1.5 0 0,1 1.5,0Z\" style=\"opacity: 1; stroke-width: 0px; fill: rgb(240, 72, 8); fill-opacity: 1;\"/><path class=\"point\" transform=\"translate(37.46,409.52)\" d=\"M1.5,0A1.5,1.5 0 1,1 0,-1.5A1.5,1.5 0 0,1 1.5,0Z\" style=\"opacity: 1; stroke-width: 0px; fill: rgb(240, 72, 8); fill-opacity: 1;\"/><path class=\"point\" transform=\"translate(45.09,408.7)\" d=\"M1.5,0A1.5,1.5 0 1,1 0,-1.5A1.5,1.5 0 0,1 1.5,0Z\" style=\"opacity: 1; stroke-width: 0px; fill: rgb(240, 72, 8); fill-opacity: 1;\"/><path class=\"point\" transform=\"translate(42.55,406.26)\" d=\"M1.5,0A1.5,1.5 0 1,1 0,-1.5A1.5,1.5 0 0,1 1.5,0Z\" style=\"opacity: 1; stroke-width: 0px; fill: rgb(240, 72, 8); fill-opacity: 1;\"/><path class=\"point\" transform=\"translate(44.24,405.44)\" d=\"M1.5,0A1.5,1.5 0 1,1 0,-1.5A1.5,1.5 0 0,1 1.5,0Z\" style=\"opacity: 1; stroke-width: 0px; fill: rgb(240, 72, 8); fill-opacity: 1;\"/><path class=\"point\" transform=\"translate(48.06,400.95)\" d=\"M1.5,0A1.5,1.5 0 1,1 0,-1.5A1.5,1.5 0 0,1 1.5,0Z\" style=\"opacity: 1; stroke-width: 0px; fill: rgb(240, 72, 8); fill-opacity: 1;\"/><path class=\"point\" transform=\"translate(38.73,400.95)\" d=\"M1.5,0A1.5,1.5 0 1,1 0,-1.5A1.5,1.5 0 0,1 1.5,0Z\" style=\"opacity: 1; stroke-width: 0px; fill: rgb(240, 72, 8); fill-opacity: 1;\"/><path class=\"point\" transform=\"translate(39.15,386.26)\" d=\"M1.5,0A1.5,1.5 0 1,1 0,-1.5A1.5,1.5 0 0,1 1.5,0Z\" style=\"opacity: 1; stroke-width: 0px; fill: rgb(240, 72, 8); fill-opacity: 1;\"/><path class=\"point\" transform=\"translate(29.83,388.71)\" d=\"M1.5,0A1.5,1.5 0 1,1 0,-1.5A1.5,1.5 0 0,1 1.5,0Z\" style=\"opacity: 1; stroke-width: 0px; fill: rgb(240, 72, 8); fill-opacity: 1;\"/><path class=\"point\" transform=\"translate(29.4,375.66)\" d=\"M1.5,0A1.5,1.5 0 1,1 0,-1.5A1.5,1.5 0 0,1 1.5,0Z\" style=\"opacity: 1; stroke-width: 0px; fill: rgb(240, 72, 8); fill-opacity: 1;\"/><path class=\"point\" transform=\"translate(30.67,348.73)\" d=\"M1.5,0A1.5,1.5 0 1,1 0,-1.5A1.5,1.5 0 0,1 1.5,0Z\" style=\"opacity: 1; stroke-width: 0px; fill: rgb(240, 72, 8); fill-opacity: 1;\"/><path class=\"point\" transform=\"translate(37.46,334.86)\" d=\"M1.5,0A1.5,1.5 0 1,1 0,-1.5A1.5,1.5 0 0,1 1.5,0Z\" style=\"opacity: 1; stroke-width: 0px; fill: rgb(240, 72, 8); fill-opacity: 1;\"/><path class=\"point\" transform=\"translate(30.25,84.34)\" d=\"M1.5,0A1.5,1.5 0 1,1 0,-1.5A1.5,1.5 0 0,1 1.5,0Z\" style=\"opacity: 1; stroke-width: 0px; fill: rgb(240, 72, 8); fill-opacity: 1;\"/></g><g class=\"text\"/></g><g class=\"trace scatter trace11dc7e\" style=\"stroke-miterlimit: 2; opacity: 1;\"><g class=\"fills\"/><g class=\"errorbars\"/><g class=\"lines\"/><g class=\"points\"><path class=\"point\" transform=\"translate(30.25,84.34)\" d=\"M1.5,0A1.5,1.5 0 1,1 0,-1.5A1.5,1.5 0 0,1 1.5,0Z\" style=\"opacity: 1; stroke-width: 0px; fill: rgb(240, 87, 0); fill-opacity: 1;\"/><path class=\"point\" transform=\"translate(47.63,148.81)\" d=\"M1.5,0A1.5,1.5 0 1,1 0,-1.5A1.5,1.5 0 0,1 1.5,0Z\" style=\"opacity: 1; stroke-width: 0px; fill: rgb(240, 87, 0); fill-opacity: 1;\"/><path class=\"point\" transform=\"translate(87.07,298.95)\" d=\"M1.5,0A1.5,1.5 0 1,1 0,-1.5A1.5,1.5 0 0,1 1.5,0Z\" style=\"opacity: 1; stroke-width: 0px; fill: rgb(240, 87, 0); fill-opacity: 1;\"/><path class=\"point\" transform=\"translate(90.46,306.7)\" d=\"M1.5,0A1.5,1.5 0 1,1 0,-1.5A1.5,1.5 0 0,1 1.5,0Z\" style=\"opacity: 1; stroke-width: 0px; fill: rgb(240, 87, 0); fill-opacity: 1;\"/><path class=\"point\" transform=\"translate(91.31,309.56)\" d=\"M1.5,0A1.5,1.5 0 1,1 0,-1.5A1.5,1.5 0 0,1 1.5,0Z\" style=\"opacity: 1; stroke-width: 0px; fill: rgb(240, 87, 0); fill-opacity: 1;\"/><path class=\"point\" transform=\"translate(93.01,320.17)\" d=\"M1.5,0A1.5,1.5 0 1,1 0,-1.5A1.5,1.5 0 0,1 1.5,0Z\" style=\"opacity: 1; stroke-width: 0px; fill: rgb(240, 87, 0); fill-opacity: 1;\"/><path class=\"point\" transform=\"translate(97.67,321.8)\" d=\"M1.5,0A1.5,1.5 0 1,1 0,-1.5A1.5,1.5 0 0,1 1.5,0Z\" style=\"opacity: 1; stroke-width: 0px; fill: rgb(240, 87, 0); fill-opacity: 1;\"/><path class=\"point\" transform=\"translate(100.64,330.37)\" d=\"M1.5,0A1.5,1.5 0 1,1 0,-1.5A1.5,1.5 0 0,1 1.5,0Z\" style=\"opacity: 1; stroke-width: 0px; fill: rgb(240, 87, 0); fill-opacity: 1;\"/><path class=\"point\" transform=\"translate(87.92,341.79)\" d=\"M1.5,0A1.5,1.5 0 1,1 0,-1.5A1.5,1.5 0 0,1 1.5,0Z\" style=\"opacity: 1; stroke-width: 0px; fill: rgb(240, 87, 0); fill-opacity: 1;\"/><path class=\"point\" transform=\"translate(80.71,344.65)\" d=\"M1.5,0A1.5,1.5 0 1,1 0,-1.5A1.5,1.5 0 0,1 1.5,0Z\" style=\"opacity: 1; stroke-width: 0px; fill: rgb(240, 87, 0); fill-opacity: 1;\"/><path class=\"point\" transform=\"translate(84.52,351.58)\" d=\"M1.5,0A1.5,1.5 0 1,1 0,-1.5A1.5,1.5 0 0,1 1.5,0Z\" style=\"opacity: 1; stroke-width: 0px; fill: rgb(240, 87, 0); fill-opacity: 1;\"/><path class=\"point\" transform=\"translate(86.64,369.54)\" d=\"M1.5,0A1.5,1.5 0 1,1 0,-1.5A1.5,1.5 0 0,1 1.5,0Z\" style=\"opacity: 1; stroke-width: 0px; fill: rgb(240, 87, 0); fill-opacity: 1;\"/><path class=\"point\" transform=\"translate(82.83,371.17)\" d=\"M1.5,0A1.5,1.5 0 1,1 0,-1.5A1.5,1.5 0 0,1 1.5,0Z\" style=\"opacity: 1; stroke-width: 0px; fill: rgb(240, 87, 0); fill-opacity: 1;\"/><path class=\"point\" transform=\"translate(76.89,366.68)\" d=\"M1.5,0A1.5,1.5 0 1,1 0,-1.5A1.5,1.5 0 0,1 1.5,0Z\" style=\"opacity: 1; stroke-width: 0px; fill: rgb(240, 87, 0); fill-opacity: 1;\"/><path class=\"point\" transform=\"translate(71.38,363.01)\" d=\"M1.5,0A1.5,1.5 0 1,1 0,-1.5A1.5,1.5 0 0,1 1.5,0Z\" style=\"opacity: 1; stroke-width: 0px; fill: rgb(240, 87, 0); fill-opacity: 1;\"/><path class=\"point\" transform=\"translate(77.74,356.89)\" d=\"M1.5,0A1.5,1.5 0 1,1 0,-1.5A1.5,1.5 0 0,1 1.5,0Z\" style=\"opacity: 1; stroke-width: 0px; fill: rgb(240, 87, 0); fill-opacity: 1;\"/><path class=\"point\" transform=\"translate(75.2,345.06)\" d=\"M1.5,0A1.5,1.5 0 1,1 0,-1.5A1.5,1.5 0 0,1 1.5,0Z\" style=\"opacity: 1; stroke-width: 0px; fill: rgb(240, 87, 0); fill-opacity: 1;\"/><path class=\"point\" transform=\"translate(63.75,337.71)\" d=\"M1.5,0A1.5,1.5 0 1,1 0,-1.5A1.5,1.5 0 0,1 1.5,0Z\" style=\"opacity: 1; stroke-width: 0px; fill: rgb(240, 87, 0); fill-opacity: 1;\"/><path class=\"point\" transform=\"translate(67.56,329.55)\" d=\"M1.5,0A1.5,1.5 0 1,1 0,-1.5A1.5,1.5 0 0,1 1.5,0Z\" style=\"opacity: 1; stroke-width: 0px; fill: rgb(240, 87, 0); fill-opacity: 1;\"/><path class=\"point\" transform=\"translate(66.29,315.27)\" d=\"M1.5,0A1.5,1.5 0 1,1 0,-1.5A1.5,1.5 0 0,1 1.5,0Z\" style=\"opacity: 1; stroke-width: 0px; fill: rgb(240, 87, 0); fill-opacity: 1;\"/><path class=\"point\" transform=\"translate(63.75,314.86)\" d=\"M1.5,0A1.5,1.5 0 1,1 0,-1.5A1.5,1.5 0 0,1 1.5,0Z\" style=\"opacity: 1; stroke-width: 0px; fill: rgb(240, 87, 0); fill-opacity: 1;\"/><path class=\"point\" transform=\"translate(60.78,267.94)\" d=\"M1.5,0A1.5,1.5 0 1,1 0,-1.5A1.5,1.5 0 0,1 1.5,0Z\" style=\"opacity: 1; stroke-width: 0px; fill: rgb(240, 87, 0); fill-opacity: 1;\"/><path class=\"point\" transform=\"translate(63.75,261.82)\" d=\"M1.5,0A1.5,1.5 0 1,1 0,-1.5A1.5,1.5 0 0,1 1.5,0Z\" style=\"opacity: 1; stroke-width: 0px; fill: rgb(240, 87, 0); fill-opacity: 1;\"/><path class=\"point\" transform=\"translate(30.25,84.34)\" d=\"M1.5,0A1.5,1.5 0 1,1 0,-1.5A1.5,1.5 0 0,1 1.5,0Z\" style=\"opacity: 1; stroke-width: 0px; fill: rgb(240, 87, 0); fill-opacity: 1;\"/></g><g class=\"text\"/></g><g class=\"trace scatter trace163433\" style=\"stroke-miterlimit: 2; opacity: 1;\"><g class=\"fills\"/><g class=\"errorbars\"/><g class=\"lines\"/><g class=\"points\"><path class=\"point\" transform=\"translate(30.25,84.34)\" d=\"M1.5,0A1.5,1.5 0 1,1 0,-1.5A1.5,1.5 0 0,1 1.5,0Z\" style=\"opacity: 1; stroke-width: 0px; fill: rgb(240, 108, 0); fill-opacity: 1;\"/><path class=\"point\" transform=\"translate(32.37,110.86)\" d=\"M1.5,0A1.5,1.5 0 1,1 0,-1.5A1.5,1.5 0 0,1 1.5,0Z\" style=\"opacity: 1; stroke-width: 0px; fill: rgb(240, 108, 0); fill-opacity: 1;\"/><path class=\"point\" transform=\"translate(35.76,190.83)\" d=\"M1.5,0A1.5,1.5 0 1,1 0,-1.5A1.5,1.5 0 0,1 1.5,0Z\" style=\"opacity: 1; stroke-width: 0px; fill: rgb(240, 108, 0); fill-opacity: 1;\"/><path class=\"point\" transform=\"translate(41.7,239.38)\" d=\"M1.5,0A1.5,1.5 0 1,1 0,-1.5A1.5,1.5 0 0,1 1.5,0Z\" style=\"opacity: 1; stroke-width: 0px; fill: rgb(240, 108, 0); fill-opacity: 1;\"/><path class=\"point\" transform=\"translate(47.21,258.56)\" d=\"M1.5,0A1.5,1.5 0 1,1 0,-1.5A1.5,1.5 0 0,1 1.5,0Z\" style=\"opacity: 1; stroke-width: 0px; fill: rgb(240, 108, 0); fill-opacity: 1;\"/><path class=\"point\" transform=\"translate(44.67,273.25)\" d=\"M1.5,0A1.5,1.5 0 1,1 0,-1.5A1.5,1.5 0 0,1 1.5,0Z\" style=\"opacity: 1; stroke-width: 0px; fill: rgb(240, 108, 0); fill-opacity: 1;\"/><path class=\"point\" transform=\"translate(48.91,282.22)\" d=\"M1.5,0A1.5,1.5 0 1,1 0,-1.5A1.5,1.5 0 0,1 1.5,0Z\" style=\"opacity: 1; stroke-width: 0px; fill: rgb(240, 108, 0); fill-opacity: 1;\"/><path class=\"point\" transform=\"translate(46.79,284.26)\" d=\"M1.5,0A1.5,1.5 0 1,1 0,-1.5A1.5,1.5 0 0,1 1.5,0Z\" style=\"opacity: 1; stroke-width: 0px; fill: rgb(240, 108, 0); fill-opacity: 1;\"/><path class=\"point\" transform=\"translate(49.76,284.26)\" d=\"M1.5,0A1.5,1.5 0 1,1 0,-1.5A1.5,1.5 0 0,1 1.5,0Z\" style=\"opacity: 1; stroke-width: 0px; fill: rgb(240, 108, 0); fill-opacity: 1;\"/><path class=\"point\" transform=\"translate(59.93,283.04)\" d=\"M1.5,0A1.5,1.5 0 1,1 0,-1.5A1.5,1.5 0 0,1 1.5,0Z\" style=\"opacity: 1; stroke-width: 0px; fill: rgb(240, 108, 0); fill-opacity: 1;\"/><path class=\"point\" transform=\"translate(63.75,283.86)\" d=\"M1.5,0A1.5,1.5 0 1,1 0,-1.5A1.5,1.5 0 0,1 1.5,0Z\" style=\"opacity: 1; stroke-width: 0px; fill: rgb(240, 108, 0); fill-opacity: 1;\"/><path class=\"point\" transform=\"translate(65.02,283.45)\" d=\"M1.5,0A1.5,1.5 0 1,1 0,-1.5A1.5,1.5 0 0,1 1.5,0Z\" style=\"opacity: 1; stroke-width: 0px; fill: rgb(240, 108, 0); fill-opacity: 1;\"/><path class=\"point\" transform=\"translate(88.34,280.59)\" d=\"M1.5,0A1.5,1.5 0 1,1 0,-1.5A1.5,1.5 0 0,1 1.5,0Z\" style=\"opacity: 1; stroke-width: 0px; fill: rgb(240, 108, 0); fill-opacity: 1;\"/><path class=\"point\" transform=\"translate(82.83,277.74)\" d=\"M1.5,0A1.5,1.5 0 1,1 0,-1.5A1.5,1.5 0 0,1 1.5,0Z\" style=\"opacity: 1; stroke-width: 0px; fill: rgb(240, 108, 0); fill-opacity: 1;\"/><path class=\"point\" transform=\"translate(76.89,267.94)\" d=\"M1.5,0A1.5,1.5 0 1,1 0,-1.5A1.5,1.5 0 0,1 1.5,0Z\" style=\"opacity: 1; stroke-width: 0px; fill: rgb(240, 108, 0); fill-opacity: 1;\"/><path class=\"point\" transform=\"translate(78.16,256.52)\" d=\"M1.5,0A1.5,1.5 0 1,1 0,-1.5A1.5,1.5 0 0,1 1.5,0Z\" style=\"opacity: 1; stroke-width: 0px; fill: rgb(240, 108, 0); fill-opacity: 1;\"/><path class=\"point\" transform=\"translate(81.56,234.9)\" d=\"M1.5,0A1.5,1.5 0 1,1 0,-1.5A1.5,1.5 0 0,1 1.5,0Z\" style=\"opacity: 1; stroke-width: 0px; fill: rgb(240, 108, 0); fill-opacity: 1;\"/><path class=\"point\" transform=\"translate(80.71,221.84)\" d=\"M1.5,0A1.5,1.5 0 1,1 0,-1.5A1.5,1.5 0 0,1 1.5,0Z\" style=\"opacity: 1; stroke-width: 0px; fill: rgb(240, 108, 0); fill-opacity: 1;\"/><path class=\"point\" transform=\"translate(84.95,205.52)\" d=\"M1.5,0A1.5,1.5 0 1,1 0,-1.5A1.5,1.5 0 0,1 1.5,0Z\" style=\"opacity: 1; stroke-width: 0px; fill: rgb(240, 108, 0); fill-opacity: 1;\"/><path class=\"point\" transform=\"translate(81.13,194.5)\" d=\"M1.5,0A1.5,1.5 0 1,1 0,-1.5A1.5,1.5 0 0,1 1.5,0Z\" style=\"opacity: 1; stroke-width: 0px; fill: rgb(240, 108, 0); fill-opacity: 1;\"/><path class=\"point\" transform=\"translate(64.6,163.09)\" d=\"M1.5,0A1.5,1.5 0 1,1 0,-1.5A1.5,1.5 0 0,1 1.5,0Z\" style=\"opacity: 1; stroke-width: 0px; fill: rgb(240, 108, 0); fill-opacity: 1;\"/><path class=\"point\" transform=\"translate(30.25,84.34)\" d=\"M1.5,0A1.5,1.5 0 1,1 0,-1.5A1.5,1.5 0 0,1 1.5,0Z\" style=\"opacity: 1; stroke-width: 0px; fill: rgb(240, 108, 0); fill-opacity: 1;\"/></g><g class=\"text\"/></g><g class=\"trace scatter trace3d5b2f\" style=\"stroke-miterlimit: 2; opacity: 1;\"><g class=\"fills\"/><g class=\"errorbars\"/><g class=\"lines\"/><g class=\"points\"><path class=\"point\" transform=\"translate(30.25,84.34)\" d=\"M1.5,0A1.5,1.5 0 1,1 0,-1.5A1.5,1.5 0 0,1 1.5,0Z\" style=\"opacity: 1; stroke-width: 0px; fill: rgb(240, 130, 0); fill-opacity: 1;\"/><path class=\"point\" transform=\"translate(65.87,266.31)\" d=\"M1.5,0A1.5,1.5 0 1,1 0,-1.5A1.5,1.5 0 0,1 1.5,0Z\" style=\"opacity: 1; stroke-width: 0px; fill: rgb(240, 130, 0); fill-opacity: 1;\"/><path class=\"point\" transform=\"translate(81.98,312.42)\" d=\"M1.5,0A1.5,1.5 0 1,1 0,-1.5A1.5,1.5 0 0,1 1.5,0Z\" style=\"opacity: 1; stroke-width: 0px; fill: rgb(240, 130, 0); fill-opacity: 1;\"/><path class=\"point\" transform=\"translate(81.98,323.84)\" d=\"M1.5,0A1.5,1.5 0 1,1 0,-1.5A1.5,1.5 0 0,1 1.5,0Z\" style=\"opacity: 1; stroke-width: 0px; fill: rgb(240, 130, 0); fill-opacity: 1;\"/><path class=\"point\" transform=\"translate(98.94,344.65)\" d=\"M1.5,0A1.5,1.5 0 1,1 0,-1.5A1.5,1.5 0 0,1 1.5,0Z\" style=\"opacity: 1; stroke-width: 0px; fill: rgb(240, 130, 0); fill-opacity: 1;\"/><path class=\"point\" transform=\"translate(98.94,357.3)\" d=\"M1.5,0A1.5,1.5 0 1,1 0,-1.5A1.5,1.5 0 0,1 1.5,0Z\" style=\"opacity: 1; stroke-width: 0px; fill: rgb(240, 130, 0); fill-opacity: 1;\"/><path class=\"point\" transform=\"translate(100.21,365.86)\" d=\"M1.5,0A1.5,1.5 0 1,1 0,-1.5A1.5,1.5 0 0,1 1.5,0Z\" style=\"opacity: 1; stroke-width: 0px; fill: rgb(240, 130, 0); fill-opacity: 1;\"/><path class=\"point\" transform=\"translate(103.61,366.68)\" d=\"M1.5,0A1.5,1.5 0 1,1 0,-1.5A1.5,1.5 0 0,1 1.5,0Z\" style=\"opacity: 1; stroke-width: 0px; fill: rgb(240, 130, 0); fill-opacity: 1;\"/><path class=\"point\" transform=\"translate(108.69,378.1)\" d=\"M1.5,0A1.5,1.5 0 1,1 0,-1.5A1.5,1.5 0 0,1 1.5,0Z\" style=\"opacity: 1; stroke-width: 0px; fill: rgb(240, 130, 0); fill-opacity: 1;\"/><path class=\"point\" transform=\"translate(109.12,379.33)\" d=\"M1.5,0A1.5,1.5 0 1,1 0,-1.5A1.5,1.5 0 0,1 1.5,0Z\" style=\"opacity: 1; stroke-width: 0px; fill: rgb(240, 130, 0); fill-opacity: 1;\"/><path class=\"point\" transform=\"translate(106.57,383.82)\" d=\"M1.5,0A1.5,1.5 0 1,1 0,-1.5A1.5,1.5 0 0,1 1.5,0Z\" style=\"opacity: 1; stroke-width: 0px; fill: rgb(240, 130, 0); fill-opacity: 1;\"/><path class=\"point\" transform=\"translate(83.68,390.75)\" d=\"M1.5,0A1.5,1.5 0 1,1 0,-1.5A1.5,1.5 0 0,1 1.5,0Z\" style=\"opacity: 1; stroke-width: 0px; fill: rgb(240, 130, 0); fill-opacity: 1;\"/><path class=\"point\" transform=\"translate(88.34,409.52)\" d=\"M1.5,0A1.5,1.5 0 1,1 0,-1.5A1.5,1.5 0 0,1 1.5,0Z\" style=\"opacity: 1; stroke-width: 0px; fill: rgb(240, 130, 0); fill-opacity: 1;\"/><path class=\"point\" transform=\"translate(83.25,415.23)\" d=\"M1.5,0A1.5,1.5 0 1,1 0,-1.5A1.5,1.5 0 0,1 1.5,0Z\" style=\"opacity: 1; stroke-width: 0px; fill: rgb(240, 130, 0); fill-opacity: 1;\"/><path class=\"point\" transform=\"translate(87.07,429.1)\" d=\"M1.5,0A1.5,1.5 0 1,1 0,-1.5A1.5,1.5 0 0,1 1.5,0Z\" style=\"opacity: 1; stroke-width: 0px; fill: rgb(240, 130, 0); fill-opacity: 1;\"/><path class=\"point\" transform=\"translate(90.04,434)\" d=\"M1.5,0A1.5,1.5 0 1,1 0,-1.5A1.5,1.5 0 0,1 1.5,0Z\" style=\"opacity: 1; stroke-width: 0px; fill: rgb(240, 130, 0); fill-opacity: 1;\"/><path class=\"point\" transform=\"translate(94.7,418.09)\" d=\"M1.5,0A1.5,1.5 0 1,1 0,-1.5A1.5,1.5 0 0,1 1.5,0Z\" style=\"opacity: 1; stroke-width: 0px; fill: rgb(240, 130, 0); fill-opacity: 1;\"/><path class=\"point\" transform=\"translate(107.42,418.5)\" d=\"M1.5,0A1.5,1.5 0 1,1 0,-1.5A1.5,1.5 0 0,1 1.5,0Z\" style=\"opacity: 1; stroke-width: 0px; fill: rgb(240, 130, 0); fill-opacity: 1;\"/><path class=\"point\" transform=\"translate(116.75,431.96)\" d=\"M1.5,0A1.5,1.5 0 1,1 0,-1.5A1.5,1.5 0 0,1 1.5,0Z\" style=\"opacity: 1; stroke-width: 0px; fill: rgb(240, 130, 0); fill-opacity: 1;\"/><path class=\"point\" transform=\"translate(119.72,424.62)\" d=\"M1.5,0A1.5,1.5 0 1,1 0,-1.5A1.5,1.5 0 0,1 1.5,0Z\" style=\"opacity: 1; stroke-width: 0px; fill: rgb(240, 130, 0); fill-opacity: 1;\"/><path class=\"point\" transform=\"translate(120.57,414.42)\" d=\"M1.5,0A1.5,1.5 0 1,1 0,-1.5A1.5,1.5 0 0,1 1.5,0Z\" style=\"opacity: 1; stroke-width: 0px; fill: rgb(240, 130, 0); fill-opacity: 1;\"/><path class=\"point\" transform=\"translate(113.36,410.74)\" d=\"M1.5,0A1.5,1.5 0 1,1 0,-1.5A1.5,1.5 0 0,1 1.5,0Z\" style=\"opacity: 1; stroke-width: 0px; fill: rgb(240, 130, 0); fill-opacity: 1;\"/><path class=\"point\" transform=\"translate(111.24,409.93)\" d=\"M1.5,0A1.5,1.5 0 1,1 0,-1.5A1.5,1.5 0 0,1 1.5,0Z\" style=\"opacity: 1; stroke-width: 0px; fill: rgb(240, 130, 0); fill-opacity: 1;\"/><path class=\"point\" transform=\"translate(124.38,403.81)\" d=\"M1.5,0A1.5,1.5 0 1,1 0,-1.5A1.5,1.5 0 0,1 1.5,0Z\" style=\"opacity: 1; stroke-width: 0px; fill: rgb(240, 130, 0); fill-opacity: 1;\"/><path class=\"point\" transform=\"translate(125.65,383.41)\" d=\"M1.5,0A1.5,1.5 0 1,1 0,-1.5A1.5,1.5 0 0,1 1.5,0Z\" style=\"opacity: 1; stroke-width: 0px; fill: rgb(240, 130, 0); fill-opacity: 1;\"/><path class=\"point\" transform=\"translate(118.02,381.78)\" d=\"M1.5,0A1.5,1.5 0 1,1 0,-1.5A1.5,1.5 0 0,1 1.5,0Z\" style=\"opacity: 1; stroke-width: 0px; fill: rgb(240, 130, 0); fill-opacity: 1;\"/><path class=\"point\" transform=\"translate(120.57,371.17)\" d=\"M1.5,0A1.5,1.5 0 1,1 0,-1.5A1.5,1.5 0 0,1 1.5,0Z\" style=\"opacity: 1; stroke-width: 0px; fill: rgb(240, 130, 0); fill-opacity: 1;\"/><path class=\"point\" transform=\"translate(115.9,365.05)\" d=\"M1.5,0A1.5,1.5 0 1,1 0,-1.5A1.5,1.5 0 0,1 1.5,0Z\" style=\"opacity: 1; stroke-width: 0px; fill: rgb(240, 130, 0); fill-opacity: 1;\"/><path class=\"point\" transform=\"translate(110.81,361.78)\" d=\"M1.5,0A1.5,1.5 0 1,1 0,-1.5A1.5,1.5 0 0,1 1.5,0Z\" style=\"opacity: 1; stroke-width: 0px; fill: rgb(240, 130, 0); fill-opacity: 1;\"/><path class=\"point\" transform=\"translate(108.27,340.57)\" d=\"M1.5,0A1.5,1.5 0 1,1 0,-1.5A1.5,1.5 0 0,1 1.5,0Z\" style=\"opacity: 1; stroke-width: 0px; fill: rgb(240, 130, 0); fill-opacity: 1;\"/><path class=\"point\" transform=\"translate(95.97,313.64)\" d=\"M1.5,0A1.5,1.5 0 1,1 0,-1.5A1.5,1.5 0 0,1 1.5,0Z\" style=\"opacity: 1; stroke-width: 0px; fill: rgb(240, 130, 0); fill-opacity: 1;\"/><path class=\"point\" transform=\"translate(95.55,311.19)\" d=\"M1.5,0A1.5,1.5 0 1,1 0,-1.5A1.5,1.5 0 0,1 1.5,0Z\" style=\"opacity: 1; stroke-width: 0px; fill: rgb(240, 130, 0); fill-opacity: 1;\"/><path class=\"point\" transform=\"translate(30.25,84.34)\" d=\"M1.5,0A1.5,1.5 0 1,1 0,-1.5A1.5,1.5 0 0,1 1.5,0Z\" style=\"opacity: 1; stroke-width: 0px; fill: rgb(240, 130, 0); fill-opacity: 1;\"/></g><g class=\"text\"/></g><g class=\"trace scatter trace66baef\" style=\"stroke-miterlimit: 2; opacity: 1;\"><g class=\"fills\"/><g class=\"errorbars\"/><g class=\"lines\"/><g class=\"points\"><path class=\"point\" transform=\"translate(30.25,84.34)\" d=\"M1.5,0A1.5,1.5 0 1,1 0,-1.5A1.5,1.5 0 0,1 1.5,0Z\" style=\"opacity: 1; stroke-width: 0px; fill: rgb(240, 151, 0); fill-opacity: 1;\"/><path class=\"point\" transform=\"translate(34.07,94.95)\" d=\"M1.5,0A1.5,1.5 0 1,1 0,-1.5A1.5,1.5 0 0,1 1.5,0Z\" style=\"opacity: 1; stroke-width: 0px; fill: rgb(240, 151, 0); fill-opacity: 1;\"/><path class=\"point\" transform=\"translate(38.73,112.9)\" d=\"M1.5,0A1.5,1.5 0 1,1 0,-1.5A1.5,1.5 0 0,1 1.5,0Z\" style=\"opacity: 1; stroke-width: 0px; fill: rgb(240, 151, 0); fill-opacity: 1;\"/><path class=\"point\" transform=\"translate(43.39,123.51)\" d=\"M1.5,0A1.5,1.5 0 1,1 0,-1.5A1.5,1.5 0 0,1 1.5,0Z\" style=\"opacity: 1; stroke-width: 0px; fill: rgb(240, 151, 0); fill-opacity: 1;\"/><path class=\"point\" transform=\"translate(53.15,162.27)\" d=\"M1.5,0A1.5,1.5 0 1,1 0,-1.5A1.5,1.5 0 0,1 1.5,0Z\" style=\"opacity: 1; stroke-width: 0px; fill: rgb(240, 151, 0); fill-opacity: 1;\"/><path class=\"point\" transform=\"translate(60.36,185.94)\" d=\"M1.5,0A1.5,1.5 0 1,1 0,-1.5A1.5,1.5 0 0,1 1.5,0Z\" style=\"opacity: 1; stroke-width: 0px; fill: rgb(240, 151, 0); fill-opacity: 1;\"/><path class=\"point\" transform=\"translate(57.81,225.92)\" d=\"M1.5,0A1.5,1.5 0 1,1 0,-1.5A1.5,1.5 0 0,1 1.5,0Z\" style=\"opacity: 1; stroke-width: 0px; fill: rgb(240, 151, 0); fill-opacity: 1;\"/><path class=\"point\" transform=\"translate(64.6,234.49)\" d=\"M1.5,0A1.5,1.5 0 1,1 0,-1.5A1.5,1.5 0 0,1 1.5,0Z\" style=\"opacity: 1; stroke-width: 0px; fill: rgb(240, 151, 0); fill-opacity: 1;\"/><path class=\"point\" transform=\"translate(69.26,236.94)\" d=\"M1.5,0A1.5,1.5 0 1,1 0,-1.5A1.5,1.5 0 0,1 1.5,0Z\" style=\"opacity: 1; stroke-width: 0px; fill: rgb(240, 151, 0); fill-opacity: 1;\"/><path class=\"point\" transform=\"translate(65.87,218.58)\" d=\"M1.5,0A1.5,1.5 0 1,1 0,-1.5A1.5,1.5 0 0,1 1.5,0Z\" style=\"opacity: 1; stroke-width: 0px; fill: rgb(240, 151, 0); fill-opacity: 1;\"/><path class=\"point\" transform=\"translate(67.14,196.54)\" d=\"M1.5,0A1.5,1.5 0 1,1 0,-1.5A1.5,1.5 0 0,1 1.5,0Z\" style=\"opacity: 1; stroke-width: 0px; fill: rgb(240, 151, 0); fill-opacity: 1;\"/><path class=\"point\" transform=\"translate(66.72,178.59)\" d=\"M1.5,0A1.5,1.5 0 1,1 0,-1.5A1.5,1.5 0 0,1 1.5,0Z\" style=\"opacity: 1; stroke-width: 0px; fill: rgb(240, 151, 0); fill-opacity: 1;\"/><path class=\"point\" transform=\"translate(61.2,170.02)\" d=\"M1.5,0A1.5,1.5 0 1,1 0,-1.5A1.5,1.5 0 0,1 1.5,0Z\" style=\"opacity: 1; stroke-width: 0px; fill: rgb(240, 151, 0); fill-opacity: 1;\"/><path class=\"point\" transform=\"translate(65.87,151.66)\" d=\"M1.5,0A1.5,1.5 0 1,1 0,-1.5A1.5,1.5 0 0,1 1.5,0Z\" style=\"opacity: 1; stroke-width: 0px; fill: rgb(240, 151, 0); fill-opacity: 1;\"/><path class=\"point\" transform=\"translate(54.84,136.16)\" d=\"M1.5,0A1.5,1.5 0 1,1 0,-1.5A1.5,1.5 0 0,1 1.5,0Z\" style=\"opacity: 1; stroke-width: 0px; fill: rgb(240, 151, 0); fill-opacity: 1;\"/><path class=\"point\" transform=\"translate(30.25,84.34)\" d=\"M1.5,0A1.5,1.5 0 1,1 0,-1.5A1.5,1.5 0 0,1 1.5,0Z\" style=\"opacity: 1; stroke-width: 0px; fill: rgb(240, 151, 0); fill-opacity: 1;\"/></g><g class=\"text\"/></g><g class=\"trace scatter tracee8c0fb\" style=\"stroke-miterlimit: 2; opacity: 1;\"><g class=\"fills\"/><g class=\"errorbars\"/><g class=\"lines\"/><g class=\"points\"><path class=\"point\" transform=\"translate(30.25,84.34)\" d=\"M1.5,0A1.5,1.5 0 1,1 0,-1.5A1.5,1.5 0 0,1 1.5,0Z\" style=\"opacity: 1; stroke-width: 0px; fill: rgb(240, 172, 0); fill-opacity: 1;\"/><path class=\"point\" transform=\"translate(105.3,303.85)\" d=\"M1.5,0A1.5,1.5 0 1,1 0,-1.5A1.5,1.5 0 0,1 1.5,0Z\" style=\"opacity: 1; stroke-width: 0px; fill: rgb(240, 172, 0); fill-opacity: 1;\"/><path class=\"point\" transform=\"translate(108.69,318.13)\" d=\"M1.5,0A1.5,1.5 0 1,1 0,-1.5A1.5,1.5 0 0,1 1.5,0Z\" style=\"opacity: 1; stroke-width: 0px; fill: rgb(240, 172, 0); fill-opacity: 1;\"/><path class=\"point\" transform=\"translate(110.81,326.7)\" d=\"M1.5,0A1.5,1.5 0 1,1 0,-1.5A1.5,1.5 0 0,1 1.5,0Z\" style=\"opacity: 1; stroke-width: 0px; fill: rgb(240, 172, 0); fill-opacity: 1;\"/><path class=\"point\" transform=\"translate(121.84,356.89)\" d=\"M1.5,0A1.5,1.5 0 1,1 0,-1.5A1.5,1.5 0 0,1 1.5,0Z\" style=\"opacity: 1; stroke-width: 0px; fill: rgb(240, 172, 0); fill-opacity: 1;\"/><path class=\"point\" transform=\"translate(130.74,360.56)\" d=\"M1.5,0A1.5,1.5 0 1,1 0,-1.5A1.5,1.5 0 0,1 1.5,0Z\" style=\"opacity: 1; stroke-width: 0px; fill: rgb(240, 172, 0); fill-opacity: 1;\"/><path class=\"point\" transform=\"translate(133.29,370.35)\" d=\"M1.5,0A1.5,1.5 0 1,1 0,-1.5A1.5,1.5 0 0,1 1.5,0Z\" style=\"opacity: 1; stroke-width: 0px; fill: rgb(240, 172, 0); fill-opacity: 1;\"/><path class=\"point\" transform=\"translate(130.32,375.66)\" d=\"M1.5,0A1.5,1.5 0 1,1 0,-1.5A1.5,1.5 0 0,1 1.5,0Z\" style=\"opacity: 1; stroke-width: 0px; fill: rgb(240, 172, 0); fill-opacity: 1;\"/><path class=\"point\" transform=\"translate(139.65,377.7)\" d=\"M1.5,0A1.5,1.5 0 1,1 0,-1.5A1.5,1.5 0 0,1 1.5,0Z\" style=\"opacity: 1; stroke-width: 0px; fill: rgb(240, 172, 0); fill-opacity: 1;\"/><path class=\"point\" transform=\"translate(151.94,387.08)\" d=\"M1.5,0A1.5,1.5 0 1,1 0,-1.5A1.5,1.5 0 0,1 1.5,0Z\" style=\"opacity: 1; stroke-width: 0px; fill: rgb(240, 172, 0); fill-opacity: 1;\"/><path class=\"point\" transform=\"translate(159.58,394.42)\" d=\"M1.5,0A1.5,1.5 0 1,1 0,-1.5A1.5,1.5 0 0,1 1.5,0Z\" style=\"opacity: 1; stroke-width: 0px; fill: rgb(240, 172, 0); fill-opacity: 1;\"/><path class=\"point\" transform=\"translate(162.97,394.02)\" d=\"M1.5,0A1.5,1.5 0 1,1 0,-1.5A1.5,1.5 0 0,1 1.5,0Z\" style=\"opacity: 1; stroke-width: 0px; fill: rgb(240, 172, 0); fill-opacity: 1;\"/><path class=\"point\" transform=\"translate(162.97,396.46)\" d=\"M1.5,0A1.5,1.5 0 1,1 0,-1.5A1.5,1.5 0 0,1 1.5,0Z\" style=\"opacity: 1; stroke-width: 0px; fill: rgb(240, 172, 0); fill-opacity: 1;\"/><path class=\"point\" transform=\"translate(171.87,416.05)\" d=\"M1.5,0A1.5,1.5 0 1,1 0,-1.5A1.5,1.5 0 0,1 1.5,0Z\" style=\"opacity: 1; stroke-width: 0px; fill: rgb(240, 172, 0); fill-opacity: 1;\"/><path class=\"point\" transform=\"translate(160.42,422.17)\" d=\"M1.5,0A1.5,1.5 0 1,1 0,-1.5A1.5,1.5 0 0,1 1.5,0Z\" style=\"opacity: 1; stroke-width: 0px; fill: rgb(240, 172, 0); fill-opacity: 1;\"/><path class=\"point\" transform=\"translate(148.13,428.7)\" d=\"M1.5,0A1.5,1.5 0 1,1 0,-1.5A1.5,1.5 0 0,1 1.5,0Z\" style=\"opacity: 1; stroke-width: 0px; fill: rgb(240, 172, 0); fill-opacity: 1;\"/><path class=\"point\" transform=\"translate(148.55,433.18)\" d=\"M1.5,0A1.5,1.5 0 1,1 0,-1.5A1.5,1.5 0 0,1 1.5,0Z\" style=\"opacity: 1; stroke-width: 0px; fill: rgb(240, 172, 0); fill-opacity: 1;\"/><path class=\"point\" transform=\"translate(161.27,430.33)\" d=\"M1.5,0A1.5,1.5 0 1,1 0,-1.5A1.5,1.5 0 0,1 1.5,0Z\" style=\"opacity: 1; stroke-width: 0px; fill: rgb(240, 172, 0); fill-opacity: 1;\"/><path class=\"point\" transform=\"translate(169.33,426.66)\" d=\"M1.5,0A1.5,1.5 0 1,1 0,-1.5A1.5,1.5 0 0,1 1.5,0Z\" style=\"opacity: 1; stroke-width: 0px; fill: rgb(240, 172, 0); fill-opacity: 1;\"/><path class=\"point\" transform=\"translate(176.96,431.55)\" d=\"M1.5,0A1.5,1.5 0 1,1 0,-1.5A1.5,1.5 0 0,1 1.5,0Z\" style=\"opacity: 1; stroke-width: 0px; fill: rgb(240, 172, 0); fill-opacity: 1;\"/><path class=\"point\" transform=\"translate(180.78,429.92)\" d=\"M1.5,0A1.5,1.5 0 1,1 0,-1.5A1.5,1.5 0 0,1 1.5,0Z\" style=\"opacity: 1; stroke-width: 0px; fill: rgb(240, 172, 0); fill-opacity: 1;\"/><path class=\"point\" transform=\"translate(191.8,431.96)\" d=\"M1.5,0A1.5,1.5 0 1,1 0,-1.5A1.5,1.5 0 0,1 1.5,0Z\" style=\"opacity: 1; stroke-width: 0px; fill: rgb(240, 172, 0); fill-opacity: 1;\"/><path class=\"point\" transform=\"translate(188.83,400.14)\" d=\"M1.5,0A1.5,1.5 0 1,1 0,-1.5A1.5,1.5 0 0,1 1.5,0Z\" style=\"opacity: 1; stroke-width: 0px; fill: rgb(240, 172, 0); fill-opacity: 1;\"/><path class=\"point\" transform=\"translate(184.17,397.69)\" d=\"M1.5,0A1.5,1.5 0 1,1 0,-1.5A1.5,1.5 0 0,1 1.5,0Z\" style=\"opacity: 1; stroke-width: 0px; fill: rgb(240, 172, 0); fill-opacity: 1;\"/><path class=\"point\" transform=\"translate(177.81,380.55)\" d=\"M1.5,0A1.5,1.5 0 1,1 0,-1.5A1.5,1.5 0 0,1 1.5,0Z\" style=\"opacity: 1; stroke-width: 0px; fill: rgb(240, 172, 0); fill-opacity: 1;\"/><path class=\"point\" transform=\"translate(169.33,375.66)\" d=\"M1.5,0A1.5,1.5 0 1,1 0,-1.5A1.5,1.5 0 0,1 1.5,0Z\" style=\"opacity: 1; stroke-width: 0px; fill: rgb(240, 172, 0); fill-opacity: 1;\"/><path class=\"point\" transform=\"translate(150.25,371.58)\" d=\"M1.5,0A1.5,1.5 0 1,1 0,-1.5A1.5,1.5 0 0,1 1.5,0Z\" style=\"opacity: 1; stroke-width: 0px; fill: rgb(240, 172, 0); fill-opacity: 1;\"/><path class=\"point\" transform=\"translate(154.06,363.01)\" d=\"M1.5,0A1.5,1.5 0 1,1 0,-1.5A1.5,1.5 0 0,1 1.5,0Z\" style=\"opacity: 1; stroke-width: 0px; fill: rgb(240, 172, 0); fill-opacity: 1;\"/><path class=\"point\" transform=\"translate(152.37,360.97)\" d=\"M1.5,0A1.5,1.5 0 1,1 0,-1.5A1.5,1.5 0 0,1 1.5,0Z\" style=\"opacity: 1; stroke-width: 0px; fill: rgb(240, 172, 0); fill-opacity: 1;\"/><path class=\"point\" transform=\"translate(140.92,335.26)\" d=\"M1.5,0A1.5,1.5 0 1,1 0,-1.5A1.5,1.5 0 0,1 1.5,0Z\" style=\"opacity: 1; stroke-width: 0px; fill: rgb(240, 172, 0); fill-opacity: 1;\"/><path class=\"point\" transform=\"translate(139.22,320.58)\" d=\"M1.5,0A1.5,1.5 0 1,1 0,-1.5A1.5,1.5 0 0,1 1.5,0Z\" style=\"opacity: 1; stroke-width: 0px; fill: rgb(240, 172, 0); fill-opacity: 1;\"/><path class=\"point\" transform=\"translate(133.29,297.32)\" d=\"M1.5,0A1.5,1.5 0 1,1 0,-1.5A1.5,1.5 0 0,1 1.5,0Z\" style=\"opacity: 1; stroke-width: 0px; fill: rgb(240, 172, 0); fill-opacity: 1;\"/><path class=\"point\" transform=\"translate(100.21,230)\" d=\"M1.5,0A1.5,1.5 0 1,1 0,-1.5A1.5,1.5 0 0,1 1.5,0Z\" style=\"opacity: 1; stroke-width: 0px; fill: rgb(240, 172, 0); fill-opacity: 1;\"/><path class=\"point\" transform=\"translate(30.25,84.34)\" d=\"M1.5,0A1.5,1.5 0 1,1 0,-1.5A1.5,1.5 0 0,1 1.5,0Z\" style=\"opacity: 1; stroke-width: 0px; fill: rgb(240, 172, 0); fill-opacity: 1;\"/></g><g class=\"text\"/></g><g class=\"trace scatter tracea5a84c\" style=\"stroke-miterlimit: 2; opacity: 1;\"><g class=\"fills\"/><g class=\"errorbars\"/><g class=\"lines\"/><g class=\"points\"><path class=\"point\" transform=\"translate(30.25,84.34)\" d=\"M1.5,0A1.5,1.5 0 1,1 0,-1.5A1.5,1.5 0 0,1 1.5,0Z\" style=\"opacity: 1; stroke-width: 0px; fill: rgb(240, 194, 0); fill-opacity: 1;\"/><path class=\"point\" transform=\"translate(61.63,181.45)\" d=\"M1.5,0A1.5,1.5 0 1,1 0,-1.5A1.5,1.5 0 0,1 1.5,0Z\" style=\"opacity: 1; stroke-width: 0px; fill: rgb(240, 194, 0); fill-opacity: 1;\"/><path class=\"point\" transform=\"translate(69.26,216.54)\" d=\"M1.5,0A1.5,1.5 0 1,1 0,-1.5A1.5,1.5 0 0,1 1.5,0Z\" style=\"opacity: 1; stroke-width: 0px; fill: rgb(240, 194, 0); fill-opacity: 1;\"/><path class=\"point\" transform=\"translate(77.32,231.63)\" d=\"M1.5,0A1.5,1.5 0 1,1 0,-1.5A1.5,1.5 0 0,1 1.5,0Z\" style=\"opacity: 1; stroke-width: 0px; fill: rgb(240, 194, 0); fill-opacity: 1;\"/><path class=\"point\" transform=\"translate(96.82,278.14)\" d=\"M1.5,0A1.5,1.5 0 1,1 0,-1.5A1.5,1.5 0 0,1 1.5,0Z\" style=\"opacity: 1; stroke-width: 0px; fill: rgb(240, 194, 0); fill-opacity: 1;\"/><path class=\"point\" transform=\"translate(103.18,284.26)\" d=\"M1.5,0A1.5,1.5 0 1,1 0,-1.5A1.5,1.5 0 0,1 1.5,0Z\" style=\"opacity: 1; stroke-width: 0px; fill: rgb(240, 194, 0); fill-opacity: 1;\"/><path class=\"point\" transform=\"translate(117.17,319.76)\" d=\"M1.5,0A1.5,1.5 0 1,1 0,-1.5A1.5,1.5 0 0,1 1.5,0Z\" style=\"opacity: 1; stroke-width: 0px; fill: rgb(240, 194, 0); fill-opacity: 1;\"/><path class=\"point\" transform=\"translate(118.02,321.39)\" d=\"M1.5,0A1.5,1.5 0 1,1 0,-1.5A1.5,1.5 0 0,1 1.5,0Z\" style=\"opacity: 1; stroke-width: 0px; fill: rgb(240, 194, 0); fill-opacity: 1;\"/><path class=\"point\" transform=\"translate(126.08,331.59)\" d=\"M1.5,0A1.5,1.5 0 1,1 0,-1.5A1.5,1.5 0 0,1 1.5,0Z\" style=\"opacity: 1; stroke-width: 0px; fill: rgb(240, 194, 0); fill-opacity: 1;\"/><path class=\"point\" transform=\"translate(122.69,349.14)\" d=\"M1.5,0A1.5,1.5 0 1,1 0,-1.5A1.5,1.5 0 0,1 1.5,0Z\" style=\"opacity: 1; stroke-width: 0px; fill: rgb(240, 194, 0); fill-opacity: 1;\"/><path class=\"point\" transform=\"translate(128.2,348.32)\" d=\"M1.5,0A1.5,1.5 0 1,1 0,-1.5A1.5,1.5 0 0,1 1.5,0Z\" style=\"opacity: 1; stroke-width: 0px; fill: rgb(240, 194, 0); fill-opacity: 1;\"/><path class=\"point\" transform=\"translate(134.56,344.24)\" d=\"M1.5,0A1.5,1.5 0 1,1 0,-1.5A1.5,1.5 0 0,1 1.5,0Z\" style=\"opacity: 1; stroke-width: 0px; fill: rgb(240, 194, 0); fill-opacity: 1;\"/><path class=\"point\" transform=\"translate(144.31,358.11)\" d=\"M1.5,0A1.5,1.5 0 1,1 0,-1.5A1.5,1.5 0 0,1 1.5,0Z\" style=\"opacity: 1; stroke-width: 0px; fill: rgb(240, 194, 0); fill-opacity: 1;\"/><path class=\"point\" transform=\"translate(144.74,360.15)\" d=\"M1.5,0A1.5,1.5 0 1,1 0,-1.5A1.5,1.5 0 0,1 1.5,0Z\" style=\"opacity: 1; stroke-width: 0px; fill: rgb(240, 194, 0); fill-opacity: 1;\"/><path class=\"point\" transform=\"translate(148.98,347.1)\" d=\"M1.5,0A1.5,1.5 0 1,1 0,-1.5A1.5,1.5 0 0,1 1.5,0Z\" style=\"opacity: 1; stroke-width: 0px; fill: rgb(240, 194, 0); fill-opacity: 1;\"/><path class=\"point\" transform=\"translate(150.25,342.61)\" d=\"M1.5,0A1.5,1.5 0 1,1 0,-1.5A1.5,1.5 0 0,1 1.5,0Z\" style=\"opacity: 1; stroke-width: 0px; fill: rgb(240, 194, 0); fill-opacity: 1;\"/><path class=\"point\" transform=\"translate(161.7,331.59)\" d=\"M1.5,0A1.5,1.5 0 1,1 0,-1.5A1.5,1.5 0 0,1 1.5,0Z\" style=\"opacity: 1; stroke-width: 0px; fill: rgb(240, 194, 0); fill-opacity: 1;\"/><path class=\"point\" transform=\"translate(157.03,327.92)\" d=\"M1.5,0A1.5,1.5 0 1,1 0,-1.5A1.5,1.5 0 0,1 1.5,0Z\" style=\"opacity: 1; stroke-width: 0px; fill: rgb(240, 194, 0); fill-opacity: 1;\"/><path class=\"point\" transform=\"translate(157.03,320.58)\" d=\"M1.5,0A1.5,1.5 0 1,1 0,-1.5A1.5,1.5 0 0,1 1.5,0Z\" style=\"opacity: 1; stroke-width: 0px; fill: rgb(240, 194, 0); fill-opacity: 1;\"/><path class=\"point\" transform=\"translate(155.34,312.82)\" d=\"M1.5,0A1.5,1.5 0 1,1 0,-1.5A1.5,1.5 0 0,1 1.5,0Z\" style=\"opacity: 1; stroke-width: 0px; fill: rgb(240, 194, 0); fill-opacity: 1;\"/><path class=\"point\" transform=\"translate(148.13,313.23)\" d=\"M1.5,0A1.5,1.5 0 1,1 0,-1.5A1.5,1.5 0 0,1 1.5,0Z\" style=\"opacity: 1; stroke-width: 0px; fill: rgb(240, 194, 0); fill-opacity: 1;\"/><path class=\"point\" transform=\"translate(138.38,296.5)\" d=\"M1.5,0A1.5,1.5 0 1,1 0,-1.5A1.5,1.5 0 0,1 1.5,0Z\" style=\"opacity: 1; stroke-width: 0px; fill: rgb(240, 194, 0); fill-opacity: 1;\"/><path class=\"point\" transform=\"translate(132.44,288.34)\" d=\"M1.5,0A1.5,1.5 0 1,1 0,-1.5A1.5,1.5 0 0,1 1.5,0Z\" style=\"opacity: 1; stroke-width: 0px; fill: rgb(240, 194, 0); fill-opacity: 1;\"/><path class=\"point\" transform=\"translate(129.05,283.86)\" d=\"M1.5,0A1.5,1.5 0 1,1 0,-1.5A1.5,1.5 0 0,1 1.5,0Z\" style=\"opacity: 1; stroke-width: 0px; fill: rgb(240, 194, 0); fill-opacity: 1;\"/><path class=\"point\" transform=\"translate(30.25,84.34)\" d=\"M1.5,0A1.5,1.5 0 1,1 0,-1.5A1.5,1.5 0 0,1 1.5,0Z\" style=\"opacity: 1; stroke-width: 0px; fill: rgb(240, 194, 0); fill-opacity: 1;\"/></g><g class=\"text\"/></g><g class=\"trace scatter trace3b48d2\" style=\"stroke-miterlimit: 2; opacity: 1;\"><g class=\"fills\"/><g class=\"errorbars\"/><g class=\"lines\"/><g class=\"points\"><path class=\"point\" transform=\"translate(30.25,84.34)\" d=\"M1.5,0A1.5,1.5 0 1,1 0,-1.5A1.5,1.5 0 0,1 1.5,0Z\" style=\"opacity: 1; stroke-width: 0px; fill: rgb(240, 215, 0); fill-opacity: 1;\"/><path class=\"point\" transform=\"translate(59.08,133.71)\" d=\"M1.5,0A1.5,1.5 0 1,1 0,-1.5A1.5,1.5 0 0,1 1.5,0Z\" style=\"opacity: 1; stroke-width: 0px; fill: rgb(240, 215, 0); fill-opacity: 1;\"/><path class=\"point\" transform=\"translate(85.8,185.12)\" d=\"M1.5,0A1.5,1.5 0 1,1 0,-1.5A1.5,1.5 0 0,1 1.5,0Z\" style=\"opacity: 1; stroke-width: 0px; fill: rgb(240, 215, 0); fill-opacity: 1;\"/><path class=\"point\" transform=\"translate(96.4,214.9)\" d=\"M1.5,0A1.5,1.5 0 1,1 0,-1.5A1.5,1.5 0 0,1 1.5,0Z\" style=\"opacity: 1; stroke-width: 0px; fill: rgb(240, 215, 0); fill-opacity: 1;\"/><path class=\"point\" transform=\"translate(91.31,225.1)\" d=\"M1.5,0A1.5,1.5 0 1,1 0,-1.5A1.5,1.5 0 0,1 1.5,0Z\" style=\"opacity: 1; stroke-width: 0px; fill: rgb(240, 215, 0); fill-opacity: 1;\"/><path class=\"point\" transform=\"translate(95.55,227.14)\" d=\"M1.5,0A1.5,1.5 0 1,1 0,-1.5A1.5,1.5 0 0,1 1.5,0Z\" style=\"opacity: 1; stroke-width: 0px; fill: rgb(240, 215, 0); fill-opacity: 1;\"/><path class=\"point\" transform=\"translate(98.94,236.12)\" d=\"M1.5,0A1.5,1.5 0 1,1 0,-1.5A1.5,1.5 0 0,1 1.5,0Z\" style=\"opacity: 1; stroke-width: 0px; fill: rgb(240, 215, 0); fill-opacity: 1;\"/><path class=\"point\" transform=\"translate(104.45,260.6)\" d=\"M1.5,0A1.5,1.5 0 1,1 0,-1.5A1.5,1.5 0 0,1 1.5,0Z\" style=\"opacity: 1; stroke-width: 0px; fill: rgb(240, 215, 0); fill-opacity: 1;\"/><path class=\"point\" transform=\"translate(108.27,260.19)\" d=\"M1.5,0A1.5,1.5 0 1,1 0,-1.5A1.5,1.5 0 0,1 1.5,0Z\" style=\"opacity: 1; stroke-width: 0px; fill: rgb(240, 215, 0); fill-opacity: 1;\"/><path class=\"point\" transform=\"translate(130.32,264.27)\" d=\"M1.5,0A1.5,1.5 0 1,1 0,-1.5A1.5,1.5 0 0,1 1.5,0Z\" style=\"opacity: 1; stroke-width: 0px; fill: rgb(240, 215, 0); fill-opacity: 1;\"/><path class=\"point\" transform=\"translate(137.1,265.5)\" d=\"M1.5,0A1.5,1.5 0 1,1 0,-1.5A1.5,1.5 0 0,1 1.5,0Z\" style=\"opacity: 1; stroke-width: 0px; fill: rgb(240, 215, 0); fill-opacity: 1;\"/><path class=\"point\" transform=\"translate(143.46,261.82)\" d=\"M1.5,0A1.5,1.5 0 1,1 0,-1.5A1.5,1.5 0 0,1 1.5,0Z\" style=\"opacity: 1; stroke-width: 0px; fill: rgb(240, 215, 0); fill-opacity: 1;\"/><path class=\"point\" transform=\"translate(128.2,255.3)\" d=\"M1.5,0A1.5,1.5 0 1,1 0,-1.5A1.5,1.5 0 0,1 1.5,0Z\" style=\"opacity: 1; stroke-width: 0px; fill: rgb(240, 215, 0); fill-opacity: 1;\"/><path class=\"point\" transform=\"translate(125.65,256.52)\" d=\"M1.5,0A1.5,1.5 0 1,1 0,-1.5A1.5,1.5 0 0,1 1.5,0Z\" style=\"opacity: 1; stroke-width: 0px; fill: rgb(240, 215, 0); fill-opacity: 1;\"/><path class=\"point\" transform=\"translate(117.17,229.59)\" d=\"M1.5,0A1.5,1.5 0 1,1 0,-1.5A1.5,1.5 0 0,1 1.5,0Z\" style=\"opacity: 1; stroke-width: 0px; fill: rgb(240, 215, 0); fill-opacity: 1;\"/><path class=\"point\" transform=\"translate(110.81,219.8)\" d=\"M1.5,0A1.5,1.5 0 1,1 0,-1.5A1.5,1.5 0 0,1 1.5,0Z\" style=\"opacity: 1; stroke-width: 0px; fill: rgb(240, 215, 0); fill-opacity: 1;\"/><path class=\"point\" transform=\"translate(110.81,201.85)\" d=\"M1.5,0A1.5,1.5 0 1,1 0,-1.5A1.5,1.5 0 0,1 1.5,0Z\" style=\"opacity: 1; stroke-width: 0px; fill: rgb(240, 215, 0); fill-opacity: 1;\"/><path class=\"point\" transform=\"translate(99.79,200.22)\" d=\"M1.5,0A1.5,1.5 0 1,1 0,-1.5A1.5,1.5 0 0,1 1.5,0Z\" style=\"opacity: 1; stroke-width: 0px; fill: rgb(240, 215, 0); fill-opacity: 1;\"/><path class=\"point\" transform=\"translate(98.52,198.58)\" d=\"M1.5,0A1.5,1.5 0 1,1 0,-1.5A1.5,1.5 0 0,1 1.5,0Z\" style=\"opacity: 1; stroke-width: 0px; fill: rgb(240, 215, 0); fill-opacity: 1;\"/><path class=\"point\" transform=\"translate(69.68,143.5)\" d=\"M1.5,0A1.5,1.5 0 1,1 0,-1.5A1.5,1.5 0 0,1 1.5,0Z\" style=\"opacity: 1; stroke-width: 0px; fill: rgb(240, 215, 0); fill-opacity: 1;\"/><path class=\"point\" transform=\"translate(30.25,84.34)\" d=\"M1.5,0A1.5,1.5 0 1,1 0,-1.5A1.5,1.5 0 0,1 1.5,0Z\" style=\"opacity: 1; stroke-width: 0px; fill: rgb(240, 215, 0); fill-opacity: 1;\"/></g><g class=\"text\"/></g><g class=\"trace scatter tracee7a2a0\" style=\"stroke-miterlimit: 2; opacity: 1;\"><g class=\"fills\"/><g class=\"errorbars\"/><g class=\"lines\"/><g class=\"points\"><path class=\"point\" transform=\"translate(30.25,84.34)\" d=\"M1.5,0A1.5,1.5 0 1,1 0,-1.5A1.5,1.5 0 0,1 1.5,0Z\" style=\"opacity: 1; stroke-width: 0px; fill: rgb(240, 237, 0); fill-opacity: 1;\"/><path class=\"point\" transform=\"translate(84.95,170.02)\" d=\"M1.5,0A1.5,1.5 0 1,1 0,-1.5A1.5,1.5 0 0,1 1.5,0Z\" style=\"opacity: 1; stroke-width: 0px; fill: rgb(240, 237, 0); fill-opacity: 1;\"/><path class=\"point\" transform=\"translate(120.14,210.82)\" d=\"M1.5,0A1.5,1.5 0 1,1 0,-1.5A1.5,1.5 0 0,1 1.5,0Z\" style=\"opacity: 1; stroke-width: 0px; fill: rgb(240, 237, 0); fill-opacity: 1;\"/><path class=\"point\" transform=\"translate(146.43,245.1)\" d=\"M1.5,0A1.5,1.5 0 1,1 0,-1.5A1.5,1.5 0 0,1 1.5,0Z\" style=\"opacity: 1; stroke-width: 0px; fill: rgb(240, 237, 0); fill-opacity: 1;\"/><path class=\"point\" transform=\"translate(154.49,259.78)\" d=\"M1.5,0A1.5,1.5 0 1,1 0,-1.5A1.5,1.5 0 0,1 1.5,0Z\" style=\"opacity: 1; stroke-width: 0px; fill: rgb(240, 237, 0); fill-opacity: 1;\"/><path class=\"point\" transform=\"translate(154.06,260.6)\" d=\"M1.5,0A1.5,1.5 0 1,1 0,-1.5A1.5,1.5 0 0,1 1.5,0Z\" style=\"opacity: 1; stroke-width: 0px; fill: rgb(240, 237, 0); fill-opacity: 1;\"/><path class=\"point\" transform=\"translate(169.33,274.88)\" d=\"M1.5,0A1.5,1.5 0 1,1 0,-1.5A1.5,1.5 0 0,1 1.5,0Z\" style=\"opacity: 1; stroke-width: 0px; fill: rgb(240, 237, 0); fill-opacity: 1;\"/><path class=\"point\" transform=\"translate(178.23,289.57)\" d=\"M1.5,0A1.5,1.5 0 1,1 0,-1.5A1.5,1.5 0 0,1 1.5,0Z\" style=\"opacity: 1; stroke-width: 0px; fill: rgb(240, 237, 0); fill-opacity: 1;\"/><path class=\"point\" transform=\"translate(174.84,292.42)\" d=\"M1.5,0A1.5,1.5 0 1,1 0,-1.5A1.5,1.5 0 0,1 1.5,0Z\" style=\"opacity: 1; stroke-width: 0px; fill: rgb(240, 237, 0); fill-opacity: 1;\"/><path class=\"point\" transform=\"translate(196.89,312.01)\" d=\"M1.5,0A1.5,1.5 0 1,1 0,-1.5A1.5,1.5 0 0,1 1.5,0Z\" style=\"opacity: 1; stroke-width: 0px; fill: rgb(240, 237, 0); fill-opacity: 1;\"/><path class=\"point\" transform=\"translate(208.76,328.33)\" d=\"M1.5,0A1.5,1.5 0 1,1 0,-1.5A1.5,1.5 0 0,1 1.5,0Z\" style=\"opacity: 1; stroke-width: 0px; fill: rgb(240, 237, 0); fill-opacity: 1;\"/><path class=\"point\" transform=\"translate(221.91,349.54)\" d=\"M1.5,0A1.5,1.5 0 1,1 0,-1.5A1.5,1.5 0 0,1 1.5,0Z\" style=\"opacity: 1; stroke-width: 0px; fill: rgb(240, 237, 0); fill-opacity: 1;\"/><path class=\"point\" transform=\"translate(220.64,355.66)\" d=\"M1.5,0A1.5,1.5 0 1,1 0,-1.5A1.5,1.5 0 0,1 1.5,0Z\" style=\"opacity: 1; stroke-width: 0px; fill: rgb(240, 237, 0); fill-opacity: 1;\"/><path class=\"point\" transform=\"translate(218.94,364.23)\" d=\"M1.5,0A1.5,1.5 0 1,1 0,-1.5A1.5,1.5 0 0,1 1.5,0Z\" style=\"opacity: 1; stroke-width: 0px; fill: rgb(240, 237, 0); fill-opacity: 1;\"/><path class=\"point\" transform=\"translate(218.09,378.92)\" d=\"M1.5,0A1.5,1.5 0 1,1 0,-1.5A1.5,1.5 0 0,1 1.5,0Z\" style=\"opacity: 1; stroke-width: 0px; fill: rgb(240, 237, 0); fill-opacity: 1;\"/><path class=\"point\" transform=\"translate(226.15,382.18)\" d=\"M1.5,0A1.5,1.5 0 1,1 0,-1.5A1.5,1.5 0 0,1 1.5,0Z\" style=\"opacity: 1; stroke-width: 0px; fill: rgb(240, 237, 0); fill-opacity: 1;\"/><path class=\"point\" transform=\"translate(226.57,387.49)\" d=\"M1.5,0A1.5,1.5 0 1,1 0,-1.5A1.5,1.5 0 0,1 1.5,0Z\" style=\"opacity: 1; stroke-width: 0px; fill: rgb(240, 237, 0); fill-opacity: 1;\"/><path class=\"point\" transform=\"translate(206.64,385.04)\" d=\"M1.5,0A1.5,1.5 0 1,1 0,-1.5A1.5,1.5 0 0,1 1.5,0Z\" style=\"opacity: 1; stroke-width: 0px; fill: rgb(240, 237, 0); fill-opacity: 1;\"/><path class=\"point\" transform=\"translate(198.16,370.35)\" d=\"M1.5,0A1.5,1.5 0 1,1 0,-1.5A1.5,1.5 0 0,1 1.5,0Z\" style=\"opacity: 1; stroke-width: 0px; fill: rgb(240, 237, 0); fill-opacity: 1;\"/><path class=\"point\" transform=\"translate(191.38,362.19)\" d=\"M1.5,0A1.5,1.5 0 1,1 0,-1.5A1.5,1.5 0 0,1 1.5,0Z\" style=\"opacity: 1; stroke-width: 0px; fill: rgb(240, 237, 0); fill-opacity: 1;\"/><path class=\"point\" transform=\"translate(182.47,366.27)\" d=\"M1.5,0A1.5,1.5 0 1,1 0,-1.5A1.5,1.5 0 0,1 1.5,0Z\" style=\"opacity: 1; stroke-width: 0px; fill: rgb(240, 237, 0); fill-opacity: 1;\"/><path class=\"point\" transform=\"translate(168.06,359.34)\" d=\"M1.5,0A1.5,1.5 0 1,1 0,-1.5A1.5,1.5 0 0,1 1.5,0Z\" style=\"opacity: 1; stroke-width: 0px; fill: rgb(240, 237, 0); fill-opacity: 1;\"/><path class=\"point\" transform=\"translate(157.46,344.65)\" d=\"M1.5,0A1.5,1.5 0 1,1 0,-1.5A1.5,1.5 0 0,1 1.5,0Z\" style=\"opacity: 1; stroke-width: 0px; fill: rgb(240, 237, 0); fill-opacity: 1;\"/><path class=\"point\" transform=\"translate(143.46,333.63)\" d=\"M1.5,0A1.5,1.5 0 1,1 0,-1.5A1.5,1.5 0 0,1 1.5,0Z\" style=\"opacity: 1; stroke-width: 0px; fill: rgb(240, 237, 0); fill-opacity: 1;\"/><path class=\"point\" transform=\"translate(141.34,330.78)\" d=\"M1.5,0A1.5,1.5 0 1,1 0,-1.5A1.5,1.5 0 0,1 1.5,0Z\" style=\"opacity: 1; stroke-width: 0px; fill: rgb(240, 237, 0); fill-opacity: 1;\"/><path class=\"point\" transform=\"translate(127.78,293.65)\" d=\"M1.5,0A1.5,1.5 0 1,1 0,-1.5A1.5,1.5 0 0,1 1.5,0Z\" style=\"opacity: 1; stroke-width: 0px; fill: rgb(240, 237, 0); fill-opacity: 1;\"/><path class=\"point\" transform=\"translate(100.21,230)\" d=\"M1.5,0A1.5,1.5 0 1,1 0,-1.5A1.5,1.5 0 0,1 1.5,0Z\" style=\"opacity: 1; stroke-width: 0px; fill: rgb(240, 237, 0); fill-opacity: 1;\"/><path class=\"point\" transform=\"translate(81.98,194.1)\" d=\"M1.5,0A1.5,1.5 0 1,1 0,-1.5A1.5,1.5 0 0,1 1.5,0Z\" style=\"opacity: 1; stroke-width: 0px; fill: rgb(240, 237, 0); fill-opacity: 1;\"/><path class=\"point\" transform=\"translate(55.69,133.3)\" d=\"M1.5,0A1.5,1.5 0 1,1 0,-1.5A1.5,1.5 0 0,1 1.5,0Z\" style=\"opacity: 1; stroke-width: 0px; fill: rgb(240, 237, 0); fill-opacity: 1;\"/><path class=\"point\" transform=\"translate(30.25,84.34)\" d=\"M1.5,0A1.5,1.5 0 1,1 0,-1.5A1.5,1.5 0 0,1 1.5,0Z\" style=\"opacity: 1; stroke-width: 0px; fill: rgb(240, 237, 0); fill-opacity: 1;\"/></g><g class=\"text\"/></g><g class=\"trace scatter tracea47b70\" style=\"stroke-miterlimit: 2; opacity: 1;\"><g class=\"fills\"/><g class=\"errorbars\"/><g class=\"lines\"/><g class=\"points\"><path class=\"point\" transform=\"translate(30.25,84.34)\" d=\"M1.5,0A1.5,1.5 0 1,1 0,-1.5A1.5,1.5 0 0,1 1.5,0Z\" style=\"opacity: 1; stroke-width: 0px; fill: rgb(213, 240, 0); fill-opacity: 1;\"/><path class=\"point\" transform=\"translate(129.9,216.54)\" d=\"M1.5,0A1.5,1.5 0 1,1 0,-1.5A1.5,1.5 0 0,1 1.5,0Z\" style=\"opacity: 1; stroke-width: 0px; fill: rgb(213, 240, 0); fill-opacity: 1;\"/><path class=\"point\" transform=\"translate(156.61,247.95)\" d=\"M1.5,0A1.5,1.5 0 1,1 0,-1.5A1.5,1.5 0 0,1 1.5,0Z\" style=\"opacity: 1; stroke-width: 0px; fill: rgb(213, 240, 0); fill-opacity: 1;\"/><path class=\"point\" transform=\"translate(157.03,249.58)\" d=\"M1.5,0A1.5,1.5 0 1,1 0,-1.5A1.5,1.5 0 0,1 1.5,0Z\" style=\"opacity: 1; stroke-width: 0px; fill: rgb(213, 240, 0); fill-opacity: 1;\"/><path class=\"point\" transform=\"translate(185.87,292.83)\" d=\"M1.5,0A1.5,1.5 0 1,1 0,-1.5A1.5,1.5 0 0,1 1.5,0Z\" style=\"opacity: 1; stroke-width: 0px; fill: rgb(213, 240, 0); fill-opacity: 1;\"/><path class=\"point\" transform=\"translate(196.89,307.93)\" d=\"M1.5,0A1.5,1.5 0 1,1 0,-1.5A1.5,1.5 0 0,1 1.5,0Z\" style=\"opacity: 1; stroke-width: 0px; fill: rgb(213, 240, 0); fill-opacity: 1;\"/><path class=\"point\" transform=\"translate(241.41,365.86)\" d=\"M1.5,0A1.5,1.5 0 1,1 0,-1.5A1.5,1.5 0 0,1 1.5,0Z\" style=\"opacity: 1; stroke-width: 0px; fill: rgb(213, 240, 0); fill-opacity: 1;\"/><path class=\"point\" transform=\"translate(239.29,369.54)\" d=\"M1.5,0A1.5,1.5 0 1,1 0,-1.5A1.5,1.5 0 0,1 1.5,0Z\" style=\"opacity: 1; stroke-width: 0px; fill: rgb(213, 240, 0); fill-opacity: 1;\"/><path class=\"point\" transform=\"translate(235.9,384.63)\" d=\"M1.5,0A1.5,1.5 0 1,1 0,-1.5A1.5,1.5 0 0,1 1.5,0Z\" style=\"opacity: 1; stroke-width: 0px; fill: rgb(213, 240, 0); fill-opacity: 1;\"/><path class=\"point\" transform=\"translate(239.29,389.12)\" d=\"M1.5,0A1.5,1.5 0 1,1 0,-1.5A1.5,1.5 0 0,1 1.5,0Z\" style=\"opacity: 1; stroke-width: 0px; fill: rgb(213, 240, 0); fill-opacity: 1;\"/><path class=\"point\" transform=\"translate(233.78,393.2)\" d=\"M1.5,0A1.5,1.5 0 1,1 0,-1.5A1.5,1.5 0 0,1 1.5,0Z\" style=\"opacity: 1; stroke-width: 0px; fill: rgb(213, 240, 0); fill-opacity: 1;\"/><path class=\"point\" transform=\"translate(238.44,398.1)\" d=\"M1.5,0A1.5,1.5 0 1,1 0,-1.5A1.5,1.5 0 0,1 1.5,0Z\" style=\"opacity: 1; stroke-width: 0px; fill: rgb(213, 240, 0); fill-opacity: 1;\"/><path class=\"point\" transform=\"translate(244.81,412.78)\" d=\"M1.5,0A1.5,1.5 0 1,1 0,-1.5A1.5,1.5 0 0,1 1.5,0Z\" style=\"opacity: 1; stroke-width: 0px; fill: rgb(213, 240, 0); fill-opacity: 1;\"/><path class=\"point\" transform=\"translate(252.01,431.55)\" d=\"M1.5,0A1.5,1.5 0 1,1 0,-1.5A1.5,1.5 0 0,1 1.5,0Z\" style=\"opacity: 1; stroke-width: 0px; fill: rgb(213, 240, 0); fill-opacity: 1;\"/><path class=\"point\" transform=\"translate(228.69,429.92)\" d=\"M1.5,0A1.5,1.5 0 1,1 0,-1.5A1.5,1.5 0 0,1 1.5,0Z\" style=\"opacity: 1; stroke-width: 0px; fill: rgb(213, 240, 0); fill-opacity: 1;\"/><path class=\"point\" transform=\"translate(225.3,431.96)\" d=\"M1.5,0A1.5,1.5 0 1,1 0,-1.5A1.5,1.5 0 0,1 1.5,0Z\" style=\"opacity: 1; stroke-width: 0px; fill: rgb(213, 240, 0); fill-opacity: 1;\"/><path class=\"point\" transform=\"translate(221.06,433.59)\" d=\"M1.5,0A1.5,1.5 0 1,1 0,-1.5A1.5,1.5 0 0,1 1.5,0Z\" style=\"opacity: 1; stroke-width: 0px; fill: rgb(213, 240, 0); fill-opacity: 1;\"/><path class=\"point\" transform=\"translate(217.24,429.92)\" d=\"M1.5,0A1.5,1.5 0 1,1 0,-1.5A1.5,1.5 0 0,1 1.5,0Z\" style=\"opacity: 1; stroke-width: 0px; fill: rgb(213, 240, 0); fill-opacity: 1;\"/><path class=\"point\" transform=\"translate(205.37,434)\" d=\"M1.5,0A1.5,1.5 0 1,1 0,-1.5A1.5,1.5 0 0,1 1.5,0Z\" style=\"opacity: 1; stroke-width: 0px; fill: rgb(213, 240, 0); fill-opacity: 1;\"/><path class=\"point\" transform=\"translate(197.74,425.84)\" d=\"M1.5,0A1.5,1.5 0 1,1 0,-1.5A1.5,1.5 0 0,1 1.5,0Z\" style=\"opacity: 1; stroke-width: 0px; fill: rgb(213, 240, 0); fill-opacity: 1;\"/><path class=\"point\" transform=\"translate(201.98,392.38)\" d=\"M1.5,0A1.5,1.5 0 1,1 0,-1.5A1.5,1.5 0 0,1 1.5,0Z\" style=\"opacity: 1; stroke-width: 0px; fill: rgb(213, 240, 0); fill-opacity: 1;\"/><path class=\"point\" transform=\"translate(188.83,375.25)\" d=\"M1.5,0A1.5,1.5 0 1,1 0,-1.5A1.5,1.5 0 0,1 1.5,0Z\" style=\"opacity: 1; stroke-width: 0px; fill: rgb(213, 240, 0); fill-opacity: 1;\"/><path class=\"point\" transform=\"translate(183.32,371.17)\" d=\"M1.5,0A1.5,1.5 0 1,1 0,-1.5A1.5,1.5 0 0,1 1.5,0Z\" style=\"opacity: 1; stroke-width: 0px; fill: rgb(213, 240, 0); fill-opacity: 1;\"/><path class=\"point\" transform=\"translate(169.75,339.75)\" d=\"M1.5,0A1.5,1.5 0 1,1 0,-1.5A1.5,1.5 0 0,1 1.5,0Z\" style=\"opacity: 1; stroke-width: 0px; fill: rgb(213, 240, 0); fill-opacity: 1;\"/><path class=\"point\" transform=\"translate(166.36,303.85)\" d=\"M1.5,0A1.5,1.5 0 1,1 0,-1.5A1.5,1.5 0 0,1 1.5,0Z\" style=\"opacity: 1; stroke-width: 0px; fill: rgb(213, 240, 0); fill-opacity: 1;\"/><path class=\"point\" transform=\"translate(30.25,84.34)\" d=\"M1.5,0A1.5,1.5 0 1,1 0,-1.5A1.5,1.5 0 0,1 1.5,0Z\" style=\"opacity: 1; stroke-width: 0px; fill: rgb(213, 240, 0); fill-opacity: 1;\"/></g><g class=\"text\"/></g><g class=\"trace scatter trace1805e0\" style=\"stroke-miterlimit: 2; opacity: 1;\"><g class=\"fills\"/><g class=\"errorbars\"/><g class=\"lines\"/><g class=\"points\"><path class=\"point\" transform=\"translate(30.25,84.34)\" d=\"M1.5,0A1.5,1.5 0 1,1 0,-1.5A1.5,1.5 0 0,1 1.5,0Z\" style=\"opacity: 1; stroke-width: 0px; fill: rgb(178, 240, 0); fill-opacity: 1;\"/><path class=\"point\" transform=\"translate(163.39,303.85)\" d=\"M1.5,0A1.5,1.5 0 1,1 0,-1.5A1.5,1.5 0 0,1 1.5,0Z\" style=\"opacity: 1; stroke-width: 0px; fill: rgb(178, 240, 0); fill-opacity: 1;\"/><path class=\"point\" transform=\"translate(181.2,322.21)\" d=\"M1.5,0A1.5,1.5 0 1,1 0,-1.5A1.5,1.5 0 0,1 1.5,0Z\" style=\"opacity: 1; stroke-width: 0px; fill: rgb(178, 240, 0); fill-opacity: 1;\"/><path class=\"point\" transform=\"translate(190.53,327.51)\" d=\"M1.5,0A1.5,1.5 0 1,1 0,-1.5A1.5,1.5 0 0,1 1.5,0Z\" style=\"opacity: 1; stroke-width: 0px; fill: rgb(178, 240, 0); fill-opacity: 1;\"/><path class=\"point\" transform=\"translate(199.43,331.59)\" d=\"M1.5,0A1.5,1.5 0 1,1 0,-1.5A1.5,1.5 0 0,1 1.5,0Z\" style=\"opacity: 1; stroke-width: 0px; fill: rgb(178, 240, 0); fill-opacity: 1;\"/><path class=\"point\" transform=\"translate(241.41,365.86)\" d=\"M1.5,0A1.5,1.5 0 1,1 0,-1.5A1.5,1.5 0 0,1 1.5,0Z\" style=\"opacity: 1; stroke-width: 0px; fill: rgb(178, 240, 0); fill-opacity: 1;\"/><path class=\"point\" transform=\"translate(257.53,403.81)\" d=\"M1.5,0A1.5,1.5 0 1,1 0,-1.5A1.5,1.5 0 0,1 1.5,0Z\" style=\"opacity: 1; stroke-width: 0px; fill: rgb(178, 240, 0); fill-opacity: 1;\"/><path class=\"point\" transform=\"translate(268.97,400.54)\" d=\"M1.5,0A1.5,1.5 0 1,1 0,-1.5A1.5,1.5 0 0,1 1.5,0Z\" style=\"opacity: 1; stroke-width: 0px; fill: rgb(178, 240, 0); fill-opacity: 1;\"/><path class=\"point\" transform=\"translate(275.76,409.52)\" d=\"M1.5,0A1.5,1.5 0 1,1 0,-1.5A1.5,1.5 0 0,1 1.5,0Z\" style=\"opacity: 1; stroke-width: 0px; fill: rgb(178, 240, 0); fill-opacity: 1;\"/><path class=\"point\" transform=\"translate(273.64,424.21)\" d=\"M1.5,0A1.5,1.5 0 1,1 0,-1.5A1.5,1.5 0 0,1 1.5,0Z\" style=\"opacity: 1; stroke-width: 0px; fill: rgb(178, 240, 0); fill-opacity: 1;\"/><path class=\"point\" transform=\"translate(281.27,432.78)\" d=\"M1.5,0A1.5,1.5 0 1,1 0,-1.5A1.5,1.5 0 0,1 1.5,0Z\" style=\"opacity: 1; stroke-width: 0px; fill: rgb(178, 240, 0); fill-opacity: 1;\"/><path class=\"point\" transform=\"translate(289.33,418.9)\" d=\"M1.5,0A1.5,1.5 0 1,1 0,-1.5A1.5,1.5 0 0,1 1.5,0Z\" style=\"opacity: 1; stroke-width: 0px; fill: rgb(178, 240, 0); fill-opacity: 1;\"/><path class=\"point\" transform=\"translate(313.5,426.66)\" d=\"M1.5,0A1.5,1.5 0 1,1 0,-1.5A1.5,1.5 0 0,1 1.5,0Z\" style=\"opacity: 1; stroke-width: 0px; fill: rgb(178, 240, 0); fill-opacity: 1;\"/><path class=\"point\" transform=\"translate(307.14,418.09)\" d=\"M1.5,0A1.5,1.5 0 1,1 0,-1.5A1.5,1.5 0 0,1 1.5,0Z\" style=\"opacity: 1; stroke-width: 0px; fill: rgb(178, 240, 0); fill-opacity: 1;\"/><path class=\"point\" transform=\"translate(307.98,416.05)\" d=\"M1.5,0A1.5,1.5 0 1,1 0,-1.5A1.5,1.5 0 0,1 1.5,0Z\" style=\"opacity: 1; stroke-width: 0px; fill: rgb(178, 240, 0); fill-opacity: 1;\"/><path class=\"point\" transform=\"translate(313.07,407.48)\" d=\"M1.5,0A1.5,1.5 0 1,1 0,-1.5A1.5,1.5 0 0,1 1.5,0Z\" style=\"opacity: 1; stroke-width: 0px; fill: rgb(178, 240, 0); fill-opacity: 1;\"/><path class=\"point\" transform=\"translate(313.92,402.58)\" d=\"M1.5,0A1.5,1.5 0 1,1 0,-1.5A1.5,1.5 0 0,1 1.5,0Z\" style=\"opacity: 1; stroke-width: 0px; fill: rgb(178, 240, 0); fill-opacity: 1;\"/><path class=\"point\" transform=\"translate(312.22,396.87)\" d=\"M1.5,0A1.5,1.5 0 1,1 0,-1.5A1.5,1.5 0 0,1 1.5,0Z\" style=\"opacity: 1; stroke-width: 0px; fill: rgb(178, 240, 0); fill-opacity: 1;\"/><path class=\"point\" transform=\"translate(305.44,389.12)\" d=\"M1.5,0A1.5,1.5 0 1,1 0,-1.5A1.5,1.5 0 0,1 1.5,0Z\" style=\"opacity: 1; stroke-width: 0px; fill: rgb(178, 240, 0); fill-opacity: 1;\"/><path class=\"point\" transform=\"translate(300.35,392.79)\" d=\"M1.5,0A1.5,1.5 0 1,1 0,-1.5A1.5,1.5 0 0,1 1.5,0Z\" style=\"opacity: 1; stroke-width: 0px; fill: rgb(178, 240, 0); fill-opacity: 1;\"/><path class=\"point\" transform=\"translate(296.54,394.83)\" d=\"M1.5,0A1.5,1.5 0 1,1 0,-1.5A1.5,1.5 0 0,1 1.5,0Z\" style=\"opacity: 1; stroke-width: 0px; fill: rgb(178, 240, 0); fill-opacity: 1;\"/><path class=\"point\" transform=\"translate(291.45,387.9)\" d=\"M1.5,0A1.5,1.5 0 1,1 0,-1.5A1.5,1.5 0 0,1 1.5,0Z\" style=\"opacity: 1; stroke-width: 0px; fill: rgb(178, 240, 0); fill-opacity: 1;\"/><path class=\"point\" transform=\"translate(269.82,357.7)\" d=\"M1.5,0A1.5,1.5 0 1,1 0,-1.5A1.5,1.5 0 0,1 1.5,0Z\" style=\"opacity: 1; stroke-width: 0px; fill: rgb(178, 240, 0); fill-opacity: 1;\"/><path class=\"point\" transform=\"translate(260.92,356.07)\" d=\"M1.5,0A1.5,1.5 0 1,1 0,-1.5A1.5,1.5 0 0,1 1.5,0Z\" style=\"opacity: 1; stroke-width: 0px; fill: rgb(178, 240, 0); fill-opacity: 1;\"/><path class=\"point\" transform=\"translate(254.98,351.99)\" d=\"M1.5,0A1.5,1.5 0 1,1 0,-1.5A1.5,1.5 0 0,1 1.5,0Z\" style=\"opacity: 1; stroke-width: 0px; fill: rgb(178, 240, 0); fill-opacity: 1;\"/><path class=\"point\" transform=\"translate(215.97,302.62)\" d=\"M1.5,0A1.5,1.5 0 1,1 0,-1.5A1.5,1.5 0 0,1 1.5,0Z\" style=\"opacity: 1; stroke-width: 0px; fill: rgb(178, 240, 0); fill-opacity: 1;\"/><path class=\"point\" transform=\"translate(30.25,84.34)\" d=\"M1.5,0A1.5,1.5 0 1,1 0,-1.5A1.5,1.5 0 0,1 1.5,0Z\" style=\"opacity: 1; stroke-width: 0px; fill: rgb(178, 240, 0); fill-opacity: 1;\"/></g><g class=\"text\"/></g><g class=\"trace scatter trace9c923d\" style=\"stroke-miterlimit: 2; opacity: 1;\"><g class=\"fills\"/><g class=\"errorbars\"/><g class=\"lines\"/><g class=\"points\"><path class=\"point\" transform=\"translate(30.25,84.34)\" d=\"M1.5,0A1.5,1.5 0 1,1 0,-1.5A1.5,1.5 0 0,1 1.5,0Z\" style=\"opacity: 1; stroke-width: 0px; fill: rgb(147, 240, 0); fill-opacity: 1;\"/><path class=\"point\" transform=\"translate(178.66,260.6)\" d=\"M1.5,0A1.5,1.5 0 1,1 0,-1.5A1.5,1.5 0 0,1 1.5,0Z\" style=\"opacity: 1; stroke-width: 0px; fill: rgb(147, 240, 0); fill-opacity: 1;\"/><path class=\"point\" transform=\"translate(196.89,297.32)\" d=\"M1.5,0A1.5,1.5 0 1,1 0,-1.5A1.5,1.5 0 0,1 1.5,0Z\" style=\"opacity: 1; stroke-width: 0px; fill: rgb(147, 240, 0); fill-opacity: 1;\"/><path class=\"point\" transform=\"translate(213,310.78)\" d=\"M1.5,0A1.5,1.5 0 1,1 0,-1.5A1.5,1.5 0 0,1 1.5,0Z\" style=\"opacity: 1; stroke-width: 0px; fill: rgb(147, 240, 0); fill-opacity: 1;\"/><path class=\"point\" transform=\"translate(233.36,343.02)\" d=\"M1.5,0A1.5,1.5 0 1,1 0,-1.5A1.5,1.5 0 0,1 1.5,0Z\" style=\"opacity: 1; stroke-width: 0px; fill: rgb(147, 240, 0); fill-opacity: 1;\"/><path class=\"point\" transform=\"translate(240.99,343.02)\" d=\"M1.5,0A1.5,1.5 0 1,1 0,-1.5A1.5,1.5 0 0,1 1.5,0Z\" style=\"opacity: 1; stroke-width: 0px; fill: rgb(147, 240, 0); fill-opacity: 1;\"/><path class=\"point\" transform=\"translate(244.38,359.34)\" d=\"M1.5,0A1.5,1.5 0 1,1 0,-1.5A1.5,1.5 0 0,1 1.5,0Z\" style=\"opacity: 1; stroke-width: 0px; fill: rgb(147, 240, 0); fill-opacity: 1;\"/><path class=\"point\" transform=\"translate(241.41,365.86)\" d=\"M1.5,0A1.5,1.5 0 1,1 0,-1.5A1.5,1.5 0 0,1 1.5,0Z\" style=\"opacity: 1; stroke-width: 0px; fill: rgb(147, 240, 0); fill-opacity: 1;\"/><path class=\"point\" transform=\"translate(246.93,371.98)\" d=\"M1.5,0A1.5,1.5 0 1,1 0,-1.5A1.5,1.5 0 0,1 1.5,0Z\" style=\"opacity: 1; stroke-width: 0px; fill: rgb(147, 240, 0); fill-opacity: 1;\"/><path class=\"point\" transform=\"translate(251.59,369.54)\" d=\"M1.5,0A1.5,1.5 0 1,1 0,-1.5A1.5,1.5 0 0,1 1.5,0Z\" style=\"opacity: 1; stroke-width: 0px; fill: rgb(147, 240, 0); fill-opacity: 1;\"/><path class=\"point\" transform=\"translate(250.74,378.1)\" d=\"M1.5,0A1.5,1.5 0 1,1 0,-1.5A1.5,1.5 0 0,1 1.5,0Z\" style=\"opacity: 1; stroke-width: 0px; fill: rgb(147, 240, 0); fill-opacity: 1;\"/><path class=\"point\" transform=\"translate(259.22,374.84)\" d=\"M1.5,0A1.5,1.5 0 1,1 0,-1.5A1.5,1.5 0 0,1 1.5,0Z\" style=\"opacity: 1; stroke-width: 0px; fill: rgb(147, 240, 0); fill-opacity: 1;\"/><path class=\"point\" transform=\"translate(275.76,384.63)\" d=\"M1.5,0A1.5,1.5 0 1,1 0,-1.5A1.5,1.5 0 0,1 1.5,0Z\" style=\"opacity: 1; stroke-width: 0px; fill: rgb(147, 240, 0); fill-opacity: 1;\"/><path class=\"point\" transform=\"translate(276.61,382.18)\" d=\"M1.5,0A1.5,1.5 0 1,1 0,-1.5A1.5,1.5 0 0,1 1.5,0Z\" style=\"opacity: 1; stroke-width: 0px; fill: rgb(147, 240, 0); fill-opacity: 1;\"/><path class=\"point\" transform=\"translate(266.01,362.6)\" d=\"M1.5,0A1.5,1.5 0 1,1 0,-1.5A1.5,1.5 0 0,1 1.5,0Z\" style=\"opacity: 1; stroke-width: 0px; fill: rgb(147, 240, 0); fill-opacity: 1;\"/><path class=\"point\" transform=\"translate(255.83,362.19)\" d=\"M1.5,0A1.5,1.5 0 1,1 0,-1.5A1.5,1.5 0 0,1 1.5,0Z\" style=\"opacity: 1; stroke-width: 0px; fill: rgb(147, 240, 0); fill-opacity: 1;\"/><path class=\"point\" transform=\"translate(257.1,359.34)\" d=\"M1.5,0A1.5,1.5 0 1,1 0,-1.5A1.5,1.5 0 0,1 1.5,0Z\" style=\"opacity: 1; stroke-width: 0px; fill: rgb(147, 240, 0); fill-opacity: 1;\"/><path class=\"point\" transform=\"translate(253.29,355.66)\" d=\"M1.5,0A1.5,1.5 0 1,1 0,-1.5A1.5,1.5 0 0,1 1.5,0Z\" style=\"opacity: 1; stroke-width: 0px; fill: rgb(147, 240, 0); fill-opacity: 1;\"/><path class=\"point\" transform=\"translate(258.37,349.95)\" d=\"M1.5,0A1.5,1.5 0 1,1 0,-1.5A1.5,1.5 0 0,1 1.5,0Z\" style=\"opacity: 1; stroke-width: 0px; fill: rgb(147, 240, 0); fill-opacity: 1;\"/><path class=\"point\" transform=\"translate(252.86,329.96)\" d=\"M1.5,0A1.5,1.5 0 1,1 0,-1.5A1.5,1.5 0 0,1 1.5,0Z\" style=\"opacity: 1; stroke-width: 0px; fill: rgb(147, 240, 0); fill-opacity: 1;\"/><path class=\"point\" transform=\"translate(246.08,320.17)\" d=\"M1.5,0A1.5,1.5 0 1,1 0,-1.5A1.5,1.5 0 0,1 1.5,0Z\" style=\"opacity: 1; stroke-width: 0px; fill: rgb(147, 240, 0); fill-opacity: 1;\"/><path class=\"point\" transform=\"translate(232.51,308.74)\" d=\"M1.5,0A1.5,1.5 0 1,1 0,-1.5A1.5,1.5 0 0,1 1.5,0Z\" style=\"opacity: 1; stroke-width: 0px; fill: rgb(147, 240, 0); fill-opacity: 1;\"/><path class=\"point\" transform=\"translate(211.31,278.55)\" d=\"M1.5,0A1.5,1.5 0 1,1 0,-1.5A1.5,1.5 0 0,1 1.5,0Z\" style=\"opacity: 1; stroke-width: 0px; fill: rgb(147, 240, 0); fill-opacity: 1;\"/><path class=\"point\" transform=\"translate(30.25,84.34)\" d=\"M1.5,0A1.5,1.5 0 1,1 0,-1.5A1.5,1.5 0 0,1 1.5,0Z\" style=\"opacity: 1; stroke-width: 0px; fill: rgb(147, 240, 0); fill-opacity: 1;\"/></g><g class=\"text\"/></g><g class=\"trace scatter trace777367\" style=\"stroke-miterlimit: 2; opacity: 1;\"><g class=\"fills\"/><g class=\"errorbars\"/><g class=\"lines\"/><g class=\"points\"><path class=\"point\" transform=\"translate(30.25,84.34)\" d=\"M1.5,0A1.5,1.5 0 1,1 0,-1.5A1.5,1.5 0 0,1 1.5,0Z\" style=\"opacity: 1; stroke-width: 0px; fill: rgb(117, 240, 0); fill-opacity: 1;\"/><path class=\"point\" transform=\"translate(110.81,190.02)\" d=\"M1.5,0A1.5,1.5 0 1,1 0,-1.5A1.5,1.5 0 0,1 1.5,0Z\" style=\"opacity: 1; stroke-width: 0px; fill: rgb(117, 240, 0); fill-opacity: 1;\"/><path class=\"point\" transform=\"translate(115.9,195.32)\" d=\"M1.5,0A1.5,1.5 0 1,1 0,-1.5A1.5,1.5 0 0,1 1.5,0Z\" style=\"opacity: 1; stroke-width: 0px; fill: rgb(117, 240, 0); fill-opacity: 1;\"/><path class=\"point\" transform=\"translate(115.05,199.4)\" d=\"M1.5,0A1.5,1.5 0 1,1 0,-1.5A1.5,1.5 0 0,1 1.5,0Z\" style=\"opacity: 1; stroke-width: 0px; fill: rgb(117, 240, 0); fill-opacity: 1;\"/><path class=\"point\" transform=\"translate(118.45,201.85)\" d=\"M1.5,0A1.5,1.5 0 1,1 0,-1.5A1.5,1.5 0 0,1 1.5,0Z\" style=\"opacity: 1; stroke-width: 0px; fill: rgb(117, 240, 0); fill-opacity: 1;\"/><path class=\"point\" transform=\"translate(144.74,219.8)\" d=\"M1.5,0A1.5,1.5 0 1,1 0,-1.5A1.5,1.5 0 0,1 1.5,0Z\" style=\"opacity: 1; stroke-width: 0px; fill: rgb(117, 240, 0); fill-opacity: 1;\"/><path class=\"point\" transform=\"translate(154.06,229.59)\" d=\"M1.5,0A1.5,1.5 0 1,1 0,-1.5A1.5,1.5 0 0,1 1.5,0Z\" style=\"opacity: 1; stroke-width: 0px; fill: rgb(117, 240, 0); fill-opacity: 1;\"/><path class=\"point\" transform=\"translate(158.73,232.04)\" d=\"M1.5,0A1.5,1.5 0 1,1 0,-1.5A1.5,1.5 0 0,1 1.5,0Z\" style=\"opacity: 1; stroke-width: 0px; fill: rgb(117, 240, 0); fill-opacity: 1;\"/><path class=\"point\" transform=\"translate(160.85,243.46)\" d=\"M1.5,0A1.5,1.5 0 1,1 0,-1.5A1.5,1.5 0 0,1 1.5,0Z\" style=\"opacity: 1; stroke-width: 0px; fill: rgb(117, 240, 0); fill-opacity: 1;\"/><path class=\"point\" transform=\"translate(169.33,250.4)\" d=\"M1.5,0A1.5,1.5 0 1,1 0,-1.5A1.5,1.5 0 0,1 1.5,0Z\" style=\"opacity: 1; stroke-width: 0px; fill: rgb(117, 240, 0); fill-opacity: 1;\"/><path class=\"point\" transform=\"translate(172.3,240.2)\" d=\"M1.5,0A1.5,1.5 0 1,1 0,-1.5A1.5,1.5 0 0,1 1.5,0Z\" style=\"opacity: 1; stroke-width: 0px; fill: rgb(117, 240, 0); fill-opacity: 1;\"/><path class=\"point\" transform=\"translate(182.9,234.08)\" d=\"M1.5,0A1.5,1.5 0 1,1 0,-1.5A1.5,1.5 0 0,1 1.5,0Z\" style=\"opacity: 1; stroke-width: 0px; fill: rgb(117, 240, 0); fill-opacity: 1;\"/><path class=\"point\" transform=\"translate(182.9,229.59)\" d=\"M1.5,0A1.5,1.5 0 1,1 0,-1.5A1.5,1.5 0 0,1 1.5,0Z\" style=\"opacity: 1; stroke-width: 0px; fill: rgb(117, 240, 0); fill-opacity: 1;\"/><path class=\"point\" transform=\"translate(173.57,228.37)\" d=\"M1.5,0A1.5,1.5 0 1,1 0,-1.5A1.5,1.5 0 0,1 1.5,0Z\" style=\"opacity: 1; stroke-width: 0px; fill: rgb(117, 240, 0); fill-opacity: 1;\"/><path class=\"point\" transform=\"translate(164.66,228.78)\" d=\"M1.5,0A1.5,1.5 0 1,1 0,-1.5A1.5,1.5 0 0,1 1.5,0Z\" style=\"opacity: 1; stroke-width: 0px; fill: rgb(117, 240, 0); fill-opacity: 1;\"/><path class=\"point\" transform=\"translate(156.18,227.14)\" d=\"M1.5,0A1.5,1.5 0 1,1 0,-1.5A1.5,1.5 0 0,1 1.5,0Z\" style=\"opacity: 1; stroke-width: 0px; fill: rgb(117, 240, 0); fill-opacity: 1;\"/><path class=\"point\" transform=\"translate(140.5,203.07)\" d=\"M1.5,0A1.5,1.5 0 1,1 0,-1.5A1.5,1.5 0 0,1 1.5,0Z\" style=\"opacity: 1; stroke-width: 0px; fill: rgb(117, 240, 0); fill-opacity: 1;\"/><path class=\"point\" transform=\"translate(140.92,201.44)\" d=\"M1.5,0A1.5,1.5 0 1,1 0,-1.5A1.5,1.5 0 0,1 1.5,0Z\" style=\"opacity: 1; stroke-width: 0px; fill: rgb(117, 240, 0); fill-opacity: 1;\"/><path class=\"point\" transform=\"translate(138.8,181.04)\" d=\"M1.5,0A1.5,1.5 0 1,1 0,-1.5A1.5,1.5 0 0,1 1.5,0Z\" style=\"opacity: 1; stroke-width: 0px; fill: rgb(117, 240, 0); fill-opacity: 1;\"/><path class=\"point\" transform=\"translate(122.69,171.66)\" d=\"M1.5,0A1.5,1.5 0 1,1 0,-1.5A1.5,1.5 0 0,1 1.5,0Z\" style=\"opacity: 1; stroke-width: 0px; fill: rgb(117, 240, 0); fill-opacity: 1;\"/><path class=\"point\" transform=\"translate(30.25,84.34)\" d=\"M1.5,0A1.5,1.5 0 1,1 0,-1.5A1.5,1.5 0 0,1 1.5,0Z\" style=\"opacity: 1; stroke-width: 0px; fill: rgb(117, 240, 0); fill-opacity: 1;\"/></g><g class=\"text\"/></g><g class=\"trace scatter trace47556c\" style=\"stroke-miterlimit: 2; opacity: 1;\"><g class=\"fills\"/><g class=\"errorbars\"/><g class=\"lines\"/><g class=\"points\"><path class=\"point\" transform=\"translate(30.25,84.34)\" d=\"M1.5,0A1.5,1.5 0 1,1 0,-1.5A1.5,1.5 0 0,1 1.5,0Z\" style=\"opacity: 1; stroke-width: 0px; fill: rgb(86, 240, 0); fill-opacity: 1;\"/><path class=\"point\" transform=\"translate(43.39,100.66)\" d=\"M1.5,0A1.5,1.5 0 1,1 0,-1.5A1.5,1.5 0 0,1 1.5,0Z\" style=\"opacity: 1; stroke-width: 0px; fill: rgb(86, 240, 0); fill-opacity: 1;\"/><path class=\"point\" transform=\"translate(47.63,107.19)\" d=\"M1.5,0A1.5,1.5 0 1,1 0,-1.5A1.5,1.5 0 0,1 1.5,0Z\" style=\"opacity: 1; stroke-width: 0px; fill: rgb(86, 240, 0); fill-opacity: 1;\"/><path class=\"point\" transform=\"translate(62.9,128)\" d=\"M1.5,0A1.5,1.5 0 1,1 0,-1.5A1.5,1.5 0 0,1 1.5,0Z\" style=\"opacity: 1; stroke-width: 0px; fill: rgb(86, 240, 0); fill-opacity: 1;\"/><path class=\"point\" transform=\"translate(78.59,149.22)\" d=\"M1.5,0A1.5,1.5 0 1,1 0,-1.5A1.5,1.5 0 0,1 1.5,0Z\" style=\"opacity: 1; stroke-width: 0px; fill: rgb(86, 240, 0); fill-opacity: 1;\"/><path class=\"point\" transform=\"translate(95.55,155.34)\" d=\"M1.5,0A1.5,1.5 0 1,1 0,-1.5A1.5,1.5 0 0,1 1.5,0Z\" style=\"opacity: 1; stroke-width: 0px; fill: rgb(86, 240, 0); fill-opacity: 1;\"/><path class=\"point\" transform=\"translate(95.13,156.56)\" d=\"M1.5,0A1.5,1.5 0 1,1 0,-1.5A1.5,1.5 0 0,1 1.5,0Z\" style=\"opacity: 1; stroke-width: 0px; fill: rgb(86, 240, 0); fill-opacity: 1;\"/><path class=\"point\" transform=\"translate(99.79,166.35)\" d=\"M1.5,0A1.5,1.5 0 1,1 0,-1.5A1.5,1.5 0 0,1 1.5,0Z\" style=\"opacity: 1; stroke-width: 0px; fill: rgb(86, 240, 0); fill-opacity: 1;\"/><path class=\"point\" transform=\"translate(102.33,178.18)\" d=\"M1.5,0A1.5,1.5 0 1,1 0,-1.5A1.5,1.5 0 0,1 1.5,0Z\" style=\"opacity: 1; stroke-width: 0px; fill: rgb(86, 240, 0); fill-opacity: 1;\"/><path class=\"point\" transform=\"translate(107.42,175.74)\" d=\"M1.5,0A1.5,1.5 0 1,1 0,-1.5A1.5,1.5 0 0,1 1.5,0Z\" style=\"opacity: 1; stroke-width: 0px; fill: rgb(86, 240, 0); fill-opacity: 1;\"/><path class=\"point\" transform=\"translate(110.39,178.18)\" d=\"M1.5,0A1.5,1.5 0 1,1 0,-1.5A1.5,1.5 0 0,1 1.5,0Z\" style=\"opacity: 1; stroke-width: 0px; fill: rgb(86, 240, 0); fill-opacity: 1;\"/><path class=\"point\" transform=\"translate(111.66,176.55)\" d=\"M1.5,0A1.5,1.5 0 1,1 0,-1.5A1.5,1.5 0 0,1 1.5,0Z\" style=\"opacity: 1; stroke-width: 0px; fill: rgb(86, 240, 0); fill-opacity: 1;\"/><path class=\"point\" transform=\"translate(114.63,171.66)\" d=\"M1.5,0A1.5,1.5 0 1,1 0,-1.5A1.5,1.5 0 0,1 1.5,0Z\" style=\"opacity: 1; stroke-width: 0px; fill: rgb(86, 240, 0); fill-opacity: 1;\"/><path class=\"point\" transform=\"translate(118.87,157.38)\" d=\"M1.5,0A1.5,1.5 0 1,1 0,-1.5A1.5,1.5 0 0,1 1.5,0Z\" style=\"opacity: 1; stroke-width: 0px; fill: rgb(86, 240, 0); fill-opacity: 1;\"/><path class=\"point\" transform=\"translate(116.33,150.03)\" d=\"M1.5,0A1.5,1.5 0 1,1 0,-1.5A1.5,1.5 0 0,1 1.5,0Z\" style=\"opacity: 1; stroke-width: 0px; fill: rgb(86, 240, 0); fill-opacity: 1;\"/><path class=\"point\" transform=\"translate(115.05,150.44)\" d=\"M1.5,0A1.5,1.5 0 1,1 0,-1.5A1.5,1.5 0 0,1 1.5,0Z\" style=\"opacity: 1; stroke-width: 0px; fill: rgb(86, 240, 0); fill-opacity: 1;\"/><path class=\"point\" transform=\"translate(103.18,147.58)\" d=\"M1.5,0A1.5,1.5 0 1,1 0,-1.5A1.5,1.5 0 0,1 1.5,0Z\" style=\"opacity: 1; stroke-width: 0px; fill: rgb(86, 240, 0); fill-opacity: 1;\"/><path class=\"point\" transform=\"translate(76.47,117.39)\" d=\"M1.5,0A1.5,1.5 0 1,1 0,-1.5A1.5,1.5 0 0,1 1.5,0Z\" style=\"opacity: 1; stroke-width: 0px; fill: rgb(86, 240, 0); fill-opacity: 1;\"/><path class=\"point\" transform=\"translate(70.96,120.25)\" d=\"M1.5,0A1.5,1.5 0 1,1 0,-1.5A1.5,1.5 0 0,1 1.5,0Z\" style=\"opacity: 1; stroke-width: 0px; fill: rgb(86, 240, 0); fill-opacity: 1;\"/><path class=\"point\" transform=\"translate(56.96,105.97)\" d=\"M1.5,0A1.5,1.5 0 1,1 0,-1.5A1.5,1.5 0 0,1 1.5,0Z\" style=\"opacity: 1; stroke-width: 0px; fill: rgb(86, 240, 0); fill-opacity: 1;\"/><path class=\"point\" transform=\"translate(30.25,84.34)\" d=\"M1.5,0A1.5,1.5 0 1,1 0,-1.5A1.5,1.5 0 0,1 1.5,0Z\" style=\"opacity: 1; stroke-width: 0px; fill: rgb(86, 240, 0); fill-opacity: 1;\"/></g><g class=\"text\"/></g><g class=\"trace scatter tracee9bc13\" style=\"stroke-miterlimit: 2; opacity: 1;\"><g class=\"fills\"/><g class=\"errorbars\"/><g class=\"lines\"/><g class=\"points\"><path class=\"point\" transform=\"translate(30.25,84.34)\" d=\"M1.5,0A1.5,1.5 0 1,1 0,-1.5A1.5,1.5 0 0,1 1.5,0Z\" style=\"opacity: 1; stroke-width: 0px; fill: rgb(55, 240, 0); fill-opacity: 1;\"/><path class=\"point\" transform=\"translate(211.31,238.98)\" d=\"M1.5,0A1.5,1.5 0 1,1 0,-1.5A1.5,1.5 0 0,1 1.5,0Z\" style=\"opacity: 1; stroke-width: 0px; fill: rgb(55, 240, 0); fill-opacity: 1;\"/><path class=\"point\" transform=\"translate(249.05,286.71)\" d=\"M1.5,0A1.5,1.5 0 1,1 0,-1.5A1.5,1.5 0 0,1 1.5,0Z\" style=\"opacity: 1; stroke-width: 0px; fill: rgb(55, 240, 0); fill-opacity: 1;\"/><path class=\"point\" transform=\"translate(263.46,305.48)\" d=\"M1.5,0A1.5,1.5 0 1,1 0,-1.5A1.5,1.5 0 0,1 1.5,0Z\" style=\"opacity: 1; stroke-width: 0px; fill: rgb(55, 240, 0); fill-opacity: 1;\"/><path class=\"point\" transform=\"translate(278.73,316.09)\" d=\"M1.5,0A1.5,1.5 0 1,1 0,-1.5A1.5,1.5 0 0,1 1.5,0Z\" style=\"opacity: 1; stroke-width: 0px; fill: rgb(55, 240, 0); fill-opacity: 1;\"/><path class=\"point\" transform=\"translate(280.42,322.21)\" d=\"M1.5,0A1.5,1.5 0 1,1 0,-1.5A1.5,1.5 0 0,1 1.5,0Z\" style=\"opacity: 1; stroke-width: 0px; fill: rgb(55, 240, 0); fill-opacity: 1;\"/><path class=\"point\" transform=\"translate(282.54,329.14)\" d=\"M1.5,0A1.5,1.5 0 1,1 0,-1.5A1.5,1.5 0 0,1 1.5,0Z\" style=\"opacity: 1; stroke-width: 0px; fill: rgb(55, 240, 0); fill-opacity: 1;\"/><path class=\"point\" transform=\"translate(285.09,333.22)\" d=\"M1.5,0A1.5,1.5 0 1,1 0,-1.5A1.5,1.5 0 0,1 1.5,0Z\" style=\"opacity: 1; stroke-width: 0px; fill: rgb(55, 240, 0); fill-opacity: 1;\"/><path class=\"point\" transform=\"translate(288.9,334.86)\" d=\"M1.5,0A1.5,1.5 0 1,1 0,-1.5A1.5,1.5 0 0,1 1.5,0Z\" style=\"opacity: 1; stroke-width: 0px; fill: rgb(55, 240, 0); fill-opacity: 1;\"/><path class=\"point\" transform=\"translate(297.38,340.57)\" d=\"M1.5,0A1.5,1.5 0 1,1 0,-1.5A1.5,1.5 0 0,1 1.5,0Z\" style=\"opacity: 1; stroke-width: 0px; fill: rgb(55, 240, 0); fill-opacity: 1;\"/><path class=\"point\" transform=\"translate(293.57,353.62)\" d=\"M1.5,0A1.5,1.5 0 1,1 0,-1.5A1.5,1.5 0 0,1 1.5,0Z\" style=\"opacity: 1; stroke-width: 0px; fill: rgb(55, 240, 0); fill-opacity: 1;\"/><path class=\"point\" transform=\"translate(305.86,371.17)\" d=\"M1.5,0A1.5,1.5 0 1,1 0,-1.5A1.5,1.5 0 0,1 1.5,0Z\" style=\"opacity: 1; stroke-width: 0px; fill: rgb(55, 240, 0); fill-opacity: 1;\"/><path class=\"point\" transform=\"translate(302.9,376.88)\" d=\"M1.5,0A1.5,1.5 0 1,1 0,-1.5A1.5,1.5 0 0,1 1.5,0Z\" style=\"opacity: 1; stroke-width: 0px; fill: rgb(55, 240, 0); fill-opacity: 1;\"/><path class=\"point\" transform=\"translate(302.05,377.7)\" d=\"M1.5,0A1.5,1.5 0 1,1 0,-1.5A1.5,1.5 0 0,1 1.5,0Z\" style=\"opacity: 1; stroke-width: 0px; fill: rgb(55, 240, 0); fill-opacity: 1;\"/><path class=\"point\" transform=\"translate(295.69,377.29)\" d=\"M1.5,0A1.5,1.5 0 1,1 0,-1.5A1.5,1.5 0 0,1 1.5,0Z\" style=\"opacity: 1; stroke-width: 0px; fill: rgb(55, 240, 0); fill-opacity: 1;\"/><path class=\"point\" transform=\"translate(293.99,379.33)\" d=\"M1.5,0A1.5,1.5 0 1,1 0,-1.5A1.5,1.5 0 0,1 1.5,0Z\" style=\"opacity: 1; stroke-width: 0px; fill: rgb(55, 240, 0); fill-opacity: 1;\"/><path class=\"point\" transform=\"translate(271.09,348.32)\" d=\"M1.5,0A1.5,1.5 0 1,1 0,-1.5A1.5,1.5 0 0,1 1.5,0Z\" style=\"opacity: 1; stroke-width: 0px; fill: rgb(55, 240, 0); fill-opacity: 1;\"/><path class=\"point\" transform=\"translate(263.04,334.86)\" d=\"M1.5,0A1.5,1.5 0 1,1 0,-1.5A1.5,1.5 0 0,1 1.5,0Z\" style=\"opacity: 1; stroke-width: 0px; fill: rgb(55, 240, 0); fill-opacity: 1;\"/><path class=\"point\" transform=\"translate(258.8,325.88)\" d=\"M1.5,0A1.5,1.5 0 1,1 0,-1.5A1.5,1.5 0 0,1 1.5,0Z\" style=\"opacity: 1; stroke-width: 0px; fill: rgb(55, 240, 0); fill-opacity: 1;\"/><path class=\"point\" transform=\"translate(247.35,313.23)\" d=\"M1.5,0A1.5,1.5 0 1,1 0,-1.5A1.5,1.5 0 0,1 1.5,0Z\" style=\"opacity: 1; stroke-width: 0px; fill: rgb(55, 240, 0); fill-opacity: 1;\"/><path class=\"point\" transform=\"translate(197.74,254.89)\" d=\"M1.5,0A1.5,1.5 0 1,1 0,-1.5A1.5,1.5 0 0,1 1.5,0Z\" style=\"opacity: 1; stroke-width: 0px; fill: rgb(55, 240, 0); fill-opacity: 1;\"/><path class=\"point\" transform=\"translate(100.21,230)\" d=\"M1.5,0A1.5,1.5 0 1,1 0,-1.5A1.5,1.5 0 0,1 1.5,0Z\" style=\"opacity: 1; stroke-width: 0px; fill: rgb(55, 240, 0); fill-opacity: 1;\"/><path class=\"point\" transform=\"translate(30.25,84.34)\" d=\"M1.5,0A1.5,1.5 0 1,1 0,-1.5A1.5,1.5 0 0,1 1.5,0Z\" style=\"opacity: 1; stroke-width: 0px; fill: rgb(55, 240, 0); fill-opacity: 1;\"/></g><g class=\"text\"/></g><g class=\"trace scatter tracec16c2d\" style=\"stroke-miterlimit: 2; opacity: 1;\"><g class=\"fills\"/><g class=\"errorbars\"/><g class=\"lines\"/><g class=\"points\"><path class=\"point\" transform=\"translate(30.25,84.34)\" d=\"M1.5,0A1.5,1.5 0 1,1 0,-1.5A1.5,1.5 0 0,1 1.5,0Z\" style=\"opacity: 1; stroke-width: 0px; fill: rgb(25, 240, 0); fill-opacity: 1;\"/><path class=\"point\" transform=\"translate(77.74,136.98)\" d=\"M1.5,0A1.5,1.5 0 1,1 0,-1.5A1.5,1.5 0 0,1 1.5,0Z\" style=\"opacity: 1; stroke-width: 0px; fill: rgb(25, 240, 0); fill-opacity: 1;\"/><path class=\"point\" transform=\"translate(120.14,179.82)\" d=\"M1.5,0A1.5,1.5 0 1,1 0,-1.5A1.5,1.5 0 0,1 1.5,0Z\" style=\"opacity: 1; stroke-width: 0px; fill: rgb(25, 240, 0); fill-opacity: 1;\"/><path class=\"point\" transform=\"translate(174.42,252.44)\" d=\"M1.5,0A1.5,1.5 0 1,1 0,-1.5A1.5,1.5 0 0,1 1.5,0Z\" style=\"opacity: 1; stroke-width: 0px; fill: rgb(25, 240, 0); fill-opacity: 1;\"/><path class=\"point\" transform=\"translate(186.29,262.23)\" d=\"M1.5,0A1.5,1.5 0 1,1 0,-1.5A1.5,1.5 0 0,1 1.5,0Z\" style=\"opacity: 1; stroke-width: 0px; fill: rgb(25, 240, 0); fill-opacity: 1;\"/><path class=\"point\" transform=\"translate(199.86,285.9)\" d=\"M1.5,0A1.5,1.5 0 1,1 0,-1.5A1.5,1.5 0 0,1 1.5,0Z\" style=\"opacity: 1; stroke-width: 0px; fill: rgb(25, 240, 0); fill-opacity: 1;\"/><path class=\"point\" transform=\"translate(214.28,292.83)\" d=\"M1.5,0A1.5,1.5 0 1,1 0,-1.5A1.5,1.5 0 0,1 1.5,0Z\" style=\"opacity: 1; stroke-width: 0px; fill: rgb(25, 240, 0); fill-opacity: 1;\"/><path class=\"point\" transform=\"translate(221.06,299.36)\" d=\"M1.5,0A1.5,1.5 0 1,1 0,-1.5A1.5,1.5 0 0,1 1.5,0Z\" style=\"opacity: 1; stroke-width: 0px; fill: rgb(25, 240, 0); fill-opacity: 1;\"/><path class=\"point\" transform=\"translate(234.2,305.48)\" d=\"M1.5,0A1.5,1.5 0 1,1 0,-1.5A1.5,1.5 0 0,1 1.5,0Z\" style=\"opacity: 1; stroke-width: 0px; fill: rgb(25, 240, 0); fill-opacity: 1;\"/><path class=\"point\" transform=\"translate(251.59,302.62)\" d=\"M1.5,0A1.5,1.5 0 1,1 0,-1.5A1.5,1.5 0 0,1 1.5,0Z\" style=\"opacity: 1; stroke-width: 0px; fill: rgb(25, 240, 0); fill-opacity: 1;\"/><path class=\"point\" transform=\"translate(257.53,296.5)\" d=\"M1.5,0A1.5,1.5 0 1,1 0,-1.5A1.5,1.5 0 0,1 1.5,0Z\" style=\"opacity: 1; stroke-width: 0px; fill: rgb(25, 240, 0); fill-opacity: 1;\"/><path class=\"point\" transform=\"translate(272.79,292.02)\" d=\"M1.5,0A1.5,1.5 0 1,1 0,-1.5A1.5,1.5 0 0,1 1.5,0Z\" style=\"opacity: 1; stroke-width: 0px; fill: rgb(25, 240, 0); fill-opacity: 1;\"/><path class=\"point\" transform=\"translate(270.25,286.71)\" d=\"M1.5,0A1.5,1.5 0 1,1 0,-1.5A1.5,1.5 0 0,1 1.5,0Z\" style=\"opacity: 1; stroke-width: 0px; fill: rgb(25, 240, 0); fill-opacity: 1;\"/><path class=\"point\" transform=\"translate(264.73,285.49)\" d=\"M1.5,0A1.5,1.5 0 1,1 0,-1.5A1.5,1.5 0 0,1 1.5,0Z\" style=\"opacity: 1; stroke-width: 0px; fill: rgb(25, 240, 0); fill-opacity: 1;\"/><path class=\"point\" transform=\"translate(268.55,279.37)\" d=\"M1.5,0A1.5,1.5 0 1,1 0,-1.5A1.5,1.5 0 0,1 1.5,0Z\" style=\"opacity: 1; stroke-width: 0px; fill: rgb(25, 240, 0); fill-opacity: 1;\"/><path class=\"point\" transform=\"translate(243.53,272.43)\" d=\"M1.5,0A1.5,1.5 0 1,1 0,-1.5A1.5,1.5 0 0,1 1.5,0Z\" style=\"opacity: 1; stroke-width: 0px; fill: rgb(25, 240, 0); fill-opacity: 1;\"/><path class=\"point\" transform=\"translate(240.56,265.9)\" d=\"M1.5,0A1.5,1.5 0 1,1 0,-1.5A1.5,1.5 0 0,1 1.5,0Z\" style=\"opacity: 1; stroke-width: 0px; fill: rgb(25, 240, 0); fill-opacity: 1;\"/><path class=\"point\" transform=\"translate(221.48,254.48)\" d=\"M1.5,0A1.5,1.5 0 1,1 0,-1.5A1.5,1.5 0 0,1 1.5,0Z\" style=\"opacity: 1; stroke-width: 0px; fill: rgb(25, 240, 0); fill-opacity: 1;\"/><path class=\"point\" transform=\"translate(192.65,234.08)\" d=\"M1.5,0A1.5,1.5 0 1,1 0,-1.5A1.5,1.5 0 0,1 1.5,0Z\" style=\"opacity: 1; stroke-width: 0px; fill: rgb(25, 240, 0); fill-opacity: 1;\"/><path class=\"point\" transform=\"translate(190.53,224.29)\" d=\"M1.5,0A1.5,1.5 0 1,1 0,-1.5A1.5,1.5 0 0,1 1.5,0Z\" style=\"opacity: 1; stroke-width: 0px; fill: rgb(25, 240, 0); fill-opacity: 1;\"/><path class=\"point\" transform=\"translate(190.11,222.66)\" d=\"M1.5,0A1.5,1.5 0 1,1 0,-1.5A1.5,1.5 0 0,1 1.5,0Z\" style=\"opacity: 1; stroke-width: 0px; fill: rgb(25, 240, 0); fill-opacity: 1;\"/><path class=\"point\" transform=\"translate(174.84,206.34)\" d=\"M1.5,0A1.5,1.5 0 1,1 0,-1.5A1.5,1.5 0 0,1 1.5,0Z\" style=\"opacity: 1; stroke-width: 0px; fill: rgb(25, 240, 0); fill-opacity: 1;\"/><path class=\"point\" transform=\"translate(148.13,187.16)\" d=\"M1.5,0A1.5,1.5 0 1,1 0,-1.5A1.5,1.5 0 0,1 1.5,0Z\" style=\"opacity: 1; stroke-width: 0px; fill: rgb(25, 240, 0); fill-opacity: 1;\"/><path class=\"point\" transform=\"translate(145.58,185.94)\" d=\"M1.5,0A1.5,1.5 0 1,1 0,-1.5A1.5,1.5 0 0,1 1.5,0Z\" style=\"opacity: 1; stroke-width: 0px; fill: rgb(25, 240, 0); fill-opacity: 1;\"/><path class=\"point\" transform=\"translate(30.25,84.34)\" d=\"M1.5,0A1.5,1.5 0 1,1 0,-1.5A1.5,1.5 0 0,1 1.5,0Z\" style=\"opacity: 1; stroke-width: 0px; fill: rgb(25, 240, 0); fill-opacity: 1;\"/></g><g class=\"text\"/></g><g class=\"trace scatter trace235b3a\" style=\"stroke-miterlimit: 2; opacity: 1;\"><g class=\"fills\"/><g class=\"errorbars\"/><g class=\"lines\"/><g class=\"points\"><path class=\"point\" transform=\"translate(30.25,84.34)\" d=\"M1.5,0A1.5,1.5 0 1,1 0,-1.5A1.5,1.5 0 0,1 1.5,0Z\" style=\"opacity: 1; stroke-width: 0px; fill: rgb(0, 240, 5); fill-opacity: 1;\"/><path class=\"point\" transform=\"translate(253.71,286.3)\" d=\"M1.5,0A1.5,1.5 0 1,1 0,-1.5A1.5,1.5 0 0,1 1.5,0Z\" style=\"opacity: 1; stroke-width: 0px; fill: rgb(0, 240, 5); fill-opacity: 1;\"/><path class=\"point\" transform=\"translate(303.74,333.63)\" d=\"M1.5,0A1.5,1.5 0 1,1 0,-1.5A1.5,1.5 0 0,1 1.5,0Z\" style=\"opacity: 1; stroke-width: 0px; fill: rgb(0, 240, 5); fill-opacity: 1;\"/><path class=\"point\" transform=\"translate(325.37,358.11)\" d=\"M1.5,0A1.5,1.5 0 1,1 0,-1.5A1.5,1.5 0 0,1 1.5,0Z\" style=\"opacity: 1; stroke-width: 0px; fill: rgb(0, 240, 5); fill-opacity: 1;\"/><path class=\"point\" transform=\"translate(349.96,374.02)\" d=\"M1.5,0A1.5,1.5 0 1,1 0,-1.5A1.5,1.5 0 0,1 1.5,0Z\" style=\"opacity: 1; stroke-width: 0px; fill: rgb(0, 240, 5); fill-opacity: 1;\"/><path class=\"point\" transform=\"translate(358.87,367.5)\" d=\"M1.5,0A1.5,1.5 0 1,1 0,-1.5A1.5,1.5 0 0,1 1.5,0Z\" style=\"opacity: 1; stroke-width: 0px; fill: rgb(0, 240, 5); fill-opacity: 1;\"/><path class=\"point\" transform=\"translate(359.72,375.66)\" d=\"M1.5,0A1.5,1.5 0 1,1 0,-1.5A1.5,1.5 0 0,1 1.5,0Z\" style=\"opacity: 1; stroke-width: 0px; fill: rgb(0, 240, 5); fill-opacity: 1;\"/><path class=\"point\" transform=\"translate(369.04,373.62)\" d=\"M1.5,0A1.5,1.5 0 1,1 0,-1.5A1.5,1.5 0 0,1 1.5,0Z\" style=\"opacity: 1; stroke-width: 0px; fill: rgb(0, 240, 5); fill-opacity: 1;\"/><path class=\"point\" transform=\"translate(369.47,372.8)\" d=\"M1.5,0A1.5,1.5 0 1,1 0,-1.5A1.5,1.5 0 0,1 1.5,0Z\" style=\"opacity: 1; stroke-width: 0px; fill: rgb(0, 240, 5); fill-opacity: 1;\"/><path class=\"point\" transform=\"translate(382.61,365.86)\" d=\"M1.5,0A1.5,1.5 0 1,1 0,-1.5A1.5,1.5 0 0,1 1.5,0Z\" style=\"opacity: 1; stroke-width: 0px; fill: rgb(0, 240, 5); fill-opacity: 1;\"/><path class=\"point\" transform=\"translate(384.73,388.71)\" d=\"M1.5,0A1.5,1.5 0 1,1 0,-1.5A1.5,1.5 0 0,1 1.5,0Z\" style=\"opacity: 1; stroke-width: 0px; fill: rgb(0, 240, 5); fill-opacity: 1;\"/><path class=\"point\" transform=\"translate(372.01,391.98)\" d=\"M1.5,0A1.5,1.5 0 1,1 0,-1.5A1.5,1.5 0 0,1 1.5,0Z\" style=\"opacity: 1; stroke-width: 0px; fill: rgb(0, 240, 5); fill-opacity: 1;\"/><path class=\"point\" transform=\"translate(366.92,390.75)\" d=\"M1.5,0A1.5,1.5 0 1,1 0,-1.5A1.5,1.5 0 0,1 1.5,0Z\" style=\"opacity: 1; stroke-width: 0px; fill: rgb(0, 240, 5); fill-opacity: 1;\"/><path class=\"point\" transform=\"translate(369.04,395.65)\" d=\"M1.5,0A1.5,1.5 0 1,1 0,-1.5A1.5,1.5 0 0,1 1.5,0Z\" style=\"opacity: 1; stroke-width: 0px; fill: rgb(0, 240, 5); fill-opacity: 1;\"/><path class=\"point\" transform=\"translate(361.84,397.69)\" d=\"M1.5,0A1.5,1.5 0 1,1 0,-1.5A1.5,1.5 0 0,1 1.5,0Z\" style=\"opacity: 1; stroke-width: 0px; fill: rgb(0, 240, 5); fill-opacity: 1;\"/><path class=\"point\" transform=\"translate(364.8,405.03)\" d=\"M1.5,0A1.5,1.5 0 1,1 0,-1.5A1.5,1.5 0 0,1 1.5,0Z\" style=\"opacity: 1; stroke-width: 0px; fill: rgb(0, 240, 5); fill-opacity: 1;\"/><path class=\"point\" transform=\"translate(388.55,413.19)\" d=\"M1.5,0A1.5,1.5 0 1,1 0,-1.5A1.5,1.5 0 0,1 1.5,0Z\" style=\"opacity: 1; stroke-width: 0px; fill: rgb(0, 240, 5); fill-opacity: 1;\"/><path class=\"point\" transform=\"translate(382.61,417.27)\" d=\"M1.5,0A1.5,1.5 0 1,1 0,-1.5A1.5,1.5 0 0,1 1.5,0Z\" style=\"opacity: 1; stroke-width: 0px; fill: rgb(0, 240, 5); fill-opacity: 1;\"/><path class=\"point\" transform=\"translate(367.35,415.64)\" d=\"M1.5,0A1.5,1.5 0 1,1 0,-1.5A1.5,1.5 0 0,1 1.5,0Z\" style=\"opacity: 1; stroke-width: 0px; fill: rgb(0, 240, 5); fill-opacity: 1;\"/><path class=\"point\" transform=\"translate(353.35,416.46)\" d=\"M1.5,0A1.5,1.5 0 1,1 0,-1.5A1.5,1.5 0 0,1 1.5,0Z\" style=\"opacity: 1; stroke-width: 0px; fill: rgb(0, 240, 5); fill-opacity: 1;\"/><path class=\"point\" transform=\"translate(343.6,405.85)\" d=\"M1.5,0A1.5,1.5 0 1,1 0,-1.5A1.5,1.5 0 0,1 1.5,0Z\" style=\"opacity: 1; stroke-width: 0px; fill: rgb(0, 240, 5); fill-opacity: 1;\"/><path class=\"point\" transform=\"translate(346.15,398.91)\" d=\"M1.5,0A1.5,1.5 0 1,1 0,-1.5A1.5,1.5 0 0,1 1.5,0Z\" style=\"opacity: 1; stroke-width: 0px; fill: rgb(0, 240, 5); fill-opacity: 1;\"/><path class=\"point\" transform=\"translate(349.96,397.69)\" d=\"M1.5,0A1.5,1.5 0 1,1 0,-1.5A1.5,1.5 0 0,1 1.5,0Z\" style=\"opacity: 1; stroke-width: 0px; fill: rgb(0, 240, 5); fill-opacity: 1;\"/><path class=\"point\" transform=\"translate(344.87,380.55)\" d=\"M1.5,0A1.5,1.5 0 1,1 0,-1.5A1.5,1.5 0 0,1 1.5,0Z\" style=\"opacity: 1; stroke-width: 0px; fill: rgb(0, 240, 5); fill-opacity: 1;\"/><path class=\"point\" transform=\"translate(341.48,383)\" d=\"M1.5,0A1.5,1.5 0 1,1 0,-1.5A1.5,1.5 0 0,1 1.5,0Z\" style=\"opacity: 1; stroke-width: 0px; fill: rgb(0, 240, 5); fill-opacity: 1;\"/><path class=\"point\" transform=\"translate(335.12,386.67)\" d=\"M1.5,0A1.5,1.5 0 1,1 0,-1.5A1.5,1.5 0 0,1 1.5,0Z\" style=\"opacity: 1; stroke-width: 0px; fill: rgb(0, 240, 5); fill-opacity: 1;\"/><path class=\"point\" transform=\"translate(314.77,367.9)\" d=\"M1.5,0A1.5,1.5 0 1,1 0,-1.5A1.5,1.5 0 0,1 1.5,0Z\" style=\"opacity: 1; stroke-width: 0px; fill: rgb(0, 240, 5); fill-opacity: 1;\"/><path class=\"point\" transform=\"translate(277.45,338.53)\" d=\"M1.5,0A1.5,1.5 0 1,1 0,-1.5A1.5,1.5 0 0,1 1.5,0Z\" style=\"opacity: 1; stroke-width: 0px; fill: rgb(0, 240, 5); fill-opacity: 1;\"/><path class=\"point\" transform=\"translate(276.18,326.7)\" d=\"M1.5,0A1.5,1.5 0 1,1 0,-1.5A1.5,1.5 0 0,1 1.5,0Z\" style=\"opacity: 1; stroke-width: 0px; fill: rgb(0, 240, 5); fill-opacity: 1;\"/><path class=\"point\" transform=\"translate(245.65,298.54)\" d=\"M1.5,0A1.5,1.5 0 1,1 0,-1.5A1.5,1.5 0 0,1 1.5,0Z\" style=\"opacity: 1; stroke-width: 0px; fill: rgb(0, 240, 5); fill-opacity: 1;\"/><path class=\"point\" transform=\"translate(245.65,294.46)\" d=\"M1.5,0A1.5,1.5 0 1,1 0,-1.5A1.5,1.5 0 0,1 1.5,0Z\" style=\"opacity: 1; stroke-width: 0px; fill: rgb(0, 240, 5); fill-opacity: 1;\"/><path class=\"point\" transform=\"translate(30.25,84.34)\" d=\"M1.5,0A1.5,1.5 0 1,1 0,-1.5A1.5,1.5 0 0,1 1.5,0Z\" style=\"opacity: 1; stroke-width: 0px; fill: rgb(0, 240, 5); fill-opacity: 1;\"/></g><g class=\"text\"/></g><g class=\"trace scatter trace8d29b9\" style=\"stroke-miterlimit: 2; opacity: 1;\"><g class=\"fills\"/><g class=\"errorbars\"/><g class=\"lines\"/><g class=\"points\"><path class=\"point\" transform=\"translate(30.25,84.34)\" d=\"M1.5,0A1.5,1.5 0 1,1 0,-1.5A1.5,1.5 0 0,1 1.5,0Z\" style=\"opacity: 1; stroke-width: 0px; fill: rgb(0, 240, 35); fill-opacity: 1;\"/><path class=\"point\" transform=\"translate(311.38,377.29)\" d=\"M1.5,0A1.5,1.5 0 1,1 0,-1.5A1.5,1.5 0 0,1 1.5,0Z\" style=\"opacity: 1; stroke-width: 0px; fill: rgb(0, 240, 35); fill-opacity: 1;\"/><path class=\"point\" transform=\"translate(316.89,382.18)\" d=\"M1.5,0A1.5,1.5 0 1,1 0,-1.5A1.5,1.5 0 0,1 1.5,0Z\" style=\"opacity: 1; stroke-width: 0px; fill: rgb(0, 240, 35); fill-opacity: 1;\"/><path class=\"point\" transform=\"translate(323.67,392.79)\" d=\"M1.5,0A1.5,1.5 0 1,1 0,-1.5A1.5,1.5 0 0,1 1.5,0Z\" style=\"opacity: 1; stroke-width: 0px; fill: rgb(0, 240, 35); fill-opacity: 1;\"/><path class=\"point\" transform=\"translate(330.46,392.38)\" d=\"M1.5,0A1.5,1.5 0 1,1 0,-1.5A1.5,1.5 0 0,1 1.5,0Z\" style=\"opacity: 1; stroke-width: 0px; fill: rgb(0, 240, 35); fill-opacity: 1;\"/><path class=\"point\" transform=\"translate(332.15,407.48)\" d=\"M1.5,0A1.5,1.5 0 1,1 0,-1.5A1.5,1.5 0 0,1 1.5,0Z\" style=\"opacity: 1; stroke-width: 0px; fill: rgb(0, 240, 35); fill-opacity: 1;\"/><path class=\"point\" transform=\"translate(340.63,425.84)\" d=\"M1.5,0A1.5,1.5 0 1,1 0,-1.5A1.5,1.5 0 0,1 1.5,0Z\" style=\"opacity: 1; stroke-width: 0px; fill: rgb(0, 240, 35); fill-opacity: 1;\"/><path class=\"point\" transform=\"translate(357.17,431.14)\" d=\"M1.5,0A1.5,1.5 0 1,1 0,-1.5A1.5,1.5 0 0,1 1.5,0Z\" style=\"opacity: 1; stroke-width: 0px; fill: rgb(0, 240, 35); fill-opacity: 1;\"/><path class=\"point\" transform=\"translate(382.19,429.1)\" d=\"M1.5,0A1.5,1.5 0 1,1 0,-1.5A1.5,1.5 0 0,1 1.5,0Z\" style=\"opacity: 1; stroke-width: 0px; fill: rgb(0, 240, 35); fill-opacity: 1;\"/><path class=\"point\" transform=\"translate(405.93,431.14)\" d=\"M1.5,0A1.5,1.5 0 1,1 0,-1.5A1.5,1.5 0 0,1 1.5,0Z\" style=\"opacity: 1; stroke-width: 0px; fill: rgb(0, 240, 35); fill-opacity: 1;\"/><path class=\"point\" transform=\"translate(410.17,423.8)\" d=\"M1.5,0A1.5,1.5 0 1,1 0,-1.5A1.5,1.5 0 0,1 1.5,0Z\" style=\"opacity: 1; stroke-width: 0px; fill: rgb(0, 240, 35); fill-opacity: 1;\"/><path class=\"point\" transform=\"translate(440.7,418.5)\" d=\"M1.5,0A1.5,1.5 0 1,1 0,-1.5A1.5,1.5 0 0,1 1.5,0Z\" style=\"opacity: 1; stroke-width: 0px; fill: rgb(0, 240, 35); fill-opacity: 1;\"/><path class=\"point\" transform=\"translate(437.31,395.24)\" d=\"M1.5,0A1.5,1.5 0 1,1 0,-1.5A1.5,1.5 0 0,1 1.5,0Z\" style=\"opacity: 1; stroke-width: 0px; fill: rgb(0, 240, 35); fill-opacity: 1;\"/><path class=\"point\" transform=\"translate(433.92,391.98)\" d=\"M1.5,0A1.5,1.5 0 1,1 0,-1.5A1.5,1.5 0 0,1 1.5,0Z\" style=\"opacity: 1; stroke-width: 0px; fill: rgb(0, 240, 35); fill-opacity: 1;\"/><path class=\"point\" transform=\"translate(415.26,394.02)\" d=\"M1.5,0A1.5,1.5 0 1,1 0,-1.5A1.5,1.5 0 0,1 1.5,0Z\" style=\"opacity: 1; stroke-width: 0px; fill: rgb(0, 240, 35); fill-opacity: 1;\"/><path class=\"point\" transform=\"translate(415.69,382.18)\" d=\"M1.5,0A1.5,1.5 0 1,1 0,-1.5A1.5,1.5 0 0,1 1.5,0Z\" style=\"opacity: 1; stroke-width: 0px; fill: rgb(0, 240, 35); fill-opacity: 1;\"/><path class=\"point\" transform=\"translate(396.18,370.76)\" d=\"M1.5,0A1.5,1.5 0 1,1 0,-1.5A1.5,1.5 0 0,1 1.5,0Z\" style=\"opacity: 1; stroke-width: 0px; fill: rgb(0, 240, 35); fill-opacity: 1;\"/><path class=\"point\" transform=\"translate(382.61,365.86)\" d=\"M1.5,0A1.5,1.5 0 1,1 0,-1.5A1.5,1.5 0 0,1 1.5,0Z\" style=\"opacity: 1; stroke-width: 0px; fill: rgb(0, 240, 35); fill-opacity: 1;\"/><path class=\"point\" transform=\"translate(380.92,361.78)\" d=\"M1.5,0A1.5,1.5 0 1,1 0,-1.5A1.5,1.5 0 0,1 1.5,0Z\" style=\"opacity: 1; stroke-width: 0px; fill: rgb(0, 240, 35); fill-opacity: 1;\"/><path class=\"point\" transform=\"translate(378.8,354.03)\" d=\"M1.5,0A1.5,1.5 0 1,1 0,-1.5A1.5,1.5 0 0,1 1.5,0Z\" style=\"opacity: 1; stroke-width: 0px; fill: rgb(0, 240, 35); fill-opacity: 1;\"/><path class=\"point\" transform=\"translate(360.99,345.87)\" d=\"M1.5,0A1.5,1.5 0 1,1 0,-1.5A1.5,1.5 0 0,1 1.5,0Z\" style=\"opacity: 1; stroke-width: 0px; fill: rgb(0, 240, 35); fill-opacity: 1;\"/><path class=\"point\" transform=\"translate(358.44,347.5)\" d=\"M1.5,0A1.5,1.5 0 1,1 0,-1.5A1.5,1.5 0 0,1 1.5,0Z\" style=\"opacity: 1; stroke-width: 0px; fill: rgb(0, 240, 35); fill-opacity: 1;\"/><path class=\"point\" transform=\"translate(346.15,343.02)\" d=\"M1.5,0A1.5,1.5 0 1,1 0,-1.5A1.5,1.5 0 0,1 1.5,0Z\" style=\"opacity: 1; stroke-width: 0px; fill: rgb(0, 240, 35); fill-opacity: 1;\"/><path class=\"point\" transform=\"translate(346.57,332.82)\" d=\"M1.5,0A1.5,1.5 0 1,1 0,-1.5A1.5,1.5 0 0,1 1.5,0Z\" style=\"opacity: 1; stroke-width: 0px; fill: rgb(0, 240, 35); fill-opacity: 1;\"/><path class=\"point\" transform=\"translate(312.65,324.66)\" d=\"M1.5,0A1.5,1.5 0 1,1 0,-1.5A1.5,1.5 0 0,1 1.5,0Z\" style=\"opacity: 1; stroke-width: 0px; fill: rgb(0, 240, 35); fill-opacity: 1;\"/><path class=\"point\" transform=\"translate(303.74,302.22)\" d=\"M1.5,0A1.5,1.5 0 1,1 0,-1.5A1.5,1.5 0 0,1 1.5,0Z\" style=\"opacity: 1; stroke-width: 0px; fill: rgb(0, 240, 35); fill-opacity: 1;\"/><path class=\"point\" transform=\"translate(291.45,295.28)\" d=\"M1.5,0A1.5,1.5 0 1,1 0,-1.5A1.5,1.5 0 0,1 1.5,0Z\" style=\"opacity: 1; stroke-width: 0px; fill: rgb(0, 240, 35); fill-opacity: 1;\"/><path class=\"point\" transform=\"translate(30.25,84.34)\" d=\"M1.5,0A1.5,1.5 0 1,1 0,-1.5A1.5,1.5 0 0,1 1.5,0Z\" style=\"opacity: 1; stroke-width: 0px; fill: rgb(0, 240, 35); fill-opacity: 1;\"/></g><g class=\"text\"/></g><g class=\"trace scatter trace8d944f\" style=\"stroke-miterlimit: 2; opacity: 1;\"><g class=\"fills\"/><g class=\"errorbars\"/><g class=\"lines\"/><g class=\"points\"><path class=\"point\" transform=\"translate(30.25,84.34)\" d=\"M1.5,0A1.5,1.5 0 1,1 0,-1.5A1.5,1.5 0 0,1 1.5,0Z\" style=\"opacity: 1; stroke-width: 0px; fill: rgb(0, 240, 65); fill-opacity: 1;\"/><path class=\"point\" transform=\"translate(187.99,211.23)\" d=\"M1.5,0A1.5,1.5 0 1,1 0,-1.5A1.5,1.5 0 0,1 1.5,0Z\" style=\"opacity: 1; stroke-width: 0px; fill: rgb(0, 240, 65); fill-opacity: 1;\"/><path class=\"point\" transform=\"translate(190.95,216.13)\" d=\"M1.5,0A1.5,1.5 0 1,1 0,-1.5A1.5,1.5 0 0,1 1.5,0Z\" style=\"opacity: 1; stroke-width: 0px; fill: rgb(0, 240, 65); fill-opacity: 1;\"/><path class=\"point\" transform=\"translate(194.77,216.94)\" d=\"M1.5,0A1.5,1.5 0 1,1 0,-1.5A1.5,1.5 0 0,1 1.5,0Z\" style=\"opacity: 1; stroke-width: 0px; fill: rgb(0, 240, 65); fill-opacity: 1;\"/><path class=\"point\" transform=\"translate(203.25,228.78)\" d=\"M1.5,0A1.5,1.5 0 1,1 0,-1.5A1.5,1.5 0 0,1 1.5,0Z\" style=\"opacity: 1; stroke-width: 0px; fill: rgb(0, 240, 65); fill-opacity: 1;\"/><path class=\"point\" transform=\"translate(215.97,236.53)\" d=\"M1.5,0A1.5,1.5 0 1,1 0,-1.5A1.5,1.5 0 0,1 1.5,0Z\" style=\"opacity: 1; stroke-width: 0px; fill: rgb(0, 240, 65); fill-opacity: 1;\"/><path class=\"point\" transform=\"translate(219.79,242.65)\" d=\"M1.5,0A1.5,1.5 0 1,1 0,-1.5A1.5,1.5 0 0,1 1.5,0Z\" style=\"opacity: 1; stroke-width: 0px; fill: rgb(0, 240, 65); fill-opacity: 1;\"/><path class=\"point\" transform=\"translate(225.72,245.91)\" d=\"M1.5,0A1.5,1.5 0 1,1 0,-1.5A1.5,1.5 0 0,1 1.5,0Z\" style=\"opacity: 1; stroke-width: 0px; fill: rgb(0, 240, 65); fill-opacity: 1;\"/><path class=\"point\" transform=\"translate(246.5,269.58)\" d=\"M1.5,0A1.5,1.5 0 1,1 0,-1.5A1.5,1.5 0 0,1 1.5,0Z\" style=\"opacity: 1; stroke-width: 0px; fill: rgb(0, 240, 65); fill-opacity: 1;\"/><path class=\"point\" transform=\"translate(250.74,270.8)\" d=\"M1.5,0A1.5,1.5 0 1,1 0,-1.5A1.5,1.5 0 0,1 1.5,0Z\" style=\"opacity: 1; stroke-width: 0px; fill: rgb(0, 240, 65); fill-opacity: 1;\"/><path class=\"point\" transform=\"translate(250.74,268.76)\" d=\"M1.5,0A1.5,1.5 0 1,1 0,-1.5A1.5,1.5 0 0,1 1.5,0Z\" style=\"opacity: 1; stroke-width: 0px; fill: rgb(0, 240, 65); fill-opacity: 1;\"/><path class=\"point\" transform=\"translate(249.89,265.5)\" d=\"M1.5,0A1.5,1.5 0 1,1 0,-1.5A1.5,1.5 0 0,1 1.5,0Z\" style=\"opacity: 1; stroke-width: 0px; fill: rgb(0, 240, 65); fill-opacity: 1;\"/><path class=\"point\" transform=\"translate(254.13,266.31)\" d=\"M1.5,0A1.5,1.5 0 1,1 0,-1.5A1.5,1.5 0 0,1 1.5,0Z\" style=\"opacity: 1; stroke-width: 0px; fill: rgb(0, 240, 65); fill-opacity: 1;\"/><path class=\"point\" transform=\"translate(262.61,267.54)\" d=\"M1.5,0A1.5,1.5 0 1,1 0,-1.5A1.5,1.5 0 0,1 1.5,0Z\" style=\"opacity: 1; stroke-width: 0px; fill: rgb(0, 240, 65); fill-opacity: 1;\"/><path class=\"point\" transform=\"translate(261.34,264.27)\" d=\"M1.5,0A1.5,1.5 0 1,1 0,-1.5A1.5,1.5 0 0,1 1.5,0Z\" style=\"opacity: 1; stroke-width: 0px; fill: rgb(0, 240, 65); fill-opacity: 1;\"/><path class=\"point\" transform=\"translate(259.65,261.82)\" d=\"M1.5,0A1.5,1.5 0 1,1 0,-1.5A1.5,1.5 0 0,1 1.5,0Z\" style=\"opacity: 1; stroke-width: 0px; fill: rgb(0, 240, 65); fill-opacity: 1;\"/><path class=\"point\" transform=\"translate(251.59,241.02)\" d=\"M1.5,0A1.5,1.5 0 1,1 0,-1.5A1.5,1.5 0 0,1 1.5,0Z\" style=\"opacity: 1; stroke-width: 0px; fill: rgb(0, 240, 65); fill-opacity: 1;\"/><path class=\"point\" transform=\"translate(246.5,237.34)\" d=\"M1.5,0A1.5,1.5 0 1,1 0,-1.5A1.5,1.5 0 0,1 1.5,0Z\" style=\"opacity: 1; stroke-width: 0px; fill: rgb(0, 240, 65); fill-opacity: 1;\"/><path class=\"point\" transform=\"translate(240.99,233.67)\" d=\"M1.5,0A1.5,1.5 0 1,1 0,-1.5A1.5,1.5 0 0,1 1.5,0Z\" style=\"opacity: 1; stroke-width: 0px; fill: rgb(0, 240, 65); fill-opacity: 1;\"/><path class=\"point\" transform=\"translate(176.96,186.75)\" d=\"M1.5,0A1.5,1.5 0 1,1 0,-1.5A1.5,1.5 0 0,1 1.5,0Z\" style=\"opacity: 1; stroke-width: 0px; fill: rgb(0, 240, 65); fill-opacity: 1;\"/><path class=\"point\" transform=\"translate(30.25,84.34)\" d=\"M1.5,0A1.5,1.5 0 1,1 0,-1.5A1.5,1.5 0 0,1 1.5,0Z\" style=\"opacity: 1; stroke-width: 0px; fill: rgb(0, 240, 65); fill-opacity: 1;\"/></g><g class=\"text\"/></g><g class=\"trace scatter traceeae82e\" style=\"stroke-miterlimit: 2; opacity: 1;\"><g class=\"fills\"/><g class=\"errorbars\"/><g class=\"lines\"/><g class=\"points\"><path class=\"point\" transform=\"translate(30.25,84.34)\" d=\"M1.5,0A1.5,1.5 0 1,1 0,-1.5A1.5,1.5 0 0,1 1.5,0Z\" style=\"opacity: 1; stroke-width: 0px; fill: rgb(0, 240, 96); fill-opacity: 1;\"/><path class=\"point\" transform=\"translate(211.31,203.48)\" d=\"M1.5,0A1.5,1.5 0 1,1 0,-1.5A1.5,1.5 0 0,1 1.5,0Z\" style=\"opacity: 1; stroke-width: 0px; fill: rgb(0, 240, 96); fill-opacity: 1;\"/><path class=\"point\" transform=\"translate(241.41,230)\" d=\"M1.5,0A1.5,1.5 0 1,1 0,-1.5A1.5,1.5 0 0,1 1.5,0Z\" style=\"opacity: 1; stroke-width: 0px; fill: rgb(0, 240, 96); fill-opacity: 1;\"/><path class=\"point\" transform=\"translate(245.65,225.51)\" d=\"M1.5,0A1.5,1.5 0 1,1 0,-1.5A1.5,1.5 0 0,1 1.5,0Z\" style=\"opacity: 1; stroke-width: 0px; fill: rgb(0, 240, 96); fill-opacity: 1;\"/><path class=\"point\" transform=\"translate(249.89,226.74)\" d=\"M1.5,0A1.5,1.5 0 1,1 0,-1.5A1.5,1.5 0 0,1 1.5,0Z\" style=\"opacity: 1; stroke-width: 0px; fill: rgb(0, 240, 96); fill-opacity: 1;\"/><path class=\"point\" transform=\"translate(290.6,251.22)\" d=\"M1.5,0A1.5,1.5 0 1,1 0,-1.5A1.5,1.5 0 0,1 1.5,0Z\" style=\"opacity: 1; stroke-width: 0px; fill: rgb(0, 240, 96); fill-opacity: 1;\"/><path class=\"point\" transform=\"translate(305.86,272.84)\" d=\"M1.5,0A1.5,1.5 0 1,1 0,-1.5A1.5,1.5 0 0,1 1.5,0Z\" style=\"opacity: 1; stroke-width: 0px; fill: rgb(0, 240, 96); fill-opacity: 1;\"/><path class=\"point\" transform=\"translate(323.25,283.04)\" d=\"M1.5,0A1.5,1.5 0 1,1 0,-1.5A1.5,1.5 0 0,1 1.5,0Z\" style=\"opacity: 1; stroke-width: 0px; fill: rgb(0, 240, 96); fill-opacity: 1;\"/><path class=\"point\" transform=\"translate(341.91,285.49)\" d=\"M1.5,0A1.5,1.5 0 1,1 0,-1.5A1.5,1.5 0 0,1 1.5,0Z\" style=\"opacity: 1; stroke-width: 0px; fill: rgb(0, 240, 96); fill-opacity: 1;\"/><path class=\"point\" transform=\"translate(345.3,286.3)\" d=\"M1.5,0A1.5,1.5 0 1,1 0,-1.5A1.5,1.5 0 0,1 1.5,0Z\" style=\"opacity: 1; stroke-width: 0px; fill: rgb(0, 240, 96); fill-opacity: 1;\"/><path class=\"point\" transform=\"translate(366.92,300.18)\" d=\"M1.5,0A1.5,1.5 0 1,1 0,-1.5A1.5,1.5 0 0,1 1.5,0Z\" style=\"opacity: 1; stroke-width: 0px; fill: rgb(0, 240, 96); fill-opacity: 1;\"/><path class=\"point\" transform=\"translate(364.38,307.11)\" d=\"M1.5,0A1.5,1.5 0 1,1 0,-1.5A1.5,1.5 0 0,1 1.5,0Z\" style=\"opacity: 1; stroke-width: 0px; fill: rgb(0, 240, 96); fill-opacity: 1;\"/><path class=\"point\" transform=\"translate(363.53,320.98)\" d=\"M1.5,0A1.5,1.5 0 1,1 0,-1.5A1.5,1.5 0 0,1 1.5,0Z\" style=\"opacity: 1; stroke-width: 0px; fill: rgb(0, 240, 96); fill-opacity: 1;\"/><path class=\"point\" transform=\"translate(362.26,327.92)\" d=\"M1.5,0A1.5,1.5 0 1,1 0,-1.5A1.5,1.5 0 0,1 1.5,0Z\" style=\"opacity: 1; stroke-width: 0px; fill: rgb(0, 240, 96); fill-opacity: 1;\"/><path class=\"point\" transform=\"translate(364.8,332.82)\" d=\"M1.5,0A1.5,1.5 0 1,1 0,-1.5A1.5,1.5 0 0,1 1.5,0Z\" style=\"opacity: 1; stroke-width: 0px; fill: rgb(0, 240, 96); fill-opacity: 1;\"/><path class=\"point\" transform=\"translate(364.38,333.22)\" d=\"M1.5,0A1.5,1.5 0 1,1 0,-1.5A1.5,1.5 0 0,1 1.5,0Z\" style=\"opacity: 1; stroke-width: 0px; fill: rgb(0, 240, 96); fill-opacity: 1;\"/><path class=\"point\" transform=\"translate(358.87,335.26)\" d=\"M1.5,0A1.5,1.5 0 1,1 0,-1.5A1.5,1.5 0 0,1 1.5,0Z\" style=\"opacity: 1; stroke-width: 0px; fill: rgb(0, 240, 96); fill-opacity: 1;\"/><path class=\"point\" transform=\"translate(356.75,331.18)\" d=\"M1.5,0A1.5,1.5 0 1,1 0,-1.5A1.5,1.5 0 0,1 1.5,0Z\" style=\"opacity: 1; stroke-width: 0px; fill: rgb(0, 240, 96); fill-opacity: 1;\"/><path class=\"point\" transform=\"translate(349.11,329.96)\" d=\"M1.5,0A1.5,1.5 0 1,1 0,-1.5A1.5,1.5 0 0,1 1.5,0Z\" style=\"opacity: 1; stroke-width: 0px; fill: rgb(0, 240, 96); fill-opacity: 1;\"/><path class=\"point\" transform=\"translate(344.03,325.06)\" d=\"M1.5,0A1.5,1.5 0 1,1 0,-1.5A1.5,1.5 0 0,1 1.5,0Z\" style=\"opacity: 1; stroke-width: 0px; fill: rgb(0, 240, 96); fill-opacity: 1;\"/><path class=\"point\" transform=\"translate(338.94,323.02)\" d=\"M1.5,0A1.5,1.5 0 1,1 0,-1.5A1.5,1.5 0 0,1 1.5,0Z\" style=\"opacity: 1; stroke-width: 0px; fill: rgb(0, 240, 96); fill-opacity: 1;\"/><path class=\"point\" transform=\"translate(330.88,316.5)\" d=\"M1.5,0A1.5,1.5 0 1,1 0,-1.5A1.5,1.5 0 0,1 1.5,0Z\" style=\"opacity: 1; stroke-width: 0px; fill: rgb(0, 240, 96); fill-opacity: 1;\"/><path class=\"point\" transform=\"translate(318.16,314.05)\" d=\"M1.5,0A1.5,1.5 0 1,1 0,-1.5A1.5,1.5 0 0,1 1.5,0Z\" style=\"opacity: 1; stroke-width: 0px; fill: rgb(0, 240, 96); fill-opacity: 1;\"/><path class=\"point\" transform=\"translate(305.86,300.18)\" d=\"M1.5,0A1.5,1.5 0 1,1 0,-1.5A1.5,1.5 0 0,1 1.5,0Z\" style=\"opacity: 1; stroke-width: 0px; fill: rgb(0, 240, 96); fill-opacity: 1;\"/><path class=\"point\" transform=\"translate(300.78,288.75)\" d=\"M1.5,0A1.5,1.5 0 1,1 0,-1.5A1.5,1.5 0 0,1 1.5,0Z\" style=\"opacity: 1; stroke-width: 0px; fill: rgb(0, 240, 96); fill-opacity: 1;\"/><path class=\"point\" transform=\"translate(265.58,267.54)\" d=\"M1.5,0A1.5,1.5 0 1,1 0,-1.5A1.5,1.5 0 0,1 1.5,0Z\" style=\"opacity: 1; stroke-width: 0px; fill: rgb(0, 240, 96); fill-opacity: 1;\"/><path class=\"point\" transform=\"translate(238.44,242.65)\" d=\"M1.5,0A1.5,1.5 0 1,1 0,-1.5A1.5,1.5 0 0,1 1.5,0Z\" style=\"opacity: 1; stroke-width: 0px; fill: rgb(0, 240, 96); fill-opacity: 1;\"/><path class=\"point\" transform=\"translate(232.08,238.16)\" d=\"M1.5,0A1.5,1.5 0 1,1 0,-1.5A1.5,1.5 0 0,1 1.5,0Z\" style=\"opacity: 1; stroke-width: 0px; fill: rgb(0, 240, 96); fill-opacity: 1;\"/><path class=\"point\" transform=\"translate(205.37,212.86)\" d=\"M1.5,0A1.5,1.5 0 1,1 0,-1.5A1.5,1.5 0 0,1 1.5,0Z\" style=\"opacity: 1; stroke-width: 0px; fill: rgb(0, 240, 96); fill-opacity: 1;\"/><path class=\"point\" transform=\"translate(140.92,166.76)\" d=\"M1.5,0A1.5,1.5 0 1,1 0,-1.5A1.5,1.5 0 0,1 1.5,0Z\" style=\"opacity: 1; stroke-width: 0px; fill: rgb(0, 240, 96); fill-opacity: 1;\"/><path class=\"point\" transform=\"translate(30.25,84.34)\" d=\"M1.5,0A1.5,1.5 0 1,1 0,-1.5A1.5,1.5 0 0,1 1.5,0Z\" style=\"opacity: 1; stroke-width: 0px; fill: rgb(0, 240, 96); fill-opacity: 1;\"/></g><g class=\"text\"/></g><g class=\"trace scatter trace495640\" style=\"stroke-miterlimit: 2; opacity: 1;\"><g class=\"fills\"/><g class=\"errorbars\"/><g class=\"lines\"/><g class=\"points\"><path class=\"point\" transform=\"translate(30.25,84.34)\" d=\"M1.5,0A1.5,1.5 0 1,1 0,-1.5A1.5,1.5 0 0,1 1.5,0Z\" style=\"opacity: 1; stroke-width: 0px; fill: rgb(0, 240, 131); fill-opacity: 1;\"/><path class=\"point\" transform=\"translate(261.34,241.02)\" d=\"M1.5,0A1.5,1.5 0 1,1 0,-1.5A1.5,1.5 0 0,1 1.5,0Z\" style=\"opacity: 1; stroke-width: 0px; fill: rgb(0, 240, 131); fill-opacity: 1;\"/><path class=\"point\" transform=\"translate(299.5,272.02)\" d=\"M1.5,0A1.5,1.5 0 1,1 0,-1.5A1.5,1.5 0 0,1 1.5,0Z\" style=\"opacity: 1; stroke-width: 0px; fill: rgb(0, 240, 131); fill-opacity: 1;\"/><path class=\"point\" transform=\"translate(339.79,309.97)\" d=\"M1.5,0A1.5,1.5 0 1,1 0,-1.5A1.5,1.5 0 0,1 1.5,0Z\" style=\"opacity: 1; stroke-width: 0px; fill: rgb(0, 240, 131); fill-opacity: 1;\"/><path class=\"point\" transform=\"translate(341.48,316.5)\" d=\"M1.5,0A1.5,1.5 0 1,1 0,-1.5A1.5,1.5 0 0,1 1.5,0Z\" style=\"opacity: 1; stroke-width: 0px; fill: rgb(0, 240, 131); fill-opacity: 1;\"/><path class=\"point\" transform=\"translate(366.92,325.88)\" d=\"M1.5,0A1.5,1.5 0 1,1 0,-1.5A1.5,1.5 0 0,1 1.5,0Z\" style=\"opacity: 1; stroke-width: 0px; fill: rgb(0, 240, 131); fill-opacity: 1;\"/><path class=\"point\" transform=\"translate(402.54,331.59)\" d=\"M1.5,0A1.5,1.5 0 1,1 0,-1.5A1.5,1.5 0 0,1 1.5,0Z\" style=\"opacity: 1; stroke-width: 0px; fill: rgb(0, 240, 131); fill-opacity: 1;\"/><path class=\"point\" transform=\"translate(406.36,340.16)\" d=\"M1.5,0A1.5,1.5 0 1,1 0,-1.5A1.5,1.5 0 0,1 1.5,0Z\" style=\"opacity: 1; stroke-width: 0px; fill: rgb(0, 240, 131); fill-opacity: 1;\"/><path class=\"point\" transform=\"translate(408.9,345.87)\" d=\"M1.5,0A1.5,1.5 0 1,1 0,-1.5A1.5,1.5 0 0,1 1.5,0Z\" style=\"opacity: 1; stroke-width: 0px; fill: rgb(0, 240, 131); fill-opacity: 1;\"/><path class=\"point\" transform=\"translate(402.12,353.22)\" d=\"M1.5,0A1.5,1.5 0 1,1 0,-1.5A1.5,1.5 0 0,1 1.5,0Z\" style=\"opacity: 1; stroke-width: 0px; fill: rgb(0, 240, 131); fill-opacity: 1;\"/><path class=\"point\" transform=\"translate(402.97,357.7)\" d=\"M1.5,0A1.5,1.5 0 1,1 0,-1.5A1.5,1.5 0 0,1 1.5,0Z\" style=\"opacity: 1; stroke-width: 0px; fill: rgb(0, 240, 131); fill-opacity: 1;\"/><path class=\"point\" transform=\"translate(399.15,360.97)\" d=\"M1.5,0A1.5,1.5 0 1,1 0,-1.5A1.5,1.5 0 0,1 1.5,0Z\" style=\"opacity: 1; stroke-width: 0px; fill: rgb(0, 240, 131); fill-opacity: 1;\"/><path class=\"point\" transform=\"translate(382.61,365.86)\" d=\"M1.5,0A1.5,1.5 0 1,1 0,-1.5A1.5,1.5 0 0,1 1.5,0Z\" style=\"opacity: 1; stroke-width: 0px; fill: rgb(0, 240, 131); fill-opacity: 1;\"/><path class=\"point\" transform=\"translate(413.99,364.23)\" d=\"M1.5,0A1.5,1.5 0 1,1 0,-1.5A1.5,1.5 0 0,1 1.5,0Z\" style=\"opacity: 1; stroke-width: 0px; fill: rgb(0, 240, 131); fill-opacity: 1;\"/><path class=\"point\" transform=\"translate(420.77,361.78)\" d=\"M1.5,0A1.5,1.5 0 1,1 0,-1.5A1.5,1.5 0 0,1 1.5,0Z\" style=\"opacity: 1; stroke-width: 0px; fill: rgb(0, 240, 131); fill-opacity: 1;\"/><path class=\"point\" transform=\"translate(443.25,390.75)\" d=\"M1.5,0A1.5,1.5 0 1,1 0,-1.5A1.5,1.5 0 0,1 1.5,0Z\" style=\"opacity: 1; stroke-width: 0px; fill: rgb(0, 240, 131); fill-opacity: 1;\"/><path class=\"point\" transform=\"translate(443.67,385.04)\" d=\"M1.5,0A1.5,1.5 0 1,1 0,-1.5A1.5,1.5 0 0,1 1.5,0Z\" style=\"opacity: 1; stroke-width: 0px; fill: rgb(0, 240, 131); fill-opacity: 1;\"/><path class=\"point\" transform=\"translate(445.37,373.62)\" d=\"M1.5,0A1.5,1.5 0 1,1 0,-1.5A1.5,1.5 0 0,1 1.5,0Z\" style=\"opacity: 1; stroke-width: 0px; fill: rgb(0, 240, 131); fill-opacity: 1;\"/><path class=\"point\" transform=\"translate(432.65,351.18)\" d=\"M1.5,0A1.5,1.5 0 1,1 0,-1.5A1.5,1.5 0 0,1 1.5,0Z\" style=\"opacity: 1; stroke-width: 0px; fill: rgb(0, 240, 131); fill-opacity: 1;\"/><path class=\"point\" transform=\"translate(429.68,345.06)\" d=\"M1.5,0A1.5,1.5 0 1,1 0,-1.5A1.5,1.5 0 0,1 1.5,0Z\" style=\"opacity: 1; stroke-width: 0px; fill: rgb(0, 240, 131); fill-opacity: 1;\"/><path class=\"point\" transform=\"translate(435.19,346.69)\" d=\"M1.5,0A1.5,1.5 0 1,1 0,-1.5A1.5,1.5 0 0,1 1.5,0Z\" style=\"opacity: 1; stroke-width: 0px; fill: rgb(0, 240, 131); fill-opacity: 1;\"/><path class=\"point\" transform=\"translate(441.98,347.5)\" d=\"M1.5,0A1.5,1.5 0 1,1 0,-1.5A1.5,1.5 0 0,1 1.5,0Z\" style=\"opacity: 1; stroke-width: 0px; fill: rgb(0, 240, 131); fill-opacity: 1;\"/><path class=\"point\" transform=\"translate(448.34,342.2)\" d=\"M1.5,0A1.5,1.5 0 1,1 0,-1.5A1.5,1.5 0 0,1 1.5,0Z\" style=\"opacity: 1; stroke-width: 0px; fill: rgb(0, 240, 131); fill-opacity: 1;\"/><path class=\"point\" transform=\"translate(452.15,335.67)\" d=\"M1.5,0A1.5,1.5 0 1,1 0,-1.5A1.5,1.5 0 0,1 1.5,0Z\" style=\"opacity: 1; stroke-width: 0px; fill: rgb(0, 240, 131); fill-opacity: 1;\"/><path class=\"point\" transform=\"translate(453,324.66)\" d=\"M1.5,0A1.5,1.5 0 1,1 0,-1.5A1.5,1.5 0 0,1 1.5,0Z\" style=\"opacity: 1; stroke-width: 0px; fill: rgb(0, 240, 131); fill-opacity: 1;\"/><path class=\"point\" transform=\"translate(429.68,323.84)\" d=\"M1.5,0A1.5,1.5 0 1,1 0,-1.5A1.5,1.5 0 0,1 1.5,0Z\" style=\"opacity: 1; stroke-width: 0px; fill: rgb(0, 240, 131); fill-opacity: 1;\"/><path class=\"point\" transform=\"translate(429.25,330.37)\" d=\"M1.5,0A1.5,1.5 0 1,1 0,-1.5A1.5,1.5 0 0,1 1.5,0Z\" style=\"opacity: 1; stroke-width: 0px; fill: rgb(0, 240, 131); fill-opacity: 1;\"/><path class=\"point\" transform=\"translate(417.81,336.08)\" d=\"M1.5,0A1.5,1.5 0 1,1 0,-1.5A1.5,1.5 0 0,1 1.5,0Z\" style=\"opacity: 1; stroke-width: 0px; fill: rgb(0, 240, 131); fill-opacity: 1;\"/><path class=\"point\" transform=\"translate(414.84,330.37)\" d=\"M1.5,0A1.5,1.5 0 1,1 0,-1.5A1.5,1.5 0 0,1 1.5,0Z\" style=\"opacity: 1; stroke-width: 0px; fill: rgb(0, 240, 131); fill-opacity: 1;\"/><path class=\"point\" transform=\"translate(396.18,320.58)\" d=\"M1.5,0A1.5,1.5 0 1,1 0,-1.5A1.5,1.5 0 0,1 1.5,0Z\" style=\"opacity: 1; stroke-width: 0px; fill: rgb(0, 240, 131); fill-opacity: 1;\"/><path class=\"point\" transform=\"translate(317.31,256.93)\" d=\"M1.5,0A1.5,1.5 0 1,1 0,-1.5A1.5,1.5 0 0,1 1.5,0Z\" style=\"opacity: 1; stroke-width: 0px; fill: rgb(0, 240, 131); fill-opacity: 1;\"/><path class=\"point\" transform=\"translate(187.56,175.74)\" d=\"M1.5,0A1.5,1.5 0 1,1 0,-1.5A1.5,1.5 0 0,1 1.5,0Z\" style=\"opacity: 1; stroke-width: 0px; fill: rgb(0, 240, 131); fill-opacity: 1;\"/><path class=\"point\" transform=\"translate(30.25,84.34)\" d=\"M1.5,0A1.5,1.5 0 1,1 0,-1.5A1.5,1.5 0 0,1 1.5,0Z\" style=\"opacity: 1; stroke-width: 0px; fill: rgb(0, 240, 131); fill-opacity: 1;\"/></g><g class=\"text\"/></g><g class=\"trace scatter trace3b6536\" style=\"stroke-miterlimit: 2; opacity: 1;\"><g class=\"fills\"/><g class=\"errorbars\"/><g class=\"lines\"/><g class=\"points\"><path class=\"point\" transform=\"translate(30.25,84.34)\" d=\"M1.5,0A1.5,1.5 0 1,1 0,-1.5A1.5,1.5 0 0,1 1.5,0Z\" style=\"opacity: 1; stroke-width: 0px; fill: rgb(0, 240, 161); fill-opacity: 1;\"/><path class=\"point\" transform=\"translate(199.01,199.81)\" d=\"M1.5,0A1.5,1.5 0 1,1 0,-1.5A1.5,1.5 0 0,1 1.5,0Z\" style=\"opacity: 1; stroke-width: 0px; fill: rgb(0, 240, 161); fill-opacity: 1;\"/><path class=\"point\" transform=\"translate(229.12,223.06)\" d=\"M1.5,0A1.5,1.5 0 1,1 0,-1.5A1.5,1.5 0 0,1 1.5,0Z\" style=\"opacity: 1; stroke-width: 0px; fill: rgb(0, 240, 161); fill-opacity: 1;\"/><path class=\"point\" transform=\"translate(241.41,230)\" d=\"M1.5,0A1.5,1.5 0 1,1 0,-1.5A1.5,1.5 0 0,1 1.5,0Z\" style=\"opacity: 1; stroke-width: 0px; fill: rgb(0, 240, 161); fill-opacity: 1;\"/><path class=\"point\" transform=\"translate(246.08,234.9)\" d=\"M1.5,0A1.5,1.5 0 1,1 0,-1.5A1.5,1.5 0 0,1 1.5,0Z\" style=\"opacity: 1; stroke-width: 0px; fill: rgb(0, 240, 161); fill-opacity: 1;\"/><path class=\"point\" transform=\"translate(263.04,246.73)\" d=\"M1.5,0A1.5,1.5 0 1,1 0,-1.5A1.5,1.5 0 0,1 1.5,0Z\" style=\"opacity: 1; stroke-width: 0px; fill: rgb(0, 240, 161); fill-opacity: 1;\"/><path class=\"point\" transform=\"translate(286.36,256.93)\" d=\"M1.5,0A1.5,1.5 0 1,1 0,-1.5A1.5,1.5 0 0,1 1.5,0Z\" style=\"opacity: 1; stroke-width: 0px; fill: rgb(0, 240, 161); fill-opacity: 1;\"/><path class=\"point\" transform=\"translate(288.06,258.97)\" d=\"M1.5,0A1.5,1.5 0 1,1 0,-1.5A1.5,1.5 0 0,1 1.5,0Z\" style=\"opacity: 1; stroke-width: 0px; fill: rgb(0, 240, 161); fill-opacity: 1;\"/><path class=\"point\" transform=\"translate(310.1,273.25)\" d=\"M1.5,0A1.5,1.5 0 1,1 0,-1.5A1.5,1.5 0 0,1 1.5,0Z\" style=\"opacity: 1; stroke-width: 0px; fill: rgb(0, 240, 161); fill-opacity: 1;\"/><path class=\"point\" transform=\"translate(328.76,272.84)\" d=\"M1.5,0A1.5,1.5 0 1,1 0,-1.5A1.5,1.5 0 0,1 1.5,0Z\" style=\"opacity: 1; stroke-width: 0px; fill: rgb(0, 240, 161); fill-opacity: 1;\"/><path class=\"point\" transform=\"translate(332.58,272.02)\" d=\"M1.5,0A1.5,1.5 0 1,1 0,-1.5A1.5,1.5 0 0,1 1.5,0Z\" style=\"opacity: 1; stroke-width: 0px; fill: rgb(0, 240, 161); fill-opacity: 1;\"/><path class=\"point\" transform=\"translate(342.75,263.05)\" d=\"M1.5,0A1.5,1.5 0 1,1 0,-1.5A1.5,1.5 0 0,1 1.5,0Z\" style=\"opacity: 1; stroke-width: 0px; fill: rgb(0, 240, 161); fill-opacity: 1;\"/><path class=\"point\" transform=\"translate(342.75,254.07)\" d=\"M1.5,0A1.5,1.5 0 1,1 0,-1.5A1.5,1.5 0 0,1 1.5,0Z\" style=\"opacity: 1; stroke-width: 0px; fill: rgb(0, 240, 161); fill-opacity: 1;\"/><path class=\"point\" transform=\"translate(331.73,251.62)\" d=\"M1.5,0A1.5,1.5 0 1,1 0,-1.5A1.5,1.5 0 0,1 1.5,0Z\" style=\"opacity: 1; stroke-width: 0px; fill: rgb(0, 240, 161); fill-opacity: 1;\"/><path class=\"point\" transform=\"translate(316.46,248.36)\" d=\"M1.5,0A1.5,1.5 0 1,1 0,-1.5A1.5,1.5 0 0,1 1.5,0Z\" style=\"opacity: 1; stroke-width: 0px; fill: rgb(0, 240, 161); fill-opacity: 1;\"/><path class=\"point\" transform=\"translate(305.02,239.79)\" d=\"M1.5,0A1.5,1.5 0 1,1 0,-1.5A1.5,1.5 0 0,1 1.5,0Z\" style=\"opacity: 1; stroke-width: 0px; fill: rgb(0, 240, 161); fill-opacity: 1;\"/><path class=\"point\" transform=\"translate(303.32,237.75)\" d=\"M1.5,0A1.5,1.5 0 1,1 0,-1.5A1.5,1.5 0 0,1 1.5,0Z\" style=\"opacity: 1; stroke-width: 0px; fill: rgb(0, 240, 161); fill-opacity: 1;\"/><path class=\"point\" transform=\"translate(295.69,238.57)\" d=\"M1.5,0A1.5,1.5 0 1,1 0,-1.5A1.5,1.5 0 0,1 1.5,0Z\" style=\"opacity: 1; stroke-width: 0px; fill: rgb(0, 240, 161); fill-opacity: 1;\"/><path class=\"point\" transform=\"translate(296.54,236.53)\" d=\"M1.5,0A1.5,1.5 0 1,1 0,-1.5A1.5,1.5 0 0,1 1.5,0Z\" style=\"opacity: 1; stroke-width: 0px; fill: rgb(0, 240, 161); fill-opacity: 1;\"/><path class=\"point\" transform=\"translate(295.69,232.04)\" d=\"M1.5,0A1.5,1.5 0 1,1 0,-1.5A1.5,1.5 0 0,1 1.5,0Z\" style=\"opacity: 1; stroke-width: 0px; fill: rgb(0, 240, 161); fill-opacity: 1;\"/><path class=\"point\" transform=\"translate(292.72,230.82)\" d=\"M1.5,0A1.5,1.5 0 1,1 0,-1.5A1.5,1.5 0 0,1 1.5,0Z\" style=\"opacity: 1; stroke-width: 0px; fill: rgb(0, 240, 161); fill-opacity: 1;\"/><path class=\"point\" transform=\"translate(252.44,216.94)\" d=\"M1.5,0A1.5,1.5 0 1,1 0,-1.5A1.5,1.5 0 0,1 1.5,0Z\" style=\"opacity: 1; stroke-width: 0px; fill: rgb(0, 240, 161); fill-opacity: 1;\"/><path class=\"point\" transform=\"translate(235.9,208.78)\" d=\"M1.5,0A1.5,1.5 0 1,1 0,-1.5A1.5,1.5 0 0,1 1.5,0Z\" style=\"opacity: 1; stroke-width: 0px; fill: rgb(0, 240, 161); fill-opacity: 1;\"/><path class=\"point\" transform=\"translate(230.39,205.93)\" d=\"M1.5,0A1.5,1.5 0 1,1 0,-1.5A1.5,1.5 0 0,1 1.5,0Z\" style=\"opacity: 1; stroke-width: 0px; fill: rgb(0, 240, 161); fill-opacity: 1;\"/><path class=\"point\" transform=\"translate(197.31,176.96)\" d=\"M1.5,0A1.5,1.5 0 1,1 0,-1.5A1.5,1.5 0 0,1 1.5,0Z\" style=\"opacity: 1; stroke-width: 0px; fill: rgb(0, 240, 161); fill-opacity: 1;\"/><path class=\"point\" transform=\"translate(30.25,84.34)\" d=\"M1.5,0A1.5,1.5 0 1,1 0,-1.5A1.5,1.5 0 0,1 1.5,0Z\" style=\"opacity: 1; stroke-width: 0px; fill: rgb(0, 240, 161); fill-opacity: 1;\"/></g><g class=\"text\"/></g><g class=\"trace scatter traceb800ad\" style=\"stroke-miterlimit: 2; opacity: 1;\"><g class=\"fills\"/><g class=\"errorbars\"/><g class=\"lines\"/><g class=\"points\"><path class=\"point\" transform=\"translate(30.25,84.34)\" d=\"M1.5,0A1.5,1.5 0 1,1 0,-1.5A1.5,1.5 0 0,1 1.5,0Z\" style=\"opacity: 1; stroke-width: 0px; fill: rgb(0, 240, 192); fill-opacity: 1;\"/><path class=\"point\" transform=\"translate(232.93,197.77)\" d=\"M1.5,0A1.5,1.5 0 1,1 0,-1.5A1.5,1.5 0 0,1 1.5,0Z\" style=\"opacity: 1; stroke-width: 0px; fill: rgb(0, 240, 192); fill-opacity: 1;\"/><path class=\"point\" transform=\"translate(322.83,241.42)\" d=\"M1.5,0A1.5,1.5 0 1,1 0,-1.5A1.5,1.5 0 0,1 1.5,0Z\" style=\"opacity: 1; stroke-width: 0px; fill: rgb(0, 240, 192); fill-opacity: 1;\"/><path class=\"point\" transform=\"translate(336.39,241.42)\" d=\"M1.5,0A1.5,1.5 0 1,1 0,-1.5A1.5,1.5 0 0,1 1.5,0Z\" style=\"opacity: 1; stroke-width: 0px; fill: rgb(0, 240, 192); fill-opacity: 1;\"/><path class=\"point\" transform=\"translate(359.72,252.44)\" d=\"M1.5,0A1.5,1.5 0 1,1 0,-1.5A1.5,1.5 0 0,1 1.5,0Z\" style=\"opacity: 1; stroke-width: 0px; fill: rgb(0, 240, 192); fill-opacity: 1;\"/><path class=\"point\" transform=\"translate(355.47,261.42)\" d=\"M1.5,0A1.5,1.5 0 1,1 0,-1.5A1.5,1.5 0 0,1 1.5,0Z\" style=\"opacity: 1; stroke-width: 0px; fill: rgb(0, 240, 192); fill-opacity: 1;\"/><path class=\"point\" transform=\"translate(368.62,271.62)\" d=\"M1.5,0A1.5,1.5 0 1,1 0,-1.5A1.5,1.5 0 0,1 1.5,0Z\" style=\"opacity: 1; stroke-width: 0px; fill: rgb(0, 240, 192); fill-opacity: 1;\"/><path class=\"point\" transform=\"translate(371.16,269.58)\" d=\"M1.5,0A1.5,1.5 0 1,1 0,-1.5A1.5,1.5 0 0,1 1.5,0Z\" style=\"opacity: 1; stroke-width: 0px; fill: rgb(0, 240, 192); fill-opacity: 1;\"/><path class=\"point\" transform=\"translate(383.88,276.92)\" d=\"M1.5,0A1.5,1.5 0 1,1 0,-1.5A1.5,1.5 0 0,1 1.5,0Z\" style=\"opacity: 1; stroke-width: 0px; fill: rgb(0, 240, 192); fill-opacity: 1;\"/><path class=\"point\" transform=\"translate(388.55,287.53)\" d=\"M1.5,0A1.5,1.5 0 1,1 0,-1.5A1.5,1.5 0 0,1 1.5,0Z\" style=\"opacity: 1; stroke-width: 0px; fill: rgb(0, 240, 192); fill-opacity: 1;\"/><path class=\"point\" transform=\"translate(395.76,287.12)\" d=\"M1.5,0A1.5,1.5 0 1,1 0,-1.5A1.5,1.5 0 0,1 1.5,0Z\" style=\"opacity: 1; stroke-width: 0px; fill: rgb(0, 240, 192); fill-opacity: 1;\"/><path class=\"point\" transform=\"translate(393.64,291.2)\" d=\"M1.5,0A1.5,1.5 0 1,1 0,-1.5A1.5,1.5 0 0,1 1.5,0Z\" style=\"opacity: 1; stroke-width: 0px; fill: rgb(0, 240, 192); fill-opacity: 1;\"/><path class=\"point\" transform=\"translate(409.33,303.85)\" d=\"M1.5,0A1.5,1.5 0 1,1 0,-1.5A1.5,1.5 0 0,1 1.5,0Z\" style=\"opacity: 1; stroke-width: 0px; fill: rgb(0, 240, 192); fill-opacity: 1;\"/><path class=\"point\" transform=\"translate(407.63,304.66)\" d=\"M1.5,0A1.5,1.5 0 1,1 0,-1.5A1.5,1.5 0 0,1 1.5,0Z\" style=\"opacity: 1; stroke-width: 0px; fill: rgb(0, 240, 192); fill-opacity: 1;\"/><path class=\"point\" transform=\"translate(407.63,312.01)\" d=\"M1.5,0A1.5,1.5 0 1,1 0,-1.5A1.5,1.5 0 0,1 1.5,0Z\" style=\"opacity: 1; stroke-width: 0px; fill: rgb(0, 240, 192); fill-opacity: 1;\"/><path class=\"point\" transform=\"translate(404.66,307.93)\" d=\"M1.5,0A1.5,1.5 0 1,1 0,-1.5A1.5,1.5 0 0,1 1.5,0Z\" style=\"opacity: 1; stroke-width: 0px; fill: rgb(0, 240, 192); fill-opacity: 1;\"/><path class=\"point\" transform=\"translate(399.15,304.26)\" d=\"M1.5,0A1.5,1.5 0 1,1 0,-1.5A1.5,1.5 0 0,1 1.5,0Z\" style=\"opacity: 1; stroke-width: 0px; fill: rgb(0, 240, 192); fill-opacity: 1;\"/><path class=\"point\" transform=\"translate(385.16,299.77)\" d=\"M1.5,0A1.5,1.5 0 1,1 0,-1.5A1.5,1.5 0 0,1 1.5,0Z\" style=\"opacity: 1; stroke-width: 0px; fill: rgb(0, 240, 192); fill-opacity: 1;\"/><path class=\"point\" transform=\"translate(377.95,285.08)\" d=\"M1.5,0A1.5,1.5 0 1,1 0,-1.5A1.5,1.5 0 0,1 1.5,0Z\" style=\"opacity: 1; stroke-width: 0px; fill: rgb(0, 240, 192); fill-opacity: 1;\"/><path class=\"point\" transform=\"translate(377.95,283.04)\" d=\"M1.5,0A1.5,1.5 0 1,1 0,-1.5A1.5,1.5 0 0,1 1.5,0Z\" style=\"opacity: 1; stroke-width: 0px; fill: rgb(0, 240, 192); fill-opacity: 1;\"/><path class=\"point\" transform=\"translate(363.53,274.06)\" d=\"M1.5,0A1.5,1.5 0 1,1 0,-1.5A1.5,1.5 0 0,1 1.5,0Z\" style=\"opacity: 1; stroke-width: 0px; fill: rgb(0, 240, 192); fill-opacity: 1;\"/><path class=\"point\" transform=\"translate(358.02,272.84)\" d=\"M1.5,0A1.5,1.5 0 1,1 0,-1.5A1.5,1.5 0 0,1 1.5,0Z\" style=\"opacity: 1; stroke-width: 0px; fill: rgb(0, 240, 192); fill-opacity: 1;\"/><path class=\"point\" transform=\"translate(355.05,272.43)\" d=\"M1.5,0A1.5,1.5 0 1,1 0,-1.5A1.5,1.5 0 0,1 1.5,0Z\" style=\"opacity: 1; stroke-width: 0px; fill: rgb(0, 240, 192); fill-opacity: 1;\"/><path class=\"point\" transform=\"translate(323.25,257.34)\" d=\"M1.5,0A1.5,1.5 0 1,1 0,-1.5A1.5,1.5 0 0,1 1.5,0Z\" style=\"opacity: 1; stroke-width: 0px; fill: rgb(0, 240, 192); fill-opacity: 1;\"/><path class=\"point\" transform=\"translate(309.26,246.73)\" d=\"M1.5,0A1.5,1.5 0 1,1 0,-1.5A1.5,1.5 0 0,1 1.5,0Z\" style=\"opacity: 1; stroke-width: 0px; fill: rgb(0, 240, 192); fill-opacity: 1;\"/><path class=\"point\" transform=\"translate(291.02,235.71)\" d=\"M1.5,0A1.5,1.5 0 1,1 0,-1.5A1.5,1.5 0 0,1 1.5,0Z\" style=\"opacity: 1; stroke-width: 0px; fill: rgb(0, 240, 192); fill-opacity: 1;\"/><path class=\"point\" transform=\"translate(255.83,231.63)\" d=\"M1.5,0A1.5,1.5 0 1,1 0,-1.5A1.5,1.5 0 0,1 1.5,0Z\" style=\"opacity: 1; stroke-width: 0px; fill: rgb(0, 240, 192); fill-opacity: 1;\"/><path class=\"point\" transform=\"translate(241.41,230)\" d=\"M1.5,0A1.5,1.5 0 1,1 0,-1.5A1.5,1.5 0 0,1 1.5,0Z\" style=\"opacity: 1; stroke-width: 0px; fill: rgb(0, 240, 192); fill-opacity: 1;\"/><path class=\"point\" transform=\"translate(30.25,84.34)\" d=\"M1.5,0A1.5,1.5 0 1,1 0,-1.5A1.5,1.5 0 0,1 1.5,0Z\" style=\"opacity: 1; stroke-width: 0px; fill: rgb(0, 240, 192); fill-opacity: 1;\"/></g><g class=\"text\"/></g><g class=\"trace scatter traceb99da9\" style=\"stroke-miterlimit: 2; opacity: 1;\"><g class=\"fills\"/><g class=\"errorbars\"/><g class=\"lines\"/><g class=\"points\"><path class=\"point\" transform=\"translate(30.25,84.34)\" d=\"M1.5,0A1.5,1.5 0 1,1 0,-1.5A1.5,1.5 0 0,1 1.5,0Z\" style=\"opacity: 1; stroke-width: 0px; fill: rgb(0, 240, 222); fill-opacity: 1;\"/><path class=\"point\" transform=\"translate(98.09,112.5)\" d=\"M1.5,0A1.5,1.5 0 1,1 0,-1.5A1.5,1.5 0 0,1 1.5,0Z\" style=\"opacity: 1; stroke-width: 0px; fill: rgb(0, 240, 222); fill-opacity: 1;\"/><path class=\"point\" transform=\"translate(146.86,152.89)\" d=\"M1.5,0A1.5,1.5 0 1,1 0,-1.5A1.5,1.5 0 0,1 1.5,0Z\" style=\"opacity: 1; stroke-width: 0px; fill: rgb(0, 240, 222); fill-opacity: 1;\"/><path class=\"point\" transform=\"translate(148.13,151.66)\" d=\"M1.5,0A1.5,1.5 0 1,1 0,-1.5A1.5,1.5 0 0,1 1.5,0Z\" style=\"opacity: 1; stroke-width: 0px; fill: rgb(0, 240, 222); fill-opacity: 1;\"/><path class=\"point\" transform=\"translate(156.61,155.34)\" d=\"M1.5,0A1.5,1.5 0 1,1 0,-1.5A1.5,1.5 0 0,1 1.5,0Z\" style=\"opacity: 1; stroke-width: 0px; fill: rgb(0, 240, 222); fill-opacity: 1;\"/><path class=\"point\" transform=\"translate(163.39,153.3)\" d=\"M1.5,0A1.5,1.5 0 1,1 0,-1.5A1.5,1.5 0 0,1 1.5,0Z\" style=\"opacity: 1; stroke-width: 0px; fill: rgb(0, 240, 222); fill-opacity: 1;\"/><path class=\"point\" transform=\"translate(185.02,152.48)\" d=\"M1.5,0A1.5,1.5 0 1,1 0,-1.5A1.5,1.5 0 0,1 1.5,0Z\" style=\"opacity: 1; stroke-width: 0px; fill: rgb(0, 240, 222); fill-opacity: 1;\"/><path class=\"point\" transform=\"translate(205.37,165.54)\" d=\"M1.5,0A1.5,1.5 0 1,1 0,-1.5A1.5,1.5 0 0,1 1.5,0Z\" style=\"opacity: 1; stroke-width: 0px; fill: rgb(0, 240, 222); fill-opacity: 1;\"/><path class=\"point\" transform=\"translate(206.64,168.8)\" d=\"M1.5,0A1.5,1.5 0 1,1 0,-1.5A1.5,1.5 0 0,1 1.5,0Z\" style=\"opacity: 1; stroke-width: 0px; fill: rgb(0, 240, 222); fill-opacity: 1;\"/><path class=\"point\" transform=\"translate(222.76,173.29)\" d=\"M1.5,0A1.5,1.5 0 1,1 0,-1.5A1.5,1.5 0 0,1 1.5,0Z\" style=\"opacity: 1; stroke-width: 0px; fill: rgb(0, 240, 222); fill-opacity: 1;\"/><path class=\"point\" transform=\"translate(224.03,169.21)\" d=\"M1.5,0A1.5,1.5 0 1,1 0,-1.5A1.5,1.5 0 0,1 1.5,0Z\" style=\"opacity: 1; stroke-width: 0px; fill: rgb(0, 240, 222); fill-opacity: 1;\"/><path class=\"point\" transform=\"translate(242.26,172.88)\" d=\"M1.5,0A1.5,1.5 0 1,1 0,-1.5A1.5,1.5 0 0,1 1.5,0Z\" style=\"opacity: 1; stroke-width: 0px; fill: rgb(0, 240, 222); fill-opacity: 1;\"/><path class=\"point\" transform=\"translate(228.69,183.9)\" d=\"M1.5,0A1.5,1.5 0 1,1 0,-1.5A1.5,1.5 0 0,1 1.5,0Z\" style=\"opacity: 1; stroke-width: 0px; fill: rgb(0, 240, 222); fill-opacity: 1;\"/><path class=\"point\" transform=\"translate(229.12,185.12)\" d=\"M1.5,0A1.5,1.5 0 1,1 0,-1.5A1.5,1.5 0 0,1 1.5,0Z\" style=\"opacity: 1; stroke-width: 0px; fill: rgb(0, 240, 222); fill-opacity: 1;\"/><path class=\"point\" transform=\"translate(228.69,190.02)\" d=\"M1.5,0A1.5,1.5 0 1,1 0,-1.5A1.5,1.5 0 0,1 1.5,0Z\" style=\"opacity: 1; stroke-width: 0px; fill: rgb(0, 240, 222); fill-opacity: 1;\"/><path class=\"point\" transform=\"translate(234.2,198.18)\" d=\"M1.5,0A1.5,1.5 0 1,1 0,-1.5A1.5,1.5 0 0,1 1.5,0Z\" style=\"opacity: 1; stroke-width: 0px; fill: rgb(0, 240, 222); fill-opacity: 1;\"/><path class=\"point\" transform=\"translate(233.78,199.4)\" d=\"M1.5,0A1.5,1.5 0 1,1 0,-1.5A1.5,1.5 0 0,1 1.5,0Z\" style=\"opacity: 1; stroke-width: 0px; fill: rgb(0, 240, 222); fill-opacity: 1;\"/><path class=\"point\" transform=\"translate(220.21,200.62)\" d=\"M1.5,0A1.5,1.5 0 1,1 0,-1.5A1.5,1.5 0 0,1 1.5,0Z\" style=\"opacity: 1; stroke-width: 0px; fill: rgb(0, 240, 222); fill-opacity: 1;\"/><path class=\"point\" transform=\"translate(207.07,192.46)\" d=\"M1.5,0A1.5,1.5 0 1,1 0,-1.5A1.5,1.5 0 0,1 1.5,0Z\" style=\"opacity: 1; stroke-width: 0px; fill: rgb(0, 240, 222); fill-opacity: 1;\"/><path class=\"point\" transform=\"translate(183.75,182.26)\" d=\"M1.5,0A1.5,1.5 0 1,1 0,-1.5A1.5,1.5 0 0,1 1.5,0Z\" style=\"opacity: 1; stroke-width: 0px; fill: rgb(0, 240, 222); fill-opacity: 1;\"/><path class=\"point\" transform=\"translate(162.54,174.1)\" d=\"M1.5,0A1.5,1.5 0 1,1 0,-1.5A1.5,1.5 0 0,1 1.5,0Z\" style=\"opacity: 1; stroke-width: 0px; fill: rgb(0, 240, 222); fill-opacity: 1;\"/><path class=\"point\" transform=\"translate(135.41,158.19)\" d=\"M1.5,0A1.5,1.5 0 1,1 0,-1.5A1.5,1.5 0 0,1 1.5,0Z\" style=\"opacity: 1; stroke-width: 0px; fill: rgb(0, 240, 222); fill-opacity: 1;\"/><path class=\"point\" transform=\"translate(30.25,84.34)\" d=\"M1.5,0A1.5,1.5 0 1,1 0,-1.5A1.5,1.5 0 0,1 1.5,0Z\" style=\"opacity: 1; stroke-width: 0px; fill: rgb(0, 240, 222); fill-opacity: 1;\"/></g><g class=\"text\"/></g><g class=\"trace scatter trace05ad95\" style=\"stroke-miterlimit: 2; opacity: 1;\"><g class=\"fills\"/><g class=\"errorbars\"/><g class=\"lines\"/><g class=\"points\"><path class=\"point\" transform=\"translate(30.25,84.34)\" d=\"M1.5,0A1.5,1.5 0 1,1 0,-1.5A1.5,1.5 0 0,1 1.5,0Z\" style=\"opacity: 1; stroke-width: 0px; fill: rgb(0, 230, 240); fill-opacity: 1;\"/><path class=\"point\" transform=\"translate(72.65,101.48)\" d=\"M1.5,0A1.5,1.5 0 1,1 0,-1.5A1.5,1.5 0 0,1 1.5,0Z\" style=\"opacity: 1; stroke-width: 0px; fill: rgb(0, 230, 240); fill-opacity: 1;\"/><path class=\"point\" transform=\"translate(100.64,106.38)\" d=\"M1.5,0A1.5,1.5 0 1,1 0,-1.5A1.5,1.5 0 0,1 1.5,0Z\" style=\"opacity: 1; stroke-width: 0px; fill: rgb(0, 230, 240); fill-opacity: 1;\"/><path class=\"point\" transform=\"translate(116.75,120.25)\" d=\"M1.5,0A1.5,1.5 0 1,1 0,-1.5A1.5,1.5 0 0,1 1.5,0Z\" style=\"opacity: 1; stroke-width: 0px; fill: rgb(0, 230, 240); fill-opacity: 1;\"/><path class=\"point\" transform=\"translate(124.81,126.78)\" d=\"M1.5,0A1.5,1.5 0 1,1 0,-1.5A1.5,1.5 0 0,1 1.5,0Z\" style=\"opacity: 1; stroke-width: 0px; fill: rgb(0, 230, 240); fill-opacity: 1;\"/><path class=\"point\" transform=\"translate(148.55,134.12)\" d=\"M1.5,0A1.5,1.5 0 1,1 0,-1.5A1.5,1.5 0 0,1 1.5,0Z\" style=\"opacity: 1; stroke-width: 0px; fill: rgb(0, 230, 240); fill-opacity: 1;\"/><path class=\"point\" transform=\"translate(150.67,134.94)\" d=\"M1.5,0A1.5,1.5 0 1,1 0,-1.5A1.5,1.5 0 0,1 1.5,0Z\" style=\"opacity: 1; stroke-width: 0px; fill: rgb(0, 230, 240); fill-opacity: 1;\"/><path class=\"point\" transform=\"translate(146.86,149.62)\" d=\"M1.5,0A1.5,1.5 0 1,1 0,-1.5A1.5,1.5 0 0,1 1.5,0Z\" style=\"opacity: 1; stroke-width: 0px; fill: rgb(0, 230, 240); fill-opacity: 1;\"/><path class=\"point\" transform=\"translate(123.96,129.22)\" d=\"M1.5,0A1.5,1.5 0 1,1 0,-1.5A1.5,1.5 0 0,1 1.5,0Z\" style=\"opacity: 1; stroke-width: 0px; fill: rgb(0, 230, 240); fill-opacity: 1;\"/><path class=\"point\" transform=\"translate(112.51,127.18)\" d=\"M1.5,0A1.5,1.5 0 1,1 0,-1.5A1.5,1.5 0 0,1 1.5,0Z\" style=\"opacity: 1; stroke-width: 0px; fill: rgb(0, 230, 240); fill-opacity: 1;\"/><path class=\"point\" transform=\"translate(106.15,123.92)\" d=\"M1.5,0A1.5,1.5 0 1,1 0,-1.5A1.5,1.5 0 0,1 1.5,0Z\" style=\"opacity: 1; stroke-width: 0px; fill: rgb(0, 230, 240); fill-opacity: 1;\"/><path class=\"point\" transform=\"translate(104.45,125.55)\" d=\"M1.5,0A1.5,1.5 0 1,1 0,-1.5A1.5,1.5 0 0,1 1.5,0Z\" style=\"opacity: 1; stroke-width: 0px; fill: rgb(0, 230, 240); fill-opacity: 1;\"/><path class=\"point\" transform=\"translate(92.58,114.13)\" d=\"M1.5,0A1.5,1.5 0 1,1 0,-1.5A1.5,1.5 0 0,1 1.5,0Z\" style=\"opacity: 1; stroke-width: 0px; fill: rgb(0, 230, 240); fill-opacity: 1;\"/><path class=\"point\" transform=\"translate(85.37,112.09)\" d=\"M1.5,0A1.5,1.5 0 1,1 0,-1.5A1.5,1.5 0 0,1 1.5,0Z\" style=\"opacity: 1; stroke-width: 0px; fill: rgb(0, 230, 240); fill-opacity: 1;\"/><path class=\"point\" transform=\"translate(55.69,96.18)\" d=\"M1.5,0A1.5,1.5 0 1,1 0,-1.5A1.5,1.5 0 0,1 1.5,0Z\" style=\"opacity: 1; stroke-width: 0px; fill: rgb(0, 230, 240); fill-opacity: 1;\"/><path class=\"point\" transform=\"translate(53.57,94.95)\" d=\"M1.5,0A1.5,1.5 0 1,1 0,-1.5A1.5,1.5 0 0,1 1.5,0Z\" style=\"opacity: 1; stroke-width: 0px; fill: rgb(0, 230, 240); fill-opacity: 1;\"/><path class=\"point\" transform=\"translate(30.25,84.34)\" d=\"M1.5,0A1.5,1.5 0 1,1 0,-1.5A1.5,1.5 0 0,1 1.5,0Z\" style=\"opacity: 1; stroke-width: 0px; fill: rgb(0, 230, 240); fill-opacity: 1;\"/></g><g class=\"text\"/></g><g class=\"trace scatter trace26e302\" style=\"stroke-miterlimit: 2; opacity: 1;\"><g class=\"fills\"/><g class=\"errorbars\"/><g class=\"lines\"/><g class=\"points\"><path class=\"point\" transform=\"translate(30.25,84.34)\" d=\"M1.5,0A1.5,1.5 0 1,1 0,-1.5A1.5,1.5 0 0,1 1.5,0Z\" style=\"opacity: 1; stroke-width: 0px; fill: rgb(0, 209, 240); fill-opacity: 1;\"/><path class=\"point\" transform=\"translate(380.92,260.19)\" d=\"M1.5,0A1.5,1.5 0 1,1 0,-1.5A1.5,1.5 0 0,1 1.5,0Z\" style=\"opacity: 1; stroke-width: 0px; fill: rgb(0, 209, 240); fill-opacity: 1;\"/><path class=\"point\" transform=\"translate(399.57,279.78)\" d=\"M1.5,0A1.5,1.5 0 1,1 0,-1.5A1.5,1.5 0 0,1 1.5,0Z\" style=\"opacity: 1; stroke-width: 0px; fill: rgb(0, 209, 240); fill-opacity: 1;\"/><path class=\"point\" transform=\"translate(413.57,289.57)\" d=\"M1.5,0A1.5,1.5 0 1,1 0,-1.5A1.5,1.5 0 0,1 1.5,0Z\" style=\"opacity: 1; stroke-width: 0px; fill: rgb(0, 209, 240); fill-opacity: 1;\"/><path class=\"point\" transform=\"translate(419.08,288.34)\" d=\"M1.5,0A1.5,1.5 0 1,1 0,-1.5A1.5,1.5 0 0,1 1.5,0Z\" style=\"opacity: 1; stroke-width: 0px; fill: rgb(0, 209, 240); fill-opacity: 1;\"/><path class=\"point\" transform=\"translate(432.22,292.83)\" d=\"M1.5,0A1.5,1.5 0 1,1 0,-1.5A1.5,1.5 0 0,1 1.5,0Z\" style=\"opacity: 1; stroke-width: 0px; fill: rgb(0, 209, 240); fill-opacity: 1;\"/><path class=\"point\" transform=\"translate(429.68,297.73)\" d=\"M1.5,0A1.5,1.5 0 1,1 0,-1.5A1.5,1.5 0 0,1 1.5,0Z\" style=\"opacity: 1; stroke-width: 0px; fill: rgb(0, 209, 240); fill-opacity: 1;\"/><path class=\"point\" transform=\"translate(427.13,308.74)\" d=\"M1.5,0A1.5,1.5 0 1,1 0,-1.5A1.5,1.5 0 0,1 1.5,0Z\" style=\"opacity: 1; stroke-width: 0px; fill: rgb(0, 209, 240); fill-opacity: 1;\"/><path class=\"point\" transform=\"translate(432.65,308.74)\" d=\"M1.5,0A1.5,1.5 0 1,1 0,-1.5A1.5,1.5 0 0,1 1.5,0Z\" style=\"opacity: 1; stroke-width: 0px; fill: rgb(0, 209, 240); fill-opacity: 1;\"/><path class=\"point\" transform=\"translate(440.7,303.85)\" d=\"M1.5,0A1.5,1.5 0 1,1 0,-1.5A1.5,1.5 0 0,1 1.5,0Z\" style=\"opacity: 1; stroke-width: 0px; fill: rgb(0, 209, 240); fill-opacity: 1;\"/><path class=\"point\" transform=\"translate(444.94,311.19)\" d=\"M1.5,0A1.5,1.5 0 1,1 0,-1.5A1.5,1.5 0 0,1 1.5,0Z\" style=\"opacity: 1; stroke-width: 0px; fill: rgb(0, 209, 240); fill-opacity: 1;\"/><path class=\"point\" transform=\"translate(446.22,306.7)\" d=\"M1.5,0A1.5,1.5 0 1,1 0,-1.5A1.5,1.5 0 0,1 1.5,0Z\" style=\"opacity: 1; stroke-width: 0px; fill: rgb(0, 209, 240); fill-opacity: 1;\"/><path class=\"point\" transform=\"translate(452.15,298.54)\" d=\"M1.5,0A1.5,1.5 0 1,1 0,-1.5A1.5,1.5 0 0,1 1.5,0Z\" style=\"opacity: 1; stroke-width: 0px; fill: rgb(0, 209, 240); fill-opacity: 1;\"/><path class=\"point\" transform=\"translate(444.94,292.42)\" d=\"M1.5,0A1.5,1.5 0 1,1 0,-1.5A1.5,1.5 0 0,1 1.5,0Z\" style=\"opacity: 1; stroke-width: 0px; fill: rgb(0, 209, 240); fill-opacity: 1;\"/><path class=\"point\" transform=\"translate(447.91,278.14)\" d=\"M1.5,0A1.5,1.5 0 1,1 0,-1.5A1.5,1.5 0 0,1 1.5,0Z\" style=\"opacity: 1; stroke-width: 0px; fill: rgb(0, 209, 240); fill-opacity: 1;\"/><path class=\"point\" transform=\"translate(451.3,265.9)\" d=\"M1.5,0A1.5,1.5 0 1,1 0,-1.5A1.5,1.5 0 0,1 1.5,0Z\" style=\"opacity: 1; stroke-width: 0px; fill: rgb(0, 209, 240); fill-opacity: 1;\"/><path class=\"point\" transform=\"translate(447.49,265.09)\" d=\"M1.5,0A1.5,1.5 0 1,1 0,-1.5A1.5,1.5 0 0,1 1.5,0Z\" style=\"opacity: 1; stroke-width: 0px; fill: rgb(0, 209, 240); fill-opacity: 1;\"/><path class=\"point\" transform=\"translate(448.76,249.99)\" d=\"M1.5,0A1.5,1.5 0 1,1 0,-1.5A1.5,1.5 0 0,1 1.5,0Z\" style=\"opacity: 1; stroke-width: 0px; fill: rgb(0, 209, 240); fill-opacity: 1;\"/><path class=\"point\" transform=\"translate(443.67,239.79)\" d=\"M1.5,0A1.5,1.5 0 1,1 0,-1.5A1.5,1.5 0 0,1 1.5,0Z\" style=\"opacity: 1; stroke-width: 0px; fill: rgb(0, 209, 240); fill-opacity: 1;\"/><path class=\"point\" transform=\"translate(447.49,224.7)\" d=\"M1.5,0A1.5,1.5 0 1,1 0,-1.5A1.5,1.5 0 0,1 1.5,0Z\" style=\"opacity: 1; stroke-width: 0px; fill: rgb(0, 209, 240); fill-opacity: 1;\"/><path class=\"point\" transform=\"translate(440.7,233.26)\" d=\"M1.5,0A1.5,1.5 0 1,1 0,-1.5A1.5,1.5 0 0,1 1.5,0Z\" style=\"opacity: 1; stroke-width: 0px; fill: rgb(0, 209, 240); fill-opacity: 1;\"/><path class=\"point\" transform=\"translate(431.37,236.12)\" d=\"M1.5,0A1.5,1.5 0 1,1 0,-1.5A1.5,1.5 0 0,1 1.5,0Z\" style=\"opacity: 1; stroke-width: 0px; fill: rgb(0, 209, 240); fill-opacity: 1;\"/><path class=\"point\" transform=\"translate(398.3,227.55)\" d=\"M1.5,0A1.5,1.5 0 1,1 0,-1.5A1.5,1.5 0 0,1 1.5,0Z\" style=\"opacity: 1; stroke-width: 0px; fill: rgb(0, 209, 240); fill-opacity: 1;\"/><path class=\"point\" transform=\"translate(382.61,230)\" d=\"M1.5,0A1.5,1.5 0 1,1 0,-1.5A1.5,1.5 0 0,1 1.5,0Z\" style=\"opacity: 1; stroke-width: 0px; fill: rgb(0, 209, 240); fill-opacity: 1;\"/><path class=\"point\" transform=\"translate(372.44,207.15)\" d=\"M1.5,0A1.5,1.5 0 1,1 0,-1.5A1.5,1.5 0 0,1 1.5,0Z\" style=\"opacity: 1; stroke-width: 0px; fill: rgb(0, 209, 240); fill-opacity: 1;\"/><path class=\"point\" transform=\"translate(369.89,205.11)\" d=\"M1.5,0A1.5,1.5 0 1,1 0,-1.5A1.5,1.5 0 0,1 1.5,0Z\" style=\"opacity: 1; stroke-width: 0px; fill: rgb(0, 209, 240); fill-opacity: 1;\"/><path class=\"point\" transform=\"translate(298.66,181.04)\" d=\"M1.5,0A1.5,1.5 0 1,1 0,-1.5A1.5,1.5 0 0,1 1.5,0Z\" style=\"opacity: 1; stroke-width: 0px; fill: rgb(0, 209, 240); fill-opacity: 1;\"/><path class=\"point\" transform=\"translate(30.25,84.34)\" d=\"M1.5,0A1.5,1.5 0 1,1 0,-1.5A1.5,1.5 0 0,1 1.5,0Z\" style=\"opacity: 1; stroke-width: 0px; fill: rgb(0, 209, 240); fill-opacity: 1;\"/></g><g class=\"text\"/></g><g class=\"trace scatter trace9e98d4\" style=\"stroke-miterlimit: 2; opacity: 1;\"><g class=\"fills\"/><g class=\"errorbars\"/><g class=\"lines\"/><g class=\"points\"><path class=\"point\" transform=\"translate(30.25,84.34)\" d=\"M1.5,0A1.5,1.5 0 1,1 0,-1.5A1.5,1.5 0 0,1 1.5,0Z\" style=\"opacity: 1; stroke-width: 0px; fill: rgb(0, 187, 240); fill-opacity: 1;\"/><path class=\"point\" transform=\"translate(301.62,210.01)\" d=\"M1.5,0A1.5,1.5 0 1,1 0,-1.5A1.5,1.5 0 0,1 1.5,0Z\" style=\"opacity: 1; stroke-width: 0px; fill: rgb(0, 187, 240); fill-opacity: 1;\"/><path class=\"point\" transform=\"translate(366.5,232.86)\" d=\"M1.5,0A1.5,1.5 0 1,1 0,-1.5A1.5,1.5 0 0,1 1.5,0Z\" style=\"opacity: 1; stroke-width: 0px; fill: rgb(0, 187, 240); fill-opacity: 1;\"/><path class=\"point\" transform=\"translate(374.13,229.18)\" d=\"M1.5,0A1.5,1.5 0 1,1 0,-1.5A1.5,1.5 0 0,1 1.5,0Z\" style=\"opacity: 1; stroke-width: 0px; fill: rgb(0, 187, 240); fill-opacity: 1;\"/><path class=\"point\" transform=\"translate(382.61,230)\" d=\"M1.5,0A1.5,1.5 0 1,1 0,-1.5A1.5,1.5 0 0,1 1.5,0Z\" style=\"opacity: 1; stroke-width: 0px; fill: rgb(0, 187, 240); fill-opacity: 1;\"/><path class=\"point\" transform=\"translate(380.92,234.49)\" d=\"M1.5,0A1.5,1.5 0 1,1 0,-1.5A1.5,1.5 0 0,1 1.5,0Z\" style=\"opacity: 1; stroke-width: 0px; fill: rgb(0, 187, 240); fill-opacity: 1;\"/><path class=\"point\" transform=\"translate(395.76,244.28)\" d=\"M1.5,0A1.5,1.5 0 1,1 0,-1.5A1.5,1.5 0 0,1 1.5,0Z\" style=\"opacity: 1; stroke-width: 0px; fill: rgb(0, 187, 240); fill-opacity: 1;\"/><path class=\"point\" transform=\"translate(402.97,243.87)\" d=\"M1.5,0A1.5,1.5 0 1,1 0,-1.5A1.5,1.5 0 0,1 1.5,0Z\" style=\"opacity: 1; stroke-width: 0px; fill: rgb(0, 187, 240); fill-opacity: 1;\"/><path class=\"point\" transform=\"translate(401.27,249.99)\" d=\"M1.5,0A1.5,1.5 0 1,1 0,-1.5A1.5,1.5 0 0,1 1.5,0Z\" style=\"opacity: 1; stroke-width: 0px; fill: rgb(0, 187, 240); fill-opacity: 1;\"/><path class=\"point\" transform=\"translate(409.75,258.15)\" d=\"M1.5,0A1.5,1.5 0 1,1 0,-1.5A1.5,1.5 0 0,1 1.5,0Z\" style=\"opacity: 1; stroke-width: 0px; fill: rgb(0, 187, 240); fill-opacity: 1;\"/><path class=\"point\" transform=\"translate(411.87,261.01)\" d=\"M1.5,0A1.5,1.5 0 1,1 0,-1.5A1.5,1.5 0 0,1 1.5,0Z\" style=\"opacity: 1; stroke-width: 0px; fill: rgb(0, 187, 240); fill-opacity: 1;\"/><path class=\"point\" transform=\"translate(422.05,264.68)\" d=\"M1.5,0A1.5,1.5 0 1,1 0,-1.5A1.5,1.5 0 0,1 1.5,0Z\" style=\"opacity: 1; stroke-width: 0px; fill: rgb(0, 187, 240); fill-opacity: 1;\"/><path class=\"point\" transform=\"translate(436.46,261.42)\" d=\"M1.5,0A1.5,1.5 0 1,1 0,-1.5A1.5,1.5 0 0,1 1.5,0Z\" style=\"opacity: 1; stroke-width: 0px; fill: rgb(0, 187, 240); fill-opacity: 1;\"/><path class=\"point\" transform=\"translate(441.98,274.47)\" d=\"M1.5,0A1.5,1.5 0 1,1 0,-1.5A1.5,1.5 0 0,1 1.5,0Z\" style=\"opacity: 1; stroke-width: 0px; fill: rgb(0, 187, 240); fill-opacity: 1;\"/><path class=\"point\" transform=\"translate(436.46,272.84)\" d=\"M1.5,0A1.5,1.5 0 1,1 0,-1.5A1.5,1.5 0 0,1 1.5,0Z\" style=\"opacity: 1; stroke-width: 0px; fill: rgb(0, 187, 240); fill-opacity: 1;\"/><path class=\"point\" transform=\"translate(434.77,276.51)\" d=\"M1.5,0A1.5,1.5 0 1,1 0,-1.5A1.5,1.5 0 0,1 1.5,0Z\" style=\"opacity: 1; stroke-width: 0px; fill: rgb(0, 187, 240); fill-opacity: 1;\"/><path class=\"point\" transform=\"translate(427.56,274.88)\" d=\"M1.5,0A1.5,1.5 0 1,1 0,-1.5A1.5,1.5 0 0,1 1.5,0Z\" style=\"opacity: 1; stroke-width: 0px; fill: rgb(0, 187, 240); fill-opacity: 1;\"/><path class=\"point\" transform=\"translate(427.13,273.66)\" d=\"M1.5,0A1.5,1.5 0 1,1 0,-1.5A1.5,1.5 0 0,1 1.5,0Z\" style=\"opacity: 1; stroke-width: 0px; fill: rgb(0, 187, 240); fill-opacity: 1;\"/><path class=\"point\" transform=\"translate(420.77,276.51)\" d=\"M1.5,0A1.5,1.5 0 1,1 0,-1.5A1.5,1.5 0 0,1 1.5,0Z\" style=\"opacity: 1; stroke-width: 0px; fill: rgb(0, 187, 240); fill-opacity: 1;\"/><path class=\"point\" transform=\"translate(413.14,269.98)\" d=\"M1.5,0A1.5,1.5 0 1,1 0,-1.5A1.5,1.5 0 0,1 1.5,0Z\" style=\"opacity: 1; stroke-width: 0px; fill: rgb(0, 187, 240); fill-opacity: 1;\"/><path class=\"point\" transform=\"translate(404.24,269.58)\" d=\"M1.5,0A1.5,1.5 0 1,1 0,-1.5A1.5,1.5 0 0,1 1.5,0Z\" style=\"opacity: 1; stroke-width: 0px; fill: rgb(0, 187, 240); fill-opacity: 1;\"/><path class=\"point\" transform=\"translate(375.4,256.52)\" d=\"M1.5,0A1.5,1.5 0 1,1 0,-1.5A1.5,1.5 0 0,1 1.5,0Z\" style=\"opacity: 1; stroke-width: 0px; fill: rgb(0, 187, 240); fill-opacity: 1;\"/><path class=\"point\" transform=\"translate(368.2,249.58)\" d=\"M1.5,0A1.5,1.5 0 1,1 0,-1.5A1.5,1.5 0 0,1 1.5,0Z\" style=\"opacity: 1; stroke-width: 0px; fill: rgb(0, 187, 240); fill-opacity: 1;\"/><path class=\"point\" transform=\"translate(363.53,249.99)\" d=\"M1.5,0A1.5,1.5 0 1,1 0,-1.5A1.5,1.5 0 0,1 1.5,0Z\" style=\"opacity: 1; stroke-width: 0px; fill: rgb(0, 187, 240); fill-opacity: 1;\"/><path class=\"point\" transform=\"translate(30.25,84.34)\" d=\"M1.5,0A1.5,1.5 0 1,1 0,-1.5A1.5,1.5 0 0,1 1.5,0Z\" style=\"opacity: 1; stroke-width: 0px; fill: rgb(0, 187, 240); fill-opacity: 1;\"/></g><g class=\"text\"/></g><g class=\"trace scatter trace7d0236\" style=\"stroke-miterlimit: 2; opacity: 1;\"><g class=\"fills\"/><g class=\"errorbars\"/><g class=\"lines\"/><g class=\"points\"><path class=\"point\" transform=\"translate(30.25,84.34)\" d=\"M1.5,0A1.5,1.5 0 1,1 0,-1.5A1.5,1.5 0 0,1 1.5,0Z\" style=\"opacity: 1; stroke-width: 0px; fill: rgb(0, 166, 240); fill-opacity: 1;\"/><path class=\"point\" transform=\"translate(196.47,172.06)\" d=\"M1.5,0A1.5,1.5 0 1,1 0,-1.5A1.5,1.5 0 0,1 1.5,0Z\" style=\"opacity: 1; stroke-width: 0px; fill: rgb(0, 166, 240); fill-opacity: 1;\"/><path class=\"point\" transform=\"translate(252.44,194.5)\" d=\"M1.5,0A1.5,1.5 0 1,1 0,-1.5A1.5,1.5 0 0,1 1.5,0Z\" style=\"opacity: 1; stroke-width: 0px; fill: rgb(0, 166, 240); fill-opacity: 1;\"/><path class=\"point\" transform=\"translate(254.98,194.91)\" d=\"M1.5,0A1.5,1.5 0 1,1 0,-1.5A1.5,1.5 0 0,1 1.5,0Z\" style=\"opacity: 1; stroke-width: 0px; fill: rgb(0, 166, 240); fill-opacity: 1;\"/><path class=\"point\" transform=\"translate(284.24,211.64)\" d=\"M1.5,0A1.5,1.5 0 1,1 0,-1.5A1.5,1.5 0 0,1 1.5,0Z\" style=\"opacity: 1; stroke-width: 0px; fill: rgb(0, 166, 240); fill-opacity: 1;\"/><path class=\"point\" transform=\"translate(298.66,217.35)\" d=\"M1.5,0A1.5,1.5 0 1,1 0,-1.5A1.5,1.5 0 0,1 1.5,0Z\" style=\"opacity: 1; stroke-width: 0px; fill: rgb(0, 166, 240); fill-opacity: 1;\"/><path class=\"point\" transform=\"translate(299.08,225.1)\" d=\"M1.5,0A1.5,1.5 0 1,1 0,-1.5A1.5,1.5 0 0,1 1.5,0Z\" style=\"opacity: 1; stroke-width: 0px; fill: rgb(0, 166, 240); fill-opacity: 1;\"/><path class=\"point\" transform=\"translate(318.59,219.8)\" d=\"M1.5,0A1.5,1.5 0 1,1 0,-1.5A1.5,1.5 0 0,1 1.5,0Z\" style=\"opacity: 1; stroke-width: 0px; fill: rgb(0, 166, 240); fill-opacity: 1;\"/><path class=\"point\" transform=\"translate(326.64,218.17)\" d=\"M1.5,0A1.5,1.5 0 1,1 0,-1.5A1.5,1.5 0 0,1 1.5,0Z\" style=\"opacity: 1; stroke-width: 0px; fill: rgb(0, 166, 240); fill-opacity: 1;\"/><path class=\"point\" transform=\"translate(331.31,230.82)\" d=\"M1.5,0A1.5,1.5 0 1,1 0,-1.5A1.5,1.5 0 0,1 1.5,0Z\" style=\"opacity: 1; stroke-width: 0px; fill: rgb(0, 166, 240); fill-opacity: 1;\"/><path class=\"point\" transform=\"translate(344.87,233.26)\" d=\"M1.5,0A1.5,1.5 0 1,1 0,-1.5A1.5,1.5 0 0,1 1.5,0Z\" style=\"opacity: 1; stroke-width: 0px; fill: rgb(0, 166, 240); fill-opacity: 1;\"/><path class=\"point\" transform=\"translate(355.9,225.1)\" d=\"M1.5,0A1.5,1.5 0 1,1 0,-1.5A1.5,1.5 0 0,1 1.5,0Z\" style=\"opacity: 1; stroke-width: 0px; fill: rgb(0, 166, 240); fill-opacity: 1;\"/><path class=\"point\" transform=\"translate(366.08,225.92)\" d=\"M1.5,0A1.5,1.5 0 1,1 0,-1.5A1.5,1.5 0 0,1 1.5,0Z\" style=\"opacity: 1; stroke-width: 0px; fill: rgb(0, 166, 240); fill-opacity: 1;\"/><path class=\"point\" transform=\"translate(365.23,216.54)\" d=\"M1.5,0A1.5,1.5 0 1,1 0,-1.5A1.5,1.5 0 0,1 1.5,0Z\" style=\"opacity: 1; stroke-width: 0px; fill: rgb(0, 166, 240); fill-opacity: 1;\"/><path class=\"point\" transform=\"translate(359.29,216.94)\" d=\"M1.5,0A1.5,1.5 0 1,1 0,-1.5A1.5,1.5 0 0,1 1.5,0Z\" style=\"opacity: 1; stroke-width: 0px; fill: rgb(0, 166, 240); fill-opacity: 1;\"/><path class=\"point\" transform=\"translate(349.96,214.09)\" d=\"M1.5,0A1.5,1.5 0 1,1 0,-1.5A1.5,1.5 0 0,1 1.5,0Z\" style=\"opacity: 1; stroke-width: 0px; fill: rgb(0, 166, 240); fill-opacity: 1;\"/><path class=\"point\" transform=\"translate(337.24,196.95)\" d=\"M1.5,0A1.5,1.5 0 1,1 0,-1.5A1.5,1.5 0 0,1 1.5,0Z\" style=\"opacity: 1; stroke-width: 0px; fill: rgb(0, 166, 240); fill-opacity: 1;\"/><path class=\"point\" transform=\"translate(333.85,201.44)\" d=\"M1.5,0A1.5,1.5 0 1,1 0,-1.5A1.5,1.5 0 0,1 1.5,0Z\" style=\"opacity: 1; stroke-width: 0px; fill: rgb(0, 166, 240); fill-opacity: 1;\"/><path class=\"point\" transform=\"translate(323.25,205.93)\" d=\"M1.5,0A1.5,1.5 0 1,1 0,-1.5A1.5,1.5 0 0,1 1.5,0Z\" style=\"opacity: 1; stroke-width: 0px; fill: rgb(0, 166, 240); fill-opacity: 1;\"/><path class=\"point\" transform=\"translate(316.89,205.52)\" d=\"M1.5,0A1.5,1.5 0 1,1 0,-1.5A1.5,1.5 0 0,1 1.5,0Z\" style=\"opacity: 1; stroke-width: 0px; fill: rgb(0, 166, 240); fill-opacity: 1;\"/><path class=\"point\" transform=\"translate(309.26,205.11)\" d=\"M1.5,0A1.5,1.5 0 1,1 0,-1.5A1.5,1.5 0 0,1 1.5,0Z\" style=\"opacity: 1; stroke-width: 0px; fill: rgb(0, 166, 240); fill-opacity: 1;\"/><path class=\"point\" transform=\"translate(294.42,198.18)\" d=\"M1.5,0A1.5,1.5 0 1,1 0,-1.5A1.5,1.5 0 0,1 1.5,0Z\" style=\"opacity: 1; stroke-width: 0px; fill: rgb(0, 166, 240); fill-opacity: 1;\"/><path class=\"point\" transform=\"translate(277.45,194.91)\" d=\"M1.5,0A1.5,1.5 0 1,1 0,-1.5A1.5,1.5 0 0,1 1.5,0Z\" style=\"opacity: 1; stroke-width: 0px; fill: rgb(0, 166, 240); fill-opacity: 1;\"/><path class=\"point\" transform=\"translate(276.61,188.38)\" d=\"M1.5,0A1.5,1.5 0 1,1 0,-1.5A1.5,1.5 0 0,1 1.5,0Z\" style=\"opacity: 1; stroke-width: 0px; fill: rgb(0, 166, 240); fill-opacity: 1;\"/><path class=\"point\" transform=\"translate(252.86,178.59)\" d=\"M1.5,0A1.5,1.5 0 1,1 0,-1.5A1.5,1.5 0 0,1 1.5,0Z\" style=\"opacity: 1; stroke-width: 0px; fill: rgb(0, 166, 240); fill-opacity: 1;\"/><path class=\"point\" transform=\"translate(100.21,93.73)\" d=\"M1.5,0A1.5,1.5 0 1,1 0,-1.5A1.5,1.5 0 0,1 1.5,0Z\" style=\"opacity: 1; stroke-width: 0px; fill: rgb(0, 166, 240); fill-opacity: 1;\"/><path class=\"point\" transform=\"translate(30.25,84.34)\" d=\"M1.5,0A1.5,1.5 0 1,1 0,-1.5A1.5,1.5 0 0,1 1.5,0Z\" style=\"opacity: 1; stroke-width: 0px; fill: rgb(0, 166, 240); fill-opacity: 1;\"/></g><g class=\"text\"/></g><g class=\"trace scatter trace657161\" style=\"stroke-miterlimit: 2; opacity: 1;\"><g class=\"fills\"/><g class=\"errorbars\"/><g class=\"lines\"/><g class=\"points\"><path class=\"point\" transform=\"translate(30.25,84.34)\" d=\"M1.5,0A1.5,1.5 0 1,1 0,-1.5A1.5,1.5 0 0,1 1.5,0Z\" style=\"opacity: 1; stroke-width: 0px; fill: rgb(0, 144, 240); fill-opacity: 1;\"/><path class=\"point\" transform=\"translate(224.45,155.34)\" d=\"M1.5,0A1.5,1.5 0 1,1 0,-1.5A1.5,1.5 0 0,1 1.5,0Z\" style=\"opacity: 1; stroke-width: 0px; fill: rgb(0, 144, 240); fill-opacity: 1;\"/><path class=\"point\" transform=\"translate(231.24,166.35)\" d=\"M1.5,0A1.5,1.5 0 1,1 0,-1.5A1.5,1.5 0 0,1 1.5,0Z\" style=\"opacity: 1; stroke-width: 0px; fill: rgb(0, 144, 240); fill-opacity: 1;\"/><path class=\"point\" transform=\"translate(243.11,169.62)\" d=\"M1.5,0A1.5,1.5 0 1,1 0,-1.5A1.5,1.5 0 0,1 1.5,0Z\" style=\"opacity: 1; stroke-width: 0px; fill: rgb(0, 144, 240); fill-opacity: 1;\"/><path class=\"point\" transform=\"translate(264.73,176.55)\" d=\"M1.5,0A1.5,1.5 0 1,1 0,-1.5A1.5,1.5 0 0,1 1.5,0Z\" style=\"opacity: 1; stroke-width: 0px; fill: rgb(0, 144, 240); fill-opacity: 1;\"/><path class=\"point\" transform=\"translate(273.21,169.62)\" d=\"M1.5,0A1.5,1.5 0 1,1 0,-1.5A1.5,1.5 0 0,1 1.5,0Z\" style=\"opacity: 1; stroke-width: 0px; fill: rgb(0, 144, 240); fill-opacity: 1;\"/><path class=\"point\" transform=\"translate(279.57,172.47)\" d=\"M1.5,0A1.5,1.5 0 1,1 0,-1.5A1.5,1.5 0 0,1 1.5,0Z\" style=\"opacity: 1; stroke-width: 0px; fill: rgb(0, 144, 240); fill-opacity: 1;\"/><path class=\"point\" transform=\"translate(291.02,173.29)\" d=\"M1.5,0A1.5,1.5 0 1,1 0,-1.5A1.5,1.5 0 0,1 1.5,0Z\" style=\"opacity: 1; stroke-width: 0px; fill: rgb(0, 144, 240); fill-opacity: 1;\"/><path class=\"point\" transform=\"translate(295.26,177.37)\" d=\"M1.5,0A1.5,1.5 0 1,1 0,-1.5A1.5,1.5 0 0,1 1.5,0Z\" style=\"opacity: 1; stroke-width: 0px; fill: rgb(0, 144, 240); fill-opacity: 1;\"/><path class=\"point\" transform=\"translate(327.49,178.18)\" d=\"M1.5,0A1.5,1.5 0 1,1 0,-1.5A1.5,1.5 0 0,1 1.5,0Z\" style=\"opacity: 1; stroke-width: 0px; fill: rgb(0, 144, 240); fill-opacity: 1;\"/><path class=\"point\" transform=\"translate(331.31,175.74)\" d=\"M1.5,0A1.5,1.5 0 1,1 0,-1.5A1.5,1.5 0 0,1 1.5,0Z\" style=\"opacity: 1; stroke-width: 0px; fill: rgb(0, 144, 240); fill-opacity: 1;\"/><path class=\"point\" transform=\"translate(342.75,178.18)\" d=\"M1.5,0A1.5,1.5 0 1,1 0,-1.5A1.5,1.5 0 0,1 1.5,0Z\" style=\"opacity: 1; stroke-width: 0px; fill: rgb(0, 144, 240); fill-opacity: 1;\"/><path class=\"point\" transform=\"translate(343.18,181.45)\" d=\"M1.5,0A1.5,1.5 0 1,1 0,-1.5A1.5,1.5 0 0,1 1.5,0Z\" style=\"opacity: 1; stroke-width: 0px; fill: rgb(0, 144, 240); fill-opacity: 1;\"/><path class=\"point\" transform=\"translate(353.78,180.63)\" d=\"M1.5,0A1.5,1.5 0 1,1 0,-1.5A1.5,1.5 0 0,1 1.5,0Z\" style=\"opacity: 1; stroke-width: 0px; fill: rgb(0, 144, 240); fill-opacity: 1;\"/><path class=\"point\" transform=\"translate(357.6,181.04)\" d=\"M1.5,0A1.5,1.5 0 1,1 0,-1.5A1.5,1.5 0 0,1 1.5,0Z\" style=\"opacity: 1; stroke-width: 0px; fill: rgb(0, 144, 240); fill-opacity: 1;\"/><path class=\"point\" transform=\"translate(370.32,182.67)\" d=\"M1.5,0A1.5,1.5 0 1,1 0,-1.5A1.5,1.5 0 0,1 1.5,0Z\" style=\"opacity: 1; stroke-width: 0px; fill: rgb(0, 144, 240); fill-opacity: 1;\"/><path class=\"point\" transform=\"translate(358.44,164.72)\" d=\"M1.5,0A1.5,1.5 0 1,1 0,-1.5A1.5,1.5 0 0,1 1.5,0Z\" style=\"opacity: 1; stroke-width: 0px; fill: rgb(0, 144, 240); fill-opacity: 1;\"/><path class=\"point\" transform=\"translate(343.6,162.68)\" d=\"M1.5,0A1.5,1.5 0 1,1 0,-1.5A1.5,1.5 0 0,1 1.5,0Z\" style=\"opacity: 1; stroke-width: 0px; fill: rgb(0, 144, 240); fill-opacity: 1;\"/><path class=\"point\" transform=\"translate(330.46,162.68)\" d=\"M1.5,0A1.5,1.5 0 1,1 0,-1.5A1.5,1.5 0 0,1 1.5,0Z\" style=\"opacity: 1; stroke-width: 0px; fill: rgb(0, 144, 240); fill-opacity: 1;\"/><path class=\"point\" transform=\"translate(316.89,164.31)\" d=\"M1.5,0A1.5,1.5 0 1,1 0,-1.5A1.5,1.5 0 0,1 1.5,0Z\" style=\"opacity: 1; stroke-width: 0px; fill: rgb(0, 144, 240); fill-opacity: 1;\"/><path class=\"point\" transform=\"translate(305.44,152.07)\" d=\"M1.5,0A1.5,1.5 0 1,1 0,-1.5A1.5,1.5 0 0,1 1.5,0Z\" style=\"opacity: 1; stroke-width: 0px; fill: rgb(0, 144, 240); fill-opacity: 1;\"/><path class=\"point\" transform=\"translate(305.02,155.34)\" d=\"M1.5,0A1.5,1.5 0 1,1 0,-1.5A1.5,1.5 0 0,1 1.5,0Z\" style=\"opacity: 1; stroke-width: 0px; fill: rgb(0, 144, 240); fill-opacity: 1;\"/><path class=\"point\" transform=\"translate(300.78,158.6)\" d=\"M1.5,0A1.5,1.5 0 1,1 0,-1.5A1.5,1.5 0 0,1 1.5,0Z\" style=\"opacity: 1; stroke-width: 0px; fill: rgb(0, 144, 240); fill-opacity: 1;\"/><path class=\"point\" transform=\"translate(243.11,145.14)\" d=\"M1.5,0A1.5,1.5 0 1,1 0,-1.5A1.5,1.5 0 0,1 1.5,0Z\" style=\"opacity: 1; stroke-width: 0px; fill: rgb(0, 144, 240); fill-opacity: 1;\"/><path class=\"point\" transform=\"translate(100.21,93.73)\" d=\"M1.5,0A1.5,1.5 0 1,1 0,-1.5A1.5,1.5 0 0,1 1.5,0Z\" style=\"opacity: 1; stroke-width: 0px; fill: rgb(0, 144, 240); fill-opacity: 1;\"/><path class=\"point\" transform=\"translate(30.25,84.34)\" d=\"M1.5,0A1.5,1.5 0 1,1 0,-1.5A1.5,1.5 0 0,1 1.5,0Z\" style=\"opacity: 1; stroke-width: 0px; fill: rgb(0, 144, 240); fill-opacity: 1;\"/></g><g class=\"text\"/></g><g class=\"trace scatter trace0444f2\" style=\"stroke-miterlimit: 2; opacity: 1;\"><g class=\"fills\"/><g class=\"errorbars\"/><g class=\"lines\"/><g class=\"points\"><path class=\"point\" transform=\"translate(30.25,84.34)\" d=\"M1.5,0A1.5,1.5 0 1,1 0,-1.5A1.5,1.5 0 0,1 1.5,0Z\" style=\"opacity: 1; stroke-width: 0px; fill: rgb(0, 123, 240); fill-opacity: 1;\"/><path class=\"point\" transform=\"translate(223.18,157.38)\" d=\"M1.5,0A1.5,1.5 0 1,1 0,-1.5A1.5,1.5 0 0,1 1.5,0Z\" style=\"opacity: 1; stroke-width: 0px; fill: rgb(0, 123, 240); fill-opacity: 1;\"/><path class=\"point\" transform=\"translate(316.04,196.54)\" d=\"M1.5,0A1.5,1.5 0 1,1 0,-1.5A1.5,1.5 0 0,1 1.5,0Z\" style=\"opacity: 1; stroke-width: 0px; fill: rgb(0, 123, 240); fill-opacity: 1;\"/><path class=\"point\" transform=\"translate(330.03,193.28)\" d=\"M1.5,0A1.5,1.5 0 1,1 0,-1.5A1.5,1.5 0 0,1 1.5,0Z\" style=\"opacity: 1; stroke-width: 0px; fill: rgb(0, 123, 240); fill-opacity: 1;\"/><path class=\"point\" transform=\"translate(338.09,196.14)\" d=\"M1.5,0A1.5,1.5 0 1,1 0,-1.5A1.5,1.5 0 0,1 1.5,0Z\" style=\"opacity: 1; stroke-width: 0px; fill: rgb(0, 123, 240); fill-opacity: 1;\"/><path class=\"point\" transform=\"translate(365.65,195.73)\" d=\"M1.5,0A1.5,1.5 0 1,1 0,-1.5A1.5,1.5 0 0,1 1.5,0Z\" style=\"opacity: 1; stroke-width: 0px; fill: rgb(0, 123, 240); fill-opacity: 1;\"/><path class=\"point\" transform=\"translate(369.89,195.73)\" d=\"M1.5,0A1.5,1.5 0 1,1 0,-1.5A1.5,1.5 0 0,1 1.5,0Z\" style=\"opacity: 1; stroke-width: 0px; fill: rgb(0, 123, 240); fill-opacity: 1;\"/><path class=\"point\" transform=\"translate(378.8,201.03)\" d=\"M1.5,0A1.5,1.5 0 1,1 0,-1.5A1.5,1.5 0 0,1 1.5,0Z\" style=\"opacity: 1; stroke-width: 0px; fill: rgb(0, 123, 240); fill-opacity: 1;\"/><path class=\"point\" transform=\"translate(393.21,196.95)\" d=\"M1.5,0A1.5,1.5 0 1,1 0,-1.5A1.5,1.5 0 0,1 1.5,0Z\" style=\"opacity: 1; stroke-width: 0px; fill: rgb(0, 123, 240); fill-opacity: 1;\"/><path class=\"point\" transform=\"translate(391.94,199.4)\" d=\"M1.5,0A1.5,1.5 0 1,1 0,-1.5A1.5,1.5 0 0,1 1.5,0Z\" style=\"opacity: 1; stroke-width: 0px; fill: rgb(0, 123, 240); fill-opacity: 1;\"/><path class=\"point\" transform=\"translate(386.43,205.93)\" d=\"M1.5,0A1.5,1.5 0 1,1 0,-1.5A1.5,1.5 0 0,1 1.5,0Z\" style=\"opacity: 1; stroke-width: 0px; fill: rgb(0, 123, 240); fill-opacity: 1;\"/><path class=\"point\" transform=\"translate(389.82,216.13)\" d=\"M1.5,0A1.5,1.5 0 1,1 0,-1.5A1.5,1.5 0 0,1 1.5,0Z\" style=\"opacity: 1; stroke-width: 0px; fill: rgb(0, 123, 240); fill-opacity: 1;\"/><path class=\"point\" transform=\"translate(382.61,230)\" d=\"M1.5,0A1.5,1.5 0 1,1 0,-1.5A1.5,1.5 0 0,1 1.5,0Z\" style=\"opacity: 1; stroke-width: 0px; fill: rgb(0, 123, 240); fill-opacity: 1;\"/><path class=\"point\" transform=\"translate(400.85,214.09)\" d=\"M1.5,0A1.5,1.5 0 1,1 0,-1.5A1.5,1.5 0 0,1 1.5,0Z\" style=\"opacity: 1; stroke-width: 0px; fill: rgb(0, 123, 240); fill-opacity: 1;\"/><path class=\"point\" transform=\"translate(405.51,216.13)\" d=\"M1.5,0A1.5,1.5 0 1,1 0,-1.5A1.5,1.5 0 0,1 1.5,0Z\" style=\"opacity: 1; stroke-width: 0px; fill: rgb(0, 123, 240); fill-opacity: 1;\"/><path class=\"point\" transform=\"translate(411.87,218.17)\" d=\"M1.5,0A1.5,1.5 0 1,1 0,-1.5A1.5,1.5 0 0,1 1.5,0Z\" style=\"opacity: 1; stroke-width: 0px; fill: rgb(0, 123, 240); fill-opacity: 1;\"/><path class=\"point\" transform=\"translate(412.72,209.19)\" d=\"M1.5,0A1.5,1.5 0 1,1 0,-1.5A1.5,1.5 0 0,1 1.5,0Z\" style=\"opacity: 1; stroke-width: 0px; fill: rgb(0, 123, 240); fill-opacity: 1;\"/><path class=\"point\" transform=\"translate(416.53,203.89)\" d=\"M1.5,0A1.5,1.5 0 1,1 0,-1.5A1.5,1.5 0 0,1 1.5,0Z\" style=\"opacity: 1; stroke-width: 0px; fill: rgb(0, 123, 240); fill-opacity: 1;\"/><path class=\"point\" transform=\"translate(453,188.38)\" d=\"M1.5,0A1.5,1.5 0 1,1 0,-1.5A1.5,1.5 0 0,1 1.5,0Z\" style=\"opacity: 1; stroke-width: 0px; fill: rgb(0, 123, 240); fill-opacity: 1;\"/><path class=\"point\" transform=\"translate(449.61,169.21)\" d=\"M1.5,0A1.5,1.5 0 1,1 0,-1.5A1.5,1.5 0 0,1 1.5,0Z\" style=\"opacity: 1; stroke-width: 0px; fill: rgb(0, 123, 240); fill-opacity: 1;\"/><path class=\"point\" transform=\"translate(444.52,170.84)\" d=\"M1.5,0A1.5,1.5 0 1,1 0,-1.5A1.5,1.5 0 0,1 1.5,0Z\" style=\"opacity: 1; stroke-width: 0px; fill: rgb(0, 123, 240); fill-opacity: 1;\"/><path class=\"point\" transform=\"translate(442.4,171.66)\" d=\"M1.5,0A1.5,1.5 0 1,1 0,-1.5A1.5,1.5 0 0,1 1.5,0Z\" style=\"opacity: 1; stroke-width: 0px; fill: rgb(0, 123, 240); fill-opacity: 1;\"/><path class=\"point\" transform=\"translate(432.65,175.74)\" d=\"M1.5,0A1.5,1.5 0 1,1 0,-1.5A1.5,1.5 0 0,1 1.5,0Z\" style=\"opacity: 1; stroke-width: 0px; fill: rgb(0, 123, 240); fill-opacity: 1;\"/><path class=\"point\" transform=\"translate(432.65,180.22)\" d=\"M1.5,0A1.5,1.5 0 1,1 0,-1.5A1.5,1.5 0 0,1 1.5,0Z\" style=\"opacity: 1; stroke-width: 0px; fill: rgb(0, 123, 240); fill-opacity: 1;\"/><path class=\"point\" transform=\"translate(404.24,183.9)\" d=\"M1.5,0A1.5,1.5 0 1,1 0,-1.5A1.5,1.5 0 0,1 1.5,0Z\" style=\"opacity: 1; stroke-width: 0px; fill: rgb(0, 123, 240); fill-opacity: 1;\"/><path class=\"point\" transform=\"translate(404.24,182.67)\" d=\"M1.5,0A1.5,1.5 0 1,1 0,-1.5A1.5,1.5 0 0,1 1.5,0Z\" style=\"opacity: 1; stroke-width: 0px; fill: rgb(0, 123, 240); fill-opacity: 1;\"/><path class=\"point\" transform=\"translate(399.57,182.67)\" d=\"M1.5,0A1.5,1.5 0 1,1 0,-1.5A1.5,1.5 0 0,1 1.5,0Z\" style=\"opacity: 1; stroke-width: 0px; fill: rgb(0, 123, 240); fill-opacity: 1;\"/><path class=\"point\" transform=\"translate(393.64,178.18)\" d=\"M1.5,0A1.5,1.5 0 1,1 0,-1.5A1.5,1.5 0 0,1 1.5,0Z\" style=\"opacity: 1; stroke-width: 0px; fill: rgb(0, 123, 240); fill-opacity: 1;\"/><path class=\"point\" transform=\"translate(389.4,171.25)\" d=\"M1.5,0A1.5,1.5 0 1,1 0,-1.5A1.5,1.5 0 0,1 1.5,0Z\" style=\"opacity: 1; stroke-width: 0px; fill: rgb(0, 123, 240); fill-opacity: 1;\"/><path class=\"point\" transform=\"translate(383.88,168.8)\" d=\"M1.5,0A1.5,1.5 0 1,1 0,-1.5A1.5,1.5 0 0,1 1.5,0Z\" style=\"opacity: 1; stroke-width: 0px; fill: rgb(0, 123, 240); fill-opacity: 1;\"/><path class=\"point\" transform=\"translate(30.25,84.34)\" d=\"M1.5,0A1.5,1.5 0 1,1 0,-1.5A1.5,1.5 0 0,1 1.5,0Z\" style=\"opacity: 1; stroke-width: 0px; fill: rgb(0, 123, 240); fill-opacity: 1;\"/></g><g class=\"text\"/></g><g class=\"trace scatter tracecdf41b\" style=\"stroke-miterlimit: 2; opacity: 1;\"><g class=\"fills\"/><g class=\"errorbars\"/><g class=\"lines\"/><g class=\"points\"><path class=\"point\" transform=\"translate(30.25,84.34)\" d=\"M1.5,0A1.5,1.5 0 1,1 0,-1.5A1.5,1.5 0 0,1 1.5,0Z\" style=\"opacity: 1; stroke-width: 0px; fill: rgb(0, 101, 240); fill-opacity: 1;\"/><path class=\"point\" transform=\"translate(103.18,102.7)\" d=\"M1.5,0A1.5,1.5 0 1,1 0,-1.5A1.5,1.5 0 0,1 1.5,0Z\" style=\"opacity: 1; stroke-width: 0px; fill: rgb(0, 101, 240); fill-opacity: 1;\"/><path class=\"point\" transform=\"translate(131.59,113.72)\" d=\"M1.5,0A1.5,1.5 0 1,1 0,-1.5A1.5,1.5 0 0,1 1.5,0Z\" style=\"opacity: 1; stroke-width: 0px; fill: rgb(0, 101, 240); fill-opacity: 1;\"/><path class=\"point\" transform=\"translate(150.25,120.25)\" d=\"M1.5,0A1.5,1.5 0 1,1 0,-1.5A1.5,1.5 0 0,1 1.5,0Z\" style=\"opacity: 1; stroke-width: 0px; fill: rgb(0, 101, 240); fill-opacity: 1;\"/><path class=\"point\" transform=\"translate(189.26,145.14)\" d=\"M1.5,0A1.5,1.5 0 1,1 0,-1.5A1.5,1.5 0 0,1 1.5,0Z\" style=\"opacity: 1; stroke-width: 0px; fill: rgb(0, 101, 240); fill-opacity: 1;\"/><path class=\"point\" transform=\"translate(231.66,141.46)\" d=\"M1.5,0A1.5,1.5 0 1,1 0,-1.5A1.5,1.5 0 0,1 1.5,0Z\" style=\"opacity: 1; stroke-width: 0px; fill: rgb(0, 101, 240); fill-opacity: 1;\"/><path class=\"point\" transform=\"translate(233.36,136.98)\" d=\"M1.5,0A1.5,1.5 0 1,1 0,-1.5A1.5,1.5 0 0,1 1.5,0Z\" style=\"opacity: 1; stroke-width: 0px; fill: rgb(0, 101, 240); fill-opacity: 1;\"/><path class=\"point\" transform=\"translate(241.41,137.79)\" d=\"M1.5,0A1.5,1.5 0 1,1 0,-1.5A1.5,1.5 0 0,1 1.5,0Z\" style=\"opacity: 1; stroke-width: 0px; fill: rgb(0, 101, 240); fill-opacity: 1;\"/><path class=\"point\" transform=\"translate(266.43,129.63)\" d=\"M1.5,0A1.5,1.5 0 1,1 0,-1.5A1.5,1.5 0 0,1 1.5,0Z\" style=\"opacity: 1; stroke-width: 0px; fill: rgb(0, 101, 240); fill-opacity: 1;\"/><path class=\"point\" transform=\"translate(270.67,132.08)\" d=\"M1.5,0A1.5,1.5 0 1,1 0,-1.5A1.5,1.5 0 0,1 1.5,0Z\" style=\"opacity: 1; stroke-width: 0px; fill: rgb(0, 101, 240); fill-opacity: 1;\"/><path class=\"point\" transform=\"translate(275.76,125.14)\" d=\"M1.5,0A1.5,1.5 0 1,1 0,-1.5A1.5,1.5 0 0,1 1.5,0Z\" style=\"opacity: 1; stroke-width: 0px; fill: rgb(0, 101, 240); fill-opacity: 1;\"/><path class=\"point\" transform=\"translate(270.25,119.43)\" d=\"M1.5,0A1.5,1.5 0 1,1 0,-1.5A1.5,1.5 0 0,1 1.5,0Z\" style=\"opacity: 1; stroke-width: 0px; fill: rgb(0, 101, 240); fill-opacity: 1;\"/><path class=\"point\" transform=\"translate(260.49,105.15)\" d=\"M1.5,0A1.5,1.5 0 1,1 0,-1.5A1.5,1.5 0 0,1 1.5,0Z\" style=\"opacity: 1; stroke-width: 0px; fill: rgb(0, 101, 240); fill-opacity: 1;\"/><path class=\"point\" transform=\"translate(253.71,102.3)\" d=\"M1.5,0A1.5,1.5 0 1,1 0,-1.5A1.5,1.5 0 0,1 1.5,0Z\" style=\"opacity: 1; stroke-width: 0px; fill: rgb(0, 101, 240); fill-opacity: 1;\"/><path class=\"point\" transform=\"translate(249.89,107.19)\" d=\"M1.5,0A1.5,1.5 0 1,1 0,-1.5A1.5,1.5 0 0,1 1.5,0Z\" style=\"opacity: 1; stroke-width: 0px; fill: rgb(0, 101, 240); fill-opacity: 1;\"/><path class=\"point\" transform=\"translate(251.59,110.46)\" d=\"M1.5,0A1.5,1.5 0 1,1 0,-1.5A1.5,1.5 0 0,1 1.5,0Z\" style=\"opacity: 1; stroke-width: 0px; fill: rgb(0, 101, 240); fill-opacity: 1;\"/><path class=\"point\" transform=\"translate(234.63,107.19)\" d=\"M1.5,0A1.5,1.5 0 1,1 0,-1.5A1.5,1.5 0 0,1 1.5,0Z\" style=\"opacity: 1; stroke-width: 0px; fill: rgb(0, 101, 240); fill-opacity: 1;\"/><path class=\"point\" transform=\"translate(219.79,115.35)\" d=\"M1.5,0A1.5,1.5 0 1,1 0,-1.5A1.5,1.5 0 0,1 1.5,0Z\" style=\"opacity: 1; stroke-width: 0px; fill: rgb(0, 101, 240); fill-opacity: 1;\"/><path class=\"point\" transform=\"translate(208.76,108.42)\" d=\"M1.5,0A1.5,1.5 0 1,1 0,-1.5A1.5,1.5 0 0,1 1.5,0Z\" style=\"opacity: 1; stroke-width: 0px; fill: rgb(0, 101, 240); fill-opacity: 1;\"/><path class=\"point\" transform=\"translate(187.99,109.64)\" d=\"M1.5,0A1.5,1.5 0 1,1 0,-1.5A1.5,1.5 0 0,1 1.5,0Z\" style=\"opacity: 1; stroke-width: 0px; fill: rgb(0, 101, 240); fill-opacity: 1;\"/><path class=\"point\" transform=\"translate(187.14,108.01)\" d=\"M1.5,0A1.5,1.5 0 1,1 0,-1.5A1.5,1.5 0 0,1 1.5,0Z\" style=\"opacity: 1; stroke-width: 0px; fill: rgb(0, 101, 240); fill-opacity: 1;\"/><path class=\"point\" transform=\"translate(165.51,113.31)\" d=\"M1.5,0A1.5,1.5 0 1,1 0,-1.5A1.5,1.5 0 0,1 1.5,0Z\" style=\"opacity: 1; stroke-width: 0px; fill: rgb(0, 101, 240); fill-opacity: 1;\"/><path class=\"point\" transform=\"translate(126.5,104.74)\" d=\"M1.5,0A1.5,1.5 0 1,1 0,-1.5A1.5,1.5 0 0,1 1.5,0Z\" style=\"opacity: 1; stroke-width: 0px; fill: rgb(0, 101, 240); fill-opacity: 1;\"/><path class=\"point\" transform=\"translate(85.8,96.99)\" d=\"M1.5,0A1.5,1.5 0 1,1 0,-1.5A1.5,1.5 0 0,1 1.5,0Z\" style=\"opacity: 1; stroke-width: 0px; fill: rgb(0, 101, 240); fill-opacity: 1;\"/><path class=\"point\" transform=\"translate(30.25,84.34)\" d=\"M1.5,0A1.5,1.5 0 1,1 0,-1.5A1.5,1.5 0 0,1 1.5,0Z\" style=\"opacity: 1; stroke-width: 0px; fill: rgb(0, 101, 240); fill-opacity: 1;\"/></g><g class=\"text\"/></g><g class=\"trace scatter trace5c2bf0\" style=\"stroke-miterlimit: 2; opacity: 1;\"><g class=\"fills\"/><g class=\"errorbars\"/><g class=\"lines\"/><g class=\"points\"><path class=\"point\" transform=\"translate(30.25,84.34)\" d=\"M1.5,0A1.5,1.5 0 1,1 0,-1.5A1.5,1.5 0 0,1 1.5,0Z\" style=\"opacity: 1; stroke-width: 0px; fill: rgb(0, 76, 240); fill-opacity: 1;\"/><path class=\"point\" transform=\"translate(252.01,120.66)\" d=\"M1.5,0A1.5,1.5 0 1,1 0,-1.5A1.5,1.5 0 0,1 1.5,0Z\" style=\"opacity: 1; stroke-width: 0px; fill: rgb(0, 76, 240); fill-opacity: 1;\"/><path class=\"point\" transform=\"translate(303.74,126.78)\" d=\"M1.5,0A1.5,1.5 0 1,1 0,-1.5A1.5,1.5 0 0,1 1.5,0Z\" style=\"opacity: 1; stroke-width: 0px; fill: rgb(0, 76, 240); fill-opacity: 1;\"/><path class=\"point\" transform=\"translate(320.28,128)\" d=\"M1.5,0A1.5,1.5 0 1,1 0,-1.5A1.5,1.5 0 0,1 1.5,0Z\" style=\"opacity: 1; stroke-width: 0px; fill: rgb(0, 76, 240); fill-opacity: 1;\"/><path class=\"point\" transform=\"translate(324.1,135.34)\" d=\"M1.5,0A1.5,1.5 0 1,1 0,-1.5A1.5,1.5 0 0,1 1.5,0Z\" style=\"opacity: 1; stroke-width: 0px; fill: rgb(0, 76, 240); fill-opacity: 1;\"/><path class=\"point\" transform=\"translate(333.85,146.77)\" d=\"M1.5,0A1.5,1.5 0 1,1 0,-1.5A1.5,1.5 0 0,1 1.5,0Z\" style=\"opacity: 1; stroke-width: 0px; fill: rgb(0, 76, 240); fill-opacity: 1;\"/><path class=\"point\" transform=\"translate(332.15,154.52)\" d=\"M1.5,0A1.5,1.5 0 1,1 0,-1.5A1.5,1.5 0 0,1 1.5,0Z\" style=\"opacity: 1; stroke-width: 0px; fill: rgb(0, 76, 240); fill-opacity: 1;\"/><path class=\"point\" transform=\"translate(335.12,151.66)\" d=\"M1.5,0A1.5,1.5 0 1,1 0,-1.5A1.5,1.5 0 0,1 1.5,0Z\" style=\"opacity: 1; stroke-width: 0px; fill: rgb(0, 76, 240); fill-opacity: 1;\"/><path class=\"point\" transform=\"translate(349.11,147.18)\" d=\"M1.5,0A1.5,1.5 0 1,1 0,-1.5A1.5,1.5 0 0,1 1.5,0Z\" style=\"opacity: 1; stroke-width: 0px; fill: rgb(0, 76, 240); fill-opacity: 1;\"/><path class=\"point\" transform=\"translate(350.39,145.14)\" d=\"M1.5,0A1.5,1.5 0 1,1 0,-1.5A1.5,1.5 0 0,1 1.5,0Z\" style=\"opacity: 1; stroke-width: 0px; fill: rgb(0, 76, 240); fill-opacity: 1;\"/><path class=\"point\" transform=\"translate(359.29,148.4)\" d=\"M1.5,0A1.5,1.5 0 1,1 0,-1.5A1.5,1.5 0 0,1 1.5,0Z\" style=\"opacity: 1; stroke-width: 0px; fill: rgb(0, 76, 240); fill-opacity: 1;\"/><path class=\"point\" transform=\"translate(363.53,143.5)\" d=\"M1.5,0A1.5,1.5 0 1,1 0,-1.5A1.5,1.5 0 0,1 1.5,0Z\" style=\"opacity: 1; stroke-width: 0px; fill: rgb(0, 76, 240); fill-opacity: 1;\"/><path class=\"point\" transform=\"translate(366.08,142.69)\" d=\"M1.5,0A1.5,1.5 0 1,1 0,-1.5A1.5,1.5 0 0,1 1.5,0Z\" style=\"opacity: 1; stroke-width: 0px; fill: rgb(0, 76, 240); fill-opacity: 1;\"/><path class=\"point\" transform=\"translate(363.96,138.61)\" d=\"M1.5,0A1.5,1.5 0 1,1 0,-1.5A1.5,1.5 0 0,1 1.5,0Z\" style=\"opacity: 1; stroke-width: 0px; fill: rgb(0, 76, 240); fill-opacity: 1;\"/><path class=\"point\" transform=\"translate(356.75,130.86)\" d=\"M1.5,0A1.5,1.5 0 1,1 0,-1.5A1.5,1.5 0 0,1 1.5,0Z\" style=\"opacity: 1; stroke-width: 0px; fill: rgb(0, 76, 240); fill-opacity: 1;\"/><path class=\"point\" transform=\"translate(345.72,120.66)\" d=\"M1.5,0A1.5,1.5 0 1,1 0,-1.5A1.5,1.5 0 0,1 1.5,0Z\" style=\"opacity: 1; stroke-width: 0px; fill: rgb(0, 76, 240); fill-opacity: 1;\"/><path class=\"point\" transform=\"translate(341.91,128.41)\" d=\"M1.5,0A1.5,1.5 0 1,1 0,-1.5A1.5,1.5 0 0,1 1.5,0Z\" style=\"opacity: 1; stroke-width: 0px; fill: rgb(0, 76, 240); fill-opacity: 1;\"/><path class=\"point\" transform=\"translate(335.55,125.14)\" d=\"M1.5,0A1.5,1.5 0 1,1 0,-1.5A1.5,1.5 0 0,1 1.5,0Z\" style=\"opacity: 1; stroke-width: 0px; fill: rgb(0, 76, 240); fill-opacity: 1;\"/><path class=\"point\" transform=\"translate(328.34,120.25)\" d=\"M1.5,0A1.5,1.5 0 1,1 0,-1.5A1.5,1.5 0 0,1 1.5,0Z\" style=\"opacity: 1; stroke-width: 0px; fill: rgb(0, 76, 240); fill-opacity: 1;\"/><path class=\"point\" transform=\"translate(312.65,116.98)\" d=\"M1.5,0A1.5,1.5 0 1,1 0,-1.5A1.5,1.5 0 0,1 1.5,0Z\" style=\"opacity: 1; stroke-width: 0px; fill: rgb(0, 76, 240); fill-opacity: 1;\"/><path class=\"point\" transform=\"translate(306.29,108.42)\" d=\"M1.5,0A1.5,1.5 0 1,1 0,-1.5A1.5,1.5 0 0,1 1.5,0Z\" style=\"opacity: 1; stroke-width: 0px; fill: rgb(0, 76, 240); fill-opacity: 1;\"/><path class=\"point\" transform=\"translate(288.06,113.31)\" d=\"M1.5,0A1.5,1.5 0 1,1 0,-1.5A1.5,1.5 0 0,1 1.5,0Z\" style=\"opacity: 1; stroke-width: 0px; fill: rgb(0, 76, 240); fill-opacity: 1;\"/><path class=\"point\" transform=\"translate(100.21,93.73)\" d=\"M1.5,0A1.5,1.5 0 1,1 0,-1.5A1.5,1.5 0 0,1 1.5,0Z\" style=\"opacity: 1; stroke-width: 0px; fill: rgb(0, 76, 240); fill-opacity: 1;\"/><path class=\"point\" transform=\"translate(30.25,84.34)\" d=\"M1.5,0A1.5,1.5 0 1,1 0,-1.5A1.5,1.5 0 0,1 1.5,0Z\" style=\"opacity: 1; stroke-width: 0px; fill: rgb(0, 76, 240); fill-opacity: 1;\"/></g><g class=\"text\"/></g><g class=\"trace scatter traceb88206\" style=\"stroke-miterlimit: 2; opacity: 1;\"><g class=\"fills\"/><g class=\"errorbars\"/><g class=\"lines\"/><g class=\"points\"><path class=\"point\" transform=\"translate(30.25,84.34)\" d=\"M1.5,0A1.5,1.5 0 1,1 0,-1.5A1.5,1.5 0 0,1 1.5,0Z\" style=\"opacity: 1; stroke-width: 0px; fill: rgb(23, 72, 240); fill-opacity: 1;\"/><path class=\"point\" transform=\"translate(241.41,93.73)\" d=\"M1.5,0A1.5,1.5 0 1,1 0,-1.5A1.5,1.5 0 0,1 1.5,0Z\" style=\"opacity: 1; stroke-width: 0px; fill: rgb(23, 72, 240); fill-opacity: 1;\"/><path class=\"point\" transform=\"translate(331.73,116.17)\" d=\"M1.5,0A1.5,1.5 0 1,1 0,-1.5A1.5,1.5 0 0,1 1.5,0Z\" style=\"opacity: 1; stroke-width: 0px; fill: rgb(23, 72, 240); fill-opacity: 1;\"/><path class=\"point\" transform=\"translate(347.84,112.5)\" d=\"M1.5,0A1.5,1.5 0 1,1 0,-1.5A1.5,1.5 0 0,1 1.5,0Z\" style=\"opacity: 1; stroke-width: 0px; fill: rgb(23, 72, 240); fill-opacity: 1;\"/><path class=\"point\" transform=\"translate(371.16,118.62)\" d=\"M1.5,0A1.5,1.5 0 1,1 0,-1.5A1.5,1.5 0 0,1 1.5,0Z\" style=\"opacity: 1; stroke-width: 0px; fill: rgb(23, 72, 240); fill-opacity: 1;\"/><path class=\"point\" transform=\"translate(381.76,125.96)\" d=\"M1.5,0A1.5,1.5 0 1,1 0,-1.5A1.5,1.5 0 0,1 1.5,0Z\" style=\"opacity: 1; stroke-width: 0px; fill: rgb(23, 72, 240); fill-opacity: 1;\"/><path class=\"point\" transform=\"translate(387.7,126.78)\" d=\"M1.5,0A1.5,1.5 0 1,1 0,-1.5A1.5,1.5 0 0,1 1.5,0Z\" style=\"opacity: 1; stroke-width: 0px; fill: rgb(23, 72, 240); fill-opacity: 1;\"/><path class=\"point\" transform=\"translate(400,132.08)\" d=\"M1.5,0A1.5,1.5 0 1,1 0,-1.5A1.5,1.5 0 0,1 1.5,0Z\" style=\"opacity: 1; stroke-width: 0px; fill: rgb(23, 72, 240); fill-opacity: 1;\"/><path class=\"point\" transform=\"translate(407.21,131.67)\" d=\"M1.5,0A1.5,1.5 0 1,1 0,-1.5A1.5,1.5 0 0,1 1.5,0Z\" style=\"opacity: 1; stroke-width: 0px; fill: rgb(23, 72, 240); fill-opacity: 1;\"/><path class=\"point\" transform=\"translate(401.27,140.24)\" d=\"M1.5,0A1.5,1.5 0 1,1 0,-1.5A1.5,1.5 0 0,1 1.5,0Z\" style=\"opacity: 1; stroke-width: 0px; fill: rgb(23, 72, 240); fill-opacity: 1;\"/><path class=\"point\" transform=\"translate(405.93,139.83)\" d=\"M1.5,0A1.5,1.5 0 1,1 0,-1.5A1.5,1.5 0 0,1 1.5,0Z\" style=\"opacity: 1; stroke-width: 0px; fill: rgb(23, 72, 240); fill-opacity: 1;\"/><path class=\"point\" transform=\"translate(405.51,141.46)\" d=\"M1.5,0A1.5,1.5 0 1,1 0,-1.5A1.5,1.5 0 0,1 1.5,0Z\" style=\"opacity: 1; stroke-width: 0px; fill: rgb(23, 72, 240); fill-opacity: 1;\"/><path class=\"point\" transform=\"translate(414.84,146.77)\" d=\"M1.5,0A1.5,1.5 0 1,1 0,-1.5A1.5,1.5 0 0,1 1.5,0Z\" style=\"opacity: 1; stroke-width: 0px; fill: rgb(23, 72, 240); fill-opacity: 1;\"/><path class=\"point\" transform=\"translate(415.69,145.14)\" d=\"M1.5,0A1.5,1.5 0 1,1 0,-1.5A1.5,1.5 0 0,1 1.5,0Z\" style=\"opacity: 1; stroke-width: 0px; fill: rgb(23, 72, 240); fill-opacity: 1;\"/><path class=\"point\" transform=\"translate(420.77,146.36)\" d=\"M1.5,0A1.5,1.5 0 1,1 0,-1.5A1.5,1.5 0 0,1 1.5,0Z\" style=\"opacity: 1; stroke-width: 0px; fill: rgb(23, 72, 240); fill-opacity: 1;\"/><path class=\"point\" transform=\"translate(432.65,150.03)\" d=\"M1.5,0A1.5,1.5 0 1,1 0,-1.5A1.5,1.5 0 0,1 1.5,0Z\" style=\"opacity: 1; stroke-width: 0px; fill: rgb(23, 72, 240); fill-opacity: 1;\"/><path class=\"point\" transform=\"translate(433.07,157.78)\" d=\"M1.5,0A1.5,1.5 0 1,1 0,-1.5A1.5,1.5 0 0,1 1.5,0Z\" style=\"opacity: 1; stroke-width: 0px; fill: rgb(23, 72, 240); fill-opacity: 1;\"/><path class=\"point\" transform=\"translate(430.95,158.6)\" d=\"M1.5,0A1.5,1.5 0 1,1 0,-1.5A1.5,1.5 0 0,1 1.5,0Z\" style=\"opacity: 1; stroke-width: 0px; fill: rgb(23, 72, 240); fill-opacity: 1;\"/><path class=\"point\" transform=\"translate(419.5,158.6)\" d=\"M1.5,0A1.5,1.5 0 1,1 0,-1.5A1.5,1.5 0 0,1 1.5,0Z\" style=\"opacity: 1; stroke-width: 0px; fill: rgb(23, 72, 240); fill-opacity: 1;\"/><path class=\"point\" transform=\"translate(405.09,154.93)\" d=\"M1.5,0A1.5,1.5 0 1,1 0,-1.5A1.5,1.5 0 0,1 1.5,0Z\" style=\"opacity: 1; stroke-width: 0px; fill: rgb(23, 72, 240); fill-opacity: 1;\"/><path class=\"point\" transform=\"translate(398.73,164.31)\" d=\"M1.5,0A1.5,1.5 0 1,1 0,-1.5A1.5,1.5 0 0,1 1.5,0Z\" style=\"opacity: 1; stroke-width: 0px; fill: rgb(23, 72, 240); fill-opacity: 1;\"/><path class=\"point\" transform=\"translate(395.33,159.42)\" d=\"M1.5,0A1.5,1.5 0 1,1 0,-1.5A1.5,1.5 0 0,1 1.5,0Z\" style=\"opacity: 1; stroke-width: 0px; fill: rgb(23, 72, 240); fill-opacity: 1;\"/><path class=\"point\" transform=\"translate(384.31,159.42)\" d=\"M1.5,0A1.5,1.5 0 1,1 0,-1.5A1.5,1.5 0 0,1 1.5,0Z\" style=\"opacity: 1; stroke-width: 0px; fill: rgb(23, 72, 240); fill-opacity: 1;\"/><path class=\"point\" transform=\"translate(361.84,154.52)\" d=\"M1.5,0A1.5,1.5 0 1,1 0,-1.5A1.5,1.5 0 0,1 1.5,0Z\" style=\"opacity: 1; stroke-width: 0px; fill: rgb(23, 72, 240); fill-opacity: 1;\"/><path class=\"point\" transform=\"translate(355.05,152.89)\" d=\"M1.5,0A1.5,1.5 0 1,1 0,-1.5A1.5,1.5 0 0,1 1.5,0Z\" style=\"opacity: 1; stroke-width: 0px; fill: rgb(23, 72, 240); fill-opacity: 1;\"/><path class=\"point\" transform=\"translate(337.24,139.02)\" d=\"M1.5,0A1.5,1.5 0 1,1 0,-1.5A1.5,1.5 0 0,1 1.5,0Z\" style=\"opacity: 1; stroke-width: 0px; fill: rgb(23, 72, 240); fill-opacity: 1;\"/><path class=\"point\" transform=\"translate(283.39,138.61)\" d=\"M1.5,0A1.5,1.5 0 1,1 0,-1.5A1.5,1.5 0 0,1 1.5,0Z\" style=\"opacity: 1; stroke-width: 0px; fill: rgb(23, 72, 240); fill-opacity: 1;\"/><path class=\"point\" transform=\"translate(263.89,125.55)\" d=\"M1.5,0A1.5,1.5 0 1,1 0,-1.5A1.5,1.5 0 0,1 1.5,0Z\" style=\"opacity: 1; stroke-width: 0px; fill: rgb(23, 72, 240); fill-opacity: 1;\"/><path class=\"point\" transform=\"translate(30.25,84.34)\" d=\"M1.5,0A1.5,1.5 0 1,1 0,-1.5A1.5,1.5 0 0,1 1.5,0Z\" style=\"opacity: 1; stroke-width: 0px; fill: rgb(23, 72, 240); fill-opacity: 1;\"/></g><g class=\"text\"/></g><g class=\"trace scatter trace958883\" style=\"stroke-miterlimit: 2; opacity: 1;\"><g class=\"fills\"/><g class=\"errorbars\"/><g class=\"lines\"/><g class=\"points\"><path class=\"point\" transform=\"translate(30.25,84.34)\" d=\"M1.5,0A1.5,1.5 0 1,1 0,-1.5A1.5,1.5 0 0,1 1.5,0Z\" style=\"opacity: 1; stroke-width: 0px; fill: rgb(54, 72, 240); fill-opacity: 1;\"/><path class=\"point\" transform=\"translate(348.27,110.86)\" d=\"M1.5,0A1.5,1.5 0 1,1 0,-1.5A1.5,1.5 0 0,1 1.5,0Z\" style=\"opacity: 1; stroke-width: 0px; fill: rgb(54, 72, 240); fill-opacity: 1;\"/><path class=\"point\" transform=\"translate(371.16,109.23)\" d=\"M1.5,0A1.5,1.5 0 1,1 0,-1.5A1.5,1.5 0 0,1 1.5,0Z\" style=\"opacity: 1; stroke-width: 0px; fill: rgb(54, 72, 240); fill-opacity: 1;\"/><path class=\"point\" transform=\"translate(378.37,118.21)\" d=\"M1.5,0A1.5,1.5 0 1,1 0,-1.5A1.5,1.5 0 0,1 1.5,0Z\" style=\"opacity: 1; stroke-width: 0px; fill: rgb(54, 72, 240); fill-opacity: 1;\"/><path class=\"point\" transform=\"translate(380.92,117.39)\" d=\"M1.5,0A1.5,1.5 0 1,1 0,-1.5A1.5,1.5 0 0,1 1.5,0Z\" style=\"opacity: 1; stroke-width: 0px; fill: rgb(54, 72, 240); fill-opacity: 1;\"/><path class=\"point\" transform=\"translate(388.97,113.72)\" d=\"M1.5,0A1.5,1.5 0 1,1 0,-1.5A1.5,1.5 0 0,1 1.5,0Z\" style=\"opacity: 1; stroke-width: 0px; fill: rgb(54, 72, 240); fill-opacity: 1;\"/><path class=\"point\" transform=\"translate(406.36,121.88)\" d=\"M1.5,0A1.5,1.5 0 1,1 0,-1.5A1.5,1.5 0 0,1 1.5,0Z\" style=\"opacity: 1; stroke-width: 0px; fill: rgb(54, 72, 240); fill-opacity: 1;\"/><path class=\"point\" transform=\"translate(408.9,125.96)\" d=\"M1.5,0A1.5,1.5 0 1,1 0,-1.5A1.5,1.5 0 0,1 1.5,0Z\" style=\"opacity: 1; stroke-width: 0px; fill: rgb(54, 72, 240); fill-opacity: 1;\"/><path class=\"point\" transform=\"translate(411.02,128.82)\" d=\"M1.5,0A1.5,1.5 0 1,1 0,-1.5A1.5,1.5 0 0,1 1.5,0Z\" style=\"opacity: 1; stroke-width: 0px; fill: rgb(54, 72, 240); fill-opacity: 1;\"/><path class=\"point\" transform=\"translate(417.38,119.02)\" d=\"M1.5,0A1.5,1.5 0 1,1 0,-1.5A1.5,1.5 0 0,1 1.5,0Z\" style=\"opacity: 1; stroke-width: 0px; fill: rgb(54, 72, 240); fill-opacity: 1;\"/><path class=\"point\" transform=\"translate(422.05,129.22)\" d=\"M1.5,0A1.5,1.5 0 1,1 0,-1.5A1.5,1.5 0 0,1 1.5,0Z\" style=\"opacity: 1; stroke-width: 0px; fill: rgb(54, 72, 240); fill-opacity: 1;\"/><path class=\"point\" transform=\"translate(427.13,130.86)\" d=\"M1.5,0A1.5,1.5 0 1,1 0,-1.5A1.5,1.5 0 0,1 1.5,0Z\" style=\"opacity: 1; stroke-width: 0px; fill: rgb(54, 72, 240); fill-opacity: 1;\"/><path class=\"point\" transform=\"translate(432.65,121.47)\" d=\"M1.5,0A1.5,1.5 0 1,1 0,-1.5A1.5,1.5 0 0,1 1.5,0Z\" style=\"opacity: 1; stroke-width: 0px; fill: rgb(54, 72, 240); fill-opacity: 1;\"/><path class=\"point\" transform=\"translate(450.46,128.82)\" d=\"M1.5,0A1.5,1.5 0 1,1 0,-1.5A1.5,1.5 0 0,1 1.5,0Z\" style=\"opacity: 1; stroke-width: 0px; fill: rgb(54, 72, 240); fill-opacity: 1;\"/><path class=\"point\" transform=\"translate(444.52,116.17)\" d=\"M1.5,0A1.5,1.5 0 1,1 0,-1.5A1.5,1.5 0 0,1 1.5,0Z\" style=\"opacity: 1; stroke-width: 0px; fill: rgb(54, 72, 240); fill-opacity: 1;\"/><path class=\"point\" transform=\"translate(445.79,108.82)\" d=\"M1.5,0A1.5,1.5 0 1,1 0,-1.5A1.5,1.5 0 0,1 1.5,0Z\" style=\"opacity: 1; stroke-width: 0px; fill: rgb(54, 72, 240); fill-opacity: 1;\"/><path class=\"point\" transform=\"translate(443.67,101.48)\" d=\"M1.5,0A1.5,1.5 0 1,1 0,-1.5A1.5,1.5 0 0,1 1.5,0Z\" style=\"opacity: 1; stroke-width: 0px; fill: rgb(54, 72, 240); fill-opacity: 1;\"/><path class=\"point\" transform=\"translate(452.58,93.32)\" d=\"M1.5,0A1.5,1.5 0 1,1 0,-1.5A1.5,1.5 0 0,1 1.5,0Z\" style=\"opacity: 1; stroke-width: 0px; fill: rgb(54, 72, 240); fill-opacity: 1;\"/><path class=\"point\" transform=\"translate(444.94,79.86)\" d=\"M1.5,0A1.5,1.5 0 1,1 0,-1.5A1.5,1.5 0 0,1 1.5,0Z\" style=\"opacity: 1; stroke-width: 0px; fill: rgb(54, 72, 240); fill-opacity: 1;\"/><path class=\"point\" transform=\"translate(443.25,81.9)\" d=\"M1.5,0A1.5,1.5 0 1,1 0,-1.5A1.5,1.5 0 0,1 1.5,0Z\" style=\"opacity: 1; stroke-width: 0px; fill: rgb(54, 72, 240); fill-opacity: 1;\"/><path class=\"point\" transform=\"translate(426.71,96.99)\" d=\"M1.5,0A1.5,1.5 0 1,1 0,-1.5A1.5,1.5 0 0,1 1.5,0Z\" style=\"opacity: 1; stroke-width: 0px; fill: rgb(54, 72, 240); fill-opacity: 1;\"/><path class=\"point\" transform=\"translate(404.24,99.03)\" d=\"M1.5,0A1.5,1.5 0 1,1 0,-1.5A1.5,1.5 0 0,1 1.5,0Z\" style=\"opacity: 1; stroke-width: 0px; fill: rgb(54, 72, 240); fill-opacity: 1;\"/><path class=\"point\" transform=\"translate(382.61,93.73)\" d=\"M1.5,0A1.5,1.5 0 1,1 0,-1.5A1.5,1.5 0 0,1 1.5,0Z\" style=\"opacity: 1; stroke-width: 0px; fill: rgb(54, 72, 240); fill-opacity: 1;\"/><path class=\"point\" transform=\"translate(30.25,84.34)\" d=\"M1.5,0A1.5,1.5 0 1,1 0,-1.5A1.5,1.5 0 0,1 1.5,0Z\" style=\"opacity: 1; stroke-width: 0px; fill: rgb(54, 72, 240); fill-opacity: 1;\"/></g><g class=\"text\"/></g><g class=\"trace scatter traced30af2\" style=\"stroke-miterlimit: 2; opacity: 1;\"><g class=\"fills\"/><g class=\"errorbars\"/><g class=\"lines\"/><g class=\"points\"><path class=\"point\" transform=\"translate(30.25,84.34)\" d=\"M1.5,0A1.5,1.5 0 1,1 0,-1.5A1.5,1.5 0 0,1 1.5,0Z\" style=\"opacity: 1; stroke-width: 0px; fill: rgb(85, 72, 240); fill-opacity: 1;\"/><path class=\"point\" transform=\"translate(97.67,89.65)\" d=\"M1.5,0A1.5,1.5 0 1,1 0,-1.5A1.5,1.5 0 0,1 1.5,0Z\" style=\"opacity: 1; stroke-width: 0px; fill: rgb(85, 72, 240); fill-opacity: 1;\"/><path class=\"point\" transform=\"translate(126.93,93.32)\" d=\"M1.5,0A1.5,1.5 0 1,1 0,-1.5A1.5,1.5 0 0,1 1.5,0Z\" style=\"opacity: 1; stroke-width: 0px; fill: rgb(85, 72, 240); fill-opacity: 1;\"/><path class=\"point\" transform=\"translate(160,84.34)\" d=\"M1.5,0A1.5,1.5 0 1,1 0,-1.5A1.5,1.5 0 0,1 1.5,0Z\" style=\"opacity: 1; stroke-width: 0px; fill: rgb(85, 72, 240); fill-opacity: 1;\"/><path class=\"point\" transform=\"translate(171.03,85.16)\" d=\"M1.5,0A1.5,1.5 0 1,1 0,-1.5A1.5,1.5 0 0,1 1.5,0Z\" style=\"opacity: 1; stroke-width: 0px; fill: rgb(85, 72, 240); fill-opacity: 1;\"/><path class=\"point\" transform=\"translate(193.5,90.06)\" d=\"M1.5,0A1.5,1.5 0 1,1 0,-1.5A1.5,1.5 0 0,1 1.5,0Z\" style=\"opacity: 1; stroke-width: 0px; fill: rgb(85, 72, 240); fill-opacity: 1;\"/><path class=\"point\" transform=\"translate(205.37,88.83)\" d=\"M1.5,0A1.5,1.5 0 1,1 0,-1.5A1.5,1.5 0 0,1 1.5,0Z\" style=\"opacity: 1; stroke-width: 0px; fill: rgb(85, 72, 240); fill-opacity: 1;\"/><path class=\"point\" transform=\"translate(217.24,79.45)\" d=\"M1.5,0A1.5,1.5 0 1,1 0,-1.5A1.5,1.5 0 0,1 1.5,0Z\" style=\"opacity: 1; stroke-width: 0px; fill: rgb(85, 72, 240); fill-opacity: 1;\"/><path class=\"point\" transform=\"translate(239.29,82.3)\" d=\"M1.5,0A1.5,1.5 0 1,1 0,-1.5A1.5,1.5 0 0,1 1.5,0Z\" style=\"opacity: 1; stroke-width: 0px; fill: rgb(85, 72, 240); fill-opacity: 1;\"/><path class=\"point\" transform=\"translate(246.5,83.12)\" d=\"M1.5,0A1.5,1.5 0 1,1 0,-1.5A1.5,1.5 0 0,1 1.5,0Z\" style=\"opacity: 1; stroke-width: 0px; fill: rgb(85, 72, 240); fill-opacity: 1;\"/><path class=\"point\" transform=\"translate(242.26,84.75)\" d=\"M1.5,0A1.5,1.5 0 1,1 0,-1.5A1.5,1.5 0 0,1 1.5,0Z\" style=\"opacity: 1; stroke-width: 0px; fill: rgb(85, 72, 240); fill-opacity: 1;\"/><path class=\"point\" transform=\"translate(234.2,97.81)\" d=\"M1.5,0A1.5,1.5 0 1,1 0,-1.5A1.5,1.5 0 0,1 1.5,0Z\" style=\"opacity: 1; stroke-width: 0px; fill: rgb(85, 72, 240); fill-opacity: 1;\"/><path class=\"point\" transform=\"translate(232.51,94.95)\" d=\"M1.5,0A1.5,1.5 0 1,1 0,-1.5A1.5,1.5 0 0,1 1.5,0Z\" style=\"opacity: 1; stroke-width: 0px; fill: rgb(85, 72, 240); fill-opacity: 1;\"/><path class=\"point\" transform=\"translate(212.16,96.58)\" d=\"M1.5,0A1.5,1.5 0 1,1 0,-1.5A1.5,1.5 0 0,1 1.5,0Z\" style=\"opacity: 1; stroke-width: 0px; fill: rgb(85, 72, 240); fill-opacity: 1;\"/><path class=\"point\" transform=\"translate(204.1,102.3)\" d=\"M1.5,0A1.5,1.5 0 1,1 0,-1.5A1.5,1.5 0 0,1 1.5,0Z\" style=\"opacity: 1; stroke-width: 0px; fill: rgb(85, 72, 240); fill-opacity: 1;\"/><path class=\"point\" transform=\"translate(198.59,102.7)\" d=\"M1.5,0A1.5,1.5 0 1,1 0,-1.5A1.5,1.5 0 0,1 1.5,0Z\" style=\"opacity: 1; stroke-width: 0px; fill: rgb(85, 72, 240); fill-opacity: 1;\"/><path class=\"point\" transform=\"translate(188.83,103.52)\" d=\"M1.5,0A1.5,1.5 0 1,1 0,-1.5A1.5,1.5 0 0,1 1.5,0Z\" style=\"opacity: 1; stroke-width: 0px; fill: rgb(85, 72, 240); fill-opacity: 1;\"/><path class=\"point\" transform=\"translate(185.02,104.74)\" d=\"M1.5,0A1.5,1.5 0 1,1 0,-1.5A1.5,1.5 0 0,1 1.5,0Z\" style=\"opacity: 1; stroke-width: 0px; fill: rgb(85, 72, 240); fill-opacity: 1;\"/><path class=\"point\" transform=\"translate(171.45,101.48)\" d=\"M1.5,0A1.5,1.5 0 1,1 0,-1.5A1.5,1.5 0 0,1 1.5,0Z\" style=\"opacity: 1; stroke-width: 0px; fill: rgb(85, 72, 240); fill-opacity: 1;\"/><path class=\"point\" transform=\"translate(166.36,101.89)\" d=\"M1.5,0A1.5,1.5 0 1,1 0,-1.5A1.5,1.5 0 0,1 1.5,0Z\" style=\"opacity: 1; stroke-width: 0px; fill: rgb(85, 72, 240); fill-opacity: 1;\"/><path class=\"point\" transform=\"translate(159.58,103.52)\" d=\"M1.5,0A1.5,1.5 0 1,1 0,-1.5A1.5,1.5 0 0,1 1.5,0Z\" style=\"opacity: 1; stroke-width: 0px; fill: rgb(85, 72, 240); fill-opacity: 1;\"/><path class=\"point\" transform=\"translate(130.74,103.11)\" d=\"M1.5,0A1.5,1.5 0 1,1 0,-1.5A1.5,1.5 0 0,1 1.5,0Z\" style=\"opacity: 1; stroke-width: 0px; fill: rgb(85, 72, 240); fill-opacity: 1;\"/><path class=\"point\" transform=\"translate(130.32,103.11)\" d=\"M1.5,0A1.5,1.5 0 1,1 0,-1.5A1.5,1.5 0 0,1 1.5,0Z\" style=\"opacity: 1; stroke-width: 0px; fill: rgb(85, 72, 240); fill-opacity: 1;\"/><path class=\"point\" transform=\"translate(111.24,94.95)\" d=\"M1.5,0A1.5,1.5 0 1,1 0,-1.5A1.5,1.5 0 0,1 1.5,0Z\" style=\"opacity: 1; stroke-width: 0px; fill: rgb(85, 72, 240); fill-opacity: 1;\"/><path class=\"point\" transform=\"translate(30.25,84.34)\" d=\"M1.5,0A1.5,1.5 0 1,1 0,-1.5A1.5,1.5 0 0,1 1.5,0Z\" style=\"opacity: 1; stroke-width: 0px; fill: rgb(85, 72, 240); fill-opacity: 1;\"/></g><g class=\"text\"/></g><g class=\"trace scatter traceee142a\" style=\"stroke-miterlimit: 2; opacity: 1;\"><g class=\"fills\"/><g class=\"errorbars\"/><g class=\"lines\"/><g class=\"points\"><path class=\"point\" transform=\"translate(30.25,84.34)\" d=\"M1.5,0A1.5,1.5 0 1,1 0,-1.5A1.5,1.5 0 0,1 1.5,0Z\" style=\"opacity: 1; stroke-width: 0px; fill: rgb(115, 72, 240); fill-opacity: 1;\"/><path class=\"point\" transform=\"translate(177.81,63.13)\" d=\"M1.5,0A1.5,1.5 0 1,1 0,-1.5A1.5,1.5 0 0,1 1.5,0Z\" style=\"opacity: 1; stroke-width: 0px; fill: rgb(115, 72, 240); fill-opacity: 1;\"/><path class=\"point\" transform=\"translate(237.17,62.31)\" d=\"M1.5,0A1.5,1.5 0 1,1 0,-1.5A1.5,1.5 0 0,1 1.5,0Z\" style=\"opacity: 1; stroke-width: 0px; fill: rgb(115, 72, 240); fill-opacity: 1;\"/><path class=\"point\" transform=\"translate(298.23,44.36)\" d=\"M1.5,0A1.5,1.5 0 1,1 0,-1.5A1.5,1.5 0 0,1 1.5,0Z\" style=\"opacity: 1; stroke-width: 0px; fill: rgb(115, 72, 240); fill-opacity: 1;\"/><path class=\"point\" transform=\"translate(338.51,60.68)\" d=\"M1.5,0A1.5,1.5 0 1,1 0,-1.5A1.5,1.5 0 0,1 1.5,0Z\" style=\"opacity: 1; stroke-width: 0px; fill: rgb(115, 72, 240); fill-opacity: 1;\"/><path class=\"point\" transform=\"translate(357.6,56.6)\" d=\"M1.5,0A1.5,1.5 0 1,1 0,-1.5A1.5,1.5 0 0,1 1.5,0Z\" style=\"opacity: 1; stroke-width: 0px; fill: rgb(115, 72, 240); fill-opacity: 1;\"/><path class=\"point\" transform=\"translate(365.23,59.86)\" d=\"M1.5,0A1.5,1.5 0 1,1 0,-1.5A1.5,1.5 0 0,1 1.5,0Z\" style=\"opacity: 1; stroke-width: 0px; fill: rgb(115, 72, 240); fill-opacity: 1;\"/><path class=\"point\" transform=\"translate(367.77,59.46)\" d=\"M1.5,0A1.5,1.5 0 1,1 0,-1.5A1.5,1.5 0 0,1 1.5,0Z\" style=\"opacity: 1; stroke-width: 0px; fill: rgb(115, 72, 240); fill-opacity: 1;\"/><path class=\"point\" transform=\"translate(384.73,68.02)\" d=\"M1.5,0A1.5,1.5 0 1,1 0,-1.5A1.5,1.5 0 0,1 1.5,0Z\" style=\"opacity: 1; stroke-width: 0px; fill: rgb(115, 72, 240); fill-opacity: 1;\"/><path class=\"point\" transform=\"translate(394.48,72.51)\" d=\"M1.5,0A1.5,1.5 0 1,1 0,-1.5A1.5,1.5 0 0,1 1.5,0Z\" style=\"opacity: 1; stroke-width: 0px; fill: rgb(115, 72, 240); fill-opacity: 1;\"/><path class=\"point\" transform=\"translate(391.52,73.33)\" d=\"M1.5,0A1.5,1.5 0 1,1 0,-1.5A1.5,1.5 0 0,1 1.5,0Z\" style=\"opacity: 1; stroke-width: 0px; fill: rgb(115, 72, 240); fill-opacity: 1;\"/><path class=\"point\" transform=\"translate(384.73,83.12)\" d=\"M1.5,0A1.5,1.5 0 1,1 0,-1.5A1.5,1.5 0 0,1 1.5,0Z\" style=\"opacity: 1; stroke-width: 0px; fill: rgb(115, 72, 240); fill-opacity: 1;\"/><path class=\"point\" transform=\"translate(386.43,88.42)\" d=\"M1.5,0A1.5,1.5 0 1,1 0,-1.5A1.5,1.5 0 0,1 1.5,0Z\" style=\"opacity: 1; stroke-width: 0px; fill: rgb(115, 72, 240); fill-opacity: 1;\"/><path class=\"point\" transform=\"translate(375.83,82.71)\" d=\"M1.5,0A1.5,1.5 0 1,1 0,-1.5A1.5,1.5 0 0,1 1.5,0Z\" style=\"opacity: 1; stroke-width: 0px; fill: rgb(115, 72, 240); fill-opacity: 1;\"/><path class=\"point\" transform=\"translate(370.32,81.49)\" d=\"M1.5,0A1.5,1.5 0 1,1 0,-1.5A1.5,1.5 0 0,1 1.5,0Z\" style=\"opacity: 1; stroke-width: 0px; fill: rgb(115, 72, 240); fill-opacity: 1;\"/><path class=\"point\" transform=\"translate(364.8,79.04)\" d=\"M1.5,0A1.5,1.5 0 1,1 0,-1.5A1.5,1.5 0 0,1 1.5,0Z\" style=\"opacity: 1; stroke-width: 0px; fill: rgb(115, 72, 240); fill-opacity: 1;\"/><path class=\"point\" transform=\"translate(365.65,81.08)\" d=\"M1.5,0A1.5,1.5 0 1,1 0,-1.5A1.5,1.5 0 0,1 1.5,0Z\" style=\"opacity: 1; stroke-width: 0px; fill: rgb(115, 72, 240); fill-opacity: 1;\"/><path class=\"point\" transform=\"translate(368.62,94.14)\" d=\"M1.5,0A1.5,1.5 0 1,1 0,-1.5A1.5,1.5 0 0,1 1.5,0Z\" style=\"opacity: 1; stroke-width: 0px; fill: rgb(115, 72, 240); fill-opacity: 1;\"/><path class=\"point\" transform=\"translate(366.5,92.91)\" d=\"M1.5,0A1.5,1.5 0 1,1 0,-1.5A1.5,1.5 0 0,1 1.5,0Z\" style=\"opacity: 1; stroke-width: 0px; fill: rgb(115, 72, 240); fill-opacity: 1;\"/><path class=\"point\" transform=\"translate(366.08,92.91)\" d=\"M1.5,0A1.5,1.5 0 1,1 0,-1.5A1.5,1.5 0 0,1 1.5,0Z\" style=\"opacity: 1; stroke-width: 0px; fill: rgb(115, 72, 240); fill-opacity: 1;\"/><path class=\"point\" transform=\"translate(360.56,87.61)\" d=\"M1.5,0A1.5,1.5 0 1,1 0,-1.5A1.5,1.5 0 0,1 1.5,0Z\" style=\"opacity: 1; stroke-width: 0px; fill: rgb(115, 72, 240); fill-opacity: 1;\"/><path class=\"point\" transform=\"translate(341.48,87.61)\" d=\"M1.5,0A1.5,1.5 0 1,1 0,-1.5A1.5,1.5 0 0,1 1.5,0Z\" style=\"opacity: 1; stroke-width: 0px; fill: rgb(115, 72, 240); fill-opacity: 1;\"/><path class=\"point\" transform=\"translate(333.43,86.79)\" d=\"M1.5,0A1.5,1.5 0 1,1 0,-1.5A1.5,1.5 0 0,1 1.5,0Z\" style=\"opacity: 1; stroke-width: 0px; fill: rgb(115, 72, 240); fill-opacity: 1;\"/><path class=\"point\" transform=\"translate(327.91,88.83)\" d=\"M1.5,0A1.5,1.5 0 1,1 0,-1.5A1.5,1.5 0 0,1 1.5,0Z\" style=\"opacity: 1; stroke-width: 0px; fill: rgb(115, 72, 240); fill-opacity: 1;\"/><path class=\"point\" transform=\"translate(322.4,86.79)\" d=\"M1.5,0A1.5,1.5 0 1,1 0,-1.5A1.5,1.5 0 0,1 1.5,0Z\" style=\"opacity: 1; stroke-width: 0px; fill: rgb(115, 72, 240); fill-opacity: 1;\"/><path class=\"point\" transform=\"translate(304.17,92.5)\" d=\"M1.5,0A1.5,1.5 0 1,1 0,-1.5A1.5,1.5 0 0,1 1.5,0Z\" style=\"opacity: 1; stroke-width: 0px; fill: rgb(115, 72, 240); fill-opacity: 1;\"/><path class=\"point\" transform=\"translate(301.2,97.81)\" d=\"M1.5,0A1.5,1.5 0 1,1 0,-1.5A1.5,1.5 0 0,1 1.5,0Z\" style=\"opacity: 1; stroke-width: 0px; fill: rgb(115, 72, 240); fill-opacity: 1;\"/><path class=\"point\" transform=\"translate(241.41,93.73)\" d=\"M1.5,0A1.5,1.5 0 1,1 0,-1.5A1.5,1.5 0 0,1 1.5,0Z\" style=\"opacity: 1; stroke-width: 0px; fill: rgb(115, 72, 240); fill-opacity: 1;\"/><path class=\"point\" transform=\"translate(202.83,91.28)\" d=\"M1.5,0A1.5,1.5 0 1,1 0,-1.5A1.5,1.5 0 0,1 1.5,0Z\" style=\"opacity: 1; stroke-width: 0px; fill: rgb(115, 72, 240); fill-opacity: 1;\"/><path class=\"point\" transform=\"translate(30.25,84.34)\" d=\"M1.5,0A1.5,1.5 0 1,1 0,-1.5A1.5,1.5 0 0,1 1.5,0Z\" style=\"opacity: 1; stroke-width: 0px; fill: rgb(115, 72, 240); fill-opacity: 1;\"/></g><g class=\"text\"/></g><g class=\"trace scatter trace3f1649\" style=\"stroke-miterlimit: 2; opacity: 1;\"><g class=\"fills\"/><g class=\"errorbars\"/><g class=\"lines\"/><g class=\"points\"><path class=\"point\" transform=\"translate(30.25,84.34)\" d=\"M1.5,0A1.5,1.5 0 1,1 0,-1.5A1.5,1.5 0 0,1 1.5,0Z\" style=\"opacity: 1; stroke-width: 0px; fill: rgb(146, 72, 240); fill-opacity: 1;\"/><path class=\"point\" transform=\"translate(190.11,69.25)\" d=\"M1.5,0A1.5,1.5 0 1,1 0,-1.5A1.5,1.5 0 0,1 1.5,0Z\" style=\"opacity: 1; stroke-width: 0px; fill: rgb(146, 72, 240); fill-opacity: 1;\"/><path class=\"point\" transform=\"translate(274.06,62.31)\" d=\"M1.5,0A1.5,1.5 0 1,1 0,-1.5A1.5,1.5 0 0,1 1.5,0Z\" style=\"opacity: 1; stroke-width: 0px; fill: rgb(146, 72, 240); fill-opacity: 1;\"/><path class=\"point\" transform=\"translate(327.07,65.98)\" d=\"M1.5,0A1.5,1.5 0 1,1 0,-1.5A1.5,1.5 0 0,1 1.5,0Z\" style=\"opacity: 1; stroke-width: 0px; fill: rgb(146, 72, 240); fill-opacity: 1;\"/><path class=\"point\" transform=\"translate(349.11,67.21)\" d=\"M1.5,0A1.5,1.5 0 1,1 0,-1.5A1.5,1.5 0 0,1 1.5,0Z\" style=\"opacity: 1; stroke-width: 0px; fill: rgb(146, 72, 240); fill-opacity: 1;\"/><path class=\"point\" transform=\"translate(358.02,69.25)\" d=\"M1.5,0A1.5,1.5 0 1,1 0,-1.5A1.5,1.5 0 0,1 1.5,0Z\" style=\"opacity: 1; stroke-width: 0px; fill: rgb(146, 72, 240); fill-opacity: 1;\"/><path class=\"point\" transform=\"translate(360.14,72.51)\" d=\"M1.5,0A1.5,1.5 0 1,1 0,-1.5A1.5,1.5 0 0,1 1.5,0Z\" style=\"opacity: 1; stroke-width: 0px; fill: rgb(146, 72, 240); fill-opacity: 1;\"/><path class=\"point\" transform=\"translate(362.26,67.21)\" d=\"M1.5,0A1.5,1.5 0 1,1 0,-1.5A1.5,1.5 0 0,1 1.5,0Z\" style=\"opacity: 1; stroke-width: 0px; fill: rgb(146, 72, 240); fill-opacity: 1;\"/><path class=\"point\" transform=\"translate(366.08,68.43)\" d=\"M1.5,0A1.5,1.5 0 1,1 0,-1.5A1.5,1.5 0 0,1 1.5,0Z\" style=\"opacity: 1; stroke-width: 0px; fill: rgb(146, 72, 240); fill-opacity: 1;\"/><path class=\"point\" transform=\"translate(372.01,65.58)\" d=\"M1.5,0A1.5,1.5 0 1,1 0,-1.5A1.5,1.5 0 0,1 1.5,0Z\" style=\"opacity: 1; stroke-width: 0px; fill: rgb(146, 72, 240); fill-opacity: 1;\"/><path class=\"point\" transform=\"translate(386,59.05)\" d=\"M1.5,0A1.5,1.5 0 1,1 0,-1.5A1.5,1.5 0 0,1 1.5,0Z\" style=\"opacity: 1; stroke-width: 0px; fill: rgb(146, 72, 240); fill-opacity: 1;\"/><path class=\"point\" transform=\"translate(396.61,55.38)\" d=\"M1.5,0A1.5,1.5 0 1,1 0,-1.5A1.5,1.5 0 0,1 1.5,0Z\" style=\"opacity: 1; stroke-width: 0px; fill: rgb(146, 72, 240); fill-opacity: 1;\"/><path class=\"point\" transform=\"translate(406.36,60.27)\" d=\"M1.5,0A1.5,1.5 0 1,1 0,-1.5A1.5,1.5 0 0,1 1.5,0Z\" style=\"opacity: 1; stroke-width: 0px; fill: rgb(146, 72, 240); fill-opacity: 1;\"/><path class=\"point\" transform=\"translate(412.72,62.72)\" d=\"M1.5,0A1.5,1.5 0 1,1 0,-1.5A1.5,1.5 0 0,1 1.5,0Z\" style=\"opacity: 1; stroke-width: 0px; fill: rgb(146, 72, 240); fill-opacity: 1;\"/><path class=\"point\" transform=\"translate(407.63,68.43)\" d=\"M1.5,0A1.5,1.5 0 1,1 0,-1.5A1.5,1.5 0 0,1 1.5,0Z\" style=\"opacity: 1; stroke-width: 0px; fill: rgb(146, 72, 240); fill-opacity: 1;\"/><path class=\"point\" transform=\"translate(408.9,77)\" d=\"M1.5,0A1.5,1.5 0 1,1 0,-1.5A1.5,1.5 0 0,1 1.5,0Z\" style=\"opacity: 1; stroke-width: 0px; fill: rgb(146, 72, 240); fill-opacity: 1;\"/><path class=\"point\" transform=\"translate(411.45,77)\" d=\"M1.5,0A1.5,1.5 0 1,1 0,-1.5A1.5,1.5 0 0,1 1.5,0Z\" style=\"opacity: 1; stroke-width: 0px; fill: rgb(146, 72, 240); fill-opacity: 1;\"/><path class=\"point\" transform=\"translate(418.65,85.98)\" d=\"M1.5,0A1.5,1.5 0 1,1 0,-1.5A1.5,1.5 0 0,1 1.5,0Z\" style=\"opacity: 1; stroke-width: 0px; fill: rgb(146, 72, 240); fill-opacity: 1;\"/><path class=\"point\" transform=\"translate(421.62,88.42)\" d=\"M1.5,0A1.5,1.5 0 1,1 0,-1.5A1.5,1.5 0 0,1 1.5,0Z\" style=\"opacity: 1; stroke-width: 0px; fill: rgb(146, 72, 240); fill-opacity: 1;\"/><path class=\"point\" transform=\"translate(418.65,91.69)\" d=\"M1.5,0A1.5,1.5 0 1,1 0,-1.5A1.5,1.5 0 0,1 1.5,0Z\" style=\"opacity: 1; stroke-width: 0px; fill: rgb(146, 72, 240); fill-opacity: 1;\"/><path class=\"point\" transform=\"translate(408.48,89.24)\" d=\"M1.5,0A1.5,1.5 0 1,1 0,-1.5A1.5,1.5 0 0,1 1.5,0Z\" style=\"opacity: 1; stroke-width: 0px; fill: rgb(146, 72, 240); fill-opacity: 1;\"/><path class=\"point\" transform=\"translate(402.97,92.91)\" d=\"M1.5,0A1.5,1.5 0 1,1 0,-1.5A1.5,1.5 0 0,1 1.5,0Z\" style=\"opacity: 1; stroke-width: 0px; fill: rgb(146, 72, 240); fill-opacity: 1;\"/><path class=\"point\" transform=\"translate(380.92,101.89)\" d=\"M1.5,0A1.5,1.5 0 1,1 0,-1.5A1.5,1.5 0 0,1 1.5,0Z\" style=\"opacity: 1; stroke-width: 0px; fill: rgb(146, 72, 240); fill-opacity: 1;\"/><path class=\"point\" transform=\"translate(372.44,99.03)\" d=\"M1.5,0A1.5,1.5 0 1,1 0,-1.5A1.5,1.5 0 0,1 1.5,0Z\" style=\"opacity: 1; stroke-width: 0px; fill: rgb(146, 72, 240); fill-opacity: 1;\"/><path class=\"point\" transform=\"translate(368.2,98.22)\" d=\"M1.5,0A1.5,1.5 0 1,1 0,-1.5A1.5,1.5 0 0,1 1.5,0Z\" style=\"opacity: 1; stroke-width: 0px; fill: rgb(146, 72, 240); fill-opacity: 1;\"/><path class=\"point\" transform=\"translate(341.48,99.03)\" d=\"M1.5,0A1.5,1.5 0 1,1 0,-1.5A1.5,1.5 0 0,1 1.5,0Z\" style=\"opacity: 1; stroke-width: 0px; fill: rgb(146, 72, 240); fill-opacity: 1;\"/><path class=\"point\" transform=\"translate(302.47,103.52)\" d=\"M1.5,0A1.5,1.5 0 1,1 0,-1.5A1.5,1.5 0 0,1 1.5,0Z\" style=\"opacity: 1; stroke-width: 0px; fill: rgb(146, 72, 240); fill-opacity: 1;\"/><path class=\"point\" transform=\"translate(241.41,93.73)\" d=\"M1.5,0A1.5,1.5 0 1,1 0,-1.5A1.5,1.5 0 0,1 1.5,0Z\" style=\"opacity: 1; stroke-width: 0px; fill: rgb(146, 72, 240); fill-opacity: 1;\"/><path class=\"point\" transform=\"translate(30.25,84.34)\" d=\"M1.5,0A1.5,1.5 0 1,1 0,-1.5A1.5,1.5 0 0,1 1.5,0Z\" style=\"opacity: 1; stroke-width: 0px; fill: rgb(146, 72, 240); fill-opacity: 1;\"/></g><g class=\"text\"/></g><g class=\"trace scatter trace6bbfc4\" style=\"stroke-miterlimit: 2; opacity: 1;\"><g class=\"fills\"/><g class=\"errorbars\"/><g class=\"lines\"/><g class=\"points\"><path class=\"point\" transform=\"translate(30.25,84.34)\" d=\"M1.5,0A1.5,1.5 0 1,1 0,-1.5A1.5,1.5 0 0,1 1.5,0Z\" style=\"opacity: 1; stroke-width: 0px; fill: rgb(177, 72, 240); fill-opacity: 1;\"/><path class=\"point\" transform=\"translate(196.89,50.07)\" d=\"M1.5,0A1.5,1.5 0 1,1 0,-1.5A1.5,1.5 0 0,1 1.5,0Z\" style=\"opacity: 1; stroke-width: 0px; fill: rgb(177, 72, 240); fill-opacity: 1;\"/><path class=\"point\" transform=\"translate(208.76,54.97)\" d=\"M1.5,0A1.5,1.5 0 1,1 0,-1.5A1.5,1.5 0 0,1 1.5,0Z\" style=\"opacity: 1; stroke-width: 0px; fill: rgb(177, 72, 240); fill-opacity: 1;\"/><path class=\"point\" transform=\"translate(249.05,60.68)\" d=\"M1.5,0A1.5,1.5 0 1,1 0,-1.5A1.5,1.5 0 0,1 1.5,0Z\" style=\"opacity: 1; stroke-width: 0px; fill: rgb(177, 72, 240); fill-opacity: 1;\"/><path class=\"point\" transform=\"translate(255.83,64.35)\" d=\"M1.5,0A1.5,1.5 0 1,1 0,-1.5A1.5,1.5 0 0,1 1.5,0Z\" style=\"opacity: 1; stroke-width: 0px; fill: rgb(177, 72, 240); fill-opacity: 1;\"/><path class=\"point\" transform=\"translate(273.21,66.39)\" d=\"M1.5,0A1.5,1.5 0 1,1 0,-1.5A1.5,1.5 0 0,1 1.5,0Z\" style=\"opacity: 1; stroke-width: 0px; fill: rgb(177, 72, 240); fill-opacity: 1;\"/><path class=\"point\" transform=\"translate(289.75,70.88)\" d=\"M1.5,0A1.5,1.5 0 1,1 0,-1.5A1.5,1.5 0 0,1 1.5,0Z\" style=\"opacity: 1; stroke-width: 0px; fill: rgb(177, 72, 240); fill-opacity: 1;\"/><path class=\"point\" transform=\"translate(306.29,65.17)\" d=\"M1.5,0A1.5,1.5 0 1,1 0,-1.5A1.5,1.5 0 0,1 1.5,0Z\" style=\"opacity: 1; stroke-width: 0px; fill: rgb(177, 72, 240); fill-opacity: 1;\"/><path class=\"point\" transform=\"translate(316.04,77)\" d=\"M1.5,0A1.5,1.5 0 1,1 0,-1.5A1.5,1.5 0 0,1 1.5,0Z\" style=\"opacity: 1; stroke-width: 0px; fill: rgb(177, 72, 240); fill-opacity: 1;\"/><path class=\"point\" transform=\"translate(316.46,78.22)\" d=\"M1.5,0A1.5,1.5 0 1,1 0,-1.5A1.5,1.5 0 0,1 1.5,0Z\" style=\"opacity: 1; stroke-width: 0px; fill: rgb(177, 72, 240); fill-opacity: 1;\"/><path class=\"point\" transform=\"translate(306.29,76.18)\" d=\"M1.5,0A1.5,1.5 0 1,1 0,-1.5A1.5,1.5 0 0,1 1.5,0Z\" style=\"opacity: 1; stroke-width: 0px; fill: rgb(177, 72, 240); fill-opacity: 1;\"/><path class=\"point\" transform=\"translate(299.08,80.67)\" d=\"M1.5,0A1.5,1.5 0 1,1 0,-1.5A1.5,1.5 0 0,1 1.5,0Z\" style=\"opacity: 1; stroke-width: 0px; fill: rgb(177, 72, 240); fill-opacity: 1;\"/><path class=\"point\" transform=\"translate(298.66,81.08)\" d=\"M1.5,0A1.5,1.5 0 1,1 0,-1.5A1.5,1.5 0 0,1 1.5,0Z\" style=\"opacity: 1; stroke-width: 0px; fill: rgb(177, 72, 240); fill-opacity: 1;\"/><path class=\"point\" transform=\"translate(293.14,89.65)\" d=\"M1.5,0A1.5,1.5 0 1,1 0,-1.5A1.5,1.5 0 0,1 1.5,0Z\" style=\"opacity: 1; stroke-width: 0px; fill: rgb(177, 72, 240); fill-opacity: 1;\"/><path class=\"point\" transform=\"translate(287.21,86.38)\" d=\"M1.5,0A1.5,1.5 0 1,1 0,-1.5A1.5,1.5 0 0,1 1.5,0Z\" style=\"opacity: 1; stroke-width: 0px; fill: rgb(177, 72, 240); fill-opacity: 1;\"/><path class=\"point\" transform=\"translate(282.54,80.67)\" d=\"M1.5,0A1.5,1.5 0 1,1 0,-1.5A1.5,1.5 0 0,1 1.5,0Z\" style=\"opacity: 1; stroke-width: 0px; fill: rgb(177, 72, 240); fill-opacity: 1;\"/><path class=\"point\" transform=\"translate(277.03,75.78)\" d=\"M1.5,0A1.5,1.5 0 1,1 0,-1.5A1.5,1.5 0 0,1 1.5,0Z\" style=\"opacity: 1; stroke-width: 0px; fill: rgb(177, 72, 240); fill-opacity: 1;\"/><path class=\"point\" transform=\"translate(251.59,72.1)\" d=\"M1.5,0A1.5,1.5 0 1,1 0,-1.5A1.5,1.5 0 0,1 1.5,0Z\" style=\"opacity: 1; stroke-width: 0px; fill: rgb(177, 72, 240); fill-opacity: 1;\"/><path class=\"point\" transform=\"translate(246.08,67.62)\" d=\"M1.5,0A1.5,1.5 0 1,1 0,-1.5A1.5,1.5 0 0,1 1.5,0Z\" style=\"opacity: 1; stroke-width: 0px; fill: rgb(177, 72, 240); fill-opacity: 1;\"/><path class=\"point\" transform=\"translate(235.05,72.92)\" d=\"M1.5,0A1.5,1.5 0 1,1 0,-1.5A1.5,1.5 0 0,1 1.5,0Z\" style=\"opacity: 1; stroke-width: 0px; fill: rgb(177, 72, 240); fill-opacity: 1;\"/><path class=\"point\" transform=\"translate(209.61,77.82)\" d=\"M1.5,0A1.5,1.5 0 1,1 0,-1.5A1.5,1.5 0 0,1 1.5,0Z\" style=\"opacity: 1; stroke-width: 0px; fill: rgb(177, 72, 240); fill-opacity: 1;\"/><path class=\"point\" transform=\"translate(194.77,77.82)\" d=\"M1.5,0A1.5,1.5 0 1,1 0,-1.5A1.5,1.5 0 0,1 1.5,0Z\" style=\"opacity: 1; stroke-width: 0px; fill: rgb(177, 72, 240); fill-opacity: 1;\"/><path class=\"point\" transform=\"translate(30.25,84.34)\" d=\"M1.5,0A1.5,1.5 0 1,1 0,-1.5A1.5,1.5 0 0,1 1.5,0Z\" style=\"opacity: 1; stroke-width: 0px; fill: rgb(177, 72, 240); fill-opacity: 1;\"/></g><g class=\"text\"/></g><g class=\"trace scatter trace858305\" style=\"stroke-miterlimit: 2; opacity: 1;\"><g class=\"fills\"/><g class=\"errorbars\"/><g class=\"lines\"/><g class=\"points\"><path class=\"point\" transform=\"translate(30.25,84.34)\" d=\"M1.5,0A1.5,1.5 0 1,1 0,-1.5A1.5,1.5 0 0,1 1.5,0Z\" style=\"opacity: 1; stroke-width: 0px; fill: rgb(207, 72, 240); fill-opacity: 1;\"/><path class=\"point\" transform=\"translate(330.46,26.82)\" d=\"M1.5,0A1.5,1.5 0 1,1 0,-1.5A1.5,1.5 0 0,1 1.5,0Z\" style=\"opacity: 1; stroke-width: 0px; fill: rgb(207, 72, 240); fill-opacity: 1;\"/><path class=\"point\" transform=\"translate(344.03,33.75)\" d=\"M1.5,0A1.5,1.5 0 1,1 0,-1.5A1.5,1.5 0 0,1 1.5,0Z\" style=\"opacity: 1; stroke-width: 0px; fill: rgb(207, 72, 240); fill-opacity: 1;\"/><path class=\"point\" transform=\"translate(359.29,28.45)\" d=\"M1.5,0A1.5,1.5 0 1,1 0,-1.5A1.5,1.5 0 0,1 1.5,0Z\" style=\"opacity: 1; stroke-width: 0px; fill: rgb(207, 72, 240); fill-opacity: 1;\"/><path class=\"point\" transform=\"translate(374.13,27.22)\" d=\"M1.5,0A1.5,1.5 0 1,1 0,-1.5A1.5,1.5 0 0,1 1.5,0Z\" style=\"opacity: 1; stroke-width: 0px; fill: rgb(207, 72, 240); fill-opacity: 1;\"/><path class=\"point\" transform=\"translate(408.9,41.1)\" d=\"M1.5,0A1.5,1.5 0 1,1 0,-1.5A1.5,1.5 0 0,1 1.5,0Z\" style=\"opacity: 1; stroke-width: 0px; fill: rgb(207, 72, 240); fill-opacity: 1;\"/><path class=\"point\" transform=\"translate(414.84,41.5)\" d=\"M1.5,0A1.5,1.5 0 1,1 0,-1.5A1.5,1.5 0 0,1 1.5,0Z\" style=\"opacity: 1; stroke-width: 0px; fill: rgb(207, 72, 240); fill-opacity: 1;\"/><path class=\"point\" transform=\"translate(417.38,40.28)\" d=\"M1.5,0A1.5,1.5 0 1,1 0,-1.5A1.5,1.5 0 0,1 1.5,0Z\" style=\"opacity: 1; stroke-width: 0px; fill: rgb(207, 72, 240); fill-opacity: 1;\"/><path class=\"point\" transform=\"translate(436.46,42.73)\" d=\"M1.5,0A1.5,1.5 0 1,1 0,-1.5A1.5,1.5 0 0,1 1.5,0Z\" style=\"opacity: 1; stroke-width: 0px; fill: rgb(207, 72, 240); fill-opacity: 1;\"/><path class=\"point\" transform=\"translate(445.79,35.38)\" d=\"M1.5,0A1.5,1.5 0 1,1 0,-1.5A1.5,1.5 0 0,1 1.5,0Z\" style=\"opacity: 1; stroke-width: 0px; fill: rgb(207, 72, 240); fill-opacity: 1;\"/><path class=\"point\" transform=\"translate(451.73,57.82)\" d=\"M1.5,0A1.5,1.5 0 1,1 0,-1.5A1.5,1.5 0 0,1 1.5,0Z\" style=\"opacity: 1; stroke-width: 0px; fill: rgb(207, 72, 240); fill-opacity: 1;\"/><path class=\"point\" transform=\"translate(445.37,68.02)\" d=\"M1.5,0A1.5,1.5 0 1,1 0,-1.5A1.5,1.5 0 0,1 1.5,0Z\" style=\"opacity: 1; stroke-width: 0px; fill: rgb(207, 72, 240); fill-opacity: 1;\"/><path class=\"point\" transform=\"translate(443.25,73.33)\" d=\"M1.5,0A1.5,1.5 0 1,1 0,-1.5A1.5,1.5 0 0,1 1.5,0Z\" style=\"opacity: 1; stroke-width: 0px; fill: rgb(207, 72, 240); fill-opacity: 1;\"/><path class=\"point\" transform=\"translate(433.07,60.68)\" d=\"M1.5,0A1.5,1.5 0 1,1 0,-1.5A1.5,1.5 0 0,1 1.5,0Z\" style=\"opacity: 1; stroke-width: 0px; fill: rgb(207, 72, 240); fill-opacity: 1;\"/><path class=\"point\" transform=\"translate(436.46,52.11)\" d=\"M1.5,0A1.5,1.5 0 1,1 0,-1.5A1.5,1.5 0 0,1 1.5,0Z\" style=\"opacity: 1; stroke-width: 0px; fill: rgb(207, 72, 240); fill-opacity: 1;\"/><path class=\"point\" transform=\"translate(423.74,52.52)\" d=\"M1.5,0A1.5,1.5 0 1,1 0,-1.5A1.5,1.5 0 0,1 1.5,0Z\" style=\"opacity: 1; stroke-width: 0px; fill: rgb(207, 72, 240); fill-opacity: 1;\"/><path class=\"point\" transform=\"translate(422.47,47.62)\" d=\"M1.5,0A1.5,1.5 0 1,1 0,-1.5A1.5,1.5 0 0,1 1.5,0Z\" style=\"opacity: 1; stroke-width: 0px; fill: rgb(207, 72, 240); fill-opacity: 1;\"/><path class=\"point\" transform=\"translate(410.17,43.54)\" d=\"M1.5,0A1.5,1.5 0 1,1 0,-1.5A1.5,1.5 0 0,1 1.5,0Z\" style=\"opacity: 1; stroke-width: 0px; fill: rgb(207, 72, 240); fill-opacity: 1;\"/><path class=\"point\" transform=\"translate(406.78,45.99)\" d=\"M1.5,0A1.5,1.5 0 1,1 0,-1.5A1.5,1.5 0 0,1 1.5,0Z\" style=\"opacity: 1; stroke-width: 0px; fill: rgb(207, 72, 240); fill-opacity: 1;\"/><path class=\"point\" transform=\"translate(391.52,45.99)\" d=\"M1.5,0A1.5,1.5 0 1,1 0,-1.5A1.5,1.5 0 0,1 1.5,0Z\" style=\"opacity: 1; stroke-width: 0px; fill: rgb(207, 72, 240); fill-opacity: 1;\"/><path class=\"point\" transform=\"translate(381.34,47.62)\" d=\"M1.5,0A1.5,1.5 0 1,1 0,-1.5A1.5,1.5 0 0,1 1.5,0Z\" style=\"opacity: 1; stroke-width: 0px; fill: rgb(207, 72, 240); fill-opacity: 1;\"/><path class=\"point\" transform=\"translate(361.41,43.14)\" d=\"M1.5,0A1.5,1.5 0 1,1 0,-1.5A1.5,1.5 0 0,1 1.5,0Z\" style=\"opacity: 1; stroke-width: 0px; fill: rgb(207, 72, 240); fill-opacity: 1;\"/><path class=\"point\" transform=\"translate(337.24,47.22)\" d=\"M1.5,0A1.5,1.5 0 1,1 0,-1.5A1.5,1.5 0 0,1 1.5,0Z\" style=\"opacity: 1; stroke-width: 0px; fill: rgb(207, 72, 240); fill-opacity: 1;\"/><path class=\"point\" transform=\"translate(330.46,50.48)\" d=\"M1.5,0A1.5,1.5 0 1,1 0,-1.5A1.5,1.5 0 0,1 1.5,0Z\" style=\"opacity: 1; stroke-width: 0px; fill: rgb(207, 72, 240); fill-opacity: 1;\"/><path class=\"point\" transform=\"translate(241.41,93.73)\" d=\"M1.5,0A1.5,1.5 0 1,1 0,-1.5A1.5,1.5 0 0,1 1.5,0Z\" style=\"opacity: 1; stroke-width: 0px; fill: rgb(207, 72, 240); fill-opacity: 1;\"/><path class=\"point\" transform=\"translate(30.25,84.34)\" d=\"M1.5,0A1.5,1.5 0 1,1 0,-1.5A1.5,1.5 0 0,1 1.5,0Z\" style=\"opacity: 1; stroke-width: 0px; fill: rgb(207, 72, 240); fill-opacity: 1;\"/></g><g class=\"text\"/></g><g class=\"trace scatter traceeb956e\" style=\"stroke-miterlimit: 2; opacity: 1;\"><g class=\"fills\"/><g class=\"errorbars\"/><g class=\"lines\"/><g class=\"points\"><path class=\"point\" transform=\"translate(30.25,84.34)\" d=\"M1.5,0A1.5,1.5 0 1,1 0,-1.5A1.5,1.5 0 0,1 1.5,0Z\" style=\"opacity: 1; stroke-width: 0px; fill: rgb(238, 72, 240); fill-opacity: 1;\"/><path class=\"point\" transform=\"translate(168.48,28.04)\" d=\"M1.5,0A1.5,1.5 0 1,1 0,-1.5A1.5,1.5 0 0,1 1.5,0Z\" style=\"opacity: 1; stroke-width: 0px; fill: rgb(238, 72, 240); fill-opacity: 1;\"/><path class=\"point\" transform=\"translate(209.61,30.08)\" d=\"M1.5,0A1.5,1.5 0 1,1 0,-1.5A1.5,1.5 0 0,1 1.5,0Z\" style=\"opacity: 1; stroke-width: 0px; fill: rgb(238, 72, 240); fill-opacity: 1;\"/><path class=\"point\" transform=\"translate(222.33,30.49)\" d=\"M1.5,0A1.5,1.5 0 1,1 0,-1.5A1.5,1.5 0 0,1 1.5,0Z\" style=\"opacity: 1; stroke-width: 0px; fill: rgb(238, 72, 240); fill-opacity: 1;\"/><path class=\"point\" transform=\"translate(251.59,34.98)\" d=\"M1.5,0A1.5,1.5 0 1,1 0,-1.5A1.5,1.5 0 0,1 1.5,0Z\" style=\"opacity: 1; stroke-width: 0px; fill: rgb(238, 72, 240); fill-opacity: 1;\"/><path class=\"point\" transform=\"translate(263.04,26.82)\" d=\"M1.5,0A1.5,1.5 0 1,1 0,-1.5A1.5,1.5 0 0,1 1.5,0Z\" style=\"opacity: 1; stroke-width: 0px; fill: rgb(238, 72, 240); fill-opacity: 1;\"/><path class=\"point\" transform=\"translate(268.13,31.3)\" d=\"M1.5,0A1.5,1.5 0 1,1 0,-1.5A1.5,1.5 0 0,1 1.5,0Z\" style=\"opacity: 1; stroke-width: 0px; fill: rgb(238, 72, 240); fill-opacity: 1;\"/><path class=\"point\" transform=\"translate(283.82,37.02)\" d=\"M1.5,0A1.5,1.5 0 1,1 0,-1.5A1.5,1.5 0 0,1 1.5,0Z\" style=\"opacity: 1; stroke-width: 0px; fill: rgb(238, 72, 240); fill-opacity: 1;\"/><path class=\"point\" transform=\"translate(284.66,32.53)\" d=\"M1.5,0A1.5,1.5 0 1,1 0,-1.5A1.5,1.5 0 0,1 1.5,0Z\" style=\"opacity: 1; stroke-width: 0px; fill: rgb(238, 72, 240); fill-opacity: 1;\"/><path class=\"point\" transform=\"translate(302.9,31.71)\" d=\"M1.5,0A1.5,1.5 0 1,1 0,-1.5A1.5,1.5 0 0,1 1.5,0Z\" style=\"opacity: 1; stroke-width: 0px; fill: rgb(238, 72, 240); fill-opacity: 1;\"/><path class=\"point\" transform=\"translate(311.8,36.2)\" d=\"M1.5,0A1.5,1.5 0 1,1 0,-1.5A1.5,1.5 0 0,1 1.5,0Z\" style=\"opacity: 1; stroke-width: 0px; fill: rgb(238, 72, 240); fill-opacity: 1;\"/><path class=\"point\" transform=\"translate(310.95,39.87)\" d=\"M1.5,0A1.5,1.5 0 1,1 0,-1.5A1.5,1.5 0 0,1 1.5,0Z\" style=\"opacity: 1; stroke-width: 0px; fill: rgb(238, 72, 240); fill-opacity: 1;\"/><path class=\"point\" transform=\"translate(302.05,51.7)\" d=\"M1.5,0A1.5,1.5 0 1,1 0,-1.5A1.5,1.5 0 0,1 1.5,0Z\" style=\"opacity: 1; stroke-width: 0px; fill: rgb(238, 72, 240); fill-opacity: 1;\"/><path class=\"point\" transform=\"translate(304.59,53.34)\" d=\"M1.5,0A1.5,1.5 0 1,1 0,-1.5A1.5,1.5 0 0,1 1.5,0Z\" style=\"opacity: 1; stroke-width: 0px; fill: rgb(238, 72, 240); fill-opacity: 1;\"/><path class=\"point\" transform=\"translate(302.47,56.6)\" d=\"M1.5,0A1.5,1.5 0 1,1 0,-1.5A1.5,1.5 0 0,1 1.5,0Z\" style=\"opacity: 1; stroke-width: 0px; fill: rgb(238, 72, 240); fill-opacity: 1;\"/><path class=\"point\" transform=\"translate(285.09,53.34)\" d=\"M1.5,0A1.5,1.5 0 1,1 0,-1.5A1.5,1.5 0 0,1 1.5,0Z\" style=\"opacity: 1; stroke-width: 0px; fill: rgb(238, 72, 240); fill-opacity: 1;\"/><path class=\"point\" transform=\"translate(262.61,51.7)\" d=\"M1.5,0A1.5,1.5 0 1,1 0,-1.5A1.5,1.5 0 0,1 1.5,0Z\" style=\"opacity: 1; stroke-width: 0px; fill: rgb(238, 72, 240); fill-opacity: 1;\"/><path class=\"point\" transform=\"translate(235.9,48.44)\" d=\"M1.5,0A1.5,1.5 0 1,1 0,-1.5A1.5,1.5 0 0,1 1.5,0Z\" style=\"opacity: 1; stroke-width: 0px; fill: rgb(238, 72, 240); fill-opacity: 1;\"/><path class=\"point\" transform=\"translate(232.08,43.95)\" d=\"M1.5,0A1.5,1.5 0 1,1 0,-1.5A1.5,1.5 0 0,1 1.5,0Z\" style=\"opacity: 1; stroke-width: 0px; fill: rgb(238, 72, 240); fill-opacity: 1;\"/><path class=\"point\" transform=\"translate(225.3,38.24)\" d=\"M1.5,0A1.5,1.5 0 1,1 0,-1.5A1.5,1.5 0 0,1 1.5,0Z\" style=\"opacity: 1; stroke-width: 0px; fill: rgb(238, 72, 240); fill-opacity: 1;\"/><path class=\"point\" transform=\"translate(205.8,37.02)\" d=\"M1.5,0A1.5,1.5 0 1,1 0,-1.5A1.5,1.5 0 0,1 1.5,0Z\" style=\"opacity: 1; stroke-width: 0px; fill: rgb(238, 72, 240); fill-opacity: 1;\"/><path class=\"point\" transform=\"translate(197.31,46.4)\" d=\"M1.5,0A1.5,1.5 0 1,1 0,-1.5A1.5,1.5 0 0,1 1.5,0Z\" style=\"opacity: 1; stroke-width: 0px; fill: rgb(238, 72, 240); fill-opacity: 1;\"/><path class=\"point\" transform=\"translate(30.25,84.34)\" d=\"M1.5,0A1.5,1.5 0 1,1 0,-1.5A1.5,1.5 0 0,1 1.5,0Z\" style=\"opacity: 1; stroke-width: 0px; fill: rgb(238, 72, 240); fill-opacity: 1;\"/></g><g class=\"text\"/></g><g class=\"trace scatter traced11740\" style=\"stroke-miterlimit: 2; opacity: 1;\"><g class=\"fills\"/><g class=\"errorbars\"/><g class=\"lines\"/><g class=\"points\"><path class=\"point\" transform=\"translate(30.25,84.34)\" d=\"M1.5,0A1.5,1.5 0 1,1 0,-1.5A1.5,1.5 0 0,1 1.5,0Z\" style=\"opacity: 1; stroke-width: 0px; fill: rgb(240, 72, 210); fill-opacity: 1;\"/><path class=\"point\" transform=\"translate(61.63,73.74)\" d=\"M1.5,0A1.5,1.5 0 1,1 0,-1.5A1.5,1.5 0 0,1 1.5,0Z\" style=\"opacity: 1; stroke-width: 0px; fill: rgb(240, 72, 210); fill-opacity: 1;\"/><path class=\"point\" transform=\"translate(76.04,66.39)\" d=\"M1.5,0A1.5,1.5 0 1,1 0,-1.5A1.5,1.5 0 0,1 1.5,0Z\" style=\"opacity: 1; stroke-width: 0px; fill: rgb(240, 72, 210); fill-opacity: 1;\"/><path class=\"point\" transform=\"translate(124.38,42.73)\" d=\"M1.5,0A1.5,1.5 0 1,1 0,-1.5A1.5,1.5 0 0,1 1.5,0Z\" style=\"opacity: 1; stroke-width: 0px; fill: rgb(240, 72, 210); fill-opacity: 1;\"/><path class=\"point\" transform=\"translate(130.74,45.99)\" d=\"M1.5,0A1.5,1.5 0 1,1 0,-1.5A1.5,1.5 0 0,1 1.5,0Z\" style=\"opacity: 1; stroke-width: 0px; fill: rgb(240, 72, 210); fill-opacity: 1;\"/><path class=\"point\" transform=\"translate(131.59,46.81)\" d=\"M1.5,0A1.5,1.5 0 1,1 0,-1.5A1.5,1.5 0 0,1 1.5,0Z\" style=\"opacity: 1; stroke-width: 0px; fill: rgb(240, 72, 210); fill-opacity: 1;\"/><path class=\"point\" transform=\"translate(134.14,47.62)\" d=\"M1.5,0A1.5,1.5 0 1,1 0,-1.5A1.5,1.5 0 0,1 1.5,0Z\" style=\"opacity: 1; stroke-width: 0px; fill: rgb(240, 72, 210); fill-opacity: 1;\"/><path class=\"point\" transform=\"translate(154.91,42.73)\" d=\"M1.5,0A1.5,1.5 0 1,1 0,-1.5A1.5,1.5 0 0,1 1.5,0Z\" style=\"opacity: 1; stroke-width: 0px; fill: rgb(240, 72, 210); fill-opacity: 1;\"/><path class=\"point\" transform=\"translate(157.03,39.06)\" d=\"M1.5,0A1.5,1.5 0 1,1 0,-1.5A1.5,1.5 0 0,1 1.5,0Z\" style=\"opacity: 1; stroke-width: 0px; fill: rgb(240, 72, 210); fill-opacity: 1;\"/><path class=\"point\" transform=\"translate(163.39,38.24)\" d=\"M1.5,0A1.5,1.5 0 1,1 0,-1.5A1.5,1.5 0 0,1 1.5,0Z\" style=\"opacity: 1; stroke-width: 0px; fill: rgb(240, 72, 210); fill-opacity: 1;\"/><path class=\"point\" transform=\"translate(174.42,34.57)\" d=\"M1.5,0A1.5,1.5 0 1,1 0,-1.5A1.5,1.5 0 0,1 1.5,0Z\" style=\"opacity: 1; stroke-width: 0px; fill: rgb(240, 72, 210); fill-opacity: 1;\"/><path class=\"point\" transform=\"translate(181.63,41.1)\" d=\"M1.5,0A1.5,1.5 0 1,1 0,-1.5A1.5,1.5 0 0,1 1.5,0Z\" style=\"opacity: 1; stroke-width: 0px; fill: rgb(240, 72, 210); fill-opacity: 1;\"/><path class=\"point\" transform=\"translate(171.45,50.07)\" d=\"M1.5,0A1.5,1.5 0 1,1 0,-1.5A1.5,1.5 0 0,1 1.5,0Z\" style=\"opacity: 1; stroke-width: 0px; fill: rgb(240, 72, 210); fill-opacity: 1;\"/><path class=\"point\" transform=\"translate(171.87,61.9)\" d=\"M1.5,0A1.5,1.5 0 1,1 0,-1.5A1.5,1.5 0 0,1 1.5,0Z\" style=\"opacity: 1; stroke-width: 0px; fill: rgb(240, 72, 210); fill-opacity: 1;\"/><path class=\"point\" transform=\"translate(168.06,63.54)\" d=\"M1.5,0A1.5,1.5 0 1,1 0,-1.5A1.5,1.5 0 0,1 1.5,0Z\" style=\"opacity: 1; stroke-width: 0px; fill: rgb(240, 72, 210); fill-opacity: 1;\"/><path class=\"point\" transform=\"translate(163.82,73.33)\" d=\"M1.5,0A1.5,1.5 0 1,1 0,-1.5A1.5,1.5 0 0,1 1.5,0Z\" style=\"opacity: 1; stroke-width: 0px; fill: rgb(240, 72, 210); fill-opacity: 1;\"/><path class=\"point\" transform=\"translate(140.07,80.26)\" d=\"M1.5,0A1.5,1.5 0 1,1 0,-1.5A1.5,1.5 0 0,1 1.5,0Z\" style=\"opacity: 1; stroke-width: 0px; fill: rgb(240, 72, 210); fill-opacity: 1;\"/><path class=\"point\" transform=\"translate(135.41,82.3)\" d=\"M1.5,0A1.5,1.5 0 1,1 0,-1.5A1.5,1.5 0 0,1 1.5,0Z\" style=\"opacity: 1; stroke-width: 0px; fill: rgb(240, 72, 210); fill-opacity: 1;\"/><path class=\"point\" transform=\"translate(129.05,76.18)\" d=\"M1.5,0A1.5,1.5 0 1,1 0,-1.5A1.5,1.5 0 0,1 1.5,0Z\" style=\"opacity: 1; stroke-width: 0px; fill: rgb(240, 72, 210); fill-opacity: 1;\"/><path class=\"point\" transform=\"translate(111.66,73.33)\" d=\"M1.5,0A1.5,1.5 0 1,1 0,-1.5A1.5,1.5 0 0,1 1.5,0Z\" style=\"opacity: 1; stroke-width: 0px; fill: rgb(240, 72, 210); fill-opacity: 1;\"/><path class=\"point\" transform=\"translate(86.22,83.94)\" d=\"M1.5,0A1.5,1.5 0 1,1 0,-1.5A1.5,1.5 0 0,1 1.5,0Z\" style=\"opacity: 1; stroke-width: 0px; fill: rgb(240, 72, 210); fill-opacity: 1;\"/><path class=\"point\" transform=\"translate(78.59,84.34)\" d=\"M1.5,0A1.5,1.5 0 1,1 0,-1.5A1.5,1.5 0 0,1 1.5,0Z\" style=\"opacity: 1; stroke-width: 0px; fill: rgb(240, 72, 210); fill-opacity: 1;\"/><path class=\"point\" transform=\"translate(30.25,84.34)\" d=\"M1.5,0A1.5,1.5 0 1,1 0,-1.5A1.5,1.5 0 0,1 1.5,0Z\" style=\"opacity: 1; stroke-width: 0px; fill: rgb(240, 72, 210); fill-opacity: 1;\"/></g><g class=\"text\"/></g><g class=\"trace scatter trace65d1db\" style=\"stroke-miterlimit: 2; opacity: 1;\"><g class=\"fills\"/><g class=\"errorbars\"/><g class=\"lines\"/><g class=\"points\"><path class=\"point\" transform=\"translate(30.25,84.34)\" d=\"M1.5,0A1.5,1.5 0 1,1 0,-1.5A1.5,1.5 0 0,1 1.5,0Z\" style=\"opacity: 1; stroke-width: 0px; fill: rgb(240, 72, 180); fill-opacity: 1;\"/><path class=\"point\" transform=\"translate(48.91,78.22)\" d=\"M1.5,0A1.5,1.5 0 1,1 0,-1.5A1.5,1.5 0 0,1 1.5,0Z\" style=\"opacity: 1; stroke-width: 0px; fill: rgb(240, 72, 180); fill-opacity: 1;\"/><path class=\"point\" transform=\"translate(51.03,66.39)\" d=\"M1.5,0A1.5,1.5 0 1,1 0,-1.5A1.5,1.5 0 0,1 1.5,0Z\" style=\"opacity: 1; stroke-width: 0px; fill: rgb(240, 72, 180); fill-opacity: 1;\"/><path class=\"point\" transform=\"translate(52.3,54.56)\" d=\"M1.5,0A1.5,1.5 0 1,1 0,-1.5A1.5,1.5 0 0,1 1.5,0Z\" style=\"opacity: 1; stroke-width: 0px; fill: rgb(240, 72, 180); fill-opacity: 1;\"/><path class=\"point\" transform=\"translate(75.62,52.52)\" d=\"M1.5,0A1.5,1.5 0 1,1 0,-1.5A1.5,1.5 0 0,1 1.5,0Z\" style=\"opacity: 1; stroke-width: 0px; fill: rgb(240, 72, 180); fill-opacity: 1;\"/><path class=\"point\" transform=\"translate(100.64,63.94)\" d=\"M1.5,0A1.5,1.5 0 1,1 0,-1.5A1.5,1.5 0 0,1 1.5,0Z\" style=\"opacity: 1; stroke-width: 0px; fill: rgb(240, 72, 180); fill-opacity: 1;\"/><path class=\"point\" transform=\"translate(101.06,64.35)\" d=\"M1.5,0A1.5,1.5 0 1,1 0,-1.5A1.5,1.5 0 0,1 1.5,0Z\" style=\"opacity: 1; stroke-width: 0px; fill: rgb(240, 72, 180); fill-opacity: 1;\"/><path class=\"point\" transform=\"translate(104.03,55.38)\" d=\"M1.5,0A1.5,1.5 0 1,1 0,-1.5A1.5,1.5 0 0,1 1.5,0Z\" style=\"opacity: 1; stroke-width: 0px; fill: rgb(240, 72, 180); fill-opacity: 1;\"/><path class=\"point\" transform=\"translate(107.42,50.07)\" d=\"M1.5,0A1.5,1.5 0 1,1 0,-1.5A1.5,1.5 0 0,1 1.5,0Z\" style=\"opacity: 1; stroke-width: 0px; fill: rgb(240, 72, 180); fill-opacity: 1;\"/><path class=\"point\" transform=\"translate(109.12,44.36)\" d=\"M1.5,0A1.5,1.5 0 1,1 0,-1.5A1.5,1.5 0 0,1 1.5,0Z\" style=\"opacity: 1; stroke-width: 0px; fill: rgb(240, 72, 180); fill-opacity: 1;\"/><path class=\"point\" transform=\"translate(107,30.9)\" d=\"M1.5,0A1.5,1.5 0 1,1 0,-1.5A1.5,1.5 0 0,1 1.5,0Z\" style=\"opacity: 1; stroke-width: 0px; fill: rgb(240, 72, 180); fill-opacity: 1;\"/><path class=\"point\" transform=\"translate(101.91,37.83)\" d=\"M1.5,0A1.5,1.5 0 1,1 0,-1.5A1.5,1.5 0 0,1 1.5,0Z\" style=\"opacity: 1; stroke-width: 0px; fill: rgb(240, 72, 180); fill-opacity: 1;\"/><path class=\"point\" transform=\"translate(95.55,39.46)\" d=\"M1.5,0A1.5,1.5 0 1,1 0,-1.5A1.5,1.5 0 0,1 1.5,0Z\" style=\"opacity: 1; stroke-width: 0px; fill: rgb(240, 72, 180); fill-opacity: 1;\"/><path class=\"point\" transform=\"translate(79.01,37.02)\" d=\"M1.5,0A1.5,1.5 0 1,1 0,-1.5A1.5,1.5 0 0,1 1.5,0Z\" style=\"opacity: 1; stroke-width: 0px; fill: rgb(240, 72, 180); fill-opacity: 1;\"/><path class=\"point\" transform=\"translate(71.8,27.63)\" d=\"M1.5,0A1.5,1.5 0 1,1 0,-1.5A1.5,1.5 0 0,1 1.5,0Z\" style=\"opacity: 1; stroke-width: 0px; fill: rgb(240, 72, 180); fill-opacity: 1;\"/><path class=\"point\" transform=\"translate(71.38,26)\" d=\"M1.5,0A1.5,1.5 0 1,1 0,-1.5A1.5,1.5 0 0,1 1.5,0Z\" style=\"opacity: 1; stroke-width: 0px; fill: rgb(240, 72, 180); fill-opacity: 1;\"/><path class=\"point\" transform=\"translate(32.37,33.75)\" d=\"M1.5,0A1.5,1.5 0 1,1 0,-1.5A1.5,1.5 0 0,1 1.5,0Z\" style=\"opacity: 1; stroke-width: 0px; fill: rgb(240, 72, 180); fill-opacity: 1;\"/><path class=\"point\" transform=\"translate(29.83,36.2)\" d=\"M1.5,0A1.5,1.5 0 1,1 0,-1.5A1.5,1.5 0 0,1 1.5,0Z\" style=\"opacity: 1; stroke-width: 0px; fill: rgb(240, 72, 180); fill-opacity: 1;\"/><path class=\"point\" transform=\"translate(31.52,50.07)\" d=\"M1.5,0A1.5,1.5 0 1,1 0,-1.5A1.5,1.5 0 0,1 1.5,0Z\" style=\"opacity: 1; stroke-width: 0px; fill: rgb(240, 72, 180); fill-opacity: 1;\"/><path class=\"point\" transform=\"translate(34.49,63.13)\" d=\"M1.5,0A1.5,1.5 0 1,1 0,-1.5A1.5,1.5 0 0,1 1.5,0Z\" style=\"opacity: 1; stroke-width: 0px; fill: rgb(240, 72, 180); fill-opacity: 1;\"/><path class=\"point\" transform=\"translate(38.73,67.21)\" d=\"M1.5,0A1.5,1.5 0 1,1 0,-1.5A1.5,1.5 0 0,1 1.5,0Z\" style=\"opacity: 1; stroke-width: 0px; fill: rgb(240, 72, 180); fill-opacity: 1;\"/><path class=\"point\" transform=\"translate(32.37,70.47)\" d=\"M1.5,0A1.5,1.5 0 1,1 0,-1.5A1.5,1.5 0 0,1 1.5,0Z\" style=\"opacity: 1; stroke-width: 0px; fill: rgb(240, 72, 180); fill-opacity: 1;\"/><path class=\"point\" transform=\"translate(29.83,74.96)\" d=\"M1.5,0A1.5,1.5 0 1,1 0,-1.5A1.5,1.5 0 0,1 1.5,0Z\" style=\"opacity: 1; stroke-width: 0px; fill: rgb(240, 72, 180); fill-opacity: 1;\"/><path class=\"point\" transform=\"translate(30.25,84.34)\" d=\"M1.5,0A1.5,1.5 0 1,1 0,-1.5A1.5,1.5 0 0,1 1.5,0Z\" style=\"opacity: 1; stroke-width: 0px; fill: rgb(240, 72, 180); fill-opacity: 1;\"/></g><g class=\"text\"/></g><g class=\"trace scatter trace6ef46e\" style=\"stroke-miterlimit: 2; opacity: 1;\"><g class=\"fills\"/><g class=\"errorbars\"/><g class=\"lines\"/><g class=\"points\"><path class=\"point\" transform=\"translate(30.25,84.34)\" d=\"M-3.8,0l-1.9,-3.3h3.8l1.9,-3.3l1.9,3.3h3.8l-1.9,3.3l1.9,3.3h-3.8l-1.9,3.3l-1.9,-3.3h-3.8Z\" style=\"opacity: 1; stroke-width: 0px; fill: rgb(255, 0, 0); fill-opacity: 1;\"/></g><g class=\"text\"/></g></g></g><g class=\"overplot\"/><path class=\"xlines-above crisp\" d=\"M0,0\" style=\"fill: none;\"/><path class=\"ylines-above crisp\" d=\"M0,0\" style=\"fill: none;\"/><g class=\"overlines-above\"/><g class=\"xaxislayer-above\"/><g class=\"yaxislayer-above\"/><g class=\"overaxes-above\"/></g></g><g class=\"polarlayer\"/><g class=\"smithlayer\"/><g class=\"ternarylayer\"/><g class=\"geolayer\"/><g class=\"funnelarealayer\"/><g class=\"pielayer\"/><g class=\"iciclelayer\"/><g class=\"treemaplayer\"/><g class=\"sunburstlayer\"/><g class=\"glimages\"/><defs id=\"topdefs-5f84e0\"><g class=\"clips\"/></defs><g class=\"layer-above\"><g class=\"imagelayer\"/><g class=\"shapelayer\"/></g><g class=\"infolayer\"><g class=\"g-gtitle\"><text class=\"gtitle\" x=\"320\" y=\"50\" text-anchor=\"middle\" dy=\"0em\" style=\"font-family: 'Open Sans', verdana, arial, sans-serif; font-size: 17px; fill: rgb(42, 63, 95); opacity: 1; font-weight: normal; white-space: pre;\">X-n1001-k43.evrp - 74097.050</text></g></g></svg>"
     },
     "metadata": {},
     "output_type": "display_data"
    }
   ],
   "source": [
    "plot_instance(\"X-n1001-k43.evrp\")"
   ]
  }
 ],
 "metadata": {
  "interpreter": {
   "hash": "139c7272f71cd34e937ae7cfad9dc41cbe2e9501c0754aa18489c993c2c36d38"
  },
  "kernelspec": {
   "display_name": "Python 3.9.5 ('base')",
   "language": "python",
   "name": "python3"
  },
  "language_info": {
   "codemirror_mode": {
    "name": "ipython",
    "version": 3
   },
   "file_extension": ".py",
   "mimetype": "text/x-python",
   "name": "python",
   "nbconvert_exporter": "python",
   "pygments_lexer": "ipython3",
   "version": "3.9.5"
  }
 },
 "nbformat": 4,
 "nbformat_minor": 5
}
